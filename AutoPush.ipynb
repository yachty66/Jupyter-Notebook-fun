{
 "cells": [
  {
   "cell_type": "code",
   "execution_count": null,
   "id": "54833161",
   "metadata": {},
   "outputs": [],
   "source": [
    "'''\n",
    "question which i ask me how do i get the path to my github folder \n",
    "'''"
   ]
  },
  {
   "cell_type": "code",
   "execution_count": 3,
   "id": "ac8538e8",
   "metadata": {},
   "outputs": [
    {
     "name": "stdout",
     "output_type": "stream",
     "text": [
      "Some error occured while pushing the code\n"
     ]
    }
   ],
   "source": [
    "from git import Repo\n",
    "\n",
    "PATH_OF_GIT_REPO = r'/Users/maxhager/Jupyter_Notebook_fun'  # make sure .git folder is properly configured\n",
    "COMMIT_MESSAGE = 'comment from python script'\n",
    "\n",
    "def git_push():\n",
    "    try:\n",
    "        repo = Repo(PATH_OF_GIT_REPO)\n",
    "        repo.git.add(update=True)\n",
    "        repo.index.commit(COMMIT_MESSAGE)\n",
    "        origin = repo.remote(name='origin')\n",
    "        origin.push()\n",
    "    except:\n",
    "        print('Some error occured while pushing the code')    \n",
    "\n",
    "git_push()"
   ]
  },
  {
   "cell_type": "code",
   "execution_count": null,
   "id": "19c39eac",
   "metadata": {},
   "outputs": [],
   "source": []
  }
 ],
 "metadata": {
  "kernelspec": {
   "display_name": "Python 3 (ipykernel)",
   "language": "python",
   "name": "python3"
  },
  "language_info": {
   "codemirror_mode": {
    "name": "ipython",
    "version": 3
   },
   "file_extension": ".py",
   "mimetype": "text/x-python",
   "name": "python",
   "nbconvert_exporter": "python",
   "pygments_lexer": "ipython3",
   "version": "3.9.7"
  }
 },
 "nbformat": 4,
 "nbformat_minor": 5
}
