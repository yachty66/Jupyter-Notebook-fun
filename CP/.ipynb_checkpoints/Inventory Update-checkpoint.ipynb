{
 "cells": [
  {
   "cell_type": "code",
   "execution_count": 38,
   "id": "3e8ef86d",
   "metadata": {},
   "outputs": [
    {
     "data": {
      "text/plain": [
       "[[1, 'Bowling Ball'],\n",
       " [0, 'Dirty Sock'],\n",
       " [1, 'Hair Pin'],\n",
       " [1, 'Half-Eaten Apple'],\n",
       " [0, 'Microphone'],\n",
       " [1, 'Toothpaste']]"
      ]
     },
     "execution_count": 38,
     "metadata": {},
     "output_type": "execute_result"
    }
   ],
   "source": [
    "curInv = [\n",
    "    [21, \"Bowling Ball\"],\n",
    "    [2, \"Dirty Sock\"],\n",
    "    [1, \"Hair Pin\"],\n",
    "    [5, \"Microphone\"]\n",
    "];\n",
    "\n",
    "newInv = [\n",
    "    [2, \"Hair Pin\"],\n",
    "    [3, \"Half-Eaten Apple\"],\n",
    "    [67, \"Bowling Ball\"],\n",
    "    [7, \"Toothpaste\"]\n",
    "];\n",
    "\n",
    "newArr = []\n",
    "\n",
    "def updateInventory(curInv, newInv):\n",
    "    \n",
    "    #listen\n",
    "    arr1 = []\n",
    "    arr2 = []\n",
    "    newArr = []\n",
    "    \n",
    "    #gehe durch newInv[1] durch (mit range)\n",
    "    #wenn newInv in curInv[1] vorkommt dann addiere newInv[0] mit curInv[0]\n",
    "    for i in range(len(newInv)):\n",
    "        for j in range(len(curInv)):\n",
    "            if newInv[i][1] == curInv[j][1]:\n",
    "                curInv[j][0] = newInv[i][0] + curInv[j][0]\n",
    "    \n",
    "    #Liste von allen 2ten Elementen in newInv\n",
    "    for i in newInv:\n",
    "        arr1.append(i[1])\n",
    "\n",
    "    #entferne aus Liste alle Elemente die curInv vorkommen\n",
    "    for i in curInv:\n",
    "        if i[1] in arr1:\n",
    "            arr1.remove(i[1])\n",
    "\n",
    "    #fuegt alle Elemente aus newInv die nicht in curInv vorkommen curInv an        \n",
    "    for i in newInv:\n",
    "        if i[1] in arr1:\n",
    "            curInv.append(i)\n",
    "    \n",
    "    #Liste von allen 2ten Elementen eines Elements \n",
    "    for i in curInv:\n",
    "        arr2.append(i[1])\n",
    "    \n",
    "    #Sortiert diese Liste\n",
    "    arr2 = sorted(arr2)\n",
    "\n",
    "    #Wenn Item von sortierter Liste in curInv auftaucht dann fuege Element einer sortierten finalList hinzu\n",
    "    for i in arr2:\n",
    "        for j in curInv:\n",
    "            if i == j[1]:\n",
    "                newArr.append(j)\n",
    "    return(newArr)\n",
    "\n",
    "#updateInventory([[21, \"Bowling Ball\"], [2, \"Dirty Sock\"], [1, \"Hair Pin\"], [5, \"Microphone\"]], [[2, \"Hair Pin\"], [3, \"Half-Eaten Apple\"], [67, \"Bowling Ball\"], [7, \"Toothpaste\"]])    \n",
    "updateInventory([[0, \"Bowling Ball\"], [0, \"Dirty Sock\"], [0, \"Hair Pin\"], [0, \"Microphone\"]], [[1, \"Hair Pin\"], [1, \"Half-Eaten Apple\"], [1, \"Bowling Ball\"], [1, \"Toothpaste\"]])"
   ]
  },
  {
   "cell_type": "code",
   "execution_count": null,
   "id": "27ffe0dc",
   "metadata": {},
   "outputs": [],
   "source": []
  }
 ],
 "metadata": {
  "kernelspec": {
   "display_name": "Python 3",
   "language": "python",
   "name": "python3"
  },
  "language_info": {
   "codemirror_mode": {
    "name": "ipython",
    "version": 3
   },
   "file_extension": ".py",
   "mimetype": "text/x-python",
   "name": "python",
   "nbconvert_exporter": "python",
   "pygments_lexer": "ipython3",
   "version": "3.8.8"
  }
 },
 "nbformat": 4,
 "nbformat_minor": 5
}
