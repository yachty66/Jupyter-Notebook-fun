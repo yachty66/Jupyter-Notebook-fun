{
 "cells": [
  {
   "cell_type": "code",
   "execution_count": 38,
   "id": "85dec5f1",
   "metadata": {
    "scrolled": true
   },
   "outputs": [
    {
     "name": "stdout",
     "output_type": "stream",
     "text": [
      "['abcdefa', 'faabcde', 'defaabc', 'bcdefaa', 'afabcde', 'aefabcd', 'adefabc', 'acdefab', 'afabcde', 'aefabcd', 'adefabc', 'acdefab', 'abcdefa', 'fdeaabc', 'fbcdeaa', 'fabcdea', 'ecdfaab', 'eabcdfa', 'dcefaab', 'dabcefa', 'dfaabce', 'cabdefa', 'cfaabde', 'bacdefa', 'bfaacde', 'bdefaac']\n"
     ]
    },
    {
     "data": {
      "text/plain": [
       "26"
      ]
     },
     "execution_count": 38,
     "metadata": {},
     "output_type": "execute_result"
    }
   ],
   "source": [
    "#ich muss alle Permutationen zählen bei denen die aufeinander folgenden Buchstaben nicht gleich sind\n",
    "def permAlone(str):\n",
    "    root = []\n",
    "    secList = []\n",
    "    finalList = []\n",
    "    endList = []\n",
    "    test=[]\n",
    "    for i in range(len(str)):\n",
    "        if i == 0:\n",
    "            root.append(str)\n",
    "        else:\n",
    "            #nehme letzten Buchstabe\n",
    "            t = root[-1][-1]\n",
    "            #remove letzten Buchstabe\n",
    "            sw = root[-1][:-1]\n",
    "            #fuege removed Buchstabe an erste Stelle ein\n",
    "            new = sw[:0] + t + sw[0:]\n",
    "            root.append(new)\n",
    "    for i in root:\n",
    "        for j in range((len(i))-2):\n",
    "            if j > 0:\n",
    "                last = secList[-1][-1]\n",
    "                remove = secList[-1][:-1]\n",
    "                new = remove[:1] + last + remove[1:]\n",
    "                secList.append(new)\n",
    "            if j == 0:\n",
    "                #get last character\n",
    "                last = i[-1]\n",
    "                #remove last character\n",
    "                remove = i[:-1]\n",
    "                #add removed character 2nd place\n",
    "                new = remove[:1] + last + remove[1:]\n",
    "                secList.append(new)\n",
    "    if not secList:\n",
    "        finalList = root\n",
    "    else:\n",
    "        finalList = root + secList\n",
    "    #remove all words with not repeating letters\n",
    "    for i in finalList:\n",
    "        for j in range(len(i)):\n",
    "            if j < (len(i))-1:\n",
    "                if i[j] == i[j+1]:\n",
    "                    while i in finalList:\n",
    "                        finalList.remove(i)\n",
    "    print(finalList)\n",
    "    return(len(finalList))\n",
    "#print(endList)\n",
    "#permAlone('aab')\n",
    "#permAlone(\"aaa\")\n",
    "permAlone(\"abcdefa\")"
   ]
  },
  {
   "cell_type": "code",
   "execution_count": 48,
   "id": "e4063fa5",
   "metadata": {},
   "outputs": [
    {
     "name": "stdout",
     "output_type": "stream",
     "text": [
      "['abcd', 'dabc', 'cdab', 'bcda', 'adbc', 'acdb', 'dcab', 'dbca', 'cbda', 'cabd', 'bacd', 'bdac']\n"
     ]
    },
    {
     "data": {
      "text/plain": [
       "12"
      ]
     },
     "execution_count": 48,
     "metadata": {},
     "output_type": "execute_result"
    }
   ],
   "source": [
    "#ich muss alle Permutationen zählen bei denen die aufeinander folgenden Buchstaben nicht gleich sind\n",
    "def permAlone(str):\n",
    "    root = []\n",
    "    secList = []\n",
    "    finalList = []\n",
    "    endList = []\n",
    "    test=[]\n",
    "    for i in range(len(str)):\n",
    "        if i == 0:\n",
    "            root.append(str)\n",
    "        else:\n",
    "            #nehme letzten Buchstabe\n",
    "            t = root[-1][-1]\n",
    "            #remove letzten Buchstabe\n",
    "            sw = root[-1][:-1]\n",
    "            #fuege removed Buchstabe an erste Stelle ein\n",
    "            new = sw[:0] + t + sw[0:]\n",
    "            root.append(new)\n",
    "    for i in root:\n",
    "        for j in range((len(i))-2):\n",
    "            if j > 0:\n",
    "                last = secList[-1][-1]\n",
    "                remove = secList[-1][:-1]\n",
    "                new = remove[:1] + last + remove[1:]\n",
    "                secList.append(new)\n",
    "            if j == 0:\n",
    "                #get last character\n",
    "                last = i[-1]\n",
    "                #remove last character\n",
    "                remove = i[:-1]\n",
    "                #add removed character 2nd place\n",
    "                new = remove[:1] + last + remove[1:]\n",
    "                secList.append(new)\n",
    "    if not secList:\n",
    "        finalList = root\n",
    "    else:\n",
    "        finalList = root + secList\n",
    "    #remove all words with not repeating letters\n",
    "    print(finalList)\n",
    "    for i in finalList:\n",
    "        for j in range(len(i)):\n",
    "            if j < (len(i))-1:\n",
    "                if i[j] == i[j+1]:\n",
    "                    while i in finalList:\n",
    "                        finalList.remove(i)\n",
    "\n",
    "    return(len(finalList))\n",
    "#print(endList)\n",
    "#permAlone('aab')\n",
    "#permAlone(\"aaa\")\n",
    "permAlone(\"abcd\")"
   ]
  },
  {
   "cell_type": "code",
   "execution_count": 77,
   "id": "d9615004",
   "metadata": {},
   "outputs": [],
   "source": [
    "def permAlone(str):\n",
    "    l = []\n",
    "    finalElem = str[-1]\n",
    "    finalElem = \"$\"\n",
    "    l.append(str)\n",
    "    for i in str:\n",
    "        \n",
    "        \n",
    "        finalElem\n",
    "        "
   ]
  },
  {
   "cell_type": "code",
   "execution_count": 1,
   "id": "bf82a150",
   "metadata": {},
   "outputs": [
    {
     "name": "stdout",
     "output_type": "stream",
     "text": [
      "t\n"
     ]
    }
   ],
   "source": [
    "tets = \"test\"\n",
    "\n",
    "print(tets[-1])"
   ]
  },
  {
   "cell_type": "code",
   "execution_count": null,
   "id": "1c535cf0",
   "metadata": {},
   "outputs": [],
   "source": []
  }
 ],
 "metadata": {
  "kernelspec": {
   "display_name": "Python 3",
   "language": "python",
   "name": "python3"
  },
  "language_info": {
   "codemirror_mode": {
    "name": "ipython",
    "version": 3
   },
   "file_extension": ".py",
   "mimetype": "text/x-python",
   "name": "python",
   "nbconvert_exporter": "python",
   "pygments_lexer": "ipython3",
   "version": "3.8.8"
  }
 },
 "nbformat": 4,
 "nbformat_minor": 5
}
