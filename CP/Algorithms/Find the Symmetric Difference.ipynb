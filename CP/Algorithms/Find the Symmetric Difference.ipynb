{
 "cells": [
  {
   "cell_type": "code",
   "execution_count": 25,
   "id": "6f0679ad",
   "metadata": {},
   "outputs": [
    {
     "name": "stdout",
     "output_type": "stream",
     "text": [
      "[7, 4, 6, 2, 5, 9, 8, 1]\n"
     ]
    }
   ],
   "source": [
    "#function takes a list on arrays \n",
    "#takes always two arrays and puts puts the numbers which are not in both arrays in a new array\n",
    "# Array (1,2,3) --> first it does it for 1 & 2 then for 2 & 3\n",
    "\n",
    "test1 = ([1, 2, 3], [5, 2, 1, 4])\n",
    "test2=([1, 2, 3], [5, 2, 1, 4])\n",
    "test3=([1, 2, 5], [2, 3, 5], [3, 4, 5])\n",
    "test4=([3, 3, 3, 2, 5], [2, 1, 5, 7], [3, 4, 6, 6], [1, 2, 3])\n",
    "\n",
    "test6=([3, 3, 3, 2, 5], [2, 1, 5, 7], [3, 4, 6, 6], [1, 2, 3], [5, 3, 9, 8], [1])\n",
    "def sym(args):\n",
    "    n = []\n",
    "    for i in args[0]:\n",
    "        if i not in args[1] and i not in n:\n",
    "            n.append(i)\n",
    "    for i in args[1]:\n",
    "        if i not in args[0] and i not in n:\n",
    "            n.append(i)\n",
    "    if (len(args))<=2:\n",
    "        print(n)\n",
    "    else:\n",
    "        for i in range((len(args))-2):\n",
    "            for j in n:\n",
    "                if j in args[i+2]:\n",
    "                    while j in n: \n",
    "                        n.remove(j)\n",
    "                    while j in args[i+2]: \n",
    "                        args[i+2].remove(j)\n",
    "            for k in args[i+2]:\n",
    "                if k not in n:\n",
    "                    n.append(k)\n",
    "\n",
    "        print(n)\n",
    "sym(test6)"
   ]
  }
 ],
 "metadata": {
  "kernelspec": {
   "display_name": "Python 3",
   "language": "python",
   "name": "python3"
  },
  "language_info": {
   "codemirror_mode": {
    "name": "ipython",
    "version": 3
   },
   "file_extension": ".py",
   "mimetype": "text/x-python",
   "name": "python",
   "nbconvert_exporter": "python",
   "pygments_lexer": "ipython3",
   "version": "3.8.8"
  }
 },
 "nbformat": 4,
 "nbformat_minor": 5
}
