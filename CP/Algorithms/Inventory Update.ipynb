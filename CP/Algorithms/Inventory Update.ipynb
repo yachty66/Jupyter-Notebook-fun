{
 "cells": [
  {
   "cell_type": "code",
   "execution_count": 10,
   "id": "6e93b914",
   "metadata": {},
   "outputs": [
    {
     "name": "stdout",
     "output_type": "stream",
     "text": [
      "['Half-Eaten Apple', 'Toothpaste']\n",
      "[[3, 'Half-Eaten Apple'], [7, 'Toothpaste']]\n"
     ]
    }
   ],
   "source": [
    "#I get two two arrays\n",
    "#items from newInv should be added to curInv if curInv doesnt contain item from newInv\n",
    "#in alphabetical order\n",
    "\n",
    "def updateInventory(arr1, arr2):\n",
    "    #ich muss alle elemente die in curInv aus newInv nicht vorkommen zu curInv adden\n",
    "    #jedes Element was in beiden listen vorkommt muss ich an der Stelle Element[0] miteinander addieren in curInv\n",
    "    \n",
    "    #kuemmere mich zuerst um alle gleichen\n",
    "    #liste aus newInv erstellen die keine elemente enthält die in curInv nicht vorkommen\n",
    "    #zahlen von items addieren\n",
    "    #LOLA: alle 2te items von jeweils beiden listen extrahieren\n",
    "    #alle items aus newInvNeu die nicht in curInv vorkommen entfernen\n",
    "    #alle items aus newInv die nicht in newInvNeu vorkommen entfernen\n",
    "    #curInv mit newInv ergänzen\n",
    "    \n",
    "    #alle items aus newInv aus step LOLA die in curInv vorkommen entfernen\n",
    "    #alle items aus newInv die nicht\n",
    "    \n",
    "curInv = [\n",
    "    [21, \"Bowling Ball\"],\n",
    "    [2, \"Dirty Sock\"],\n",
    "    [1, \"Hair Pin\"],\n",
    "    [5, \"Microphone\"]\n",
    "];\n",
    "\n",
    "newInv = [\n",
    "    [2, \"Hair Pin\"],\n",
    "    [3, \"Half-Eaten Apple\"],\n",
    "    [67, \"Bowling Ball\"],\n",
    "    [7, \"Toothpaste\"]\n",
    "];\n",
    "\n",
    "updateInventory(curInv, newInv)\n",
    "\n"
   ]
  },
  {
   "cell_type": "code",
   "execution_count": null,
   "id": "a7391071",
   "metadata": {},
   "outputs": [],
   "source": []
  }
 ],
 "metadata": {
  "kernelspec": {
   "display_name": "Python 3",
   "language": "python",
   "name": "python3"
  },
  "language_info": {
   "codemirror_mode": {
    "name": "ipython",
    "version": 3
   },
   "file_extension": ".py",
   "mimetype": "text/x-python",
   "name": "python",
   "nbconvert_exporter": "python",
   "pygments_lexer": "ipython3",
   "version": "3.8.8"
  }
 },
 "nbformat": 4,
 "nbformat_minor": 5
}
