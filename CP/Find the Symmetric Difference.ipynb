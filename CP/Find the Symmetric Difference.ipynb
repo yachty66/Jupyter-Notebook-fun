{
 "cells": [
  {
   "cell_type": "code",
   "execution_count": 50,
   "id": "a721b4ae",
   "metadata": {},
   "outputs": [
    {
     "name": "stdout",
     "output_type": "stream",
     "text": [
      "[3, 5, 4]\n"
     ]
    }
   ],
   "source": [
    "#function takes two or more arrays\n",
    "#only unique values\n",
    "#alle elemente die nicht in jedem array vorkommen\n",
    "\n",
    "def sym(args):\n",
    "    \n",
    "    result = []\n",
    "    for i in a:\n",
    "        if i not in b and i not in result:\n",
    "            result.append(i)\n",
    "    for j in b:\n",
    "        if j not in a and j not in result:\n",
    "            result.append(j)\n",
    "    print(result)\n",
    "    return result\n",
    "\n",
    "\n",
    "\n",
    "        \n",
    "        \n",
    "def main():\n",
    "    sym([1, 2, 3], [5, 2, 1, 4]);\n",
    "\n",
    "if __name__ == \"__main__\":\n",
    "    main()\n",
    "    \n",
    "\n",
    "    \n"
   ]
  },
  {
   "cell_type": "code",
   "execution_count": 52,
   "id": "1f84f555",
   "metadata": {},
   "outputs": [
    {
     "name": "stdout",
     "output_type": "stream",
     "text": [
      "1\n",
      "2\n",
      "3\n",
      "haha [1, 2, 4]\n"
     ]
    }
   ],
   "source": [
    "#function takes two or more arrays\n",
    "#only unique values\n",
    "#alle elemente die nicht in jedem array vorkommen\n",
    "\n",
    "def sym(args):\n",
    "    for i in args:\n",
    "        print(i)\n",
    "    return (\"haha\")\n",
    "  \n",
    "\n",
    "print(sym([1,2,3]), [1,2,4])"
   ]
  },
  {
   "cell_type": "code",
   "execution_count": 42,
   "id": "2205230a",
   "metadata": {},
   "outputs": [
    {
     "name": "stdout",
     "output_type": "stream",
     "text": [
      "jhajaj\n"
     ]
    }
   ],
   "source": [
    "\n",
    "    \n",
    "1  2 3 "
   ]
  },
  {
   "cell_type": "code",
   "execution_count": null,
   "id": "ccb129aa",
   "metadata": {},
   "outputs": [],
   "source": []
  },
  {
   "cell_type": "code",
   "execution_count": null,
   "id": "54a2c0bc",
   "metadata": {},
   "outputs": [],
   "source": []
  },
  {
   "cell_type": "code",
   "execution_count": null,
   "id": "c8db9a55",
   "metadata": {},
   "outputs": [],
   "source": []
  }
 ],
 "metadata": {
  "kernelspec": {
   "display_name": "Python 3",
   "language": "python",
   "name": "python3"
  },
  "language_info": {
   "codemirror_mode": {
    "name": "ipython",
    "version": 3
   },
   "file_extension": ".py",
   "mimetype": "text/x-python",
   "name": "python",
   "nbconvert_exporter": "python",
   "pygments_lexer": "ipython3",
   "version": "3.8.8"
  }
 },
 "nbformat": 4,
 "nbformat_minor": 5
}
