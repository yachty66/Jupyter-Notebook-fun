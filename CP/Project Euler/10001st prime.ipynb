{
 "cells": [
  {
   "cell_type": "code",
   "execution_count": 15,
   "id": "5a481abc",
   "metadata": {},
   "outputs": [],
   "source": [
    "#jede primzahl davon in eine liste\n",
    "#ntes elem aus liste returnen\n",
    "#primzahlen einer list hinzugügen\n",
    "#nach jedem hinzufügen länge testen\n",
    "#wenn laenge == n dann stop und letzte zahl aus liste ausgeben\n",
    "def prime(n):\n",
    "    final =[]\n",
    "    counter = 0\n",
    "    tester = 0\n",
    "    while True:\n",
    "        counter += 1\n",
    "        for i in range(1, counter+1):\n",
    "            for j in range(1, counter+1):\n",
    "                if(i % j == 0):\n",
    "                    tester += 1\n",
    "            if(tester == 2 and i not in final):\n",
    "                final.append(i)\n",
    "            tester = 0\n",
    "        if(len(final) == n):\n",
    "            return final[-1]\n",
    "            break\n",
    "    "
   ]
  },
  {
   "cell_type": "code",
   "execution_count": 16,
   "id": "1b1425d7",
   "metadata": {},
   "outputs": [
    {
     "data": {
      "text/plain": [
       "541"
      ]
     },
     "execution_count": 16,
     "metadata": {},
     "output_type": "execute_result"
    }
   ],
   "source": [
    "prime(100)"
   ]
  },
  {
   "cell_type": "code",
   "execution_count": 9,
   "id": "e783f421",
   "metadata": {},
   "outputs": [
    {
     "name": "stdout",
     "output_type": "stream",
     "text": [
      "1\n"
     ]
    }
   ],
   "source": [
    "for i in range(1,2):\n",
    "    print(i)"
   ]
  },
  {
   "cell_type": "code",
   "execution_count": null,
   "id": "f79d1333",
   "metadata": {},
   "outputs": [],
   "source": []
  }
 ],
 "metadata": {
  "kernelspec": {
   "display_name": "Python 3",
   "language": "python",
   "name": "python3"
  },
  "language_info": {
   "codemirror_mode": {
    "name": "ipython",
    "version": 3
   },
   "file_extension": ".py",
   "mimetype": "text/x-python",
   "name": "python",
   "nbconvert_exporter": "python",
   "pygments_lexer": "ipython3",
   "version": "3.8.8"
  }
 },
 "nbformat": 4,
 "nbformat_minor": 5
}
