{
 "cells": [
  {
   "cell_type": "code",
   "execution_count": 4,
   "id": "e4c62f9d",
   "metadata": {},
   "outputs": [],
   "source": [
    "#triangel zahlen == 1 bis n alles aufaddiert\n",
    "#suche triangel mit über n divisoren\n",
    "#create list with while\n",
    "#checke in jeder runde wie viele divisors sum(n) hat\n",
    "\n",
    "def triangle(n):\n",
    "    l = []\n",
    "    c = 0\n",
    "    triangle = 0\n",
    "    counterDiv = 0\n",
    "    while True:\n",
    "        c = c + 1\n",
    "        l.append(c)\n",
    "        triangle = sum(l)         \n",
    "        for j in range(0, sum(l)): \n",
    "            if (triangle%(j+1) == 0):\n",
    "                counterDiv = counterDiv +  1\n",
    "        if(counterDiv > n):\n",
    "            print(triangle)\n",
    "            break\n",
    "        counterDiv = 0\n",
    "        \n",
    "            \n",
    "            \n",
    "        \n",
    "        "
   ]
  },
  {
   "cell_type": "code",
   "execution_count": 5,
   "id": "1a760e99",
   "metadata": {},
   "outputs": [
    {
     "name": "stdout",
     "output_type": "stream",
     "text": [
      "28\n",
      "None\n"
     ]
    }
   ],
   "source": [
    "print(triangle(5)) "
   ]
  },
  {
   "cell_type": "code",
   "execution_count": 7,
   "id": "77507860",
   "metadata": {},
   "outputs": [],
   "source": [
    "for i in range(1, 1):\n",
    "    print(\"jsjs\")"
   ]
  },
  {
   "cell_type": "code",
   "execution_count": null,
   "id": "55bde972",
   "metadata": {},
   "outputs": [],
   "source": []
  }
 ],
 "metadata": {
  "kernelspec": {
   "display_name": "Python 3",
   "language": "python",
   "name": "python3"
  },
  "language_info": {
   "codemirror_mode": {
    "name": "ipython",
    "version": 3
   },
   "file_extension": ".py",
   "mimetype": "text/x-python",
   "name": "python",
   "nbconvert_exporter": "python",
   "pygments_lexer": "ipython3",
   "version": "3.8.8"
  }
 },
 "nbformat": 4,
 "nbformat_minor": 5
}
