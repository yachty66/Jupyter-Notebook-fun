{
 "cells": [
  {
   "cell_type": "code",
   "execution_count": 108,
   "id": "f020b755",
   "metadata": {},
   "outputs": [],
   "source": [
    "def collatz(n):\n",
    "    intLimit = []\n",
    "    alle= []\n",
    "    listAll = \"\"\n",
    "    tester = 0\n",
    "    #bekomme n\n",
    "    #n muss mit algo berechnet bis 1\n",
    "    #jedes n in eine liste packen und den algo darauf ausfüren\n",
    "    #liste mit jedem elem von 1 bis n-1\n",
    "    #while mit solange bis erg 1 \n",
    "    #wenn zahl even n/2\n",
    "    #wenn zahl uneven 3n+1\n",
    "    for i in range(1, n):\n",
    "        intLimit.append(i)\n",
    "    for i in intLimit:\n",
    "        counter = 0\n",
    "        tester = 0\n",
    "        while counter != 1:\n",
    "            if(tester == 0):\n",
    "                listAll = listAll + str(i)\n",
    "                tester += i\n",
    "                counter = i\n",
    "#                print(listAll)\n",
    "            #print(counter)\n",
    "            if (counter % 2 == 0):\n",
    "                counter = counter / 2\n",
    "                counter = int(counter)\n",
    "            else:\n",
    "                counter = 3*counter + 1\n",
    "                counter = int(counter)\n",
    "            listAll = listAll + str(counter)\n",
    "            if(counter == 1):\n",
    "                alle.append(listAll)\n",
    "                listAll = \"\"\n",
    "    #final = max(alle, key=len)\n",
    "    \n",
    "    #print(len(intLimit))\n",
    "    #print(len(alle))\n",
    "    #print(alle.index(max(alle)))\n",
    "    #print(alle)\n",
    "    \n",
    "    \n",
    "    #print(max(alle))\n",
    "    \n",
    "    print(alle)\n",
    "    \n",
    "    a= alle.index(max(alle, key=len))\n",
    "    print(intLimit[a-1])\n",
    "    #print(alle.index(max(alle)))\n",
    "    \n",
    "    #print(intLimit[alle.index(max(alle))])\n",
    "    \n",
    "    #print(alle)\n",
    "    \n",
    "    \n",
    "    #print(alle)\n",
    "    \n",
    "    #gh = alle.index(max(alle))\n",
    "    #print(intLimit[gh])\n",
    "   \n",
    "\n",
    "\n",
    "\n",
    "    \n",
    "\n",
    "                    \n",
    "                \n",
    "        \n",
    "        "
   ]
  },
  {
   "cell_type": "code",
   "execution_count": 110,
   "id": "4f9e684d",
   "metadata": {},
   "outputs": [
    {
     "name": "stdout",
     "output_type": "stream",
     "text": [
      "['1421', '21', '3105168421', '421', '5168421', '63105168421', '7221134175226134020105168421', '8421', '928147221134175226134020105168421', '105168421', '1134175226134020105168421', '1263105168421', '134020105168421']\n",
      "8\n",
      "None\n"
     ]
    }
   ],
   "source": [
    "print(collatz(14))"
   ]
  },
  {
   "cell_type": "markdown",
   "id": "089977e7",
   "metadata": {},
   "source": [
    "$$ 2 \\in 1000$$"
   ]
  },
  {
   "cell_type": "code",
   "execution_count": 113,
   "id": "dd9913a6",
   "metadata": {},
   "outputs": [
    {
     "ename": "SyntaxError",
     "evalue": "invalid syntax (<ipython-input-113-a90d3f954978>, line 1)",
     "output_type": "error",
     "traceback": [
      "\u001b[0;36m  File \u001b[0;32m\"<ipython-input-113-a90d3f954978>\"\u001b[0;36m, line \u001b[0;32m1\u001b[0m\n\u001b[0;31m    $$ ejkjejej $$\u001b[0m\n\u001b[0m    ^\u001b[0m\n\u001b[0;31mSyntaxError\u001b[0m\u001b[0;31m:\u001b[0m invalid syntax\n"
     ]
    }
   ],
   "source": [
    "$$ ejkjejej $$ "
   ]
  },
  {
   "cell_type": "markdown",
   "id": "868c482a",
   "metadata": {},
   "source": [
    "$$ \\sum_{(\\frac{40}{40})^2}  $$ "
   ]
  },
  {
   "cell_type": "code",
   "execution_count": null,
   "id": "e1ae2dbe",
   "metadata": {},
   "outputs": [],
   "source": []
  },
  {
   "cell_type": "code",
   "execution_count": null,
   "id": "d0447f80",
   "metadata": {},
   "outputs": [],
   "source": []
  }
 ],
 "metadata": {
  "kernelspec": {
   "display_name": "Python 3",
   "language": "python",
   "name": "python3"
  },
  "language_info": {
   "codemirror_mode": {
    "name": "ipython",
    "version": 3
   },
   "file_extension": ".py",
   "mimetype": "text/x-python",
   "name": "python",
   "nbconvert_exporter": "python",
   "pygments_lexer": "ipython3",
   "version": "3.8.8"
  }
 },
 "nbformat": 4,
 "nbformat_minor": 5
}
