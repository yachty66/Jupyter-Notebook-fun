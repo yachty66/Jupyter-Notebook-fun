{
 "cells": [
  {
   "cell_type": "code",
   "execution_count": 1,
   "id": "c6721dd8",
   "metadata": {},
   "outputs": [
    {
     "name": "stdout",
     "output_type": "stream",
     "text": [
      "[0, 1, 2, 3, 4, 5, 6, 7, 8, 9]\n",
      "None\n"
     ]
    }
   ],
   "source": [
    "def lattice(n):\n",
    "    listWithNum = []\n",
    "    for i in range(n):\n",
    "        listWithNum.append(i)\n",
    "        \n",
    "    print(listWithNum)\n",
    "    #first count from top left to top right and to top down\n",
    "    #second count from top left \n",
    "    #alle verschiedenen zahlenkombis mit einer fixen letzten zahl\n",
    "    #1234\n",
    "    \n",
    "        \n",
    "        \n",
    "print(lattice(10))\n",
    "        \n",
    "    "
   ]
  },
  {
   "cell_type": "code",
   "execution_count": null,
   "id": "e72e4685",
   "metadata": {},
   "outputs": [],
   "source": []
  }
 ],
 "metadata": {
  "kernelspec": {
   "display_name": "Python 3 (ipykernel)",
   "language": "python",
   "name": "python3"
  },
  "language_info": {
   "codemirror_mode": {
    "name": "ipython",
    "version": 3
   },
   "file_extension": ".py",
   "mimetype": "text/x-python",
   "name": "python",
   "nbconvert_exporter": "python",
   "pygments_lexer": "ipython3",
   "version": "3.9.7"
  }
 },
 "nbformat": 4,
 "nbformat_minor": 5
}
