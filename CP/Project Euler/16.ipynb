{
 "cells": [
  {
   "cell_type": "code",
   "execution_count": 12,
   "id": "1989f6e2",
   "metadata": {},
   "outputs": [
    {
     "name": "stdout",
     "output_type": "stream",
     "text": [
      "1366\n"
     ]
    }
   ],
   "source": [
    "#2^15 = 32768 and the sum of its digits is 3 + 2 + 7 + 6 + 8 = 26.\n",
    "\n",
    "#What is the sum of the digits of the number 21000?\n",
    "\n",
    "#gebe 2 hoch 1000 aus und summiere alle stellen von dem ergebnis\n",
    "number = 2\n",
    "for i in range(999):\n",
    "    number = number * 2 \n",
    "    \n",
    "number = str(number)\n",
    "final = 0\n",
    "for i in number:\n",
    "    final = final + int(i)\n",
    "    \n",
    "    \n",
    "print(final)\n",
    "\n"
   ]
  },
  {
   "cell_type": "code",
   "execution_count": null,
   "id": "9dc171ac",
   "metadata": {},
   "outputs": [],
   "source": []
  }
 ],
 "metadata": {
  "kernelspec": {
   "display_name": "Python 3 (ipykernel)",
   "language": "python",
   "name": "python3"
  },
  "language_info": {
   "codemirror_mode": {
    "name": "ipython",
    "version": 3
   },
   "file_extension": ".py",
   "mimetype": "text/x-python",
   "name": "python",
   "nbconvert_exporter": "python",
   "pygments_lexer": "ipython3",
   "version": "3.9.7"
  }
 },
 "nbformat": 4,
 "nbformat_minor": 5
}
