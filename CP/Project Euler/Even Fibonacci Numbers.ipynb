{
 "cells": [
  {
   "cell_type": "code",
   "execution_count": 18,
   "id": "a0f055be",
   "metadata": {},
   "outputs": [
    {
     "name": "stdout",
     "output_type": "stream",
     "text": [
      "44\n"
     ]
    }
   ],
   "source": [
    "#fibo folge programmieren\n",
    "#summe aus geradzahligen values bilden\n",
    "#n ist die zahl bis wohing die fibo gebildet wird\n",
    "\n",
    "def fiboEvenSum(n):\n",
    "    alist = []\n",
    "    result = []\n",
    "    for i in range(n):\n",
    "        if i <= 3:\n",
    "            alist.append(i)\n",
    "        if i > 3:\n",
    "            alist.append(alist[i-1] + alist[i-2])\n",
    "\n",
    "    for i in alist:\n",
    "        if i % 2 == 0 and i <= n:\n",
    "            result.append(i)\n",
    "    end = sum(result)\n",
    "    \n",
    "            \n",
    "    return end\n",
    "\n",
    "print(fiboEvenSum(34))\n",
    "            \n",
    "            "
   ]
  },
  {
   "cell_type": "code",
   "execution_count": null,
   "id": "99e0af45",
   "metadata": {},
   "outputs": [],
   "source": []
  },
  {
   "cell_type": "code",
   "execution_count": null,
   "id": "d9f2da57",
   "metadata": {},
   "outputs": [],
   "source": []
  }
 ],
 "metadata": {
  "kernelspec": {
   "display_name": "Python 3",
   "language": "python",
   "name": "python3"
  },
  "language_info": {
   "codemirror_mode": {
    "name": "ipython",
    "version": 3
   },
   "file_extension": ".py",
   "mimetype": "text/x-python",
   "name": "python",
   "nbconvert_exporter": "python",
   "pygments_lexer": "ipython3",
   "version": "3.8.8"
  }
 },
 "nbformat": 4,
 "nbformat_minor": 5
}
