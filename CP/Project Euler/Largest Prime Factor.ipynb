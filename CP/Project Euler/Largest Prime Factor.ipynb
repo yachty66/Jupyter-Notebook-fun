{
 "cells": [
  {
   "cell_type": "code",
   "execution_count": 66,
   "id": "35020d81",
   "metadata": {},
   "outputs": [
    {
     "name": "stdout",
     "output_type": "stream",
     "text": [
      "29\n"
     ]
    }
   ],
   "source": [
    "#prime ist zahl welche nur durhc sich selbst teilbar ist \n",
    "\n",
    "#find largest primefactor from given numeber\n",
    "#primzahlen die nacheinander miteinander multipliziert die given number ergeben\n",
    "\n",
    "\n",
    "\n",
    "\n",
    "\n",
    "\n",
    "def largestPrime(number):\n",
    "    l = []\n",
    "    t = []\n",
    "    primfaktoren = []\n",
    "    c=[]\n",
    "    end = []\n",
    "    counter = 0 \n",
    "    for i in range(2,number+1):\n",
    "        l.append(i)\n",
    "\n",
    "    for i in l:\n",
    "        for j in l:\n",
    "            if i % j == 0:\n",
    "                counter += 1\n",
    "\n",
    "        if counter == 1:\n",
    "            c.append(i)\n",
    "        counter = 0\n",
    "\n",
    "\n",
    "    for i in c:\n",
    "        if number % i == 0:\n",
    "            primfaktoren.append(i)\n",
    "    return(max(primfaktoren))\n",
    "       \n",
    "    \n",
    "\n",
    "    \n",
    "    #return(max(primfaktoren))\n",
    "            \n",
    "            \n",
    "\n",
    "    \n",
    "    \n",
    "        \n",
    "print(largestPrime(13195))"
   ]
  },
  {
   "cell_type": "code",
   "execution_count": 68,
   "id": "410606cb",
   "metadata": {},
   "outputs": [
    {
     "name": "stdout",
     "output_type": "stream",
     "text": [
      "[3, 5]\n"
     ]
    }
   ],
   "source": [
    "#n ist prim\n",
    "#wenn p ein teiler von n ist\n",
    "\n",
    "\n",
    "l = [2,3,4,5]\n",
    "\n",
    "print(l[1::2])"
   ]
  },
  {
   "cell_type": "code",
   "execution_count": null,
   "id": "937c9e96",
   "metadata": {},
   "outputs": [],
   "source": []
  }
 ],
 "metadata": {
  "kernelspec": {
   "display_name": "Python 3",
   "language": "python",
   "name": "python3"
  },
  "language_info": {
   "codemirror_mode": {
    "name": "ipython",
    "version": 3
   },
   "file_extension": ".py",
   "mimetype": "text/x-python",
   "name": "python",
   "nbconvert_exporter": "python",
   "pygments_lexer": "ipython3",
   "version": "3.8.8"
  }
 },
 "nbformat": 4,
 "nbformat_minor": 5
}
