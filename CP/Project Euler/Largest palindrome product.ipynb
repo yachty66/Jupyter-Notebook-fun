{
 "cells": [
  {
   "cell_type": "code",
   "execution_count": 36,
   "id": "583c1b9c",
   "metadata": {},
   "outputs": [
    {
     "name": "stdout",
     "output_type": "stream",
     "text": [
      "906609\n"
     ]
    }
   ],
   "source": [
    "def largestPalindromeProduct(n):\n",
    "    #ich bekomme eine zahl n\n",
    "    #von dieser zahl n muss ich das größte produkt welches ein palindrom ergibt finden was sich aus 2 n stelligen zahlen bilden lässt\n",
    "    #ich muss eine zahl erzeugen die so viel stellen hat wie die zahl n\n",
    "    number = 1\n",
    "    listWithEveryNumber = []\n",
    "    listWithEveryNumberString = []\n",
    "    pali = []\n",
    "    final = []\n",
    "    for i in range(n):\n",
    "        number = number * 10\n",
    "\n",
    "    for i in range(1, number):\n",
    "        for j in range(1, number):\n",
    "            \n",
    "            listWithEveryNumber.append(i*j)\n",
    "        \n",
    "    for i in listWithEveryNumber:\n",
    "        listWithEveryNumberString.append(str(i))\n",
    "    \n",
    "    for i in listWithEveryNumberString:\n",
    "        if (i == i[::-1]):\n",
    "            pali.append(i[::-1])\n",
    "        \n",
    "    for i in pali:\n",
    "        final.append(int(i))\n",
    "        \n",
    "\n",
    "    return(max(final))\n",
    "                \n",
    "        \n",
    "print(largestPalindromeProduct(3))\n",
    "        \n",
    "        "
   ]
  },
  {
   "cell_type": "code",
   "execution_count": null,
   "id": "55082f7b",
   "metadata": {},
   "outputs": [],
   "source": []
  }
 ],
 "metadata": {
  "kernelspec": {
   "display_name": "Python 3",
   "language": "python",
   "name": "python3"
  },
  "language_info": {
   "codemirror_mode": {
    "name": "ipython",
    "version": 3
   },
   "file_extension": ".py",
   "mimetype": "text/x-python",
   "name": "python",
   "nbconvert_exporter": "python",
   "pygments_lexer": "ipython3",
   "version": "3.8.8"
  }
 },
 "nbformat": 4,
 "nbformat_minor": 5
}
