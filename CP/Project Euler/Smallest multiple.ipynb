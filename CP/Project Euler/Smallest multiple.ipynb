{
 "cells": [
  {
   "cell_type": "code",
   "execution_count": 7,
   "id": "1ea68193",
   "metadata": {},
   "outputs": [],
   "source": [
    "#ich bekomme zahl n \n",
    "#gesucth ist der kleinste teiler von allen zahlen von 1 bis n\n",
    "#liste mit alllen zahlen von 1 bis n\n",
    "#so lange in einen range loop laufen lassen bis alle zahlen aus n teilbar sind durch eine zahl\n",
    "def smallestMultiple(n):\n",
    "    listWithAllNumbersN = []\n",
    "    for i in range(1, n+1):\n",
    "        listWithAllNumbersN.append(i)\n",
    "    counter = 0\n",
    "    while True:\n",
    "        counter += 1\n",
    "        if(all((counter % i) == 0 for i in listWithAllNumbersN)):\n",
    "            final = counter\n",
    "            break\n",
    "    return final\n",
    "\n",
    "        \n",
    "    \n",
    "    \n",
    "    \n",
    "    "
   ]
  },
  {
   "cell_type": "code",
   "execution_count": 8,
   "id": "179858c4",
   "metadata": {},
   "outputs": [
    {
     "name": "stdout",
     "output_type": "stream",
     "text": [
      "2520\n"
     ]
    }
   ],
   "source": [
    "print(smallestMultiple(10))"
   ]
  },
  {
   "cell_type": "code",
   "execution_count": null,
   "id": "1fd472f5",
   "metadata": {},
   "outputs": [],
   "source": []
  }
 ],
 "metadata": {
  "kernelspec": {
   "display_name": "Python 3",
   "language": "python",
   "name": "python3"
  },
  "language_info": {
   "codemirror_mode": {
    "name": "ipython",
    "version": 3
   },
   "file_extension": ".py",
   "mimetype": "text/x-python",
   "name": "python",
   "nbconvert_exporter": "python",
   "pygments_lexer": "ipython3",
   "version": "3.8.8"
  }
 },
 "nbformat": 4,
 "nbformat_minor": 5
}
