{
 "cells": [
  {
   "cell_type": "code",
   "execution_count": null,
   "id": "bbee1896",
   "metadata": {},
   "outputs": [],
   "source": [
    "def special(n):\n",
    "#ich muss 3 zahlen nehemn und diese jeweisl quadrieren und dann addieren#\n",
    "#wenn ergebnis == n \n",
    "#a + b + c\n",
    "\n",
    "#alle drei teile vom \n",
    "\n",
    "#bilde alle  Pythagorean triplet  bis a und b > 1000\n",
    "\n",
    "\n",
    "#while loop\n",
    "#"
   ]
  }
 ],
 "metadata": {
  "kernelspec": {
   "display_name": "Python 3",
   "language": "python",
   "name": "python3"
  },
  "language_info": {
   "codemirror_mode": {
    "name": "ipython",
    "version": 3
   },
   "file_extension": ".py",
   "mimetype": "text/x-python",
   "name": "python",
   "nbconvert_exporter": "python",
   "pygments_lexer": "ipython3",
   "version": "3.8.8"
  }
 },
 "nbformat": 4,
 "nbformat_minor": 5
}
