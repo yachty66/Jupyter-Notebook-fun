{
 "cells": [
  {
   "cell_type": "code",
   "execution_count": 9,
   "id": "e8fcba54",
   "metadata": {},
   "outputs": [],
   "source": [
    "#liste 1 bis n bilden\n",
    "# 1jedes elem aus liset quadrieren und miteinander adddieren\n",
    "#2 jedes elem aus lsite 1 bis n addieren mitein und davon das quadrat\n",
    "#punkt 2 mit punkt 1 subtrahieren\n",
    "\n",
    "def sumSquare(n):\n",
    "    listWithN = []\n",
    "    sumOfAll2 = []\n",
    "    for i in range(1, n+1):\n",
    "        listWithN.append(i)\n",
    "    #1\n",
    "    for i in listWithN:\n",
    "        sumOfAll2.append(i**2)\n",
    "    final1 = sum(sumOfAll2)\n",
    "    \n",
    "    \n",
    "    #2\n",
    "    sumAll = sum(listWithN)\n",
    "    final2 = sumAll**2\n",
    "    \n",
    "    return final2 - final1\n",
    "\n",
    "        \n",
    "        \n",
    "        \n",
    "    \n",
    "    "
   ]
  },
  {
   "cell_type": "code",
   "execution_count": 10,
   "id": "ceaf6b19",
   "metadata": {},
   "outputs": [
    {
     "name": "stdout",
     "output_type": "stream",
     "text": [
      "41230\n"
     ]
    }
   ],
   "source": [
    "print(sumSquare(20))"
   ]
  },
  {
   "cell_type": "code",
   "execution_count": null,
   "id": "4c7d80ca",
   "metadata": {},
   "outputs": [],
   "source": []
  }
 ],
 "metadata": {
  "kernelspec": {
   "display_name": "Python 3",
   "language": "python",
   "name": "python3"
  },
  "language_info": {
   "codemirror_mode": {
    "name": "ipython",
    "version": 3
   },
   "file_extension": ".py",
   "mimetype": "text/x-python",
   "name": "python",
   "nbconvert_exporter": "python",
   "pygments_lexer": "ipython3",
   "version": "3.8.8"
  }
 },
 "nbformat": 4,
 "nbformat_minor": 5
}
