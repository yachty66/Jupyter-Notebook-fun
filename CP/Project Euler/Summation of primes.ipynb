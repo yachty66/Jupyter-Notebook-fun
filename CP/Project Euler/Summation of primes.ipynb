{
 "cells": [
  {
   "cell_type": "code",
   "execution_count": 5,
   "id": "38267ea3",
   "metadata": {},
   "outputs": [
    {
     "name": "stdout",
     "output_type": "stream",
     "text": [
      "873608362\n"
     ]
    }
   ],
   "source": [
    "#primes bilden bis n\n",
    "#summe von allen primes\n",
    "def prime(n):\n",
    "    end = []\n",
    "    for i in range(1, n):\n",
    "        counter = 1\n",
    "        counter2 = 0\n",
    "        while counter != i+1:\n",
    "            if(i % counter == 0):\n",
    "                counter2 += 1\n",
    "            counter += 1\n",
    "        if(counter2 == 2):\n",
    "            end.append(i)\n",
    "        counter = 1\n",
    "        counter2 = 0\n",
    "    final = sum(end)\n",
    "    return final\n",
    "    \n",
    "print(prime(140759))"
   ]
  },
  {
   "cell_type": "code",
   "execution_count": null,
   "id": "831f0fe9",
   "metadata": {},
   "outputs": [],
   "source": []
  }
 ],
 "metadata": {
  "kernelspec": {
   "display_name": "Python 3",
   "language": "python",
   "name": "python3"
  },
  "language_info": {
   "codemirror_mode": {
    "name": "ipython",
    "version": 3
   },
   "file_extension": ".py",
   "mimetype": "text/x-python",
   "name": "python",
   "nbconvert_exporter": "python",
   "pygments_lexer": "ipython3",
   "version": "3.8.8"
  }
 },
 "nbformat": 4,
 "nbformat_minor": 5
}
