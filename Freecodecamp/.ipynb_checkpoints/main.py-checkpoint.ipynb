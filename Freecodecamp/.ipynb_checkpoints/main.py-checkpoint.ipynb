{
 "cells": [
  {
   "cell_type": "code",
   "execution_count": null,
   "id": "3edead03",
   "metadata": {},
   "outputs": [],
   "source": [
    "# This entrypoint file to be used in development. Start by reading README.md\n",
    "from RPS_game import play, mrugesh, abbey, quincy, kris, human, random_player\n",
    "from RPS import player\n",
    "from unittest import main\n",
    "\n",
    "play(player, quincy, 1000)\n",
    "#play(player, abbey, 1000)\n",
    "#play(player, kris, 1000)\n",
    "#play(player, mrugesh, 1000)\n",
    "\n",
    "# Uncomment line below to play interactively against a bot:\n",
    "#play(human, abbey, 20, verbose=True)\n",
    "\n",
    "# Uncomment line below to play against a bot that plays randomly:\n",
    "#play(human, random_player, 1000)\n",
    "\n",
    "\n",
    "# Uncomment line below to run unit tests automatically\n",
    "#main(module='test_module', exit=False)"
   ]
  }
 ],
 "metadata": {
  "kernelspec": {
   "display_name": "Python 3",
   "language": "python",
   "name": "python3"
  },
  "language_info": {
   "codemirror_mode": {
    "name": "ipython",
    "version": 3
   },
   "file_extension": ".py",
   "mimetype": "text/x-python",
   "name": "python",
   "nbconvert_exporter": "python",
   "pygments_lexer": "ipython3",
   "version": "3.8.8"
  }
 },
 "nbformat": 4,
 "nbformat_minor": 5
}
