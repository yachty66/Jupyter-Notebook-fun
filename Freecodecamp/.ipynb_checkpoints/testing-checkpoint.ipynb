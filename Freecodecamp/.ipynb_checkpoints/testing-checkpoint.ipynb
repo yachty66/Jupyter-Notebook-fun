{
 "cells": [
  {
   "cell_type": "code",
   "execution_count": null,
   "id": "166b6ef5",
   "metadata": {},
   "outputs": [],
   "source": [
    "def abbey(prev_opponent_play,\n",
    "          opponent_history=[],\n",
    "          play_order=[{\n",
    "              \"RR\": 0,\n",
    "              \"RP\": 0,\n",
    "              \"RS\": 0,\n",
    "              \"PR\": 0,\n",
    "              \"PP\": 0,\n",
    "              \"PS\": 0,\n",
    "              \"SR\": 0,\n",
    "              \"SP\": 0,\n",
    "              \"SS\": 0,\n",
    "          }]):\n",
    "\n",
    "    if not prev_opponent_play:\n",
    "        #wenn ich nicht gespielt habe wird ein \"R\" gesetzt\n",
    "        prev_opponent_play = 'R'\n",
    "    opponent_history.append(prev_opponent_play)\n",
    "    \n",
    "    #returns the last two objects of opponent_history as an string\n",
    "    last_two = \"\".join(opponent_history[-2:])\n",
    "    #wenn die länge der letzten zwei elemente == 2, dann geht es in die Schleife rein\n",
    "    if len(last_two) == 2:\n",
    "        \n",
    "        play_order[0][last_two] += 1\n",
    "\n",
    "    potential_plays = [\n",
    "        prev_opponent_play + \"R\",\n",
    "        prev_opponent_play + \"P\",\n",
    "        prev_opponent_play + \"S\",\n",
    "    ]\n",
    "    \n",
    "    \n",
    "opponent_history = [\"R\", \"R\", \"P\", \"S\", \"S\", \"S\", \"R\", \"P\", \"S\", \"P\"]    \n",
    "play_order=[{\n",
    "              \"RR\": 0,\"RP\": 0,\"RS\": 0,\n",
    "              \"PR\": 0,\n",
    "              \"PP\": 0,\n",
    "              \"PS\": 0,\n",
    "              \"SR\": 0,\n",
    "              \"SP\": 0,\n",
    "              \"SS\": 0,\n",
    "          }]\n",
    "last_two = \"\".join(opponent_history[-2:])\n",
    "if len(last_two) == 2:\n",
    "    play_order[0][last_two] += 1\n",
    "    potential_plays = [\n",
    "        prev_opponent_play + \"R\",\n",
    "        prev_opponent_play + \"P\",\n",
    "        prev_opponent_play + \"S\",]\n",
    "    \n"
   ]
  }
 ],
 "metadata": {
  "kernelspec": {
   "display_name": "Python 3",
   "language": "python",
   "name": "python3"
  },
  "language_info": {
   "codemirror_mode": {
    "name": "ipython",
    "version": 3
   },
   "file_extension": ".py",
   "mimetype": "text/x-python",
   "name": "python",
   "nbconvert_exporter": "python",
   "pygments_lexer": "ipython3",
   "version": "3.8.8"
  }
 },
 "nbformat": 4,
 "nbformat_minor": 5
}
