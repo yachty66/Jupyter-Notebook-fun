{
 "cells": [
  {
   "cell_type": "code",
   "execution_count": null,
   "id": "038cddf7",
   "metadata": {},
   "outputs": [],
   "source": [
    "# The example function below keeps track of the opponent's history and plays whatever the opponent played two plays ago. It is not a very good player so you will need to change the code to pass the challenge.\n",
    "\n",
    "#I have to write an algorithm who beats a specific pattern of an rock, paper, scissors bot\n",
    "#for that I need to analyze the games of the bots for that I probably need some libraries\n",
    "#I get always the previous play of the opponent and I also get a list array of the opponent history\n",
    "#I just implement a algorithm which I would also play if I would play against a human:\n",
    "#If I loose then I choose in the next round that what the opponent choosed in the previous round. If I win then I switch to the thing with which I win if I play the round again but against me\n",
    "#If I would \n",
    "\n",
    "#I just need an reeinforcement algorithm which gets a 1 for every win and a 0 for every loose\n",
    "def player(prev_play, opponent_history=[]):\n",
    "      opponent_history.append(prev_play)\n",
    "\n",
    "  #if first round guess \"R\"\n",
    "      guess = \"R\"\n",
    "  #if quincy\n",
    "      if len(opponent_history) >= 5 and opponent_history[0] == \"R\" and opponent_history[1] == \"P\" and opponent_history[2] == \"P\" and opponent_history[3] == \"S\" and opponent_history[4] == \"R\":\n",
    "        if len(opponent_history) % 5 == 0:\n",
    "              guess = \"P\"\n",
    "        elif len(opponent_history) % 5 == 1:\n",
    "              guess == \"S\"\n",
    "        elif len(opponent_history) % 5 == 2:\n",
    "              guess == \"S\"\n",
    "        elif len(opponent_history) % 5 == 3:\n",
    "              guess == \"R\"\n",
    "        elif len(opponent_history) % 5 == 4:\n",
    "              guess == \"P\"\n",
    "  #print(guess)\n",
    "      print(len(opponent_history))\n",
    "      print(opponent_history[0])\n",
    "  #opponent_history.append(prev_play)\n",
    "  \n",
    "      return guess\n",
    "\n",
    "  \n",
    "\n",
    "   \n",
    "\n",
    "\n",
    "    "
   ]
  }
 ],
 "metadata": {
  "kernelspec": {
   "display_name": "Python 3",
   "language": "python",
   "name": "python3"
  },
  "language_info": {
   "codemirror_mode": {
    "name": "ipython",
    "version": 3
   },
   "file_extension": ".py",
   "mimetype": "text/x-python",
   "name": "python",
   "nbconvert_exporter": "python",
   "pygments_lexer": "ipython3",
   "version": "3.8.8"
  }
 },
 "nbformat": 4,
 "nbformat_minor": 5
}
