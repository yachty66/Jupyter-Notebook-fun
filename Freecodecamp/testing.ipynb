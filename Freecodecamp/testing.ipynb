{
 "cells": [
  {
   "cell_type": "code",
   "execution_count": 1,
   "id": "166b6ef5",
   "metadata": {},
   "outputs": [
    {
     "ename": "NameError",
     "evalue": "name 'opponent_history' is not defined",
     "output_type": "error",
     "traceback": [
      "\u001b[0;31m---------------------------------------------------------------------------\u001b[0m",
      "\u001b[0;31mNameError\u001b[0m                                 Traceback (most recent call last)",
      "\u001b[0;32m<ipython-input-1-8caf4cb0a98a>\u001b[0m in \u001b[0;36m<module>\u001b[0;34m\u001b[0m\n\u001b[1;32m     42\u001b[0m               \u001b[0;34m\"SS\"\u001b[0m\u001b[0;34m:\u001b[0m \u001b[0;36m0\u001b[0m\u001b[0;34m,\u001b[0m\u001b[0;34m\u001b[0m\u001b[0;34m\u001b[0m\u001b[0m\n\u001b[1;32m     43\u001b[0m           }]\n\u001b[0;32m---> 44\u001b[0;31m \u001b[0mlast_two\u001b[0m \u001b[0;34m=\u001b[0m \u001b[0;34m\"\"\u001b[0m\u001b[0;34m.\u001b[0m\u001b[0mjoin\u001b[0m\u001b[0;34m(\u001b[0m\u001b[0mopponent_history\u001b[0m\u001b[0;34m[\u001b[0m\u001b[0;34m-\u001b[0m\u001b[0;36m2\u001b[0m\u001b[0;34m:\u001b[0m\u001b[0;34m]\u001b[0m\u001b[0;34m)\u001b[0m\u001b[0;34m\u001b[0m\u001b[0;34m\u001b[0m\u001b[0m\n\u001b[0m\u001b[1;32m     45\u001b[0m \u001b[0;32mif\u001b[0m \u001b[0mlen\u001b[0m\u001b[0;34m(\u001b[0m\u001b[0mlast_two\u001b[0m\u001b[0;34m)\u001b[0m \u001b[0;34m==\u001b[0m \u001b[0;36m2\u001b[0m\u001b[0;34m:\u001b[0m\u001b[0;34m\u001b[0m\u001b[0;34m\u001b[0m\u001b[0m\n\u001b[1;32m     46\u001b[0m     \u001b[0mplay_order\u001b[0m\u001b[0;34m[\u001b[0m\u001b[0;36m0\u001b[0m\u001b[0;34m]\u001b[0m\u001b[0;34m[\u001b[0m\u001b[0mlast_two\u001b[0m\u001b[0;34m]\u001b[0m \u001b[0;34m+=\u001b[0m \u001b[0;36m1\u001b[0m\u001b[0;34m\u001b[0m\u001b[0;34m\u001b[0m\u001b[0m\n",
      "\u001b[0;31mNameError\u001b[0m: name 'opponent_history' is not defined"
     ]
    }
   ],
   "source": [
    "def abbey(prev_opponent_play,\n",
    "          opponent_history=[],\n",
    "          play_order=[{\n",
    "              \"RR\": 0,\n",
    "              \"RP\": 0,\n",
    "              \"RS\": 0,\n",
    "              \"PR\": 0,\n",
    "              \"PP\": 0,\n",
    "              \"PS\": 0,\n",
    "              \"SR\": 0,\n",
    "              \"SP\": 0,\n",
    "              \"SS\": 0,\n",
    "          }]):\n",
    "\n",
    "    if not prev_opponent_play:\n",
    "        #wenn ich nicht gespielt habe wird ein \"R\" gesetzt\n",
    "        prev_opponent_play = 'R'\n",
    "    opponent_history.append(prev_opponent_play)\n",
    "    \n",
    "    #returns the last two objects of opponent_history as an string\n",
    "    last_two = \"\".join(opponent_history[-2:])\n",
    "    #wenn die länge der letzten zwei elemente == 2, dann geht es in die Schleife rein\n",
    "    if len(last_two) == 2:\n",
    "        \n",
    "        play_order[0][last_two] += 1\n",
    "    \n",
    "    #hier immer entweder R P S als prev_opponent_play\n",
    "    potential_plays = [\n",
    "        prev_opponent_play + \"R\",\n",
    "        prev_opponent_play + \"P\",\n",
    "        prev_opponent_play + \"S\",\n",
    "    ]\n",
    "    \n",
    "\n",
    "\n",
    "#value wird erhöht, wenn letzten 2 züge von prev_opponent_play mit jeweiligen Key übereinstimmen\n",
    "play_order=[{\n",
    "              \"RR\": 0,\"RP\": 0,\"RS\": 0,\n",
    "              \"PR\": 0,\n",
    "              \"PP\": 0,\n",
    "              \"PS\": 1,\n",
    "              \"SR\": 0,\n",
    "              \"SP\": 0,\n",
    "              \"SS\": 0,\n",
    "          }]\n",
    "\n",
    "    if not prev_opponent_play:\n",
    "        #wenn ich nicht gespielt habe wird ein \"R\" gesetzt\n",
    "        prev_opponent_play = 'R'\n",
    "    opponent_history.append(prev_opponent_play)\n",
    "    \n",
    "    #returns the last two objects of opponent_history as an string\n",
    "    last_two = \"\".join(opponent_history[-2:])\n",
    "    #wenn die länge der letzten zwei elemente == 2, dann geht es in die Schleife rein\n",
    "    if len(last_two) == 2:\n",
    "        \n",
    "        play_order[0][last_two] += 1\n",
    "\n",
    "    potential_plays = [\n",
    "        prev_opponent_play P+ \"R\",\n",
    "        prev_opponent_play P+ \"P\",\n",
    "        prev_opponent_play P+ \"S\",\n",
    "    ]\n",
    "\n",
    "    sub_order = {PR, PP, PS\n",
    "        #k ist jeder potentiale Spielzug von mir. \n",
    "        #suborder ist jeder von mir gespielte Zug wenn er auch in play_order ist. \n",
    "        #\n",
    "        #alle potential plays\n",
    "        k: play_order[0][k]\n",
    "        for k in potential_plays if k in play_order[0]\n",
    "    }\n",
    "    \n",
    "    #am haeufigsten vorkommende Wert aus suborder und davon den letzten Wert\n",
    "    prediction = max(sub_order, key=sub_order.get)[-1:]\n",
    "    S\n",
    "    \n",
    "    \n",
    "    #man hat immer die letzten zwei Züge und davon \n",
    "\n",
    "    ideal_response = {'P': 'S', 'R': 'P', 'S': 'R'}\n",
    "    bei RR --> P --> Ergebnis\n",
    "    bei PS --> R --> Ergebnis\n",
    "    return ideal_response[prediction]\n",
    "#das letzte ergebnis von mir wird geschlagen"
   ]
  },
  {
   "cell_type": "code",
   "execution_count": 39,
   "id": "ec8f7748",
   "metadata": {},
   "outputs": [
    {
     "name": "stdout",
     "output_type": "stream",
     "text": [
      "{'RR': 0, 'RP': 0, 'RS': 0, 'PR': 0, 'PP': 0, 'PS': 0, 'SR': 0, 'SP': 0, 'SS': 0}\n",
      "R\n",
      "P\n"
     ]
    }
   ],
   "source": [
    "opponent_histor = [\"R\", \"R\", \"P\", \"S\", \"S\", \"S\", \"R\", \"P\", \"S\", \"P\"]\n",
    "\n",
    "play_orde={\n",
    "              \"RR\": 0,\n",
    "              \"RP\": 0,\n",
    "              \"RS\": 0,\n",
    "              \"PR\": 0,\n",
    "              \"PP\": 0,\n",
    "              \"PS\": 0,\n",
    "              \"SR\": 0,\n",
    "              \"SP\": 0,\n",
    "              \"SS\": 0,\n",
    "          }\n",
    "last_two = \"\".join(opponent_history[-2:])\n",
    "    #wenn die länge der letzten zwei elemente == 2, dann geht es in die Schleife rein\n",
    "if len(last_two) == 2:\n",
    "    play_order[0][last_two] += 1\n",
    "        \n",
    "\n",
    "\n",
    "\n",
    "last_two = \"\".join(opponent_history[-2:])\n",
    "prediction = max(play_orde, key=play_orde.get)[-1:]\n",
    "print(play_orde)\n",
    "print (prediction)\n",
    "ideal_response = {'P': 'S', 'R': 'P', 'S': 'R'}\n",
    "print(ideal_response[prediction])"
   ]
  },
  {
   "cell_type": "code",
   "execution_count": 43,
   "id": "bd9544b0",
   "metadata": {},
   "outputs": [
    {
     "name": "stdout",
     "output_type": "stream",
     "text": [
      "P\n"
     ]
    }
   ],
   "source": [
    "opponent_histor = [\"R\", \"R\", \"P\", \"S\", \"S\", \"S\", \"R\", \"P\", \"S\", \"P\"]\n",
    "\n",
    "play_orde={\n",
    "              \"RR\": 0,\n",
    "              \"RP\": 0,\n",
    "              \"RS\": 0,\n",
    "              \"PR\": 0,\n",
    "              \"PP\": 0,\n",
    "              \"PS\": 0,\n",
    "              \"SR\": 0,\n",
    "              \"SP\": 1,\n",
    "              \"SS\": 0,\n",
    "          }\n",
    "last_two = \"\".join(opponent_history[-2:])\n",
    "    #wenn die länge der letzten zwei elemente == 2, dann geht es in die Schleife rein\n",
    "if len(last_two) == 2:\n",
    "    play_order[0][last_two] += 1\n",
    "        \n",
    "\n",
    "\n",
    "\n",
    "last_two = \"\".join(opponent_history[-2:])\n",
    "#I get the highest \n",
    "prediction = max(play_orde, key=play_orde.get)[-1:]\n",
    "print (prediction)"
   ]
  },
  {
   "cell_type": "code",
   "execution_count": null,
   "id": "50571e13",
   "metadata": {},
   "outputs": [],
   "source": []
  }
 ],
 "metadata": {
  "kernelspec": {
   "display_name": "Python 3",
   "language": "python",
   "name": "python3"
  },
  "language_info": {
   "codemirror_mode": {
    "name": "ipython",
    "version": 3
   },
   "file_extension": ".py",
   "mimetype": "text/x-python",
   "name": "python",
   "nbconvert_exporter": "python",
   "pygments_lexer": "ipython3",
   "version": "3.8.8"
  }
 },
 "nbformat": 4,
 "nbformat_minor": 5
}
