{
 "cells": [
  {
   "cell_type": "code",
   "execution_count": 17,
   "id": "5b3fde79",
   "metadata": {},
   "outputs": [
    {
     "name": "stdout",
     "output_type": "stream",
     "text": [
      "7 21\n",
      "---------.|.---------\n",
      "------.|..|..|.------\n",
      "---.|..|..|..|..|.---\n",
      "-------WELCOME-------\n",
      "---.|..|..|..|..|.---\n",
      "------.|..|..|.------\n",
      "---------.|.---------\n"
     ]
    }
   ],
   "source": [
    "#ich muss anfangen die standart reihen zu printen\n",
    "#wenn i+1 == height/2 print \"Welcome\" row\n",
    "#\n",
    "#N\n",
    "\n",
    "height, M = input().split()\n",
    "\n",
    "height=int(height)\n",
    "width = int(M)\n",
    "\n",
    "width2 = int((int(width) -3) / 2)\n",
    "\n",
    "p = \"WELCOME\"\n",
    "sym = \".|.\"\n",
    "counter = 2\n",
    "\n",
    "for i in range(int(height)):\n",
    "    if i == ((int(height)-1)/2):\n",
    "        print(p.center(width, \"-\"))\n",
    "    elif (i < ((int(height)-1)/2)):\n",
    "        print((sym*i).rjust(width2, \"-\")+sym+(sym*i).ljust(width2, \"-\"))\n",
    "    elif (i > ((height-1)/2)):\n",
    "        print((sym*(i-counter)).rjust(width2, \"-\")+sym+(sym*(i-counter)).ljust(width2, \"-\"))\n",
    "        counter += 2\n",
    "        \n",
    "\n",
    "    \n",
    "\n",
    "\n",
    "    \n",
    "\n"
   ]
  },
  {
   "cell_type": "code",
   "execution_count": 39,
   "id": "e4843920",
   "metadata": {},
   "outputs": [
    {
     "name": "stdout",
     "output_type": "stream",
     "text": [
      "21\n",
      "---------.|.---------\n",
      ".|..|..|.\n"
     ]
    }
   ],
   "source": [
    "height = int(input())\n",
    "#M\n",
    "width = height*3\n",
    "    \n",
    "p = \"WELCOME\"\n",
    "sym = \".|.\"\n",
    "sym2 = \".|..|..|.\"\n",
    "\n",
    "\n",
    "\n",
    "print(sym.center(height, \"-\"))\n",
    "\n",
    "print(\".|.\"+\".|.\"+\".|.\")\n",
    "#print(sym2.center(height, \"-\"))\n",
    "#print(sym)"
   ]
  },
  {
   "cell_type": "code",
   "execution_count": 4,
   "id": "edb950b7",
   "metadata": {},
   "outputs": [
    {
     "ename": "SyntaxError",
     "evalue": "invalid syntax (<ipython-input-4-81b2d1774fb1>, line 3)",
     "output_type": "error",
     "traceback": [
      "\u001b[0;36m  File \u001b[0;32m\"<ipython-input-4-81b2d1774fb1>\"\u001b[0;36m, line \u001b[0;32m3\u001b[0m\n\u001b[0;31m    print 'HackerRank'.ljust(width,'-')\u001b[0m\n\u001b[0m          ^\u001b[0m\n\u001b[0;31mSyntaxError\u001b[0m\u001b[0;31m:\u001b[0m invalid syntax\n"
     ]
    }
   ],
   "source": [
    "#what to build\n",
    ">>> width = 20\n",
    ">>> print 'HackerRank'.ljust(width,'-')\n",
    "HackerRank----------  \n",
    " ---------------.|.---------------\n",
    "\n",
    "p = \".|.\"\n",
    "print (p.center(width, \"-\")\n"
   ]
  },
  {
   "cell_type": "code",
   "execution_count": 7,
   "id": "d9fb78eb",
   "metadata": {},
   "outputs": [
    {
     "name": "stdout",
     "output_type": "stream",
     "text": [
      "-------WELCOME-------\n"
     ]
    }
   ],
   "source": [
    "p = \"WELCOME\"\n",
    "print (p.center(21, \"-\"))\n",
    "#if m increases then add two layers above and under"
   ]
  },
  {
   "cell_type": "code",
   "execution_count": null,
   "id": "c85129d1",
   "metadata": {},
   "outputs": [],
   "source": []
  }
 ],
 "metadata": {
  "kernelspec": {
   "display_name": "Python 3",
   "language": "python",
   "name": "python3"
  },
  "language_info": {
   "codemirror_mode": {
    "name": "ipython",
    "version": 3
   },
   "file_extension": ".py",
   "mimetype": "text/x-python",
   "name": "python",
   "nbconvert_exporter": "python",
   "pygments_lexer": "ipython3",
   "version": "3.8.8"
  }
 },
 "nbformat": 4,
 "nbformat_minor": 5
}
