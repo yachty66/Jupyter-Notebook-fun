{
 "cells": [
  {
   "cell_type": "code",
   "execution_count": 71,
   "id": "41cad28d",
   "metadata": {},
   "outputs": [
    {
     "name": "stdout",
     "output_type": "stream",
     "text": [
      "5\n",
      "2 3 6 6 5 \n",
      "5\n"
     ]
    }
   ],
   "source": [
    "if __name__ == '__main__':\n",
    "    n = int(input())\n",
    "    arr = map(int, input().split())\n",
    "    #ich muss die zweithöchste Zahl aus einer liste entfernen\n",
    "    \n",
    "    #ich entferne die höchste zahl - duplikate könne vorkommen\n",
    "    #ich printe die nächsthöhere zahl\n",
    "    \n",
    "    #nehem element und vergleiche es mit jedem element aus liste\n",
    "    #wenn genommenes element größer gleich als alle ist entferne \n",
    "    #nur in der errsten runde\n",
    "    #in der 2ten runde printe es anstatt es zu entfernen\n",
    "    \n",
    "    #ich nehme ein element aus liste\n",
    "    #entferne alle duplikate aus der liste\n",
    "    #entferne das größte element aus der liste\n",
    "    #printe das größte element\n",
    "    scores=[]\n",
    "    new_scores=[]\n",
    "    counter =0\n",
    "    for i in arr:\n",
    "        scores.append(i)\n",
    "        \n",
    "    #entferne alle duplikate    \n",
    "    for i in scores:\n",
    "        if i not in new_scores:\n",
    "            new_scores.append(i)\n",
    "        \n",
    "    new_scores.remove(max(new_scores))\n",
    "    print(max(new_scores))\n",
    "            \n",
    "    \n",
    "        \n",
    "                    \n",
    "                \n",
    "        \n",
    "    \n",
    "\n",
    "                \n",
    "        \n",
    "    "
   ]
  },
  {
   "cell_type": "code",
   "execution_count": 53,
   "id": "cf10fb84",
   "metadata": {},
   "outputs": [
    {
     "name": "stdout",
     "output_type": "stream",
     "text": [
      "truess\n"
     ]
    }
   ],
   "source": [
    "list1=[8, 8, 8, 8]\n",
    "list2=[8,8,8]\n",
    "\n",
    "#wenn alle elemente aus list2 <= allen elementen aus list1 sind\n",
    "#print true\n",
    "if all(f==g for g in list1 for f in list2):\n",
    "    print(\"truess\")\n",
    "\n"
   ]
  },
  {
   "cell_type": "code",
   "execution_count": 43,
   "id": "004328d8",
   "metadata": {},
   "outputs": [
    {
     "name": "stdout",
     "output_type": "stream",
     "text": [
      "2\n"
     ]
    }
   ],
   "source": [
    "list1=[1]\n",
    "list2=[6,4,3,2]\n",
    "\n",
    "all(x for x in data)\n",
    "\n",
    "for f in list1:\n",
    "    #print(f)\n",
    "    if all(g for g in list2 if f < g):\n",
    "        print(g)\n",
    "        #print(\"reze\")"
   ]
  },
  {
   "cell_type": "code",
   "execution_count": null,
   "id": "213cb53d",
   "metadata": {},
   "outputs": [],
   "source": []
  }
 ],
 "metadata": {
  "kernelspec": {
   "display_name": "Python 3",
   "language": "python",
   "name": "python3"
  },
  "language_info": {
   "codemirror_mode": {
    "name": "ipython",
    "version": 3
   },
   "file_extension": ".py",
   "mimetype": "text/x-python",
   "name": "python",
   "nbconvert_exporter": "python",
   "pygments_lexer": "ipython3",
   "version": "3.8.8"
  }
 },
 "nbformat": 4,
 "nbformat_minor": 5
}
