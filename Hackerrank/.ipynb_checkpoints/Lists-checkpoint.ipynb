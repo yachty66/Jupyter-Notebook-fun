{
 "cells": [
  {
   "cell_type": "code",
   "execution_count": 2,
   "id": "0c6adfd4",
   "metadata": {},
   "outputs": [
    {
     "name": "stdout",
     "output_type": "stream",
     "text": [
      "5\n",
      "insert 0 5\n",
      "insert 1 10\n",
      "insert 0 6\n",
      "print\n",
      "remove 6\n",
      "[6, 5, 10]\n"
     ]
    }
   ],
   "source": [
    "if __name__ == '__main__':\n",
    "    commands=[]\n",
    "    arr = []\n",
    "    N = int(input())\n",
    "    for _ in range(N):\n",
    "        name, *line = input().split()\n",
    "        values = list(map(int, line))\n",
    "        commands.append(name)\n",
    "        commands.append(values)\n",
    "    for i in range(len(commands)):\n",
    "        if commands[i] == \"insert\":\n",
    "            arr.insert(commands[i+1][0], commands[i+1][1])\n",
    "        elif commands[i] == \"print\":\n",
    "            print(arr)\n",
    "        elif commands[i] == \"remove\":\n",
    "            arr.remove(commands[i+1][0])\n",
    "        elif commands[i] == \"append\":\n",
    "            arr.append(commands[i+1][0])\n",
    "        elif commands[i] == \"sort\":\n",
    "            arr.sort()\n",
    "        elif commands[i] == \"pop\":\n",
    "            arr.pop()\n",
    "        elif commands[i] == \"reverse\":\n",
    "            arr.reverse()\n",
    "    \n",
    "\n",
    "\n",
    "    \n",
    "    \n",
    "    \n",
    "        \n",
    "    "
   ]
  }
 ],
 "metadata": {
  "kernelspec": {
   "display_name": "Python 3",
   "language": "python",
   "name": "python3"
  },
  "language_info": {
   "codemirror_mode": {
    "name": "ipython",
    "version": 3
   },
   "file_extension": ".py",
   "mimetype": "text/x-python",
   "name": "python",
   "nbconvert_exporter": "python",
   "pygments_lexer": "ipython3",
   "version": "3.8.8"
  }
 },
 "nbformat": 4,
 "nbformat_minor": 5
}
