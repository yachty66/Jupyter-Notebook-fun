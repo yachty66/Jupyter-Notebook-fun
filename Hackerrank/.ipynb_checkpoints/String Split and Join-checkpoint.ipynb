{
 "cells": [
  {
   "cell_type": "code",
   "execution_count": 5,
   "id": "d806973a",
   "metadata": {},
   "outputs": [
    {
     "name": "stdout",
     "output_type": "stream",
     "text": [
      "sjjs sjsjj skks\n",
      "['sjjs', 'sjsjj', 'skks']\n",
      "sjjs-sjsjj-skks\n",
      "None\n"
     ]
    }
   ],
   "source": [
    "def split_and_join(line):\n",
    "    #first split input\n",
    "    #second join input\n",
    "    line = line.split(\" \")\n",
    "    line = \"-\".join(line)\n",
    "    print(line)\n",
    "    # write your code here\n",
    "\n",
    "if __name__ == '__main__':\n",
    "    line = input()\n",
    "    result = split_and_join(line)\n",
    "    print(result)"
   ]
  },
  {
   "cell_type": "code",
   "execution_count": null,
   "id": "bc688b18",
   "metadata": {},
   "outputs": [],
   "source": []
  }
 ],
 "metadata": {
  "kernelspec": {
   "display_name": "Python 3",
   "language": "python",
   "name": "python3"
  },
  "language_info": {
   "codemirror_mode": {
    "name": "ipython",
    "version": 3
   },
   "file_extension": ".py",
   "mimetype": "text/x-python",
   "name": "python",
   "nbconvert_exporter": "python",
   "pygments_lexer": "ipython3",
   "version": "3.8.8"
  }
 },
 "nbformat": 4,
 "nbformat_minor": 5
}
