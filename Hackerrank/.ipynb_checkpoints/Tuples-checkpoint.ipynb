{
 "cells": [
  {
   "cell_type": "code",
   "execution_count": 12,
   "id": "da337bd6",
   "metadata": {},
   "outputs": [
    {
     "name": "stdout",
     "output_type": "stream",
     "text": [
      "2\n",
      "1 2\n",
      "(1, 2)\n",
      "-3550055125485641917\n"
     ]
    }
   ],
   "source": [
    "import builtins\n",
    "if __name__ == '__main__':\n",
    "    my_list=[]\n",
    "    my_tuple=()\n",
    "    n = int(input())\n",
    "    integer_list = map(int, input().split())\n",
    "    for i in integer_list:\n",
    "        my_list.append(i)\n",
    "    t=tuple(my_list)\n",
    "    print(t)\n",
    "    print(hash(t))\n",
    "    #alle meine eingaben werden in integer_list gespeichert\n",
    "    #change integer list to list\n",
    "    #chnage list to tuple\n",
    "    #my_tuple=(integer_list)\n",
    "    #print(my_tuple)\n",
    "    #ich bekomme ein Tupel"
   ]
  }
 ],
 "metadata": {
  "kernelspec": {
   "display_name": "Python 3",
   "language": "python",
   "name": "python3"
  },
  "language_info": {
   "codemirror_mode": {
    "name": "ipython",
    "version": 3
   },
   "file_extension": ".py",
   "mimetype": "text/x-python",
   "name": "python",
   "nbconvert_exporter": "python",
   "pygments_lexer": "ipython3",
   "version": "3.8.8"
  }
 },
 "nbformat": 4,
 "nbformat_minor": 5
}
