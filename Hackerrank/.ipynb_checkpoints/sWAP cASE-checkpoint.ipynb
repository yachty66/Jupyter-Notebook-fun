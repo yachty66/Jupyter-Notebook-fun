{
 "cells": [
  {
   "cell_type": "code",
   "execution_count": 3,
   "id": "adf69aaa",
   "metadata": {},
   "outputs": [
    {
     "name": "stdout",
     "output_type": "stream",
     "text": [
      "a a a\n",
      "A A A\n"
     ]
    }
   ],
   "source": [
    "def swap_case(s):\n",
    "    #print(s)\n",
    "    element_list = []\n",
    "    for element in s:\n",
    "        if element.isupper():\n",
    "            element = element.lower()\n",
    "            element_list.append(element)\n",
    "        elif element.islower():\n",
    "            element = element.upper()\n",
    "            element_list.append(element)\n",
    "        else:\n",
    "            element_list.append(element)\n",
    "    final = \"\".join([str(item) for item in element_list])\n",
    "    return final\n",
    "\n",
    "if __name__ == '__main__':\n",
    "    s = input()\n",
    "    result = swap_case(s)\n",
    "    print(result)"
   ]
  },
  {
   "cell_type": "code",
   "execution_count": null,
   "id": "87fdbfc5",
   "metadata": {},
   "outputs": [],
   "source": []
  }
 ],
 "metadata": {
  "kernelspec": {
   "display_name": "Python 3",
   "language": "python",
   "name": "python3"
  },
  "language_info": {
   "codemirror_mode": {
    "name": "ipython",
    "version": 3
   },
   "file_extension": ".py",
   "mimetype": "text/x-python",
   "name": "python",
   "nbconvert_exporter": "python",
   "pygments_lexer": "ipython3",
   "version": "3.8.8"
  }
 },
 "nbformat": 4,
 "nbformat_minor": 5
}
