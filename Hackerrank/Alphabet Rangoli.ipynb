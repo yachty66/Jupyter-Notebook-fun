{
 "cells": [
  {
   "cell_type": "code",
   "execution_count": 2,
   "id": "54419e81",
   "metadata": {},
   "outputs": [
    {
     "name": "stdout",
     "output_type": "stream",
     "text": [
      "6\n",
      "f-e-d-c-b-a-b-c-d-e-f\n",
      "f-e-d-c-b-c-d-e-f\n",
      "tets\n"
     ]
    }
   ],
   "source": [
    "#: A, B, C, D, E, F, G, H, I, J, K, L, M, N, O, P, Q, R, S, T, U, V, W, X, Y, Z.\n",
    "def print_rangoli(size):\n",
    "    size = size \n",
    "    alphabet = [\"a\",\"b\", \"c\", \"d\", \"e\", \"f\", \"g\", \"h\", \"i\", \"j\", \"k\", \"l\", \"m\", \"n\", \"o\", \"p\", \"q\", \"r\", \"s\", \"t\", \"u\", \"v\", \"w\", \"x\", \"y\", \"z\"]\n",
    "    for i in range(size):\n",
    "        if i <= size-1:\n",
    "            alphabet[i] = 1\n",
    "    for i in range(len(alphabet)):\n",
    "        if alphabet[i] != 1:\n",
    "            alphabet[i] = 0\n",
    "\n",
    "    print((\"z\"*alphabet[25]).ljust((alphabet[25]*2), \"-\")+(\"y\"*alphabet[24]).ljust((alphabet[24]*2), \"-\")+(\"x\"*alphabet[23]).ljust((alphabet[23]*2), \"-\")+(\"w\"*alphabet[22]).ljust((alphabet[22]*2), \"-\")+(\"v\"*alphabet[21]).ljust((alphabet[21]*2), \"-\")+(\"u\"*alphabet[20]).ljust((alphabet[20]*2), \"-\")+(\"t\"*alphabet[19]).ljust((alphabet[19]*2), \"-\")+(\"s\"*alphabet[18]).ljust((alphabet[18]*2), \"-\")+(\"r\"*alphabet[17]).ljust((alphabet[17]*2), \"-\")+(\"q\"*alphabet[16]).ljust((alphabet[16]*2), \"-\")+(\"p\"*alphabet[15]).ljust((alphabet[15]*2), \"-\")+(\"o\"*alphabet[14]).ljust((alphabet[14]*2), \"-\")+(\"n\"*alphabet[13]).ljust((alphabet[13]*2), \"-\")+(\"m\"*alphabet[12]).ljust((alphabet[12]*2), \"-\")+(\"l\"*alphabet[11]).ljust((alphabet[11]*2), \"-\")+(\"k\"*alphabet[10]).ljust((alphabet[10]*2), \"-\")+(\"j\"*alphabet[9]).ljust((alphabet[9]*2), \"-\")+(\"i\"*alphabet[8]).ljust((alphabet[8]*2), \"-\")+(\"h\"*alphabet[7]).ljust((alphabet[7]*2), \"-\")+(\"g\"*alphabet[6]).ljust((alphabet[6]*2), \"-\")+(\"f\"*alphabet[5]).ljust((alphabet[5]*2), \"-\")+(\"e\"*alphabet[4]).ljust((alphabet[4]*2), \"-\")+(\"d\"*alphabet[3]).ljust((alphabet[3]*2), \"-\")+(\"c\"*alphabet[2]).ljust((alphabet[2]*2), \"-\")+(\"b\"*alphabet[1]).ljust((alphabet[1]*2), \"-\")+(\"a\"*alphabet[0]).center((0), \"-\")+(\"b\"*alphabet[1]).rjust((alphabet[1]*2), \"-\")+(\"c\"*alphabet[2]).rjust((alphabet[2]*2), \"-\")+(\"d\"*alphabet[3]).rjust((alphabet[3]*2), \"-\")+(\"e\"*alphabet[4]).rjust((alphabet[4]*2), \"-\")+(\"f\"*alphabet[5]).rjust((alphabet[5]*2), \"-\")+(\"g\"*alphabet[6]).rjust((alphabet[6]*2), \"-\")+(\"h\"*alphabet[7]).rjust((alphabet[7]*2), \"-\")+(\"i\"*alphabet[8]).rjust((alphabet[8]*2), \"-\")+(\"j\"*alphabet[9]).rjust((alphabet[9]*2), \"-\")+(\"k\"*alphabet[10]).rjust((alphabet[10]*2), \"-\")+(\"l\"*alphabet[11]).rjust((alphabet[11]*2), \"-\")+(\"m\"*alphabet[12]).rjust((alphabet[12]*2), \"-\")+(\"n\"*alphabet[13]).rjust((alphabet[13]*2), \"-\")+(\"o\"*alphabet[14]).rjust((alphabet[14]*2), \"-\")+(\"p\"*alphabet[15]).rjust((alphabet[15]*2), \"-\")+(\"q\"*alphabet[16]).rjust((alphabet[16]*2), \"-\")+(\"r\"*alphabet[17]).rjust((alphabet[17]*2), \"-\")+(\"s\"*alphabet[18]).rjust((alphabet[18]*2), \"-\")+(\"t\"*alphabet[19]).rjust((alphabet[19]*2), \"-\")+(\"u\"*alphabet[20]).rjust((alphabet[20]*2), \"-\")+(\"v\"*alphabet[21]).rjust((alphabet[21]*2), \"-\")+(\"w\"*alphabet[22]).rjust((alphabet[22]*2), \"-\")+(\"x\"*alphabet[23]).rjust((alphabet[23]*2), \"-\")+(\"y\"*alphabet[24]).rjust((alphabet[24]*2), \"-\")+(\"z\"*alphabet[25]).rjust((alphabet[25]*2), \"-\")\n",
    "    +\"\\n\"+(\"z\"*alphabet[25]).ljust((alphabet[25]*2), \"-\")+(\"y\"*alphabet[24]).ljust((alphabet[24]*2), \"-\")+(\"x\"*alphabet[23]).ljust((alphabet[23]*2), \"-\")+(\"w\"*alphabet[22]).ljust((alphabet[22]*2), \"-\")+(\"v\"*alphabet[21]).ljust((alphabet[21]*2), \"-\")+(\"u\"*alphabet[20]).ljust((alphabet[20]*2), \"-\")+(\"t\"*alphabet[19]).ljust((alphabet[19]*2), \"-\")+(\"s\"*alphabet[18]).ljust((alphabet[18]*2), \"-\")+(\"r\"*alphabet[17]).ljust((alphabet[17]*2), \"-\")+(\"q\"*alphabet[16]).ljust((alphabet[16]*2), \"-\")+(\"p\"*alphabet[15]).ljust((alphabet[15]*2), \"-\")+(\"o\"*alphabet[14]).ljust((alphabet[14]*2), \"-\")+(\"n\"*alphabet[13]).ljust((alphabet[13]*2), \"-\")+(\"m\"*alphabet[12]).ljust((alphabet[12]*2), \"-\")+(\"l\"*alphabet[11]).ljust((alphabet[11]*2), \"-\")+(\"k\"*alphabet[10]).ljust((alphabet[10]*2), \"-\")+(\"j\"*alphabet[9]).ljust((alphabet[9]*2), \"-\")+(\"i\"*alphabet[8]).ljust((alphabet[8]*2), \"-\")+(\"h\"*alphabet[7]).ljust((alphabet[7]*2), \"-\")+(\"g\"*alphabet[6]).ljust((alphabet[6]*2), \"-\")+(\"f\"*alphabet[5]).ljust((alphabet[5]*2), \"-\")+(\"e\"*alphabet[4]).ljust((alphabet[4]*2), \"-\")+(\"d\"*alphabet[3]).ljust((alphabet[3]*2), \"-\")+(\"c\"*alphabet[2]).ljust((alphabet[2]*2), \"-\")+(\"b\"*alphabet[1]).center((alphabet[1]*0), \"-\")+(\"c\"*alphabet[2]).rjust((alphabet[2]*2), \"-\")+(\"d\"*alphabet[3]).rjust((alphabet[3]*2), \"-\")+(\"e\"*alphabet[4]).rjust((alphabet[4]*2), \"-\")+(\"f\"*alphabet[5]).rjust((alphabet[5]*2), \"-\")+(\"g\"*alphabet[6]).rjust((alphabet[6]*2), \"-\")+(\"h\"*alphabet[7]).rjust((alphabet[7]*2), \"-\")+(\"i\"*alphabet[8]).rjust((alphabet[8]*2), \"-\")+(\"j\"*alphabet[9]).rjust((alphabet[9]*2), \"-\")+(\"k\"*alphabet[10]).rjust((alphabet[10]*2), \"-\")+(\"l\"*alphabet[11]).rjust((alphabet[11]*2), \"-\")+(\"m\"*alphabet[12]).rjust((alphabet[12]*2), \"-\")+(\"n\"*alphabet[13]).rjust((alphabet[13]*2), \"-\")+(\"o\"*alphabet[14]).rjust((alphabet[14]*2), \"-\")+(\"p\"*alphabet[15]).rjust((alphabet[15]*2), \"-\")+(\"q\"*alphabet[16]).rjust((alphabet[16]*2), \"-\")+(\"r\"*alphabet[17]).rjust((alphabet[17]*2), \"-\")+(\"s\"*alphabet[18]).rjust((alphabet[18]*2), \"-\")+(\"t\"*alphabet[19]).rjust((alphabet[19]*2), \"-\")+(\"u\"*alphabet[20]).rjust((alphabet[20]*2), \"-\")+(\"v\"*alphabet[21]).rjust((alphabet[21]*2), \"-\")+(\"w\"*alphabet[22]).rjust((alphabet[22]*2), \"-\")+(\"x\"*alphabet[23]).rjust((alphabet[23]*2), \"-\")+(\"y\"*alphabet[24]).rjust((alphabet[24]*2), \"-\")+(\"z\"*alphabet[25]).rjust((alphabet[25]*2), \"-\")\n",
    "    +\"\\n\"+\"tets\")\n",
    "    \n",
    "    #der letzte Buchstabe muss immer \n",
    "        \n",
    "          \n",
    "         \n",
    "\n",
    "    #a=\"a\"\n",
    "    #print(a.center(3, \"-\"))\n",
    "    # your code goes here\n",
    "\n",
    "#wenn size * 2\n",
    "if __name__ == '__main__':\n",
    "    n = int(input())\n",
    "    print_rangoli(n)"
   ]
  },
  {
   "cell_type": "code",
   "execution_count": 22,
   "id": "2c62a4dc",
   "metadata": {},
   "outputs": [
    {
     "name": "stdout",
     "output_type": "stream",
     "text": [
      "e-d-c-b-a-b-c-d-e\n",
      "--e-d-c-b-c-d-e--\n"
     ]
    }
   ],
   "source": [
    "\n",
    "print((e*i)center(3, \"-\")+(d*i).center(3, \"-\")+(c*i).center(2, \"-\")-c-b-a-b-c-d-e\"\n"
   ]
  },
  {
   "cell_type": "code",
   "execution_count": 27,
   "id": "93c665f5",
   "metadata": {},
   "outputs": [
    {
     "name": "stdout",
     "output_type": "stream",
     "text": [
      "[1, 1, 1, 1, 0, 0]\n"
     ]
    }
   ],
   "source": [
    "a=[1,1,1,1,\"w\", \"e\"]\n",
    "for i in range(len(a)):\n",
    "    if a[i] != 1:\n",
    "        a[i] = 0\n",
    "   \n",
    "print(a)"
   ]
  },
  {
   "cell_type": "code",
   "execution_count": 46,
   "id": "4e392ea9",
   "metadata": {},
   "outputs": [
    {
     "name": "stdout",
     "output_type": "stream",
     "text": [
      "-w\n"
     ]
    }
   ],
   "source": [
    "print(\"w\".rjust(2, \"-\"))"
   ]
  },
  {
   "cell_type": "code",
   "execution_count": 71,
   "id": "bb1dc971",
   "metadata": {},
   "outputs": [
    {
     "name": "stdout",
     "output_type": "stream",
     "text": [
      "z-\n",
      "test\n"
     ]
    }
   ],
   "source": [
    "print((\"z\"*1).ljust((1*2), \"-\")+\"\\n\"+\"test\")"
   ]
  },
  {
   "cell_type": "code",
   "execution_count": null,
   "id": "0e45538d",
   "metadata": {},
   "outputs": [],
   "source": []
  }
 ],
 "metadata": {
  "kernelspec": {
   "display_name": "Python 3",
   "language": "python",
   "name": "python3"
  },
  "language_info": {
   "codemirror_mode": {
    "name": "ipython",
    "version": 3
   },
   "file_extension": ".py",
   "mimetype": "text/x-python",
   "name": "python",
   "nbconvert_exporter": "python",
   "pygments_lexer": "ipython3",
   "version": "3.8.8"
  }
 },
 "nbformat": 4,
 "nbformat_minor": 5
}
