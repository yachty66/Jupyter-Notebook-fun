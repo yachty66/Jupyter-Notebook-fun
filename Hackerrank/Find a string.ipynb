{
 "cells": [
  {
   "cell_type": "code",
   "execution_count": 12,
   "id": "e8921a69",
   "metadata": {},
   "outputs": [
    {
     "name": "stdout",
     "output_type": "stream",
     "text": [
      "BlUeBe1Bl*fjal9jkl\n",
      "Bl\n",
      "2\n"
     ]
    }
   ],
   "source": [
    "def count_substring(string, sub_string):\n",
    "    var = \"$\"  \n",
    "    string_list = []\n",
    "    found = 0\n",
    "    counter = 0\n",
    "    new_string = string\n",
    "    while True:\n",
    "        #finde startindex von substring\n",
    "        found = new_string.find(sub_string)\n",
    "        if found == -1:\n",
    "            break\n",
    "        counter += 1\n",
    "        #print(counter)\n",
    "        #print(found)\n",
    "        #verwandle string zu liste\n",
    "        for character in new_string:\n",
    "            string_list.append(character)\n",
    "        #ersetze item in der liste an index wo ich anfang von substring gefunden habe    \n",
    "        string_list[found] = var\n",
    "        #verwandle lsite wieder zu string\n",
    "        new_string = \"\".join(string_list)\n",
    "        string_list.clear()\n",
    "        #print(new_string)\n",
    "        #erhoehe counter um 1\n",
    "    return counter\n",
    "\n",
    "if __name__ == '__main__':\n",
    "    string = input().strip()\n",
    "    sub_string = input().strip()\n",
    "    count = count_substring(string, sub_string)\n",
    "    print(count)\n",
    "    \n",
    "#solution --> check string with find and if I find something - change the index at this position and apply again the find method\n",
    "\n",
    "    "
   ]
  },
  {
   "cell_type": "code",
   "execution_count": 8,
   "id": "a6779dbf",
   "metadata": {},
   "outputs": [
    {
     "data": {
      "text/plain": [
       "-1"
      ]
     },
     "execution_count": 8,
     "metadata": {},
     "output_type": "execute_result"
    }
   ],
   "source": [
    "st = \"$lUeBe1$l*fjal9jkl\"\n",
    "st.find(\"Bl\")"
   ]
  },
  {
   "cell_type": "code",
   "execution_count": 12,
   "id": "fe4ec0f4",
   "metadata": {},
   "outputs": [
    {
     "name": "stdout",
     "output_type": "stream",
     "text": [
      "EXAMPLE\n"
     ]
    }
   ],
   "source": [
    "\n",
    "original = \"EXAMMPLE\"\n",
    "removed = original.replace(\"M\", \"\", 1)\n",
    "print(removed)"
   ]
  },
  {
   "cell_type": "code",
   "execution_count": 17,
   "id": "c8fc3ea9",
   "metadata": {},
   "outputs": [
    {
     "name": "stdout",
     "output_type": "stream",
     "text": [
      "0\n"
     ]
    }
   ],
   "source": [
    "original = \"EXAMMPLE\"\n",
    "print(original.find(\"E\"))\n",
    "\n",
    " string = string.replace(sub_string[0], var, 1)"
   ]
  },
  {
   "cell_type": "code",
   "execution_count": 20,
   "id": "2d4f26f8",
   "metadata": {},
   "outputs": [
    {
     "name": "stdout",
     "output_type": "stream",
     "text": [
      "Ballo\n"
     ]
    }
   ],
   "source": [
    "sring = \"hallo\"\n",
    "liste = [\"h\",\"a\",\"l\",\"l\",\"o\"]\n",
    "liste[0]=\"B\"\n",
    "sring = \"\".join(liste)\n",
    "print (sring)\n",
    "\n",
    "    "
   ]
  },
  {
   "cell_type": "code",
   "execution_count": null,
   "id": "36dfb75f",
   "metadata": {},
   "outputs": [],
   "source": []
  }
 ],
 "metadata": {
  "kernelspec": {
   "display_name": "Python 3",
   "language": "python",
   "name": "python3"
  },
  "language_info": {
   "codemirror_mode": {
    "name": "ipython",
    "version": 3
   },
   "file_extension": ".py",
   "mimetype": "text/x-python",
   "name": "python",
   "nbconvert_exporter": "python",
   "pygments_lexer": "ipython3",
   "version": "3.8.8"
  }
 },
 "nbformat": 4,
 "nbformat_minor": 5
}
