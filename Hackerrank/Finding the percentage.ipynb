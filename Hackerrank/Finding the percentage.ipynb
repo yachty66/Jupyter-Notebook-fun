{
 "cells": [
  {
   "cell_type": "code",
   "execution_count": 10,
   "id": "10d5d389",
   "metadata": {},
   "outputs": [
    {
     "name": "stdout",
     "output_type": "stream",
     "text": [
      "1\n",
      "Malika 52 56 60\n",
      "Malika\n",
      "56.0\n"
     ]
    }
   ],
   "source": [
    "if __name__ == '__main__':\n",
    "    n = int(input())\n",
    "    #dict with student and scores\n",
    "    student_marks = {}\n",
    "    for _ in range(n):\n",
    "        name, *line = input().split()\n",
    "        scores = list(map(float, line))\n",
    "        student_marks[name] = scores\n",
    "    query_name = input()\n",
    "    \n",
    "    #print(student_marks)\n",
    "    #I need to print the average of the scores from the query_name student\n",
    "    \n",
    "    #iterate trough dict keys\n",
    "    #if key equals query_name put the values in a list\n",
    "    #calculate the average from the list\n",
    "    #print the result\n",
    "    for key, value in student_marks.items():\n",
    "        if key == query_name:\n",
    "            values_for_average = value\n",
    "             \n",
    "    result = sum(values_for_average)/len(values_for_average)\n",
    "    print(\"%.2f\" %result)"
   ]
  },
  {
   "cell_type": "code",
   "execution_count": 7,
   "id": "ded1bb92",
   "metadata": {},
   "outputs": [
    {
     "name": "stdout",
     "output_type": "stream",
     "text": [
      "3\n"
     ]
    }
   ],
   "source": [
    "num = [1,2]\n",
    "print(sum(num))"
   ]
  },
  {
   "cell_type": "code",
   "execution_count": 12,
   "id": "b6fc47f4",
   "metadata": {},
   "outputs": [
    {
     "name": "stdout",
     "output_type": "stream",
     "text": [
      "3.40\n"
     ]
    }
   ],
   "source": [
    "num = 3.4\n",
    "print(\"%.2f\" %num)"
   ]
  },
  {
   "cell_type": "code",
   "execution_count": null,
   "id": "afc10fd6",
   "metadata": {},
   "outputs": [],
   "source": []
  }
 ],
 "metadata": {
  "kernelspec": {
   "display_name": "Python 3",
   "language": "python",
   "name": "python3"
  },
  "language_info": {
   "codemirror_mode": {
    "name": "ipython",
    "version": 3
   },
   "file_extension": ".py",
   "mimetype": "text/x-python",
   "name": "python",
   "nbconvert_exporter": "python",
   "pygments_lexer": "ipython3",
   "version": "3.8.8"
  }
 },
 "nbformat": 4,
 "nbformat_minor": 5
}
