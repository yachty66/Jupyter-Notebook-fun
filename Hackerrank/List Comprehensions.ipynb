{
 "cells": [
  {
   "cell_type": "code",
   "execution_count": 4,
   "id": "e00f5ac8",
   "metadata": {},
   "outputs": [
    {
     "name": "stdout",
     "output_type": "stream",
     "text": [
      "1\n",
      "2\n",
      "3\n",
      "4\n",
      "[[0, 0, 0], [0, 0, 1], [0, 0, 2], [0, 0, 3], [0, 1, 0], [0, 1, 1], [0, 1, 2], [0, 2, 0], [0, 2, 1], [0, 2, 3], [1, 0, 0], [1, 0, 1], [1, 0, 2], [1, 1, 0], [1, 1, 1], [1, 1, 3], [1, 2, 0], [1, 2, 2], [1, 2, 3]]\n",
      "0\n",
      "1\n",
      "2\n",
      "3\n",
      "4\n",
      "5\n",
      "6\n",
      "7\n",
      "8\n"
     ]
    }
   ],
   "source": [
    "if __name__ == '__main__':\n",
    "    x = int(input())\n",
    "    y = int(input())\n",
    "    z = int(input())\n",
    "    n = int(input())\n",
    "    result = []\n",
    "    #do this but jsut if the sum is != n\n",
    "    #if done with one round increase every value with one until it doesn't go any further\n",
    "    #durch 3 schleifen durchlaufen lassen und wenn eine Schleife an maximum x,y,z gestoßen ist den ersten wert in der nächsten schleife jeweils um eins erhöhen\n",
    "    print ([[a,b,c] for a in range(x+1) for b in range(y+1) for c in range(z+1) if a + b + c != n ])\n",
    "    # ListOfThreeMultiples = [x for x in range(x,y,z) if x + y +z != n] # Multiples of 3 below 10\n",
    "    for i in range (9):\n",
    "        print (i)\n",
    " "
   ]
  },
  {
   "cell_type": "code",
   "execution_count": 6,
   "id": "69dcdb4f",
   "metadata": {},
   "outputs": [
    {
     "name": "stdout",
     "output_type": "stream",
     "text": [
      "1\n",
      "1\n",
      "1\n",
      "2\n",
      "[[0, 0, 0], [0, 0, 1], [0, 1, 0], [0, 1, 1], [1, 0, 0], [1, 0, 1], [1, 1, 0], [1, 1, 1]]\n",
      "0\n",
      "1\n",
      "2\n",
      "3\n",
      "4\n",
      "5\n",
      "6\n",
      "7\n",
      "8\n"
     ]
    }
   ],
   "source": [
    "if __name__ == '__main__':\n",
    "    x = int(input())\n",
    "    y = int(input())\n",
    "    z = int(input())\n",
    "    n = int(input())\n",
    "    result = []\n",
    "    #do this but jsut if the sum is != n\n",
    "    #if done with one round increase every value with one until it doesn't go any further\n",
    "    #durch 3 schleifen durchlaufen lassen und wenn eine Schleife an maximum x,y,z gestoßen ist den ersten wert in der nächsten schleife jeweils um eins erhöhen\n",
    "    print ([[a,b,c] for a in range(0,x+1) for b in range(0,y+1) for c in range(0,z+1)])\n",
    "    # ListOfThreeMultiples = [x for x in range(x,y,z) if x + y +z != n] # Multiples of 3 below 10\n",
    "    for i in range (9):\n",
    "        print (i)\n",
    " "
   ]
  },
  {
   "cell_type": "code",
   "execution_count": null,
   "id": "12a65f90",
   "metadata": {},
   "outputs": [],
   "source": []
  }
 ],
 "metadata": {
  "kernelspec": {
   "display_name": "Python 3",
   "language": "python",
   "name": "python3"
  },
  "language_info": {
   "codemirror_mode": {
    "name": "ipython",
    "version": 3
   },
   "file_extension": ".py",
   "mimetype": "text/x-python",
   "name": "python",
   "nbconvert_exporter": "python",
   "pygments_lexer": "ipython3",
   "version": "3.8.8"
  }
 },
 "nbformat": 4,
 "nbformat_minor": 5
}
