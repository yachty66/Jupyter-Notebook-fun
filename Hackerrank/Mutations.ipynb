{
 "cells": [
  {
   "cell_type": "code",
   "execution_count": 12,
   "id": "6337da5b",
   "metadata": {},
   "outputs": [
    {
     "name": "stdout",
     "output_type": "stream",
     "text": [
      "Halo\n",
      "1 k\n",
      "Hklo\n"
     ]
    }
   ],
   "source": [
    "def mutate_string(string, position, character):\n",
    "    string_list = []\n",
    "    for i in string:\n",
    "        string_list.append(i)\n",
    "    string_list[position] = character\n",
    "    result = \"\".join(string_list)\n",
    "    return result\n",
    "\n",
    "if __name__ == '__main__':\n",
    "    s = input()\n",
    "    i, c = input().split()\n",
    "    s_new = mutate_string(s, int(i), c)\n",
    "    print(s_new)"
   ]
  },
  {
   "cell_type": "code",
   "execution_count": 10,
   "id": "82d6bb67",
   "metadata": {},
   "outputs": [
    {
     "name": "stdout",
     "output_type": "stream",
     "text": [
      "['h', 'a', 'l', 'l', 'o']\n",
      "hallo\n"
     ]
    }
   ],
   "source": [
    "String = \"hallo\"\n",
    "l = []\n",
    "for i in String:\n",
    "    l.append(i)\n",
    "    \n",
    "print(l)\n",
    "m=\"\".join(l)\n",
    "print(m)"
   ]
  },
  {
   "cell_type": "code",
   "execution_count": null,
   "id": "53b75421",
   "metadata": {},
   "outputs": [],
   "source": []
  }
 ],
 "metadata": {
  "kernelspec": {
   "display_name": "Python 3",
   "language": "python",
   "name": "python3"
  },
  "language_info": {
   "codemirror_mode": {
    "name": "ipython",
    "version": 3
   },
   "file_extension": ".py",
   "mimetype": "text/x-python",
   "name": "python",
   "nbconvert_exporter": "python",
   "pygments_lexer": "ipython3",
   "version": "3.8.8"
  }
 },
 "nbformat": 4,
 "nbformat_minor": 5
}
