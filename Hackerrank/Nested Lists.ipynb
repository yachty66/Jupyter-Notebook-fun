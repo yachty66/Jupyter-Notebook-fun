{
 "cells": [
  {
   "cell_type": "code",
   "execution_count": 31,
   "id": "0b1416fd",
   "metadata": {},
   "outputs": [
    {
     "name": "stdout",
     "output_type": "stream",
     "text": [
      "3\n",
      "Max\n",
      "40\n",
      "Jenny\n",
      "40\n",
      "Mark \n",
      "50\n",
      "['Max', 40.0, 'Jenny', 40.0, 'Mark ', 50.0]\n",
      "Jenny\n",
      "Max\n"
     ]
    }
   ],
   "source": [
    "if __name__ == '__main__':\n",
    "    name_list = []\n",
    "    scores = []\n",
    "    scores_without_duplicate = []\n",
    "    records = []\n",
    "    for _ in range(int(input())):\n",
    "        name = input()\n",
    "        score = float(input())\n",
    "        #save inputs in a nested listf\n",
    "        name_list.append(name)\n",
    "        name_list.append(score)\n",
    "        scores.append(score)\n",
    "    #name_list muss in records eingefügt werden\n",
    "    #take always two elements and put them into records \n",
    "    #create nested list of collected input\n",
    "    records=[name_list[i: i + 2] for i in range(0, len(name_list), 2)]\n",
    "    \n",
    "    #names and grades from every student are given \n",
    "    #print students with second lowest grade\n",
    "    #if students have same grade sort alphabetically and print names in new line\n",
    "    \n",
    "    #make a list with scores\n",
    "    #remove duplicates\n",
    "    #remove the min value\n",
    "    #take the min value\n",
    "    for i in scores:\n",
    "        if i not in scores_without_duplicate:\n",
    "            scores_without_duplicate.append(i)\n",
    "         \n",
    "    scores_without_duplicate.remove(min(scores_without_duplicate))\n",
    "    second_highest_score = min(scores_without_duplicate)\n",
    "    \n",
    "    #print(\"The second highest score is: \" + str(second_highest_score))\n",
    "\n",
    "    #create list with all stundents which have this score\n",
    "    #loop trough records\n",
    "    #print(records)\n",
    "    final_names = []\n",
    "    for inner in records:\n",
    "        for value in records:\n",
    "            if inner[1] == second_highest_score:\n",
    "                final_names.append(inner[0])\n",
    "                \n",
    "    #print(\"List of students with second highest grade: \")\n",
    "    #print(final_names)\n",
    "    \n",
    "    #sort final_names alphabetically\n",
    "    #remove duplicates from final_names\n",
    "    #use sorted(lst, key=str.lower)\n",
    "    #result should printed in newline\n",
    "    final_names_without_duplicates = []\n",
    "    for element in final_names:\n",
    "        if element not in final_names_without_duplicates:\n",
    "            final_names_without_duplicates.append(element)\n",
    "    result = sorted(final_names_without_duplicates, key=str.lower)\n",
    "    for element in result:\n",
    "        print(element)\n",
    "            \n",
    "    \n",
    "\n",
    "       \n",
    "        \n",
    "        \n",
    "        \n",
    "        "
   ]
  }
 ],
 "metadata": {
  "kernelspec": {
   "display_name": "Python 3",
   "language": "python",
   "name": "python3"
  },
  "language_info": {
   "codemirror_mode": {
    "name": "ipython",
    "version": 3
   },
   "file_extension": ".py",
   "mimetype": "text/x-python",
   "name": "python",
   "nbconvert_exporter": "python",
   "pygments_lexer": "ipython3",
   "version": "3.8.8"
  }
 },
 "nbformat": 4,
 "nbformat_minor": 5
}
