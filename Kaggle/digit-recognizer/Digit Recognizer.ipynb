{
 "cells": [
  {
   "cell_type": "code",
   "execution_count": 2,
   "id": "64419249",
   "metadata": {},
   "outputs": [
    {
     "name": "stdout",
     "output_type": "stream",
     "text": [
      "Collecting package metadata (current_repodata.json): done\n",
      "Solving environment: done\n",
      "\n",
      "## Package Plan ##\n",
      "\n",
      "  environment location: /Users/maxhager/opt/anaconda3\n",
      "\n",
      "  added / updated specs:\n",
      "    - pytorch\n",
      "    - torchvision\n",
      "\n",
      "\n",
      "The following packages will be downloaded:\n",
      "\n",
      "    package                    |            build\n",
      "    ---------------------------|-----------------\n",
      "    conda-4.10.3               |   py38hecd8cb5_0         2.9 MB\n",
      "    ffmpeg-4.3                 |       h0a44026_0        10.1 MB  pytorch\n",
      "    gnutls-3.6.15              |       hed9c0bf_0         974 KB\n",
      "    lame-3.100                 |       h1de35cc_0         316 KB\n",
      "    libidn2-2.3.2              |       h9ed2024_0          85 KB\n",
      "    libtasn1-4.16.0            |       h9ed2024_0          53 KB\n",
      "    libunistring-0.9.10        |       h9ed2024_0         519 KB\n",
      "    nettle-3.7.3               |       h230ac6f_1         380 KB\n",
      "    openh264-2.1.0             |       hd9629dc_0         635 KB\n",
      "    pytorch-1.10.0             |          py3.8_0        97.8 MB  pytorch\n",
      "    torchvision-0.11.1         |         py38_cpu         7.0 MB  pytorch\n",
      "    ------------------------------------------------------------\n",
      "                                           Total:       120.7 MB\n",
      "\n",
      "The following NEW packages will be INSTALLED:\n",
      "\n",
      "  ffmpeg             pytorch/osx-64::ffmpeg-4.3-h0a44026_0\n",
      "  gnutls             pkgs/main/osx-64::gnutls-3.6.15-hed9c0bf_0\n",
      "  lame               pkgs/main/osx-64::lame-3.100-h1de35cc_0\n",
      "  libidn2            pkgs/main/osx-64::libidn2-2.3.2-h9ed2024_0\n",
      "  libtasn1           pkgs/main/osx-64::libtasn1-4.16.0-h9ed2024_0\n",
      "  libunistring       pkgs/main/osx-64::libunistring-0.9.10-h9ed2024_0\n",
      "  nettle             pkgs/main/osx-64::nettle-3.7.3-h230ac6f_1\n",
      "  openh264           pkgs/main/osx-64::openh264-2.1.0-hd9629dc_0\n",
      "  pytorch            pytorch/osx-64::pytorch-1.10.0-py3.8_0\n",
      "  torchvision        pytorch/osx-64::torchvision-0.11.1-py38_cpu\n",
      "\n",
      "The following packages will be UPDATED:\n",
      "\n",
      "  conda                               4.10.1-py38hecd8cb5_1 --> 4.10.3-py38hecd8cb5_0\n",
      "\n",
      "\n",
      "\n",
      "Downloading and Extracting Packages\n",
      "pytorch-1.10.0       | 97.8 MB   | ##################################### | 100% \n",
      "libtasn1-4.16.0      | 53 KB     | ##################################### | 100% \n",
      "openh264-2.1.0       | 635 KB    | ##################################### | 100% \n",
      "torchvision-0.11.1   | 7.0 MB    | ##################################### | 100% \n",
      "libidn2-2.3.2        | 85 KB     | ##################################### | 100% \n",
      "ffmpeg-4.3           | 10.1 MB   | ##################################### | 100% \n",
      "lame-3.100           | 316 KB    | ##################################### | 100% \n",
      "conda-4.10.3         | 2.9 MB    | ##################################### | 100% \n",
      "libunistring-0.9.10  | 519 KB    | ##################################### | 100% \n",
      "gnutls-3.6.15        | 974 KB    | ##################################### | 100% \n",
      "nettle-3.7.3         | 380 KB    | ##################################### | 100% \n",
      "Preparing transaction: done\n",
      "Verifying transaction: done\n",
      "Executing transaction: done\n",
      "\n",
      "Note: you may need to restart the kernel to use updated packages.\n"
     ]
    }
   ],
   "source": [
    "conda install pytorch torchvision -c pytorch"
   ]
  },
  {
   "cell_type": "code",
   "execution_count": 2,
   "id": "7412f14b",
   "metadata": {},
   "outputs": [
    {
     "name": "stdout",
     "output_type": "stream",
     "text": [
      "Collecting scikit-plot\n",
      "  Downloading scikit_plot-0.3.7-py3-none-any.whl (33 kB)\n",
      "Requirement already satisfied: matplotlib>=1.4.0 in /Users/maxhager/opt/anaconda3/lib/python3.8/site-packages (from scikit-plot) (3.3.4)\n",
      "Requirement already satisfied: joblib>=0.10 in /Users/maxhager/opt/anaconda3/lib/python3.8/site-packages (from scikit-plot) (1.0.1)\n",
      "Requirement already satisfied: scipy>=0.9 in /Users/maxhager/opt/anaconda3/lib/python3.8/site-packages (from scikit-plot) (1.6.2)\n",
      "Requirement already satisfied: scikit-learn>=0.18 in /Users/maxhager/opt/anaconda3/lib/python3.8/site-packages (from scikit-plot) (1.0.1)\n",
      "Requirement already satisfied: kiwisolver>=1.0.1 in /Users/maxhager/opt/anaconda3/lib/python3.8/site-packages (from matplotlib>=1.4.0->scikit-plot) (1.3.1)\n",
      "Requirement already satisfied: cycler>=0.10 in /Users/maxhager/opt/anaconda3/lib/python3.8/site-packages (from matplotlib>=1.4.0->scikit-plot) (0.10.0)\n",
      "Requirement already satisfied: pillow>=6.2.0 in /Users/maxhager/opt/anaconda3/lib/python3.8/site-packages (from matplotlib>=1.4.0->scikit-plot) (8.2.0)\n",
      "Requirement already satisfied: python-dateutil>=2.1 in /Users/maxhager/opt/anaconda3/lib/python3.8/site-packages (from matplotlib>=1.4.0->scikit-plot) (2.8.1)\n",
      "Requirement already satisfied: pyparsing!=2.0.4,!=2.1.2,!=2.1.6,>=2.0.3 in /Users/maxhager/opt/anaconda3/lib/python3.8/site-packages (from matplotlib>=1.4.0->scikit-plot) (2.4.7)\n",
      "Requirement already satisfied: numpy>=1.15 in /Users/maxhager/opt/anaconda3/lib/python3.8/site-packages (from matplotlib>=1.4.0->scikit-plot) (1.20.1)\n",
      "Requirement already satisfied: threadpoolctl>=2.0.0 in /Users/maxhager/opt/anaconda3/lib/python3.8/site-packages (from scikit-learn>=0.18->scikit-plot) (2.1.0)\n",
      "Requirement already satisfied: six in /Users/maxhager/opt/anaconda3/lib/python3.8/site-packages (from cycler>=0.10->matplotlib>=1.4.0->scikit-plot) (1.15.0)\n",
      "Installing collected packages: scikit-plot\n",
      "Successfully installed scikit-plot-0.3.7\n",
      "Note: you may need to restart the kernel to use updated packages.\n"
     ]
    }
   ],
   "source": [
    "pip install scikit-plot"
   ]
  },
  {
   "cell_type": "code",
   "execution_count": 25,
   "id": "b79c395b",
   "metadata": {},
   "outputs": [],
   "source": [
    "import torch #core package of Torch\n",
    "import torch.nn as nn #nn is used for building neural networks (makes sense - nested functions..\n",
    "import torch.nn.functional as F #contains all teh functions in the libray\n",
    "\n",
    "from sklearn.model_selection import train_test_split\n",
    "import scikitplot as skplt\n",
    "\n",
    "import pandas as pd\n",
    "import numpy as np\n",
    "import matplotlib.pyplot as plt"
   ]
  },
  {
   "cell_type": "code",
   "execution_count": 26,
   "id": "42bb71f4",
   "metadata": {},
   "outputs": [
    {
     "name": "stdout",
     "output_type": "stream",
     "text": [
      "shape: (42000, 785)\n",
      "shape: (28000, 784)\n"
     ]
    }
   ],
   "source": [
    "#read data \n",
    "train = pd.read_csv(\"/Users/maxhager/Jupyter-Notebook-fun/Kaggle/digit-recognizer/train.csv\")\n",
    "test = pd.read_csv(\"/Users/maxhager/Jupyter-Notebook-fun/Kaggle/digit-recognizer/test.csv\")\n",
    "\n",
    "#checking data\n",
    "print(\"shape:\", train.shape) #42k rows with each 28x28 integer values between 0-255 (darkness or lightness (greyscale)) - first integer is the digit\n",
    "print(\"shape:\", test.shape) #doesnt contain the digit integer"
   ]
  },
  {
   "cell_type": "code",
   "execution_count": 27,
   "id": "e7af0532",
   "metadata": {},
   "outputs": [
    {
     "name": "stdout",
     "output_type": "stream",
     "text": [
      "       label  pixel0  pixel1  pixel2  pixel3  pixel4  pixel5  pixel6  pixel7  \\\n",
      "0          1       0       0       0       0       0       0       0       0   \n",
      "1          0       0       0       0       0       0       0       0       0   \n",
      "2          1       0       0       0       0       0       0       0       0   \n",
      "3          4       0       0       0       0       0       0       0       0   \n",
      "4          0       0       0       0       0       0       0       0       0   \n",
      "...      ...     ...     ...     ...     ...     ...     ...     ...     ...   \n",
      "41995      0       0       0       0       0       0       0       0       0   \n",
      "41996      1       0       0       0       0       0       0       0       0   \n",
      "41997      7       0       0       0       0       0       0       0       0   \n",
      "41998      6       0       0       0       0       0       0       0       0   \n",
      "41999      9       0       0       0       0       0       0       0       0   \n",
      "\n",
      "       pixel8  ...  pixel774  pixel775  pixel776  pixel777  pixel778  \\\n",
      "0           0  ...         0         0         0         0         0   \n",
      "1           0  ...         0         0         0         0         0   \n",
      "2           0  ...         0         0         0         0         0   \n",
      "3           0  ...         0         0         0         0         0   \n",
      "4           0  ...         0         0         0         0         0   \n",
      "...       ...  ...       ...       ...       ...       ...       ...   \n",
      "41995       0  ...         0         0         0         0         0   \n",
      "41996       0  ...         0         0         0         0         0   \n",
      "41997       0  ...         0         0         0         0         0   \n",
      "41998       0  ...         0         0         0         0         0   \n",
      "41999       0  ...         0         0         0         0         0   \n",
      "\n",
      "       pixel779  pixel780  pixel781  pixel782  pixel783  \n",
      "0             0         0         0         0         0  \n",
      "1             0         0         0         0         0  \n",
      "2             0         0         0         0         0  \n",
      "3             0         0         0         0         0  \n",
      "4             0         0         0         0         0  \n",
      "...         ...       ...       ...       ...       ...  \n",
      "41995         0         0         0         0         0  \n",
      "41996         0         0         0         0         0  \n",
      "41997         0         0         0         0         0  \n",
      "41998         0         0         0         0         0  \n",
      "41999         0         0         0         0         0  \n",
      "\n",
      "[42000 rows x 785 columns]\n"
     ]
    }
   ],
   "source": [
    "print(train)"
   ]
  },
  {
   "cell_type": "code",
   "execution_count": 28,
   "id": "cb2fc5b6",
   "metadata": {},
   "outputs": [],
   "source": [
    "train_all = train.iloc[:,1:] #features without label (just the 28x28 pixels per row)\n",
    "train_all_label = train[\"label\"] #labels\n",
    "\n",
    "train_all_numpy = train_all.to_numpy()\n",
    "train_all_label_numpy = train_all_label.to_numpy()\n",
    "test_numpy = test.to_numpy()"
   ]
  },
  {
   "cell_type": "code",
   "execution_count": 29,
   "id": "fcf891cf",
   "metadata": {},
   "outputs": [
    {
     "data": {
      "image/png": "[encoded data removed]",
      "text/plain": [
       "<Figure size 432x288 with 9 Axes>"
      ]
     },
     "metadata": {
      "needs_background": "light"
     },
     "output_type": "display_data"
    }
   ],
   "source": [
    "#showing some images (reconverting the range of integers into images - beautiful computers)\n",
    "def plot_img(data, label):\n",
    "    fig, axs = plt.subplots(3,3)\n",
    "    k = 0\n",
    "    for i in range(3):\n",
    "        for j in range(3):\n",
    "            axs[i, j].imshow(data[k].astype(\"uint8\").reshape(28, 28)) #plot image\n",
    "            axs[i, j].set_ylabel(\"label:\" + str(label[k].item())) #print label\n",
    "            k += 1\n",
    "plot_img(train_all_numpy, train_all_label_numpy)"
   ]
  },
  {
   "cell_type": "code",
   "execution_count": 30,
   "id": "6eb43f76",
   "metadata": {},
   "outputs": [
    {
     "name": "stdout",
     "output_type": "stream",
     "text": [
      "(29400, 784)\n",
      "(29400,)\n",
      "(12600, 784)\n",
      "(12600,)\n"
     ]
    }
   ],
   "source": [
    "#check differences in label prediction with different amount of test size  (0.2, 0.3)\n",
    "train, validation, train_label, validation_label = train_test_split(train_all_numpy, train_all_label_numpy, test_size=0.3)\n",
    "\n",
    "print(train.shape)\n",
    "print(train_label.shape)\n",
    "print(validation.shape)\n",
    "print(validation_label.shape)"
   ]
  },
  {
   "cell_type": "code",
   "execution_count": 31,
   "id": "64949716",
   "metadata": {},
   "outputs": [],
   "source": [
    "#for what needed?\n",
    "train_all_tensor = torch.as_tensor(train_all_numpy).type(torch.FloatTensor)\n",
    "train_all_label_tensor = torch.as_tensor(train_all_label_numpy)\n",
    "test_tensor = torch.as_tensor(test_numpy).type(torch.FloatTensor)\n",
    "\n",
    "train_tensor = torch.as_tensor(train).type(torch.FloatTensor)\n",
    "train_label = torch.as_tensor(train_label)\n",
    "\n",
    "validation_tensor = torch.as_tensor(validation).type(torch.FloatTensor)\n",
    "validation_label = torch.as_tensor(validation_label)"
   ]
  },
  {
   "cell_type": "code",
   "execution_count": 40,
   "id": "99e7a4c1",
   "metadata": {},
   "outputs": [],
   "source": [
    "class FNet(nn.Module):\n",
    "    def __init__(self):\n",
    "        super(FNet, self).__init__()\n",
    "        self.fc1 = nn.Linear(in_features=784, out_features=600)\n",
    "        self.fc2 = nn.Linear(in_features=600, out_features=500)\n",
    "        self.fc3 = nn.Linear(in_features=500, out_features=250)\n",
    "        self.fc4 = nn.Linear(in_features=250, out_features=10)\n",
    "        \n",
    "    #relu for elements in first layer\n",
    "    def forward(self, x):\n",
    "        x = x.view(-1, 784)\n",
    "        x = F.relu(self.fc1(x))\n",
    "        \n",
    "        x = F.relu(self.fc2(x))\n",
    "        x = F.relu(self.fc3(x))\n",
    "        x = self.fc4(x)\n",
    "        return x"
   ]
  },
  {
   "cell_type": "code",
   "execution_count": 41,
   "id": "f0fac7f1",
   "metadata": {},
   "outputs": [],
   "source": [
    "def get_accuracy(predictions, true_labels):\n",
    "    _, predicted = torch.max(predictions, 1)\n",
    "    corrects = (predicted == true_labels).sum()\n",
    "    accuracy = 100.0 * corrects/len(true_labels)\n",
    "    return accuracy.item()"
   ]
  },
  {
   "cell_type": "code",
   "execution_count": 42,
   "id": "bc10411d",
   "metadata": {},
   "outputs": [],
   "source": [
    "def training (dataloader, epochs, model, criterion, optimizer):\n",
    "\n",
    "    train_accuracies, train_losses = [], []\n",
    "    \n",
    "    # set the train mode\n",
    "    model.train()\n",
    "    \n",
    "    # loop over training dataset multiple times\n",
    "    for epoch in range(epochs):        \n",
    "\n",
    "        train_loss = 0 \n",
    "        train_accuracy = 0\n",
    "        num_batch = 0\n",
    "        \n",
    "        # iterate over all batches\n",
    "        for data, labels in dataloader:\n",
    "            \n",
    "            # zero the parameters gradient to not accumulate gradients from previous iteration\n",
    "            optimizer.zero_grad()\n",
    "            \n",
    "            # put data into the model\n",
    "            predictions = net(data)\n",
    "            \n",
    "            # calculate loss\n",
    "            loss = criterion(predictions, labels)\n",
    "            \n",
    "            # calculate accuracy\n",
    "            accuracy = get_accuracy(predictions, labels)\n",
    "            \n",
    "            # compute gradients\n",
    "            loss.backward()\n",
    "            \n",
    "            # change the weights\n",
    "            optimizer.step()\n",
    "            \n",
    "            num_batch += 1\n",
    "            train_loss += loss.item()\n",
    "            train_accuracy += accuracy\n",
    "    \n",
    "        epoch_accuracy = train_accuracy/num_batch\n",
    "        epoch_loss = train_loss/num_batch        \n",
    "        train_accuracies.append(epoch_accuracy)\n",
    "        train_losses.append(epoch_loss)\n",
    "        \n",
    "        print(\"Epoch: {}/{} \".format(epoch + 1, epochs),\n",
    "              \"Training Loss: {:.4f} \".format(epoch_loss),\n",
    "              \"Training accuracy: {:.4f}\".format(epoch_accuracy))\n",
    "    \n",
    "    return train_accuracies, train_losses\n",
    "    "
   ]
  },
  {
   "cell_type": "code",
   "execution_count": 43,
   "id": "7ee17b6f",
   "metadata": {},
   "outputs": [
    {
     "name": "stdout",
     "output_type": "stream",
     "text": [
      "Epoch: 1/40  Training Loss: 0.3113  Training accuracy: 90.9366\n",
      "Epoch: 2/40  Training Loss: 0.0951  Training accuracy: 97.0334\n",
      "Epoch: 3/40  Training Loss: 0.0527  Training accuracy: 98.2797\n",
      "Epoch: 4/40  Training Loss: 0.0326  Training accuracy: 98.9779\n",
      "Epoch: 5/40  Training Loss: 0.0338  Training accuracy: 98.8436\n",
      "Epoch: 6/40  Training Loss: 0.0238  Training accuracy: 99.2154\n",
      "Epoch: 7/40  Training Loss: 0.0205  Training accuracy: 99.3173\n",
      "Epoch: 8/40  Training Loss: 0.0300  Training accuracy: 98.9896\n",
      "Epoch: 9/40  Training Loss: 0.0276  Training accuracy: 99.0304\n",
      "Epoch: 10/40  Training Loss: 0.0187  Training accuracy: 99.3988\n",
      "Epoch: 11/40  Training Loss: 0.0122  Training accuracy: 99.6501\n",
      "Epoch: 12/40  Training Loss: 0.0140  Training accuracy: 99.5516\n",
      "Epoch: 13/40  Training Loss: 0.0185  Training accuracy: 99.4124\n",
      "Epoch: 14/40  Training Loss: 0.0206  Training accuracy: 99.3410\n",
      "Epoch: 15/40  Training Loss: 0.0177  Training accuracy: 99.4429\n",
      "Epoch: 16/40  Training Loss: 0.0127  Training accuracy: 99.6230\n",
      "Epoch: 17/40  Training Loss: 0.0222  Training accuracy: 99.3259\n",
      "Epoch: 18/40  Training Loss: 0.0104  Training accuracy: 99.6909\n",
      "Epoch: 19/40  Training Loss: 0.0158  Training accuracy: 99.4772\n",
      "Epoch: 20/40  Training Loss: 0.0197  Training accuracy: 99.4192\n",
      "Epoch: 21/40  Training Loss: 0.0075  Training accuracy: 99.7727\n",
      "Epoch: 22/40  Training Loss: 0.0061  Training accuracy: 99.8048\n",
      "Epoch: 23/40  Training Loss: 0.0078  Training accuracy: 99.7894\n",
      "Epoch: 24/40  Training Loss: 0.0182  Training accuracy: 99.5093\n",
      "Epoch: 25/40  Training Loss: 0.0195  Training accuracy: 99.4565\n",
      "Epoch: 26/40  Training Loss: 0.0110  Training accuracy: 99.6671\n",
      "Epoch: 27/40  Training Loss: 0.0116  Training accuracy: 99.6569\n",
      "Epoch: 28/40  Training Loss: 0.0121  Training accuracy: 99.6705\n",
      "Epoch: 29/40  Training Loss: 0.0107  Training accuracy: 99.6569\n",
      "Epoch: 30/40  Training Loss: 0.0120  Training accuracy: 99.6196\n",
      "Epoch: 31/40  Training Loss: 0.0089  Training accuracy: 99.7588\n",
      "Epoch: 32/40  Training Loss: 0.0110  Training accuracy: 99.6690\n",
      "Epoch: 33/40  Training Loss: 0.0078  Training accuracy: 99.7724\n",
      "Epoch: 34/40  Training Loss: 0.0088  Training accuracy: 99.7777\n",
      "Epoch: 35/40  Training Loss: 0.0130  Training accuracy: 99.6196\n",
      "Epoch: 36/40  Training Loss: 0.0113  Training accuracy: 99.7385\n",
      "Epoch: 37/40  Training Loss: 0.0069  Training accuracy: 99.8030\n",
      "Epoch: 38/40  Training Loss: 0.0059  Training accuracy: 99.8438\n",
      "Epoch: 39/40  Training Loss: 0.0040  Training accuracy: 99.8845\n",
      "Epoch: 40/40  Training Loss: 0.0150  Training accuracy: 99.5875\n"
     ]
    }
   ],
   "source": [
    "torch.manual_seed(0)                                      # set seed to make results reproducible\n",
    "\n",
    "batch_size = 128                                          # Set the batch_size\n",
    "train_dataset = torch.utils.data.TensorDataset(train_tensor, train_label)\n",
    "trainloader = torch.utils.data.DataLoader(train_dataset, batch_size = batch_size, shuffle = True)\n",
    "\n",
    "\n",
    "epochs = 40                                               # set number of epohs\n",
    "\n",
    "net = FNet()                                              # initialize network\n",
    "criterion = nn.CrossEntropyLoss()                         # set criterion\n",
    "optimizer = torch.optim.Adam(net.parameters(), lr = 3e-4) # set optimizer\n",
    "\n",
    "                                                          # start training process\n",
    "train_accuracies, train_losses = training(trainloader, epochs, net, criterion, optimizer)"
   ]
  },
  {
   "cell_type": "code",
   "execution_count": 44,
   "id": "331d0325",
   "metadata": {},
   "outputs": [
    {
     "name": "stdout",
     "output_type": "stream",
     "text": [
      "Loss:  0.21346737444400787 Accuracy:  97.0793685913086\n"
     ]
    }
   ],
   "source": [
    "# set net in test (evaluation) mode\n",
    "net.eval()    \n",
    "# get predictions\n",
    "val_predictions = net(validation_tensor)\n",
    "val_loss = criterion(val_predictions, validation_label)\n",
    "val_accurasy = get_accuracy(val_predictions, validation_label)\n",
    " \n",
    "print(\"Loss: \", str(val_loss.item()), \"Accuracy: \", str(val_accurasy))\n",
    "\n",
    "# to get class with the maximum score as prediction\n",
    "_, val_predicted = torch.max(val_predictions.data,1) "
   ]
  },
  {
   "cell_type": "code",
   "execution_count": 45,
   "id": "3b5506d8",
   "metadata": {},
   "outputs": [
    {
     "name": "stdout",
     "output_type": "stream",
     "text": [
      "Epoch: 1/40  Training Loss: 0.3113  Training accuracy: 90.9366\n",
      "Epoch: 2/40  Training Loss: 0.0951  Training accuracy: 97.0334\n",
      "Epoch: 3/40  Training Loss: 0.0527  Training accuracy: 98.2797\n",
      "Epoch: 4/40  Training Loss: 0.0326  Training accuracy: 98.9779\n",
      "Epoch: 5/40  Training Loss: 0.0338  Training accuracy: 98.8436\n",
      "Epoch: 6/40  Training Loss: 0.0238  Training accuracy: 99.2154\n",
      "Epoch: 7/40  Training Loss: 0.0205  Training accuracy: 99.3173\n",
      "Epoch: 8/40  Training Loss: 0.0300  Training accuracy: 98.9896\n",
      "Epoch: 9/40  Training Loss: 0.0276  Training accuracy: 99.0304\n",
      "Epoch: 10/40  Training Loss: 0.0187  Training accuracy: 99.3988\n",
      "Epoch: 11/40  Training Loss: 0.0122  Training accuracy: 99.6501\n",
      "Epoch: 12/40  Training Loss: 0.0140  Training accuracy: 99.5516\n",
      "Epoch: 13/40  Training Loss: 0.0185  Training accuracy: 99.4124\n",
      "Epoch: 14/40  Training Loss: 0.0206  Training accuracy: 99.3410\n",
      "Epoch: 15/40  Training Loss: 0.0177  Training accuracy: 99.4429\n",
      "Epoch: 16/40  Training Loss: 0.0127  Training accuracy: 99.6230\n",
      "Epoch: 17/40  Training Loss: 0.0222  Training accuracy: 99.3259\n",
      "Epoch: 18/40  Training Loss: 0.0104  Training accuracy: 99.6909\n",
      "Epoch: 19/40  Training Loss: 0.0158  Training accuracy: 99.4772\n",
      "Epoch: 20/40  Training Loss: 0.0197  Training accuracy: 99.4192\n",
      "Epoch: 21/40  Training Loss: 0.0075  Training accuracy: 99.7727\n",
      "Epoch: 22/40  Training Loss: 0.0061  Training accuracy: 99.8048\n",
      "Epoch: 23/40  Training Loss: 0.0078  Training accuracy: 99.7894\n",
      "Epoch: 24/40  Training Loss: 0.0182  Training accuracy: 99.5093\n",
      "Epoch: 25/40  Training Loss: 0.0195  Training accuracy: 99.4565\n",
      "Epoch: 26/40  Training Loss: 0.0110  Training accuracy: 99.6671\n",
      "Epoch: 27/40  Training Loss: 0.0116  Training accuracy: 99.6569\n",
      "Epoch: 28/40  Training Loss: 0.0121  Training accuracy: 99.6705\n",
      "Epoch: 29/40  Training Loss: 0.0107  Training accuracy: 99.6569\n",
      "Epoch: 30/40  Training Loss: 0.0120  Training accuracy: 99.6196\n",
      "Epoch: 31/40  Training Loss: 0.0089  Training accuracy: 99.7588\n",
      "Epoch: 32/40  Training Loss: 0.0110  Training accuracy: 99.6690\n",
      "Epoch: 33/40  Training Loss: 0.0078  Training accuracy: 99.7724\n",
      "Epoch: 34/40  Training Loss: 0.0088  Training accuracy: 99.7777\n",
      "Epoch: 35/40  Training Loss: 0.0130  Training accuracy: 99.6196\n",
      "Epoch: 36/40  Training Loss: 0.0113  Training accuracy: 99.7385\n",
      "Epoch: 37/40  Training Loss: 0.0069  Training accuracy: 99.8030\n",
      "Epoch: 38/40  Training Loss: 0.0059  Training accuracy: 99.8438\n",
      "Epoch: 39/40  Training Loss: 0.0040  Training accuracy: 99.8845\n",
      "Epoch: 40/40  Training Loss: 0.0150  Training accuracy: 99.5875\n"
     ]
    }
   ],
   "source": [
    "#train all\n",
    "torch.manual_seed(0)                                      # set seed to make results reproducible\n",
    "\n",
    "batch_size = 128                                          # Set the batch_size\n",
    "train_all_dataset = torch.utils.data.TensorDataset(train_all_tensor, train_all_label_tensor)\n",
    "trainloader = torch.utils.data.DataLoader(train_dataset, batch_size = batch_size, shuffle = True)\n",
    "\n",
    "epochs = 40                                               # set number of epohs\n",
    "\n",
    "net = FNet()                                              # initialize network\n",
    "criterion = nn.CrossEntropyLoss()                         # set criterion\n",
    "optimizer = torch.optim.Adam(net.parameters(), lr = 3e-4) # set optimizer\n",
    "\n",
    "                                                          # start training process\n",
    "train_accuracies, train_losses = training(trainloader, epochs, net, criterion, optimizer)"
   ]
  },
  {
   "cell_type": "code",
   "execution_count": 46,
   "id": "9445877a",
   "metadata": {},
   "outputs": [
    {
     "data": {
      "text/html": [
       "<div>\n",
       "<style scoped>\n",
       "    .dataframe tbody tr th:only-of-type {\n",
       "        vertical-align: middle;\n",
       "    }\n",
       "\n",
       "    .dataframe tbody tr th {\n",
       "        vertical-align: top;\n",
       "    }\n",
       "\n",
       "    .dataframe thead th {\n",
       "        text-align: right;\n",
       "    }\n",
       "</style>\n",
       "<table border=\"1\" class=\"dataframe\">\n",
       "  <thead>\n",
       "    <tr style=\"text-align: right;\">\n",
       "      <th></th>\n",
       "      <th>ImageId</th>\n",
       "      <th>Label</th>\n",
       "    </tr>\n",
       "  </thead>\n",
       "  <tbody>\n",
       "    <tr>\n",
       "      <th>0</th>\n",
       "      <td>1</td>\n",
       "      <td>2</td>\n",
       "    </tr>\n",
       "    <tr>\n",
       "      <th>1</th>\n",
       "      <td>2</td>\n",
       "      <td>0</td>\n",
       "    </tr>\n",
       "    <tr>\n",
       "      <th>2</th>\n",
       "      <td>3</td>\n",
       "      <td>9</td>\n",
       "    </tr>\n",
       "    <tr>\n",
       "      <th>3</th>\n",
       "      <td>4</td>\n",
       "      <td>9</td>\n",
       "    </tr>\n",
       "    <tr>\n",
       "      <th>4</th>\n",
       "      <td>5</td>\n",
       "      <td>3</td>\n",
       "    </tr>\n",
       "  </tbody>\n",
       "</table>\n",
       "</div>"
      ],
      "text/plain": [
       "   ImageId  Label\n",
       "0        1      2\n",
       "1        2      0\n",
       "2        3      9\n",
       "3        4      9\n",
       "4        5      3"
      ]
     },
     "execution_count": 46,
     "metadata": {},
     "output_type": "execute_result"
    }
   ],
   "source": [
    "# set net in test (evaluation) mode\n",
    "net.eval()  \n",
    "\n",
    "# get predictions for test data\n",
    "test_predictions = net(test_tensor)\n",
    "\n",
    "# to get class with the maximum score as prediction\n",
    "_, test_predicted = torch.max(test_predictions.data,1)\n",
    "\n",
    "# Save results in the required format\n",
    "output = pd.DataFrame({'ImageId': test.index + 1,\n",
    "                       'Label': test_predicted})\n",
    "output.to_csv('submission.csv', index=False)\n",
    "output.head()"
   ]
  },
  {
   "cell_type": "code",
   "execution_count": null,
   "id": "d1052a57",
   "metadata": {},
   "outputs": [],
   "source": []
  },
  {
   "cell_type": "code",
   "execution_count": null,
   "id": "02f69286",
   "metadata": {},
   "outputs": [],
   "source": []
  }
 ],
 "metadata": {
  "kernelspec": {
   "display_name": "Python 3",
   "language": "python",
   "name": "python3"
  },
  "language_info": {
   "codemirror_mode": {
    "name": "ipython",
    "version": 3
   },
   "file_extension": ".py",
   "mimetype": "text/x-python",
   "name": "python",
   "nbconvert_exporter": "python",
   "pygments_lexer": "ipython3",
   "version": "3.8.8"
  }
 },
 "nbformat": 4,
 "nbformat_minor": 5
}
