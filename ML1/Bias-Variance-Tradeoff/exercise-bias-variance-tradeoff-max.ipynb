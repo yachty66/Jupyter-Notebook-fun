{
 "cells": [
  {
   "cell_type": "code",
   "execution_count": 2,
   "id": "1aa559b0",
   "metadata": {},
   "outputs": [],
   "source": [
    "import numpy as np\n",
    "import matplotlib.pyplot as plt\n",
    "\n",
    "import hashlib"
   ]
  },
  {
   "cell_type": "markdown",
   "id": "14d640ed",
   "metadata": {},
   "source": [
    "# Data Generation"
   ]
  },
  {
   "cell_type": "markdown",
   "id": "ea71397c",
   "metadata": {},
   "source": [
    "Implementing a function to build the dataset $(x^{(i)}, y^{i})$:\n",
    "\n",
    "- $x^{(i)} \\in Uniform(0,2\\pi)$\n",
    "- $i \\in \\{1,2\\}$\n",
    "- $y^{(i)} = sin(x^{(i)})$"
   ]
  },
  {
   "cell_type": "code",
   "execution_count": 3,
   "id": "15147572",
   "metadata": {},
   "outputs": [],
   "source": [
    "def train_data():\n",
    "    i = 2\n",
    "    x = np.random.uniform(0,np.pi,i)\n",
    "    y = np.sin(x)\n",
    "    return x,y"
   ]
  },
  {
   "cell_type": "code",
   "execution_count": 4,
   "id": "daa54974",
   "metadata": {},
   "outputs": [
    {
     "name": "stdout",
     "output_type": "stream",
     "text": [
      "[1.23750299 2.5097864 ] [0.94497003 0.5906033 ]\n"
     ]
    }
   ],
   "source": [
    "x_train, y_train = train_data() \n",
    "print(x_train, y_train)"
   ]
  },
  {
   "cell_type": "code",
   "execution_count": 5,
   "id": "88f8c017",
   "metadata": {},
   "outputs": [],
   "source": [
    "assert len(x_train) == 2\n",
    "assert len(y_train) == 2\n",
    "np.testing.assert_array_equal(np.sin(x_train), y_train)\n",
    "for i in range(1000):\n",
    "    x_tmp, _ = train_data()\n",
    "    assert x_tmp.min() >= 0.0\n",
    "    assert x_tmp.max() <= 2*np.pi"
   ]
  },
  {
   "cell_type": "markdown",
   "id": "893b98f4",
   "metadata": {},
   "source": [
    "# Hypothesis"
   ]
  },
  {
   "cell_type": "markdown",
   "id": "f1ad92e1",
   "metadata": {},
   "source": [
    "$\\mathcal H_1: h_1(x) = \\theta_0 + \\theta_1 x$\n",
    "\n",
    "A straight line through the two points. The parameters $\\theta_0$ and $\\theta_1$ correspond to the y-intercept and slope of a linear function."
   ]
  },
  {
   "cell_type": "code",
   "execution_count": 6,
   "id": "27a1f7be",
   "metadata": {},
   "outputs": [],
   "source": [
    "def get_thetas(x,y):\n",
    "    return x*0 + y*1"
   ]
  },
  {
   "cell_type": "markdown",
   "id": "3bacc526",
   "metadata": {},
   "source": [
    "$\\mathcal H_2: h_2(x) = w$\n",
    "\n",
    "A constant, i.e. a line parallel to the x-axis. To get the constant-curve with minimum squared error just take for $w$ the mean of the y-values of the two sampled data points."
   ]
  },
  {
   "cell_type": "code",
   "execution_count": 7,
   "id": "546c70e6",
   "metadata": {},
   "outputs": [],
   "source": [
    "def get_w(x,y):\n",
    "    return np.mean(y)"
   ]
  },
  {
   "cell_type": "code",
   "execution_count": 8,
   "id": "3bb20b78",
   "metadata": {},
   "outputs": [
    {
     "name": "stdout",
     "output_type": "stream",
     "text": [
      "0.9449700336960205 0.5906033004116917\n",
      "0.7677866670538561\n"
     ]
    }
   ],
   "source": [
    "thetas = get_thetas(x_train, y_train)\n",
    "w = get_w(x_train, y_train)\n",
    "print(thetas[0], thetas[1])\n",
    "print(w)"
   ]
  },
  {
   "cell_type": "code",
   "execution_count": 9,
   "id": "24aa7f17",
   "metadata": {},
   "outputs": [],
   "source": [
    "# If your implementation is correct, these tests should not throw an exception\n",
    "\n",
    "x_train_temp = np.array([0,1])\n",
    "y_train_temp = np.array([np.sin(x_i) for x_i in x_train_temp])\n",
    "thetas_test = get_thetas(x_train_temp, y_train_temp)\n",
    "w_test = get_w(x_train_temp, y_train_temp)\n",
    "\n",
    "\n",
    "np.testing.assert_almost_equal(thetas_test[0], 0.0)\n",
    "np.testing.assert_almost_equal(thetas_test[1], 0.8414709848078965)\n",
    "np.testing.assert_almost_equal(w_test, 0.42073549240394825)"
   ]
  },
  {
   "cell_type": "code",
   "execution_count": 10,
   "id": "1b156b27",
   "metadata": {},
   "outputs": [],
   "source": [
    "def get_hypothesis_1(thetas):\n",
    "    return lambda x: thetas[0] + thetas[1] * x"
   ]
  },
  {
   "cell_type": "code",
   "execution_count": 11,
   "id": "301cc2d7",
   "metadata": {},
   "outputs": [],
   "source": [
    "def get_hypothesis_2(w):\n",
    "    return lambda x: x*0 + w"
   ]
  },
  {
   "cell_type": "code",
   "execution_count": 12,
   "id": "5f0fe540",
   "metadata": {},
   "outputs": [],
   "source": [
    "# we want to compute numerically the expectation w.r.t. x\n",
    "# p(x) is const. in the intervall [0, 2pi]\n",
    "x_grid = np.linspace(0, 2*np.pi, 100)\n",
    "y_grid = np.sin(x_grid)"
   ]
  },
  {
   "cell_type": "code",
   "execution_count": 13,
   "id": "87aebe9f",
   "metadata": {},
   "outputs": [],
   "source": [
    "# If your implementation is correct, these tests should not throw an exception\n",
    "\n",
    "h1_test = get_hypothesis_1(thetas_test)\n",
    "h2_test = get_hypothesis_2(w_test)\n",
    "np.testing.assert_almost_equal(h1_test(x_grid)[10], 0.5340523361780719)\n",
    "np.testing.assert_almost_equal(h2_test(x_grid)[10], 0.42073549240394825)"
   ]
  },
  {
   "cell_type": "code",
   "execution_count": 14,
   "id": "f2ddccc9",
   "metadata": {},
   "outputs": [],
   "source": [
    "# If your implementation is correct, these tests should not throw an exception\n",
    "\n",
    "h1_test = get_hypothesis_1(thetas_test)\n",
    "h2_test = get_hypothesis_2(w_test)\n",
    "np.testing.assert_almost_equal(h1_test(x_grid)[10], 0.5340523361780719)\n",
    "np.testing.assert_almost_equal(h2_test(x_grid)[10], 0.42073549240394825)"
   ]
  },
  {
   "cell_type": "markdown",
   "id": "9250a500",
   "metadata": {},
   "source": [
    "# Plot"
   ]
  },
  {
   "cell_type": "markdown",
   "id": "2b39eac9",
   "metadata": {},
   "source": [
    "Plotting \n",
    "\n",
    "- the two examples $(x^{(1)},y^{(2)})$ and $(x^{(2)},y^{(2)})$\n",
    "- the true target function $sin(x)$ in the interval $[0, 2 \\pi]$.\n",
    "- the hypothesis $h_1(x)$ in the interval $[0, 2 \\pi]$\n",
    "- the hypothesis $h_2(x)$ in the interval $[0, 2 \\pi]$"
   ]
  },
  {
   "cell_type": "code",
   "execution_count": 15,
   "id": "2056e9cc",
   "metadata": {},
   "outputs": [],
   "source": [
    "def plot_true_target_function_x_y_h1_h2(x, y, hypothesis1, hypothesis2):\n",
    "    #red points\n",
    "    plt.plot(x, y, marker='o', markersize=3, color=\"red\")\n",
    "    #sin(x)\n",
    "    plt.plot(x_grid,y_grid, label=\"target sin(x)\")\n",
    "    #H1\n",
    "    #not sure here\n",
    "    plt.plot(hypothesis1(x_grid), x_grid, label=\"H1\")\n",
    "    #H2\n",
    "    plt.plot(x_grid, hypothesis2(x_grid), label=\"H2\")\n",
    "    plt.legend(loc=\"upper left\")\n",
    "    plt.show()"
   ]
  },
  {
   "cell_type": "code",
   "execution_count": 16,
   "id": "4dcb34df",
   "metadata": {},
   "outputs": [
    {
     "data": {
      "image/png": "[encoded data removed]",
      "text/plain": [
       "<Figure size 432x288 with 1 Axes>"
      ]
     },
     "metadata": {
      "needs_background": "light"
     },
     "output_type": "display_data"
    }
   ],
   "source": [
    "x_train, y_train  = train_data() \n",
    "thetas = get_thetas(x_train, y_train)\n",
    "w = get_w(x_train, y_train)\n",
    "plot_true_target_function_x_y_h1_h2(x_train, y_train, get_hypothesis_1(thetas), get_hypothesis_2(w))"
   ]
  },
  {
   "cell_type": "markdown",
   "id": "ced83620",
   "metadata": {},
   "source": [
    "# Out of Sample Error"
   ]
  },
  {
   "cell_type": "code",
   "execution_count": 17,
   "id": "0797a708",
   "metadata": {},
   "outputs": [],
   "source": [
    "def out_of_sample_error(y_preds, y):\n",
    "    m = len(y_preds)\n",
    "    return 1/(float(m))* np.sum((y_preds-y)**2)"
   ]
  },
  {
   "cell_type": "code",
   "execution_count": 18,
   "id": "3879fbde",
   "metadata": {},
   "outputs": [],
   "source": [
    "e_out_h1_test = out_of_sample_error(h1_test(x_grid), y_grid)\n",
    "np.testing.assert_almost_equal(e_out_h1_test, 11.525485917588728)"
   ]
  },
  {
   "cell_type": "markdown",
   "id": "c9323d32",
   "metadata": {},
   "source": [
    "# Repeat"
   ]
  },
  {
   "cell_type": "code",
   "execution_count": 19,
   "id": "f7e0ddb7",
   "metadata": {},
   "outputs": [],
   "source": [
    "def run_experiment(m, x, y):\n",
    "    xs = np.ndarray((m,2))\n",
    "    ys = np.ndarray((m,2))\n",
    "    t0s = np.ndarray(m)\n",
    "    t1s = np.ndarray(m)\n",
    "    ws = np.ndarray(m)\n",
    "    e_out_h1s = np.ndarray(m)\n",
    "    e_out_h2s = np.ndarray(m)\n",
    "    for i in range(m):\n",
    "        xs[i], ys[i] = train_data()\n",
    "        t0s[i] = get_thetas(xs[i], ys[i])[0]\n",
    "        t1s[i] = get_thetas(xs[i], ys[i])[1]\n",
    "        ws[i] = get_w(xs[i], ys[i])\n",
    "        h1_test = get_hypothesis_1(get_thetas(xs[i], ys[i]))\n",
    "        h2_test = get_hypothesis_2(get_w(xs[i], ys[i]))\n",
    "        e_out_h1s[i] = out_of_sample_error(h1_test(xs[i]), ys[i])\n",
    "        e_out_h2s[i] = out_of_sample_error(h2_test(xs[i]), ys[i])\n",
    "            \n",
    "    #raise NotImplementedError()\n",
    "    \n",
    "    return xs, ys, t0s, t1s, ws, e_out_h1s, e_out_h2s"
   ]
  },
  {
   "cell_type": "code",
   "execution_count": 20,
   "id": "571cec9c",
   "metadata": {},
   "outputs": [
    {
     "data": {
      "text/plain": [
       "(100,)"
      ]
     },
     "execution_count": 20,
     "metadata": {},
     "output_type": "execute_result"
    }
   ],
   "source": [
    "x_grid.shape"
   ]
  },
  {
   "cell_type": "code",
   "execution_count": 21,
   "id": "15364420",
   "metadata": {},
   "outputs": [],
   "source": [
    "xs, ys, t0s, t1s, ws, e_out_h1s, e_out_h2s = run_experiment(10000, x_grid, y_grid)"
   ]
  },
  {
   "cell_type": "markdown",
   "id": "187cd028",
   "metadata": {},
   "source": [
    "# Average and Plot"
   ]
  },
  {
   "cell_type": "code",
   "execution_count": 22,
   "id": "16127d1c",
   "metadata": {},
   "outputs": [
    {
     "name": "stdout",
     "output_type": "stream",
     "text": [
      "[0.6320147172236056, 0.6339202328273448]\n"
     ]
    }
   ],
   "source": [
    "t0_avg = t0s.mean()\n",
    "t1_avg = t1s.mean()\n",
    "thetas_avg = [t0_avg, t1_avg]\n",
    "w_avg = ws.mean()\n",
    "h1_avg = get_hypothesis_1(thetas_avg)\n",
    "h2_avg = get_hypothesis_2(w_avg)\n",
    "print(thetas_avg)"
   ]
  },
  {
   "cell_type": "code",
   "execution_count": 23,
   "id": "bb851064",
   "metadata": {},
   "outputs": [
    {
     "data": {
      "image/png": "[encoded data removed]",
      "text/plain": [
       "<Figure size 432x288 with 1 Axes>"
      ]
     },
     "metadata": {
      "needs_background": "light"
     },
     "output_type": "display_data"
    }
   ],
   "source": [
    "plot_true_target_function_x_y_h1_h2([], [], h1_avg, h2_avg)"
   ]
  },
  {
   "cell_type": "code",
   "execution_count": 24,
   "id": "e57d349b",
   "metadata": {},
   "outputs": [
    {
     "name": "stdout",
     "output_type": "stream",
     "text": [
      "expectation of E_out of model 1: 1.4680638483660506\n"
     ]
    }
   ],
   "source": [
    "expectation_Eout_1 = e_out_h1s.mean()\n",
    "print (\"expectation of E_out of model 1:\", expectation_Eout_1)"
   ]
  },
  {
   "cell_type": "code",
   "execution_count": 25,
   "id": "bee7a0a8",
   "metadata": {},
   "outputs": [
    {
     "name": "stdout",
     "output_type": "stream",
     "text": [
      "expectation of E_out of model 2: 0.046972416192516166\n"
     ]
    }
   ],
   "source": [
    "expectation_Eout_2 = e_out_h2s.mean()\n",
    "print (\"expectation of E_out of model 2:\", expectation_Eout_2)"
   ]
  },
  {
   "cell_type": "markdown",
   "id": "357fa850",
   "metadata": {},
   "source": [
    "# Bias"
   ]
  },
  {
   "cell_type": "code",
   "execution_count": 26,
   "id": "82c2dce2",
   "metadata": {},
   "outputs": [],
   "source": [
    "def bias_square(y_true, y_avg):\n",
    "    m = len(y_true)\n",
    "    return 1/(float(m))* np.sum((y_avg - y_true)**2)\n",
    "\n",
    "    \n",
    "    \"\"\"\n",
    "     Returns the bias^2 of a hypothesis set for the sin-example.\n",
    "            Parameters:\n",
    "                    y_true(np.array): The y-values of the target function\n",
    "                                      at each position on the x_grid\n",
    "                    y_avg(np.array): The y-values of the avg hypothesis \n",
    "                                     at each position on the x_grid\n",
    "            Returns:\n",
    "                    variance (double):  Bias^2 of the hypothesis set\n",
    "    \"\"\"\n",
    "    raise NotImplementedError()"
   ]
  },
  {
   "cell_type": "code",
   "execution_count": 27,
   "id": "616209dd",
   "metadata": {},
   "outputs": [
    {
     "name": "stdout",
     "output_type": "stream",
     "text": [
      "Bias of model 1: 9.981428224688237\n"
     ]
    }
   ],
   "source": [
    "bias_1 = bias_square(y_grid,  h1_avg(x_grid))\n",
    "print (\"Bias of model 1:\", bias_1)"
   ]
  },
  {
   "cell_type": "code",
   "execution_count": 28,
   "id": "3d7accc5",
   "metadata": {},
   "outputs": [
    {
     "name": "stdout",
     "output_type": "stream",
     "text": [
      "Bias of model 2: 0.8956478244401255\n"
     ]
    }
   ],
   "source": [
    "bias_2 = bias_square(y_grid,  h2_avg(x_grid))\n",
    "print (\"Bias of model 2:\", bias_2)"
   ]
  },
  {
   "cell_type": "markdown",
   "id": "8c5adccd",
   "metadata": {},
   "source": [
    "# Variance"
   ]
  },
  {
   "cell_type": "code",
   "execution_count": 39,
   "id": "41bd19ba",
   "metadata": {},
   "outputs": [],
   "source": [
    "#task is following: Implement the function to calculate the variances for each of the 10.000 experiments and return them as list or array.\n",
    "#which is paradox to the later requested values. \n",
    "#print(\"model 1: E_out ≈ bias^2 + variance:  %f ≈ %f + %f\" % (expectation_Eout_1, bias_1, var_hypothesis_set_1))\n",
    "#in this print i have for expectation_Eout_1, bias_1 a single scalar output but for var_hypothesis_set_1 a list \n",
    "def variances(hypothesis_func, param_func, xs, ys, x_grid, y_avg):\n",
    "    m = 10000\n",
    "    xs = np.ndarray((m,2))\n",
    "    ys = np.ndarray((m,2))\n",
    "    variance = np.ndarray(m)\n",
    "    for i in range(m):\n",
    "        xs[i], ys[i] = train_data()\n",
    "        param = param_func(xs[i], ys[i])\n",
    "        h = hypothesis_func(param_func(xs[i], ys[i]))\n",
    "        final_h = h(x_grid)\n",
    "        m = len(x_grid)\n",
    "        variance[i] = 1/(float(m))* np.sum((final_h - y_avg)**2)\n",
    "    return variance\n",
    "    '''\n",
    "    Returns the variance of a hypothesis set for the sin-example.\n",
    "\n",
    "            Parameters:\n",
    "                    hypothesis_func (function): The hypothesis function 1 or 2\n",
    "                    param_func (function): the function to calculate the parameters\n",
    "                            from the training data, i.e., get_theta or get_w \n",
    "                    xs(np.array): 2D-Array with different training data values for x\n",
    "                                first dimension: differerent training data sets\n",
    "                                second dimension: data points in a data set\n",
    "                    ys(np.array): 2D-Array with different training data values for y\n",
    "                                first dimension: differerent training data sets\n",
    "                                second dimension: data points in a data set\n",
    "                    x_grid(np.array): The x-values for calculating the expectation E_x\n",
    "                    y_avg(np.array): The y-values of the average hypothesis at the \n",
    "                                     positions of x_grid\n",
    "\n",
    "            Returns:\n",
    "                    variance (double):  Variance of the hypothesis set for \n",
    "                                        a type for training data \n",
    "                                        (here two examples per training data set)\n",
    "    '''\n",
    "    return NotImplementedError()"
   ]
  },
  {
   "cell_type": "code",
   "execution_count": 40,
   "id": "0df78afb",
   "metadata": {},
   "outputs": [
    {
     "name": "stdout",
     "output_type": "stream",
     "text": [
      "[1.31061432 1.48498694 0.28932364 ... 1.07243633 0.86395141 1.74571152]\n"
     ]
    }
   ],
   "source": [
    "var_hypothesis_set_1 = variances(get_hypothesis_1, \n",
    "                 get_thetas, \n",
    "                 xs, ys, \n",
    "                 x_grid, \n",
    "                 h1_avg(x_grid))\n",
    "print(var_hypothesis_set_1)"
   ]
  },
  {
   "cell_type": "code",
   "execution_count": 41,
   "id": "bd4bee27",
   "metadata": {},
   "outputs": [
    {
     "name": "stdout",
     "output_type": "stream",
     "text": [
      "[5.99290051e-02 3.96460521e-03 5.46848270e-05 ... 8.73337794e-03\n",
      " 2.30762174e-02 5.82325678e-03]\n"
     ]
    }
   ],
   "source": [
    "var_hypothesis_set_2 = variances(get_hypothesis_2, \n",
    "                 get_w, \n",
    "                 xs, ys, \n",
    "                 x_grid, \n",
    "                 h2_avg(x_grid))\n",
    "print(var_hypothesis_set_2)"
   ]
  },
  {
   "cell_type": "code",
   "execution_count": 46,
   "id": "0084e882",
   "metadata": {},
   "outputs": [
    {
     "name": "stdout",
     "output_type": "stream",
     "text": [
      "model 1: E_out ≈ bias^2 + variance:  1.468064 ≈ 9.981428 + 1.310614\n",
      "model 2: E_out ≈ bias^2 + variance:  0.046972 ≈ 0.895648 + 0.059929\n"
     ]
    }
   ],
   "source": [
    "print(\"model 1: E_out ≈ bias^2 + variance:  %f ≈ %f + %f\" % (expectation_Eout_1, bias_1, var_hypothesis_set_1[0]))\n",
    "print(\"model 2: E_out ≈ bias^2 + variance:  %f ≈ %f + %f\" % (expectation_Eout_2, bias_2, var_hypothesis_set_2[0]))"
   ]
  },
  {
   "cell_type": "code",
   "execution_count": 43,
   "id": "3a263dff",
   "metadata": {},
   "outputs": [
    {
     "name": "stdout",
     "output_type": "stream",
     "text": [
      "1.4680638483660506\n"
     ]
    }
   ],
   "source": [
    "print(expectation_Eout_1)"
   ]
  },
  {
   "cell_type": "code",
   "execution_count": 44,
   "id": "6cab4c06",
   "metadata": {},
   "outputs": [
    {
     "name": "stdout",
     "output_type": "stream",
     "text": [
      "9.981428224688237\n"
     ]
    }
   ],
   "source": [
    "print(bias_1)"
   ]
  },
  {
   "cell_type": "code",
   "execution_count": 45,
   "id": "070b524e",
   "metadata": {},
   "outputs": [
    {
     "name": "stdout",
     "output_type": "stream",
     "text": [
      "[1.31061432 1.48498694 0.28932364 ... 1.07243633 0.86395141 1.74571152]\n"
     ]
    }
   ],
   "source": [
    "print(var_hypothesis_set_1)"
   ]
  },
  {
   "cell_type": "code",
   "execution_count": null,
   "id": "392c7806",
   "metadata": {},
   "outputs": [],
   "source": []
  }
 ],
 "metadata": {
  "kernelspec": {
   "display_name": "Python 3",
   "language": "python",
   "name": "python3"
  },
  "language_info": {
   "codemirror_mode": {
    "name": "ipython",
    "version": 3
   },
   "file_extension": ".py",
   "mimetype": "text/x-python",
   "name": "python",
   "nbconvert_exporter": "python",
   "pygments_lexer": "ipython3",
   "version": "3.8.8"
  }
 },
 "nbformat": 4,
 "nbformat_minor": 5
}
