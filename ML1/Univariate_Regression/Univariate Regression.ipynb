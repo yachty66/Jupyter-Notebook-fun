{
 "cells": [
  {
   "cell_type": "markdown",
   "id": "6b3731e6",
   "metadata": {},
   "source": [
    "# Create a data set"
   ]
  },
  {
   "cell_type": "code",
   "execution_count": 7,
   "id": "7d59e457",
   "metadata": {},
   "outputs": [],
   "source": [
    "import numpy as np\n",
    "import matplotlib.pyplot as plt\n",
    "from mpl_toolkits.mplot3d.axes3d import Axes3D"
   ]
  },
  {
   "cell_type": "code",
   "execution_count": 8,
   "id": "1f939ed5",
   "metadata": {},
   "outputs": [],
   "source": [
    "#what does noise factor mean here? I cannot implement a noise factor into np.random.randn because i just increase the amount of elem in an array with (sample_size, 5)\n",
    "def linear_random_data(sample_size, a, b, x_min, x_max, noise_factor):\n",
    "    aList = []\n",
    "    x = np.random.uniform(x_min,x_max,sample_size)\n",
    "    #noise = np.random.randn(1)*noise_factor\n",
    "    for i in range(sample_size):\n",
    "        noise = np.random.randn(1)*noise_factor\n",
    "        tmp = (a + (b * x[i]) + noise)\n",
    "        aList.append(tmp)\n",
    "    y = np.array(aList)\n",
    "    \n",
    "    return x,y\n",
    "    \n",
    "    \n",
    "    raise NotImplementedError(\"You should have implement this!\")"
   ]
  },
  {
   "cell_type": "code",
   "execution_count": 9,
   "id": "bea5a1a2",
   "metadata": {},
   "outputs": [
    {
     "data": {
      "text/plain": [
       "[<matplotlib.lines.Line2D at 0x7fda99b75a60>]"
      ]
     },
     "execution_count": 9,
     "metadata": {},
     "output_type": "execute_result"
    },
    {
     "data": {
      "image/png": "[encoded data removed]",
      "text/plain": [
       "<Figure size 432x288 with 1 Axes>"
      ]
     },
     "metadata": {
      "needs_background": "light"
     },
     "output_type": "display_data"
    }
   ],
   "source": [
    "x, y = linear_random_data(sample_size=50, a=0., b=5, x_min=-10, x_max=10, noise_factor=5)\n",
    "plt.plot(x,y, \"rx\")"
   ]
  },
  {
   "cell_type": "markdown",
   "id": "06cc9ed5",
   "metadata": {},
   "source": [
    "# Linear Hypothesis"
   ]
  },
  {
   "cell_type": "code",
   "execution_count": 13,
   "id": "cf11c671",
   "metadata": {},
   "outputs": [
    {
     "data": {
      "text/plain": [
       "array([-13.57450028,   3.55203705,   1.89551673,  -9.09542332,\n",
       "        -3.93683259,  14.78082068, -12.55373773,  16.43493142,\n",
       "        -2.29625511,  16.64360523,   1.1528465 , -18.12055007,\n",
       "       -11.14131298,  13.91146958,  13.74318591, -11.6173685 ,\n",
       "        16.97540118,  12.51026358,   9.40524841,  20.48169782,\n",
       "         4.45364384,   7.61879674,   7.10027704,  -0.12711404,\n",
       "        20.96396415,   6.06146085, -15.58704045,   0.78942423,\n",
       "        -3.03551987,  11.90297429,  11.20014579, -11.46151304,\n",
       "        -7.10777406,  19.33201424,  12.28152624,  20.73682212,\n",
       "       -16.9338348 ,  -8.3362899 ,  -2.53342077,  -1.8967798 ,\n",
       "       -12.36224392,   7.16214609,  12.38520392,   8.02828862,\n",
       "         2.57950757,   4.00856799,  -1.09132813,  -2.57921374,\n",
       "        -6.8262095 ,   7.15934213])"
      ]
     },
     "execution_count": 13,
     "metadata": {},
     "output_type": "execute_result"
    }
   ],
   "source": [
    "def linear_hypothesis(theta_0, theta_1):\n",
    "    return lambda x : theta_0 + theta_1 * x \n",
    "    \n",
    "    \n",
    "linearHypothesisLambda = linear_hypothesis(1, 2)\n",
    "\n",
    "linearHypothesisLambda(x)"
   ]
  },
  {
   "cell_type": "markdown",
   "id": "b581d1f1",
   "metadata": {},
   "source": [
    "# Cost Function"
   ]
  },
  {
   "cell_type": "code",
   "execution_count": 133,
   "id": "193df86d",
   "metadata": {},
   "outputs": [],
   "source": [
    "def mse_cost_function(x, y):\n",
    "    pre = (1 / (2 * len(x)))\n",
    "    return lambda a, b: [pre*(sum(((a + b * x[i])-y[i])**2 for i in range(len(x))))]\n",
    "    \n",
    "    ''' Implements MSE cost function as a function J(theta_0, theta_1) on given tranings data \n",
    "    \n",
    "    Args:\n",
    "        x: vector of x values \n",
    "        y: vector of ground truth values y \n",
    "        \n",
    "    Returns:\n",
    "        lambda J(theta_0, theta_1) that models the cost function\n",
    "    '''\n",
    "    raise NotImplementedError(\"You should implement this!\")"
   ]
  },
  {
   "cell_type": "code",
   "execution_count": 134,
   "id": "ff8ebbfa",
   "metadata": {},
   "outputs": [
    {
     "name": "stdout",
     "output_type": "stream",
     "text": [
      "[array([87.69295298])]\n",
      "[array([13.49113496])]\n"
     ]
    }
   ],
   "source": [
    "j =  mse_cost_function(x, y)\n",
    "print(j(2.1, 2.9))\n",
    "print(j(2.3, 4.9)) "
   ]
  },
  {
   "cell_type": "markdown",
   "id": "fbee98e3",
   "metadata": {},
   "source": [
    "# Visualization of Hypotheses"
   ]
  },
  {
   "cell_type": "code",
   "execution_count": 172,
   "id": "1bb649f2",
   "metadata": {},
   "outputs": [],
   "source": [
    "def plot_data_with_hypothesis(x, y, theta0, theta1):\n",
    "    plt.plot(x,y, \"rx\")\n",
    "    y = theta0 + (theta1 * x)\n",
    "    plt.plot(x, y,  \"-b\")\n",
    "\n",
    "    return plt.show()\n",
    "    \n",
    "    ''' Plots the data (x, y) together with a hypothesis given theta0 and theta1.    \n",
    "    '''\n",
    "    raise NotImplementedError()"
   ]
  },
  {
   "cell_type": "code",
   "execution_count": 173,
   "id": "482b312e",
   "metadata": {},
   "outputs": [
    {
     "data": {
      "image/png": "[encoded data removed]",
      "text/plain": [
       "<Figure size 432x288 with 1 Axes>"
      ]
     },
     "metadata": {
      "needs_background": "light"
     },
     "output_type": "display_data"
    }
   ],
   "source": [
    "t0 = 1 ### try different values\n",
    "t1 = 1 ### try different values\n",
    "\n",
    "plot_data_with_hypothesis(x, y, theta0=t0, theta1=t1)"
   ]
  },
  {
   "cell_type": "markdown",
   "id": "ce53e7eb",
   "metadata": {},
   "source": [
    "# Cost Function Visualization"
   ]
  },
  {
   "cell_type": "code",
   "execution_count": 176,
   "id": "61405a84",
   "metadata": {},
   "outputs": [],
   "source": [
    "def create_cost_plt_grid(cost, interval, num_samples, theta0_offset=0., theta1_offset=0.):\n",
    "    return 3\n",
    "    ''' \n",
    "    Creates mesh points for a 3D plot based on a given interval and a cost function.\n",
    "    The function creates a numpy meshgrid for plotting a 3D-plot of the cost function.\n",
    "    Additionally, for the mesh grid points cost values are calulated and returned.\n",
    "    \n",
    "    Args:\n",
    "        cost: a function that is used to calculate costs. The function \"cost\" was typically e.g. \n",
    "              created by calling \"cost = mse_cost_function(x, y)\". So, the data x,y and the model \n",
    "              are used internally in cost. The arguments of the function cost are \n",
    "              theta_0 und theta_1, i.e. cost(theta_0, theta_0).\n",
    "        interval: a scalar that defines the range [-interval, interval] of the mesh grid\n",
    "        num_mesh: the total number of points in the mesh grid is num_mesh * num_mesh (equaly distributed) \n",
    "        theta0_offset: shifts the plotted interval for theta0 by a scalar\n",
    "        theta1_offset: shifts the plotted interval for theta1 by a scalar\n",
    "        \n",
    "    Returns:\n",
    "        T0: a matrix representing a meshgrid for the values of the first plot dimesion (Theta 0) \n",
    "        T1: a matrix representing a meshgrid for the values of the second plot dimesion (Theta 1)\n",
    "        C: a matrix respresenting cost values (third plot dimension)        \n",
    "    '''\n",
    "    raise NotImplementedError(\"You should implement this!\")\n",
    "\n",
    "def create_cost_plt(T0, T1, Costs):\n",
    "    ''' Creates a counter and a surface plot based on given data\n",
    "    \n",
    "    Args:\n",
    "        T0: a matrix representing a meshgrid for X values (Theta 0) \n",
    "        T1: a matrix representing a meshgrid for Y values (Theta 1)\n",
    "        C: a matrix respresenting cost values \n",
    "    '''\n",
    "    raise NotImplementedError(\"You should implement this!\")"
   ]
  },
  {
   "cell_type": "code",
   "execution_count": 177,
   "id": "15406895",
   "metadata": {},
   "outputs": [
    {
     "ename": "TypeError",
     "evalue": "cannot unpack non-iterable int object",
     "output_type": "error",
     "traceback": [
      "\u001b[0;31m---------------------------------------------------------------------------\u001b[0m",
      "\u001b[0;31mTypeError\u001b[0m                                 Traceback (most recent call last)",
      "\u001b[0;32m<ipython-input-177-2ad01a25aaf8>\u001b[0m in \u001b[0;36m<module>\u001b[0;34m\u001b[0m\n\u001b[0;32m----> 1\u001b[0;31m \u001b[0mT0\u001b[0m\u001b[0;34m,\u001b[0m \u001b[0mT1\u001b[0m\u001b[0;34m,\u001b[0m \u001b[0mC\u001b[0m \u001b[0;34m=\u001b[0m \u001b[0mcreate_cost_plt_grid\u001b[0m\u001b[0;34m(\u001b[0m\u001b[0mj\u001b[0m\u001b[0;34m,\u001b[0m \u001b[0;36m1000\u001b[0m\u001b[0;34m,\u001b[0m \u001b[0;36m51\u001b[0m\u001b[0;34m,\u001b[0m \u001b[0mtheta1_offset\u001b[0m\u001b[0;34m=\u001b[0m\u001b[0;36m5.\u001b[0m\u001b[0;34m)\u001b[0m\u001b[0;34m\u001b[0m\u001b[0;34m\u001b[0m\u001b[0m\n\u001b[0m\u001b[1;32m      2\u001b[0m \u001b[0mcreate_cost_plt\u001b[0m\u001b[0;34m(\u001b[0m\u001b[0mT0\u001b[0m\u001b[0;34m,\u001b[0m \u001b[0mT1\u001b[0m\u001b[0;34m,\u001b[0m \u001b[0mC\u001b[0m\u001b[0;34m)\u001b[0m\u001b[0;34m\u001b[0m\u001b[0;34m\u001b[0m\u001b[0m\n",
      "\u001b[0;31mTypeError\u001b[0m: cannot unpack non-iterable int object"
     ]
    }
   ],
   "source": [
    "T0, T1, C = create_cost_plt_grid(j, 1000, 51, theta1_offset=5.)\n",
    "create_cost_plt(T0, T1, C)"
   ]
  },
  {
   "cell_type": "markdown",
   "id": "da20d4af",
   "metadata": {},
   "source": [
    "# Gradient descent"
   ]
  },
  {
   "cell_type": "code",
   "execution_count": null,
   "id": "d0818476",
   "metadata": {},
   "outputs": [],
   "source": []
  }
 ],
 "metadata": {
  "kernelspec": {
   "display_name": "Python 3 (ipykernel)",
   "language": "python",
   "name": "python3"
  },
  "language_info": {
   "codemirror_mode": {
    "name": "ipython",
    "version": 3
   },
   "file_extension": ".py",
   "mimetype": "text/x-python",
   "name": "python",
   "nbconvert_exporter": "python",
   "pygments_lexer": "ipython3",
   "version": "3.9.7"
  }
 },
 "nbformat": 4,
 "nbformat_minor": 5
}
