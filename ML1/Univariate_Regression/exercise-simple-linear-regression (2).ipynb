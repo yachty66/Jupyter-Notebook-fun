{
 "cells": [
  {
   "cell_type": "markdown",
   "metadata": {
    "slideshow": {
     "slide_type": "slide"
    }
   },
   "source": [
    "# ML-Fundamentals - Linear Regression - Exercise: Simple Linear Regression"
   ]
  },
  {
   "cell_type": "markdown",
   "metadata": {
    "slideshow": {
     "slide_type": "slide"
    }
   },
   "source": [
    "## Table of Contents\n",
    "* [Introduction](#Introduction)\n",
    "* [Requirements](#Requirements) \n",
    "  * [Knowledge](#Knowledge) \n",
    "  * [Modules](#Python-Modules)\n",
    "* [Exercises: Simple Linear Regression](#Simple-Linear-Regression)\n",
    "  * [Create a Data Set](#Create-a-Data-Set)\n",
    "  * [Linear Hypothesis](#Linear-Hypothesis)\n",
    "  * [Cost Function](#Cost-Function)\n",
    "  * [Cost Function Visualization](#Cost-Function-Visualization)\n",
    "  * [Optimizing wit Gradient Descent](#Gradient-Descent)\n",
    "  * [Model Evaluation](#Model-and-Training-Evaluation)\n",
    "  * [Optimize Hyperparameters](#Optimize-Hyperparameter)  \n",
    "* [Summary and Outlook](#Summary-and-Outlook) \n",
    "* [Literature](#Literature) \n",
    "* [Licenses](#Licenses)"
   ]
  },
  {
   "cell_type": "markdown",
   "metadata": {
    "slideshow": {
     "slide_type": "slide"
    }
   },
   "source": [
    "## Introduction\n",
    "Linear Regression is the _Hello World_ of Machine Learning. In this exercise you will implement a _simple linear regression (univariate linear regression)_, a model with one predictor and one response variable. The goal is to recap and practice fundamental concepts of Machine Learning. After the exercise, you should have a deeper understanding of what a Machine Learning model is and how do you train such a model with a data set (supervised learning). To achieve this, you will:\n",
    "1. Calculate the cost and the gradient for concrete training data and $\\theta$ (pen & paper exercise)\n",
    "2. Create your own data set\n",
    "3. Implement a linear function as hypothesis (model) \n",
    "4. Write a function to quantify your model (cost function)\n",
    "5. Learn to visualize the cost function\n",
    "6. Implement the gradient descent algorithm to train your model (optimizer) \n",
    "7. Visualize your training process and results"
   ]
  },
  {
   "cell_type": "markdown",
   "metadata": {
    "slideshow": {
     "slide_type": "slide"
    }
   },
   "source": [
    "## Requirements\n",
    "### Knowledge\n",
    "You should have a basic knowledge of Machine Learning models, cost functions, optimization algorithms and also numpy and matplotlib. We will only recap these concepts for a better understanding and do not explain them in great detail. Suitable sources for acquiring this knowledge are:\n",
    "- [Simple Linear Regression Notebook](http://christianherta.de/lehre/dataScience/machineLearning/basics/univariate-linear-regression.php) by Christian Herta and his [lecture slides](http://christianherta.de/lehre/dataScience/machineLearning/linearRegression.pdf) (German)\n",
    "- Chapter 2 of the open classroom [Machine Learning](http://openclassroom.stanford.edu/MainFolder/CoursePage.php?course=MachineLearning) by Andrew Ng\n",
    "- Chapter 5.1 of [Deep Learning](http://www.deeplearningbook.org/contents/ml.html) by Ian Goodfellow \n",
    "- Some parts of chapter 1 and 3 of [Pattern Recognition and Machine Learning](https://www.microsoft.com/en-us/research/people/cmbishop/#!prml-book) by Christopher M. Bishop\n",
    "- [numpy quickstart](https://docs.scipy.org/doc/numpy-1.15.1/user/quickstart.html)\n",
    "- [Matplotlib tutorials](https://matplotlib.org/tutorials/index.html)"
   ]
  },
  {
   "cell_type": "markdown",
   "metadata": {
    "slideshow": {
     "slide_type": "slide"
    }
   },
   "source": [
    "### Python Modules\n",
    "\n",
    "By [deep.TEACHING](https://www.deep-teaching.org/) convention, all python modules needed to run the notebook are loaded centrally at the beginning. \n"
   ]
  },
  {
   "cell_type": "code",
   "execution_count": 23,
   "metadata": {
    "slideshow": {
     "slide_type": "slide"
    }
   },
   "outputs": [],
   "source": [
    "%matplotlib inline\n",
    "\n",
    "# External Modules\n",
    "import numpy as np\n",
    "import matplotlib.pyplot as plt\n",
    "from mpl_toolkits.mplot3d.axes3d import Axes3D"
   ]
  },
  {
   "cell_type": "markdown",
   "metadata": {
    "slideshow": {
     "slide_type": "slide"
    }
   },
   "source": [
    "## Exercises - Simple Linear Regression"
   ]
  },
  {
   "cell_type": "markdown",
   "metadata": {
    "slideshow": {
     "slide_type": "slide"
    }
   },
   "source": [
    "### Pen & Paper Exercise\n",
    "\n",
    "Given the linear model:\n",
    "\n",
    "$$\n",
    "h_\\theta(x) = \\theta_0 + \\theta_1 x\n",
    "$$\n",
    "\n",
    "And the following concrete training data:\n",
    "\n",
    "$$\n",
    "D_{train} = \\{(0,1),(1,3),(2,6),(4,8)\\}\n",
    "$$\n",
    "\n",
    "with each tuple $(x,y)$ denoting $x$ the feature and $y$ the target.\n",
    "\n",
    "**Task:**\n",
    "\n",
    "For $\\theta_0 = 1$ and $\\theta_1 = 2$ calculate:\n",
    "\n",
    "1. The cost:\n",
    "\n",
    "$$ J_D(\\theta_0, \\theta_1)=\\frac{1}{2m}\\sum_{i=1}^{m}{(h_\\theta(x^{(i)})-y^{(i)})^2} $$\n",
    "\n",
    "2. The gradient $\\nabla J$, i.e. the partial derivatives:\n",
    "\n",
    "$$ \\frac{\\partial J (\\theta_0, \\theta_1)}{\\partial \\theta_0} $$\n",
    "\n",
    "$$ \\frac{\\partial J (\\theta_0, \\theta_1)}{\\partial \\theta_1} $$\n"
   ]
  },
  {
   "cell_type": "markdown",
   "metadata": {
    "slideshow": {
     "slide_type": "slide"
    }
   },
   "source": [
    "### Create a Data Set\n",
    "First of all, you have to generate a data set $\\mathcal D_{train}$. $\\mathcal D_{train}$ consists of tuples $(x^{(i)},y^{(i)})$. Let $x$ and $y$ be two numpy 1d-arrays of equal-length $m$:\n",
    "\n",
    "$$\n",
    "{\\vec x} = \\left(x^{(1)},x^{(2)}, \\ldots, x^{(m)}\\right)^T \\\\\n",
    "{\\vec y} = \\left(y^{(1)},y^{(2)}, \\ldots, y^{(m)}\\right)^T\n",
    "$$\n",
    "\n",
    "The $x$ values should be drawn from a **uniform distribution** . Add some noise $\\delta$ to the corresponding $y$ values, which should be drawn from a **normal distribution**.\n",
    "\n",
    "$$\n",
    "    y^{(i)} = a + b * x^{(i)} + \\delta^{(i)}\n",
    "$$\n",
    "\n",
    "We will use an numpy 1d-array for the data which is equivalent to vectors: \n",
    "\n",
    "\\begin{equation}\n",
    "    \\vec y = a * \\vec 1 + b * \\vec x + \\vec \\delta\n",
    "\\end{equation}\n",
    "\n",
    ", with:\n",
    "* $x \\sim Uniform([x_{min}, x_{max}])$\n",
    "* $\\delta \\sim Normal(\\mu=0.0, \\sigma=1.0)$\n",
    "\n",
    "An example data set could look like this plot (random seed 42 used): \n",
    "\n",
    "<img src=\"https://gitlab.com/deep.TEACHING/educational-materials/raw/dev/media/voigt/images/Simple-Linear-Regression_Data_Set.png\" width=\"512\" alt=\"internet connection needed\">\n",
    "\n",
    "**Hint:**\n",
    "- To generate the vector for $x$ use the function `np.random.uniform`.\n",
    "- To generate a vector of the noise use `np.random.randn`."
   ]
  },
  {
   "cell_type": "code",
   "execution_count": 193,
   "metadata": {
    "slideshow": {
     "slide_type": "slide"
    }
   },
   "outputs": [],
   "source": [
    "# fixed random seed\n",
    "np.random.seed(42)\n",
    "\n",
    "def linear_random_data(sample_size, a, b, x_min, x_max, noise_factor):\n",
    "    '''creates a randam data set based on a linear function in a given interval\n",
    "    \n",
    "    Args:\n",
    "        sample_size: number of data points\n",
    "        a: coefficent of x^0\n",
    "        b: coefficent of x^1\n",
    "        x_min: lower bound value range\n",
    "        x_max: upper bound value range\n",
    "        noise_factor: strength of noise added to y \n",
    "    \n",
    "    Returns:\n",
    "        x: array of x values | len(x)==len(y)\n",
    "        y: array of y values corresponding to x | len(x)==len(y)\n",
    "    '''\n",
    "    x = np.random.uniform(x_min, x_max, sample_size)\n",
    "    noise = np.random.randn(sample_size) * noise_factor\n",
    "    y = a + b * x + noise\n",
    "    return x,y\n",
    "    raise NotImplementedError(\"You should implement this!\")"
   ]
  },
  {
   "cell_type": "code",
   "execution_count": 194,
   "metadata": {},
   "outputs": [
    {
     "data": {
      "text/plain": [
       "[<matplotlib.lines.Line2D at 0x7fe8f09b60d0>]"
      ]
     },
     "execution_count": 194,
     "metadata": {},
     "output_type": "execute_result"
    },
    {
     "data": {
      "image/png": "[encoded data removed]",
      "text/plain": [
       "<Figure size 432x288 with 1 Axes>"
      ]
     },
     "metadata": {
      "needs_background": "light"
     },
     "output_type": "display_data"
    }
   ],
   "source": [
    "x, y = linear_random_data(sample_size=50, a=0., b=5., x_min=-10, x_max=10, noise_factor=5)\n",
    "plt.plot(x,y, \"rx\")"
   ]
  },
  {
   "cell_type": "markdown",
   "metadata": {
    "slideshow": {
     "slide_type": "slide"
    }
   },
   "source": [
    "### Linear Hypothesis\n",
    "A short recap, a hypothesis $h_\\theta(x)$ is a certain function that we believe is similar to a target function that we like to model. A hypothesis $h_\\theta(x)$ is a function of $x$ with fixed parameters $\\theta$. The simplest kind of hypothesis is based on a linear equation with two parameters: \n",
    "\n",
    "\\begin{equation}\n",
    "    h_\\theta(x) = \\theta_{0} + \\theta_{1} * x \n",
    "\\end{equation}\n",
    "\n",
    "Implement hypothesis $h_\\theta(x)$ in the method `linear_hypothesis` and return it as a function. "
   ]
  },
  {
   "cell_type": "code",
   "execution_count": 93,
   "metadata": {
    "slideshow": {
     "slide_type": "slide"
    }
   },
   "outputs": [],
   "source": [
    "def linear_hypothesis(theta_0, theta_1):\n",
    "    ''' Combines given arguments in a linear equation and returns it as a function\n",
    "    \n",
    "    Args:\n",
    "        theta_0: first coefficient\n",
    "        theta_1: second coefficient\n",
    "        \n",
    "    Returns:\n",
    "        lambda that models a linear function based on theta_0, theta_1 and x\n",
    "    ''' \n",
    "    return lambda x: theta_0 + theta_1 * x"
   ]
  },
  {
   "cell_type": "markdown",
   "metadata": {
    "slideshow": {
     "slide_type": "slide"
    }
   },
   "source": [
    "### Cost Function\n",
    "A cost function $J$ depends on the given training data $D$ and hypothesis $h_\\theta(x)$. In the context of the simple linear regression, the cost function measures how wrong a model is regarding its ability to estimate the relationship between $x$ and $y$ for specific $\\theta$ values. Later we will treat this as an optimization problem and try to minimize the cost function $J_D(\\theta)$ to find optimal $\\theta$ values for our hypothesis $h_\\theta(x)$. The cost function we use in this exercise is the [Mean-Squared-Error](https://en.wikipedia.org/wiki/Mean_squared_error) cost function:\n",
    "\n",
    "\\begin{equation}\n",
    "    J_D(\\theta)=\\frac{1}{2m}\\sum_{i=1}^{m}{\\left(h_\\theta(x^{(i)}-y^{(i)})\\right)^2}\n",
    "\\end{equation}\n",
    "\n",
    "Implement the cost function $J_D(\\theta)$ in the method `mse_cost_function`. The method should return a function that takes the values of $\\theta_0$ and $\\theta_1$ as an argument.\n",
    "\n",
    "Sidenote, the terms loss function or error function are often used interchangeably in the field of Machine Learning."
   ]
  },
  {
   "cell_type": "code",
   "execution_count": 94,
   "metadata": {
    "slideshow": {
     "slide_type": "slide"
    }
   },
   "outputs": [],
   "source": [
    "def mse_cost_function(x, y):\n",
    "    ''' Implements MSE cost function as a function J(theta_0, theta_1) on given tranings data \n",
    "    \n",
    "    Args:\n",
    "        x: vector of x values \n",
    "        y: vector of ground truth values y \n",
    "        \n",
    "    Returns:\n",
    "        lambda J(theta_0, theta_1) that models the cost function\n",
    "    '''\n",
    "    m = len(x)\n",
    "    return lambda t_0, t_1: np.sum(1/(2*m)  * ((t_0 + t_1 * x) - y)**2)\n",
    "    raise NotImplementedError(\"You should implement this!\")"
   ]
  },
  {
   "cell_type": "code",
   "execution_count": 95,
   "metadata": {},
   "outputs": [
    {
     "name": "stdout",
     "output_type": "stream",
     "text": [
      "88.25403518579944\n",
      "13.255430634559458\n"
     ]
    }
   ],
   "source": [
    "j =  mse_cost_function(x, y)\n",
    "print(j(2.1, 2.9))\n",
    "print(j(2.3, 4.9))"
   ]
  },
  {
   "attachments": {
    "download.png": {
     "image/png": "[encoded data removed]"
    }
   },
   "cell_type": "markdown",
   "metadata": {
    "slideshow": {
     "slide_type": "-"
    }
   },
   "source": [
    "### Visualisation of Hypotheses\n",
    "\n",
    "Now we want to visualize the data set together with the hypothesis and explore the effects of adjusting the parameters. In your plot,\n",
    "* show your data set as a scatter plot\n",
    "* show a hypothesis h(x) as a line plot\n",
    "* calculate and present the MSE cost (a print statement will do as well)\n",
    "\n",
    "Here are some questions you may want to address:\n",
    "* How does the line modeling the hypothesis change when you tweak $\\theta_0$?\n",
    "* How does the line modeling the hypothesis hypothesis change when you tweak $\\theta_1$?\n",
    "* Try some different hypotheses with parameters that are close to the true model and some that are far from the truth. How does this affect the location of the hypothesis in relation to the data?\n",
    "* What is the effect on the cost?\n",
    "\n",
    "Your plot could look similar to the following:\n",
    "![download.png](attachment:download.png)"
   ]
  },
  {
   "cell_type": "code",
   "execution_count": 130,
   "metadata": {},
   "outputs": [],
   "source": [
    "def plot_data_with_hypothesis(x, y, theta0, theta1):\n",
    "    ''' Plots the data (x, y) together with a hypothesis given theta0 and theta1.    \n",
    "    '''\n",
    "    # plot the hypothesis\n",
    "    x_ = np.arange(-10,10)\n",
    "    x_\n",
    "    y_ = t0 + t1 * x_\n",
    "    plt.plot(x_,y_, 'b-', label='hypothesis')\n",
    "    plt.scatter(x, y, color=\"red\", alpha=0.5)\n",
    "    return plt.show()"
   ]
  },
  {
   "cell_type": "code",
   "execution_count": 131,
   "metadata": {},
   "outputs": [
    {
     "data": {
      "image/png": "[encoded data removed]",
      "text/plain": [
       "<Figure size 432x288 with 1 Axes>"
      ]
     },
     "metadata": {
      "needs_background": "light"
     },
     "output_type": "display_data"
    }
   ],
   "source": [
    "t0 = 1 ### try different values\n",
    "t1 = 1 ### try different values\n",
    "\n",
    "plot_data_with_hypothesis(x, y, theta0=t0, theta1=t1)"
   ]
  },
  {
   "cell_type": "markdown",
   "metadata": {
    "slideshow": {
     "slide_type": "slide"
    }
   },
   "source": [
    "### Cost Function Visualization\n",
    "\n",
    "After implementing a cost function, it is probably a good idea to visualize it to get from an abstract understanding to a more concrete representation. Use `matplotlib` and plot the cost function in two different ways. Create a [contour plot](https://matplotlib.org/api/_as_gen/matplotlib.pyplot.contour.html) that depicts a three-dimensional surface on a two-dimensional graph and plot the [surface](https://matplotlib.org/tutorials/toolkits/mplot3d.html?highlight=3d%20surface#mpl_toolkits.mplot3d.Axes3D.plot_surface) itself. Your visualization should consist of two subplots and have corresponding labeling, similar to the following example:\n",
    "\n",
    "![internet connection needed](https://gitlab.com/deep.TEACHING/educational-materials/raw/dev/media/voigt/images/Simple-Linear-Regression_Cost-Function.png)"
   ]
  },
  {
   "cell_type": "code",
   "execution_count": 13,
   "metadata": {
    "slideshow": {
     "slide_type": "slide"
    }
   },
   "outputs": [],
   "source": [
    "def create_cost_plt_grid(cost, interval, num_samples, theta0_offset=0., theta1_offset=0.):\n",
    "    ''' \n",
    "    Creates mesh points for a 3D plot based on a given interval and a cost function.\n",
    "    The function creates a numpy meshgrid for plotting a 3D-plot of the cost function.\n",
    "    Additionally, for the mesh grid points cost values are calulated and returned.\n",
    "    \n",
    "    Args:\n",
    "        cost: a function that is used to calculate costs. The function \"cost\" was typically e.g. \n",
    "              created by calling \"cost = mse_cost_function(x, y)\". So, the data x,y and the model \n",
    "              are used internally in cost. The arguments of the function cost are \n",
    "              theta_0 und theta_1, i.e. cost(theta_0, theta_0).\n",
    "        interval: a scalar that defines the range [-interval, interval] of the mesh grid\n",
    "        num_mesh: the total number of points in the mesh grid is num_mesh * num_mesh (equaly distributed) \n",
    "        theta0_offset: shifts the plotted interval for theta0 by a scalar\n",
    "        theta1_offset: shifts the plotted interval for theta1 by a scalar\n",
    "        \n",
    "    Returns:\n",
    "        T0: a matrix representing a meshgrid for the values of the first plot dimesion (Theta 0) \n",
    "        T1: a matrix representing a meshgrid for the values of the second plot dimesion (Theta 1)\n",
    "        C: a matrix respresenting cost values (third plot dimension)        \n",
    "    '''\n",
    "    raise NotImplementedError(\"You should implement this!\")\n",
    "\n",
    "def create_cost_plt(T0, T1, Costs):\n",
    "    ''' Creates a counter and a surface plot based on given data\n",
    "    \n",
    "    Args:\n",
    "        T0: a matrix representing a meshgrid for X values (Theta 0) \n",
    "        T1: a matrix representing a meshgrid for Y values (Theta 1)\n",
    "        C: a matrix respresenting cost values \n",
    "    '''\n",
    "    raise NotImplementedError(\"You should implement this!\")"
   ]
  },
  {
   "cell_type": "code",
   "execution_count": 15,
   "metadata": {},
   "outputs": [
    {
     "data": {
      "image/png": "[encoded data removed]",
      "text/plain": [
       "<Figure size 936x432 with 3 Axes>"
      ]
     },
     "metadata": {
      "needs_background": "light"
     },
     "output_type": "display_data"
    }
   ],
   "source": [
    "# create some data and plot it\n",
    "T0, T1, C = create_cost_plt_grid(j, 1000, 51, theta1_offset=5.)\n",
    "create_cost_plt(T0, T1, C)"
   ]
  },
  {
   "cell_type": "markdown",
   "metadata": {
    "slideshow": {
     "slide_type": "slide"
    }
   },
   "source": [
    "###  Gradient Descent\n",
    "\n",
    "A short recap, the gradient descent algorithm is a first-order iterative optimization for finding a minimum of a function. From the current position in a (cost) function, the algorithm steps proportional to the negative of the gradient and repeats this until it reaches a local or global minimum and determines. Stepping proportional means that it does not go entirely in the direction of the negative gradient, but scaled by a fixed value $\\alpha$ also called the learning rate. Implementing the following formalized update rule is the core of the optimization process:\n",
    "\n",
    "\\begin{equation}\n",
    "    \\theta_{j}^{new} \\leftarrow \\theta_{j}^{new} - \\alpha * \\frac{\\partial}{\\partial\\theta_{j}} J(\\theta^{old})\n",
    "\\end{equation}\n",
    "\n",
    "$\\frac{\\partial}{\\partial\\theta_{j_{old}}} J(\\theta_{old})$ is the partial derivative (gradient) of the cost function with respect to the j-th parameter.\n",
    "\n",
    "Partial derivative for $\\theta_0$:\n",
    "$$\n",
    "\\frac{\\partial}{\\partial \\theta_0} J(\\Theta)\n",
    "= \\frac{1}{m} \\sum_{i=1}^m (\\theta_0 + \\theta_1 \\cdot x^{(i)} - y^{(i)})\n",
    "$$\n",
    "\n",
    "Partial derivative for $\\theta_1$:\n",
    "$$\n",
    "\\frac{\\partial}{\\partial \\theta_1} = \\frac{1}{m} \\sum_{i=1}^m (\\theta_0 + \\theta_1 \\cdot x^{(i)} - y^{(i)}) \\cdot x^{(i)}\n",
    "$$"
   ]
  },
  {
   "cell_type": "code",
   "execution_count": 135,
   "metadata": {
    "slideshow": {
     "slide_type": "slide"
    }
   },
   "outputs": [],
   "source": [
    "def update_theta(x, y, theta_0, theta_1, learning_rate):\n",
    "    ''' Updates learnable parameters theta_0 and theta_1 \n",
    "    \n",
    "    The update is done by calculating the partial derivities of \n",
    "    the cost function including the linear hypothesis. The \n",
    "    gradients scaled by a scalar are subtracted from the given \n",
    "    theta values.\n",
    "    \n",
    "    Args:\n",
    "        x: array of x values\n",
    "        y: array of y values corresponding to x\n",
    "        theta_0: current theta_0 value\n",
    "        theta_1: current theta_1 value\n",
    "        learning_rate: value to scale the negative gradient \n",
    "        \n",
    "    Returns:\n",
    "        t0: Updated theta_0\n",
    "        t1: Updated theta_1\n",
    "    '''\n",
    "    update_t0 = (1 / len(x) * np.sum(theta_0 + (theta_1 * x) - y))\n",
    "    update_t1 = (1 / len(x) * np.sum((theta_0 + (theta_1 * x) - y)*x))\n",
    "    t0 = theta_0 - learning_rate * update_t0\n",
    "    t1 = theta_1 - learning_rate * update_t1\n",
    "    return t0, t1\n",
    "    raise NotImplementedError(\"You should implement this!\")"
   ]
  },
  {
   "cell_type": "markdown",
   "metadata": {
    "slideshow": {
     "slide_type": "slide"
    }
   },
   "source": [
    "Using the `update_theta` method, you can now implement the gradient descent algorithm. Iterate over the update rule to find a $\\theta_0$ and a $\\theta_1$ that minimize our cost function $J_D(\\theta)$. This process is often called training of a machine learning model. During the training process create a history of all theta and cost values. You can use them later for evaluation. Implement a `verbose` argument that if true provides additional information during the process, e.g., final theta values after optimization or cost value at some iterations."
   ]
  },
  {
   "cell_type": "code",
   "execution_count": 152,
   "metadata": {
    "slideshow": {
     "slide_type": "slide"
    }
   },
   "outputs": [],
   "source": [
    "def gradient_descent(x, y, iterations=1000, learning_rate=0.0001, verbose=False):\n",
    "    ''' Minimize theta values of a linear model based on MSE cost function\n",
    "    \n",
    "    Args:\n",
    "        x: vector, x values from the data set\n",
    "        y: vector, y values from the data set\n",
    "        iterations: scalar, number of theta updates\n",
    "        learning_rate: scalar, scales the negative gradient \n",
    "        verbose: boolean, print addition information \n",
    "        \n",
    "    Returns:\n",
    "        t0s: list of theta_0 values, one value for each iteration\n",
    "        t1s: list of theta_1 values, one value for each iteration\n",
    "        costs: list oft costs, one value for each iteration.\n",
    "    '''\n",
    "    #wiederhole update prozess (update_theta) iterations times\n",
    "    #für jede iteration speicher ich theta und cost values\n",
    "     \n",
    "    #schleife für anzahl iteratione, in jedem durchlauf brerechne \n",
    "    t0 = np.zeros(1000)\n",
    "    t1 = np.zeros(1000)\n",
    "    cost = np.zeros(1000)\n",
    "    for i in range(1000):\n",
    "        if (i == 0):\n",
    "            update = update_theta(x,y,1, 1, learning_rate)\n",
    "            t0[i] = update[0]\n",
    "            t1[i] = update[1]\n",
    "            cost[i] = mse_cost_function(x, y)( t0[i], t1[i])\n",
    "        else:\n",
    "            update = update_theta(x,y,t0[i-1], t1[i-1], learning_rate)\n",
    "            t0[i] = update[0]\n",
    "            t1[i] = update[1]\n",
    "            cost[i] = mse_cost_function(x, y)(t0[i], t1[i])\n",
    "    if(verbose):\n",
    "        print(\"Final theta 0: \" +  str(t0[-1]))\n",
    "        print(\"Final theta 1: \" + str(t1[-1]))\n",
    "        print(\"Cost: \" + str(cost[-1]))\n",
    "    return cost, t0, t1"
   ]
  },
  {
   "cell_type": "code",
   "execution_count": 153,
   "metadata": {},
   "outputs": [
    {
     "name": "stdout",
     "output_type": "stream",
     "text": [
      "Final theta 0: 0.632066371095692\n",
      "Final theta 1: 4.967232181316317\n",
      "Cost: 10.529830644983564\n"
     ]
    }
   ],
   "source": [
    "cost_hist, t0_hist, t1_hist = gradient_descent(x, y, iterations=250, learning_rate=0.0003, verbose=True)\n"
   ]
  },
  {
   "cell_type": "markdown",
   "metadata": {
    "slideshow": {
     "slide_type": "slide"
    }
   },
   "source": [
    "###  Model and Training Evaluation\n",
    "Now visualize the training process by plotting the `cost_hist` as a curve. Also, create a plot that shows the decision boundary of your final hypothesis (model) inside your data. Your plots should look like:\n",
    "\n",
    "![internet connection needed](https://gitlab.com/deep.TEACHING/educational-materials/raw/dev/media/voigt/images/Simple-Linear-Regression_Decision-Boundary.png)"
   ]
  },
  {
   "cell_type": "markdown",
   "metadata": {
    "slideshow": {
     "slide_type": "slide"
    }
   },
   "source": [
    "### Optimize Hyperparameter\n",
    "In machine learning, hyperparameters are parameters whose values are set before starting the training process of the model. The learning rate is a hyperparameter, and it is a crucial parameter in the context of optimization with first-order methods in supervised learning. It can easily happen that your model does not learn if you have chosen an unsuited learning rate. To find a suitable learning rate for your problem, you need to try different ones. Implement a function `optimize_learning_rate` that trains your model with different learning rates and plots the different cost histories. Try to identify edge cases, e.g., cases when the learning rate is too high or too low, to develop a better feeling for the learning rate problem. Your plot could look like this:\n",
    "\n",
    "![internet connection needed](https://gitlab.com/deep.TEACHING/educational-materials/raw/dev/media/voigt/images/Simple-Linear-Regression_Learning-Rates.png)"
   ]
  },
  {
   "cell_type": "code",
   "execution_count": 226,
   "metadata": {
    "slideshow": {
     "slide_type": "slide"
    }
   },
   "outputs": [
    {
     "ename": "SyntaxError",
     "evalue": "positional argument follows keyword argument (410637961.py, line 9)",
     "output_type": "error",
     "traceback": [
      "\u001b[0;36m  File \u001b[0;32m\"/var/folders/0n/n106l5rn7cb6yw8038g17vcm0000gn/T/ipykernel_20490/410637961.py\"\u001b[0;36m, line \u001b[0;32m9\u001b[0m\n\u001b[0;31m    return gradient_descent(x, y, iterations=250, learning_rates, verbose=False):\u001b[0m\n\u001b[0m                                                                               ^\u001b[0m\n\u001b[0;31mSyntaxError\u001b[0m\u001b[0;31m:\u001b[0m positional argument follows keyword argument\n"
     ]
    }
   ],
   "source": [
    "def optimize_learning_rate(learning_rates, x, y):\n",
    "    ''' Train a model with diffrent learning rates and plots the costs\n",
    "    \n",
    "    Args:\n",
    "        learning_rates: vector, learning rates used to train a linear model\n",
    "        x: vector, x values from the data set\n",
    "        y: vector, y values from the data set\n",
    "    '''    \n",
    "    return gradient_descent(x, y, iterations=250, learning_rates, verbose=False):\n",
    "    raise NotImplementedError(\"You should implement this!\")"
   ]
  },
  {
   "cell_type": "code",
   "execution_count": 227,
   "metadata": {},
   "outputs": [
    {
     "ename": "NameError",
     "evalue": "name 'optimize_learning_rate' is not defined",
     "output_type": "error",
     "traceback": [
      "\u001b[0;31m---------------------------------------------------------------------------\u001b[0m",
      "\u001b[0;31mNameError\u001b[0m                                 Traceback (most recent call last)",
      "\u001b[0;32m/var/folders/0n/n106l5rn7cb6yw8038g17vcm0000gn/T/ipykernel_20490/1978659212.py\u001b[0m in \u001b[0;36m<module>\u001b[0;34m\u001b[0m\n\u001b[1;32m      1\u001b[0m \u001b[0mpotential_lr\u001b[0m \u001b[0;34m=\u001b[0m \u001b[0mnp\u001b[0m\u001b[0;34m.\u001b[0m\u001b[0marray\u001b[0m\u001b[0;34m(\u001b[0m\u001b[0;34m[\u001b[0m\u001b[0;36m0.0001\u001b[0m\u001b[0;34m,\u001b[0m \u001b[0;36m0.0007\u001b[0m\u001b[0;34m,\u001b[0m \u001b[0;36m0.001\u001b[0m\u001b[0;34m,\u001b[0m \u001b[0;36m0.007\u001b[0m\u001b[0;34m,\u001b[0m \u001b[0;36m.01\u001b[0m\u001b[0;34m,\u001b[0m \u001b[0;36m.0588\u001b[0m\u001b[0;34m,\u001b[0m \u001b[0;36m.05899\u001b[0m\u001b[0;34m]\u001b[0m\u001b[0;34m)\u001b[0m\u001b[0;34m\u001b[0m\u001b[0;34m\u001b[0m\u001b[0m\n\u001b[0;32m----> 2\u001b[0;31m \u001b[0moptimize_learning_rate\u001b[0m\u001b[0;34m(\u001b[0m\u001b[0mpotential_lr\u001b[0m\u001b[0;34m,\u001b[0m \u001b[0mx\u001b[0m\u001b[0;34m,\u001b[0m \u001b[0my\u001b[0m\u001b[0;34m)\u001b[0m\u001b[0;34m\u001b[0m\u001b[0;34m\u001b[0m\u001b[0m\n\u001b[0m",
      "\u001b[0;31mNameError\u001b[0m: name 'optimize_learning_rate' is not defined"
     ]
    }
   ],
   "source": [
    "potential_lr = np.array([0.0001, 0.0007, 0.001, 0.007, .01, .0588, .05899])\n",
    "optimize_learning_rate(potential_lr, x, y)"
   ]
  },
  {
   "cell_type": "markdown",
   "metadata": {
    "slideshow": {
     "slide_type": "slide"
    }
   },
   "source": [
    "## Summary and Outlook\n",
    "\n",
    "During this exercise, fundamental elements of Machine Learning were covered. You should be able to answer the following questions:\n",
    "- What is a model using the example of a linear function as a hypothesis?\n",
    "- How do you quantify a model?\n",
    "- What is the gradient descent algorithm and what is its used for in the context of Machine Learning?\n",
    "- Can you explain the concept of hyperparameters and name some?"
   ]
  },
  {
   "cell_type": "markdown",
   "metadata": {
    "slideshow": {
     "slide_type": "slide"
    }
   },
   "source": [
    "## Licenses\n",
    "\n",
    "### Notebook License (CC-BY-SA 4.0)\n",
    "\n",
    "*The following license applies to the complete notebook, including code cells. It does however not apply to any referenced external media (e.g., images).*\n",
    "\n",
    "Exercise: Simple Linear Regression <br/>\n",
    "by Christian Herta, Benjamin Voigt, Klaus Strohmenger <br/>\n",
    "is licensed under a [Creative Commons Attribution-ShareAlike 4.0 International License](http://creativecommons.org/licenses/by-sa/4.0/).<br/>\n",
    "Based on a work at https://gitlab.com/deep.TEACHING.\n",
    "\n",
    "\n",
    "### Code License (MIT)\n",
    "\n",
    "*The following license only applies to code cells of the notebook.*\n",
    "\n",
    "Copyright 2018 Christian Herta, Benjamin Voigt, Klaus Strohmenger\n",
    "\n",
    "Permission is hereby granted, free of charge, to any person obtaining a copy of this software and associated documentation files (the \"Software\"), to deal in the Software without restriction, including without limitation the rights to use, copy, modify, merge, publish, distribute, sublicense, and/or sell copies of the Software, and to permit persons to whom the Software is furnished to do so, subject to the following conditions:\n",
    "\n",
    "The above copyright notice and this permission notice shall be included in all copies or substantial portions of the Software.\n",
    "\n",
    "THE SOFTWARE IS PROVIDED \"AS IS\", WITHOUT WARRANTY OF ANY KIND, EXPRESS OR IMPLIED, INCLUDING BUT NOT LIMITED TO THE WARRANTIES OF MERCHANTABILITY, FITNESS FOR A PARTICULAR PURPOSE AND NONINFRINGEMENT. IN NO EVENT SHALL THE AUTHORS OR COPYRIGHT HOLDERS BE LIABLE FOR ANY CLAIM, DAMAGES OR OTHER LIABILITY, WHETHER IN AN ACTION OF CONTRACT, TORT OR OTHERWISE, ARISING FROM, OUT OF OR IN CONNECTION WITH THE SOFTWARE OR THE USE OR OTHER DEALINGS IN THE SOFTWARE."
   ]
  }
 ],
 "metadata": {
  "celltoolbar": "Slideshow",
  "kernelspec": {
   "display_name": "Python 3 (ipykernel)",
   "language": "python",
   "name": "python3"
  },
  "language_info": {
   "codemirror_mode": {
    "name": "ipython",
    "version": 3
   },
   "file_extension": ".py",
   "mimetype": "text/x-python",
   "name": "python",
   "nbconvert_exporter": "python",
   "pygments_lexer": "ipython3",
   "version": "3.9.7"
  }
 },
 "nbformat": 4,
 "nbformat_minor": 2
}
