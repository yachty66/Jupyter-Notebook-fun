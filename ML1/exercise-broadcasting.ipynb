{
 "cells": [
  {
   "cell_type": "markdown",
   "metadata": {},
   "source": [
    "# Exercise broadcasting"
   ]
  },
  {
   "cell_type": "markdown",
   "metadata": {},
   "source": [
    "## Table of Contents\n",
    "* [Introduction](#Introduction) \n",
    "* [Requirements](#Requirements) \n",
    "  * [Knowledge](#Knowledge) \n",
    "  * [Modules](#Python-Modules) \n",
    "* [Exercises](#Exercises)\n",
    "    * [Exercise memory usage](#Exercise-memory-usage)\n",
    "    * [Exercise computation time](#Exercise-computation-time)\n",
    "    * [General exercises](#General-exercises)\n",
    "* [Licenses](#Licenses) "
   ]
  },
  {
   "cell_type": "markdown",
   "metadata": {},
   "source": [
    "## Introduction\n",
    "\n"
   ]
  },
  {
   "cell_type": "markdown",
   "metadata": {},
   "source": [
    "This notebook provides a small collection of exercises about broadcasting. You will work your way from from easy to more advanced examples. You'll perform certain tasks using loops on the one hand and broadcasting on the other, and compare the two approaches with respect to memory usage and computation time."
   ]
  },
  {
   "cell_type": "markdown",
   "metadata": {},
   "source": [
    "## Requirements \n",
    "### Knowledge\n",
    "\n",
    "This notebook is the exercise part for the chapter about broadcasting from the notebook NumpyAndArrays.\n",
    "\n",
    "Study also the numpy documentation for broadcasting:\n",
    " - https://docs.scipy.org/doc/numpy/user/basics.broadcasting.html\n",
    " - http://www.numpy.org/devdocs/user/theory.broadcasting.html\n",
    " \n",
    "\n",
    "It might be of help to also read and solve the exercises for all previous chapters."
   ]
  },
  {
   "cell_type": "markdown",
   "metadata": {},
   "source": [
    "## Modules"
   ]
  },
  {
   "cell_type": "code",
   "execution_count": null,
   "metadata": {},
   "outputs": [],
   "source": [
    "import numpy as np\n",
    "import sys"
   ]
  },
  {
   "cell_type": "markdown",
   "metadata": {},
   "source": [
    "## Exercises"
   ]
  },
  {
   "cell_type": "markdown",
   "metadata": {},
   "source": [
    "Consider the following matrix."
   ]
  },
  {
   "cell_type": "code",
   "execution_count": null,
   "metadata": {},
   "outputs": [],
   "source": [
    "M = np.arange(25).reshape(5,5)\n",
    "print(M)"
   ]
  },
  {
   "cell_type": "markdown",
   "metadata": {},
   "source": [
    "**Task** Add, subtract, multiply and divide all elements by 4."
   ]
  },
  {
   "cell_type": "markdown",
   "metadata": {},
   "source": [
    "## Exercise memory usage"
   ]
  },
  {
   "cell_type": "markdown",
   "metadata": {},
   "source": [
    "In the following task you will see how much storage and computional time we actually save using broadcasting."
   ]
  },
  {
   "cell_type": "markdown",
   "metadata": {},
   "source": [
    "**Task** Generate a 5000x5000 random matrix and multiply it by 4 using  two different approaches:\n",
    "* by making use of numpy broadcasting\n",
    "* using a 5000x5000 matrix filled with 4s\n",
    "Compare the storage used by using the `nbytes` funtion for array objects and `sys.getsizeof(.)` for numbers.\n",
    "\n",
    "\n",
    "Hint: On this website you find more information about the [Memory Management in Python](http://deeplearning.net/software/theano/tutorial/python-memory-management.html).\n",
    "\n",
    "<!-- **Hint:** You can also use your system activity monitor to see the memory used by python. Restart the kernel before running your code the empty the storage before. -->\n"
   ]
  },
  {
   "cell_type": "code",
   "execution_count": null,
   "metadata": {},
   "outputs": [],
   "source": [
    "print(help(sys.getsizeof))"
   ]
  },
  {
   "cell_type": "markdown",
   "metadata": {},
   "source": [
    "## Exercise computation time"
   ]
  },
  {
   "cell_type": "markdown",
   "metadata": {},
   "source": [
    "In the exercise above we saw that broadcasting saves a lot of memory. Now lets see how much computation time we save."
   ]
  },
  {
   "cell_type": "markdown",
   "metadata": {},
   "source": [
    "**Task** Generate a random 5000x5000 matrix and multiply each element by 4.0 using two different approaches:\n",
    "* using broadcasting\n",
    "* using a python loop\n",
    "\n",
    "Measure the computation time needed and compare them.\n",
    "\n",
    "Use `time.time()` to get the actual system time."
   ]
  },
  {
   "cell_type": "code",
   "execution_count": null,
   "metadata": {},
   "outputs": [],
   "source": [
    "import time as time"
   ]
  },
  {
   "cell_type": "markdown",
   "metadata": {},
   "source": [
    "### General exercises"
   ]
  },
  {
   "cell_type": "markdown",
   "metadata": {},
   "source": [
    "**Task** Given the following array `A`, generate from it an (additional) column vector `B` (shape=`(4,1)`) and broadcast them by multiplication `*` into a square matrix. Explain the result. "
   ]
  },
  {
   "cell_type": "code",
   "execution_count": null,
   "metadata": {},
   "outputs": [],
   "source": [
    "A = np.arange(1,5)\n",
    "print(A)"
   ]
  },
  {
   "cell_type": "markdown",
   "metadata": {},
   "source": [
    "**Task** \n",
    "\n",
    "Given are the following arrays:\n",
    "\n",
    "    A = np.random.randint(0,10, size=(2,3,1))\n",
    "    B = np.random.randint(0,10, size=(2,3,3))\n",
    "    C = np.random.randint(0,10, size=(1,3,2))\n",
    "\n",
    "Which of the following operations are not permitted? Think about it before you try it out. Explain why?\n",
    "\n",
    "    A*B\n",
    "    A*C\n",
    "    B*C"
   ]
  },
  {
   "cell_type": "markdown",
   "metadata": {},
   "source": [
    "**Task** Given a unit vector in the form of an array and a matrix of data points.  \n",
    "Calculate the euclidian distance between each data point to that unit vector."
   ]
  },
  {
   "cell_type": "code",
   "execution_count": null,
   "metadata": {},
   "outputs": [],
   "source": [
    "np.random.seed(42)\n",
    "Unit = np.array([1,0,0])\n",
    "print(Unit)\n",
    "print()\n",
    "Data = np.random.rand(6,3).round(1)\n",
    "print(Data)"
   ]
  },
  {
   "cell_type": "markdown",
   "metadata": {},
   "source": [
    "**Task** Given a matrix with three unit vectors and a matrix of data points, calculate the distance between each unit vector and each data point."
   ]
  },
  {
   "cell_type": "code",
   "execution_count": null,
   "metadata": {},
   "outputs": [],
   "source": [
    "np.random.seed(42)\n",
    "Axes = np.eye(3)\n",
    "Data = np.random.rand(6,3).round(1)\n",
    "\n",
    "print(Axes)\n",
    "print()\n",
    "print(Data)\n",
    "print(Data.shape)"
   ]
  },
  {
   "cell_type": "markdown",
   "metadata": {},
   "source": [
    "## Licenses\n",
    "\n",
    "### Notebook License (CC-BY-SA 4.0)\n",
    "\n",
    "*The following license applies to the complete notebook, including code cells. It does however not apply to any referenced external media (e.g., images).*\n",
    "\n",
    "exercise_broadcasting <br/>\n",
    "Oliver Fischer <br/>\n",
    "is licensed under a [Creative Commons Attribution-ShareAlike 4.0 International License](http://creativecommons.org/licenses/by-sa/4.0/).<br/>\n",
    "Based on a work at https://gitlab.com/deep.TEACHING.\n",
    "\n",
    "\n",
    "### Code License (MIT)\n",
    "\n",
    "*The following license only applies to code cells of the notebook.*\n",
    "\n",
    "Copyright 2019 Oliver Fischer     \n",
    "Permission is hereby granted, free of charge, to any person obtaining a copy of this software and associated documentation files (the \"Software\"), to deal in the Software without restriction, including without limitation the rights to use, copy, modify, merge, publish, distribute, sublicense, and/or sell copies of the Software, and to permit persons to whom the Software is furnished to do so, subject to the following conditions:\n",
    "\n",
    "The above copyright notice and this permission notice shall be included in all copies or substantial portions of the Software.\n",
    "\n",
    "THE SOFTWARE IS PROVIDED \"AS IS\", WITHOUT WARRANTY OF ANY KIND, EXPRESS OR IMPLIED, INCLUDING BUT NOT LIMITED TO THE WARRANTIES OF MERCHANTABILITY, FITNESS FOR A PARTICULAR PURPOSE AND NONINFRINGEMENT. IN NO EVENT SHALL THE AUTHORS OR COPYRIGHT HOLDERS BE LIABLE FOR ANY CLAIM, DAMAGES OR OTHER LIABILITY, WHETHER IN AN ACTION OF CONTRACT, TORT OR OTHERWISE, ARISING FROM, OUT OF OR IN CONNECTION WITH THE SOFTWARE OR THE USE OR OTHER DEALINGS IN THE SOFTWARE.\n",
    "\n",
    "\n"
   ]
  }
 ],
 "metadata": {
  "celltoolbar": "Slideshow",
  "kernelspec": {
   "display_name": "deep_teaching_kernel",
   "language": "python",
   "name": "deep_teaching_kernel"
  },
  "language_info": {
   "codemirror_mode": {
    "name": "ipython",
    "version": 3
   },
   "file_extension": ".py",
   "mimetype": "text/x-python",
   "name": "python",
   "nbconvert_exporter": "python",
   "pygments_lexer": "ipython3",
   "version": "3.6.5"
  }
 },
 "nbformat": 4,
 "nbformat_minor": 2
}
