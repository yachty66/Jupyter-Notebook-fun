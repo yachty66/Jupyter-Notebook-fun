{
 "cells": [
  {
   "cell_type": "markdown",
   "metadata": {},
   "source": [
    "# Exercise indexing and slicing"
   ]
  },
  {
   "cell_type": "markdown",
   "metadata": {},
   "source": [
    "## Table of Contents\n",
    "* [Introduction](#Introduction) \n",
    "* [Requirements](#Requirements) \n",
    "  * [Knowledge](#Knowledge) \n",
    "  * [Modules](#Python-Modules) \n",
    "* [Exercises](#Exercises)\n",
    "    * [Exercise 1D Array](#Exercise-1D-Array)\n",
    "    * [Exercise 2D Array](#Exercise-2D-Array)\n",
    "    * [Exercise 3D Array](#Exercise-3D-Array)\n",
    "    * [Exercise 4D Array](#Exercise-4D-Array)\n",
    "* [Licenses](#Licenses) "
   ]
  },
  {
   "cell_type": "markdown",
   "metadata": {},
   "source": [
    "## Introduction\n",
    "\n"
   ]
  },
  {
   "cell_type": "markdown",
   "metadata": {},
   "source": [
    "This notebook provides a small collection of exercises about indexing and slicing for numpy arrays. You will start working with 1D arrays working your way up to 4D. It will be always possible to choose between different styles of solving an exercise but try to use \"get all (:)\" or slicing if a task offers it to be more efficient and shorten your code."
   ]
  },
  {
   "cell_type": "markdown",
   "metadata": {},
   "source": [
    "## Requirements \n",
    "### Knowledge\n",
    "\n",
    "This notebook is the exercise part for the chapters about indexing and slicing from the notebook NumpyAndArrays, so all the knowledge you will need to solve these exercises is provided by this theory notebook."
   ]
  },
  {
   "cell_type": "markdown",
   "metadata": {},
   "source": [
    "## Modules"
   ]
  },
  {
   "cell_type": "code",
   "execution_count": 4,
   "metadata": {},
   "outputs": [],
   "source": [
    "import numpy as np"
   ]
  },
  {
   "cell_type": "markdown",
   "metadata": {},
   "source": [
    "# Exercises"
   ]
  },
  {
   "cell_type": "markdown",
   "metadata": {},
   "source": [
    "## Exercise 1D Array"
   ]
  },
  {
   "cell_type": "code",
   "execution_count": 2,
   "metadata": {},
   "outputs": [
    {
     "name": "stdout",
     "output_type": "stream",
     "text": [
      "[0 1 2 3 4 5 6 7 8 9]\n"
     ]
    }
   ],
   "source": [
    "A1 = np.arange(10)\n",
    "print(A1)"
   ]
  },
  {
   "cell_type": "markdown",
   "metadata": {
    "slideshow": {
     "slide_type": "-"
    }
   },
   "source": [
    "**Task:** Print the first and the last element."
   ]
  },
  {
   "cell_type": "code",
   "execution_count": 5,
   "metadata": {},
   "outputs": [
    {
     "name": "stdout",
     "output_type": "stream",
     "text": [
      "9\n",
      "0\n"
     ]
    }
   ],
   "source": [
    "print(A1[-1])\n",
    "print(A1[0])"
   ]
  },
  {
   "cell_type": "code",
   "execution_count": 3,
   "metadata": {},
   "outputs": [
    {
     "name": "stdout",
     "output_type": "stream",
     "text": [
      "[0 1 2 3 4 5 6 7 8 9]\n"
     ]
    }
   ],
   "source": [
    "print(A1)"
   ]
  },
  {
   "cell_type": "markdown",
   "metadata": {},
   "source": [
    "**Task:** Print each element with even index."
   ]
  },
  {
   "cell_type": "code",
   "execution_count": 6,
   "metadata": {},
   "outputs": [
    {
     "name": "stdout",
     "output_type": "stream",
     "text": [
      "0\n",
      "2\n",
      "4\n",
      "6\n",
      "8\n"
     ]
    }
   ],
   "source": [
    "for i in range(len(A1)):\n",
    "    if i % 2 == 0:\n",
    "        print(A1[i])"
   ]
  },
  {
   "cell_type": "markdown",
   "metadata": {},
   "source": [
    "**Task:** Print the first four elements."
   ]
  },
  {
   "cell_type": "code",
   "execution_count": 7,
   "metadata": {},
   "outputs": [
    {
     "name": "stdout",
     "output_type": "stream",
     "text": [
      "0\n",
      "1\n",
      "2\n",
      "3\n"
     ]
    }
   ],
   "source": [
    "for i in range(4):\n",
    "    print(A1[i])"
   ]
  },
  {
   "cell_type": "markdown",
   "metadata": {},
   "source": [
    "**Task** Print the last three elements."
   ]
  },
  {
   "cell_type": "code",
   "execution_count": 12,
   "metadata": {},
   "outputs": [
    {
     "name": "stdout",
     "output_type": "stream",
     "text": [
      "9\n",
      "8\n",
      "7\n"
     ]
    }
   ],
   "source": [
    "\n",
    "for i in range(4):\n",
    "    i = i * (-1)\n",
    "    if i != 0:\n",
    "        print(A1[i])"
   ]
  },
  {
   "cell_type": "markdown",
   "metadata": {},
   "source": [
    "**Task** Print element four to eight."
   ]
  },
  {
   "cell_type": "code",
   "execution_count": 14,
   "metadata": {},
   "outputs": [
    {
     "name": "stdout",
     "output_type": "stream",
     "text": [
      "[4 5 6 7 8]\n"
     ]
    }
   ],
   "source": [
    "print(A1[4:9])"
   ]
  },
  {
   "cell_type": "markdown",
   "metadata": {},
   "source": [
    "## Exercise 2D Array "
   ]
  },
  {
   "cell_type": "code",
   "execution_count": 15,
   "metadata": {},
   "outputs": [
    {
     "name": "stdout",
     "output_type": "stream",
     "text": [
      "[[37. 95. 73. 60. 16. 16.  6.]\n",
      " [87. 60. 71.  2. 97. 83. 21.]\n",
      " [18. 18. 30. 52. 43. 29. 61.]\n",
      " [14. 29. 37. 46. 79. 20. 51.]\n",
      " [59.  5. 61. 17.  7. 95. 97.]\n",
      " [81. 30. 10. 68. 44. 12. 50.]\n",
      " [ 3. 91. 26. 66. 31. 52. 55.]\n",
      " [18. 97. 78. 94. 89. 60. 92.]\n",
      " [ 9. 20.  5. 33. 39. 27. 83.]]\n"
     ]
    }
   ],
   "source": [
    "np.random.seed(42)\n",
    "M1 = 100*np.random.rand(9,7).round(2)\n",
    "print(M1)"
   ]
  },
  {
   "cell_type": "markdown",
   "metadata": {},
   "source": [
    "**Task** Print the first and the last row with one slice operation.\n"
   ]
  },
  {
   "cell_type": "code",
   "execution_count": 23,
   "metadata": {},
   "outputs": [
    {
     "name": "stdout",
     "output_type": "stream",
     "text": [
      "[[87. 60. 71.  2. 97. 83. 21.]\n",
      " [ 9. 20.  5. 33. 39. 27. 83.]]\n"
     ]
    }
   ],
   "source": [
    "#print every 7th elem between start and end\n",
    "print(M1[1::7])"
   ]
  },
  {
   "cell_type": "markdown",
   "metadata": {},
   "source": [
    "**Task** Print all elements less than 10."
   ]
  },
  {
   "cell_type": "code",
   "execution_count": 33,
   "metadata": {},
   "outputs": [
    {
     "name": "stdout",
     "output_type": "stream",
     "text": [
      "[[37. 95. 73. 60. 16. 16.  6.]\n",
      " [87. 60. 71.  2. 97. 83. 21.]\n",
      " [18. 18. 30. 52. 43. 29. 61.]\n",
      " [14. 29. 37. 46. 79. 20. 51.]\n",
      " [59.  5. 61. 17.  7. 95. 97.]\n",
      " [81. 30. 10. 68. 44. 12. 50.]\n",
      " [ 3. 91. 26. 66. 31. 52. 55.]\n",
      " [18. 97. 78. 94. 89. 60. 92.]\n",
      " [ 9. 20.  5. 33. 39. 27. 83.]]\n",
      "6.0\n",
      "2.0\n",
      "5.0\n",
      "7.000000000000001\n",
      "3.0\n",
      "9.0\n",
      "5.0\n"
     ]
    }
   ],
   "source": [
    "print(M1)\n",
    "for i in M1:\n",
    "    for j in range(len(i)):\n",
    "        if i[j] < 10:\n",
    "            print (i[j])\n"
   ]
  },
  {
   "cell_type": "markdown",
   "metadata": {},
   "source": [
    "**Task** Print each even row."
   ]
  },
  {
   "cell_type": "code",
   "execution_count": 39,
   "metadata": {},
   "outputs": [
    {
     "name": "stdout",
     "output_type": "stream",
     "text": [
      "[[37. 95. 73. 60. 16. 16.  6.]\n",
      " [87. 60. 71.  2. 97. 83. 21.]\n",
      " [18. 18. 30. 52. 43. 29. 61.]\n",
      " [14. 29. 37. 46. 79. 20. 51.]\n",
      " [59.  5. 61. 17.  7. 95. 97.]\n",
      " [81. 30. 10. 68. 44. 12. 50.]\n",
      " [ 3. 91. 26. 66. 31. 52. 55.]\n",
      " [18. 97. 78. 94. 89. 60. 92.]\n",
      " [ 9. 20.  5. 33. 39. 27. 83.]]\n",
      "-------\n",
      "[[37. 95. 73. 60. 16. 16.  6.]\n",
      " [18. 18. 30. 52. 43. 29. 61.]\n",
      " [59.  5. 61. 17.  7. 95. 97.]\n",
      " [ 3. 91. 26. 66. 31. 52. 55.]\n",
      " [ 9. 20.  5. 33. 39. 27. 83.]]\n"
     ]
    }
   ],
   "source": [
    "print(M1)\n",
    "print(\"-------\")\n",
    "print(M1[0::2])"
   ]
  },
  {
   "cell_type": "markdown",
   "metadata": {},
   "source": [
    "**Task** Print each odd column."
   ]
  },
  {
   "cell_type": "code",
   "execution_count": 46,
   "metadata": {},
   "outputs": [
    {
     "name": "stdout",
     "output_type": "stream",
     "text": [
      "[[95. 60. 16.]\n",
      " [60.  2. 83.]\n",
      " [18. 52. 29.]\n",
      " [29. 46. 20.]\n",
      " [ 5. 17. 95.]\n",
      " [30. 68. 12.]\n",
      " [91. 66. 52.]\n",
      " [97. 94. 60.]\n",
      " [20. 33. 27.]]\n"
     ]
    }
   ],
   "source": [
    "#print every second elem from every row\n",
    "print(M1[0:,1::2])"
   ]
  },
  {
   "cell_type": "markdown",
   "metadata": {},
   "source": [
    "__Task__ Print the elements of the even rows and the odd columns."
   ]
  },
  {
   "cell_type": "markdown",
   "metadata": {},
   "source": [
    "**Task** Print all elements from the following matrix with a pair of even indices ([0,2],[2, 2], [4,2],.. etc.)."
   ]
  },
  {
   "cell_type": "code",
   "execution_count": null,
   "metadata": {},
   "outputs": [],
   "source": [
    "M1 = 100*np.random.rand(5,7).round(2)\n",
    "print(M1)"
   ]
  },
  {
   "cell_type": "markdown",
   "metadata": {},
   "source": [
    "## Exercise 3D Array"
   ]
  },
  {
   "cell_type": "code",
   "execution_count": null,
   "metadata": {},
   "outputs": [],
   "source": [
    "np.random.seed(42)\n",
    "M = np.random.randint(10, size=(2,2,10))\n",
    "print(M)\n",
    "# here we have four (most) internal array"
   ]
  },
  {
   "cell_type": "markdown",
   "metadata": {},
   "source": [
    "**Task** Print the first and the last internal vector-array, i.e.\n",
    "\n",
    "    [[6 3 7 4 6 9 2 6 7 4]\n",
    "     [8 2 4 2 6 4 8 6 1 3]]"
   ]
  },
  {
   "cell_type": "markdown",
   "metadata": {},
   "source": [
    "**Task** Print the last element from each internal array.\n",
    "\n",
    "    [4 1 3 3]"
   ]
  },
  {
   "cell_type": "markdown",
   "metadata": {},
   "source": [
    "**Task** Print every second element from the second internal array.\n",
    "    \n",
    "    [3 7 5 1 5]"
   ]
  },
  {
   "cell_type": "markdown",
   "metadata": {},
   "source": [
    "**Task** Print every element with odd index from each internal array.\n",
    "\n",
    "    [[[3 4 9 6 4]\n",
    "      [7 2 4 7 1]]\n",
    "\n",
    "     [[0 5 0 2 3]\n",
    "      [2 2 4 6 3]]]"
   ]
  },
  {
   "cell_type": "code",
   "execution_count": null,
   "metadata": {},
   "outputs": [],
   "source": [
    "np.random.seed(42)\n",
    "M = 100*np.random.rand(10,2,9).round(2)\n",
    "print(M)"
   ]
  },
  {
   "cell_type": "markdown",
   "metadata": {},
   "source": [
    "## Exercise 4D Array"
   ]
  },
  {
   "cell_type": "code",
   "execution_count": null,
   "metadata": {},
   "outputs": [],
   "source": [
    "np.random.seed(42)\n",
    "M = np.random.randint(0,100, size=(2,2,3,3))\n",
    "print(M)"
   ]
  },
  {
   "cell_type": "markdown",
   "metadata": {},
   "source": [
    "**Task** Print the central element from each internal matrix, i.e.\n",
    "\n",
    "    [60  2 59 58]"
   ]
  },
  {
   "cell_type": "markdown",
   "metadata": {},
   "source": [
    "**Task:** Get the second column from each matrix, i.e.\n",
    "\n",
    "    [[[92 60 86]\n",
    "      [87  2  1]]\n",
    "\n",
    "     [[37 59 75]\n",
    "      [88 58 59]]]"
   ]
  },
  {
   "cell_type": "markdown",
   "metadata": {},
   "source": [
    "**Task:** Get the second row from each matrix, i.e.\n",
    "\n",
    "    [[[71 60 20]\n",
    "      [23  2 21]]\n",
    "\n",
    "     [[63 59 20]\n",
    "      [90 58 41]]]"
   ]
  },
  {
   "cell_type": "markdown",
   "metadata": {},
   "source": [
    "**Task:** Get every element with an even index pair from each matrix.\n",
    "\n",
    "    [[[[51 14]\n",
    "       [82 74]]\n",
    "\n",
    "      [[74 99]\n",
    "       [52 87]]]\n",
    "     ...."
   ]
  },
  {
   "cell_type": "markdown",
   "metadata": {},
   "source": [
    "**Task:** Get the diagonal from each matrix.\n",
    "\n"
   ]
  },
  {
   "cell_type": "markdown",
   "metadata": {},
   "source": [
    "Consider now the following 4D array."
   ]
  },
  {
   "cell_type": "code",
   "execution_count": null,
   "metadata": {
    "scrolled": false
   },
   "outputs": [],
   "source": [
    "np.random.seed(42)\n",
    "M = 100*np.random.rand(6,2,6,4).round(2)\n",
    "print(M)"
   ]
  },
  {
   "cell_type": "markdown",
   "metadata": {},
   "source": [
    "**Task** Print from the second matrix of the inner matrix pair each second row.\n",
    "\n",
    "\n",
    "    [[[46. 79. 20. 51.]\n",
    "      [ 7. 95. 97. 81.]\n",
    "      [12. 50.  3. 91.]]\n",
    "\n",
    "     [[ 1. 82. 71. 73.]\n",
    "      [86. 62. 33.  6.]\n",
    "      [89. 47. 12. 71.]]\n",
    "    ...."
   ]
  },
  {
   "cell_type": "markdown",
   "metadata": {},
   "source": [
    "## Licenses\n",
    "\n",
    "### Notebook License (CC-BY-SA 4.0)\n",
    "\n",
    "*The following license applies to the complete notebook, including code cells. It does however not apply to any referenced external media (e.g., images).*\n",
    "\n",
    "exercise_indexing_and_slicing       \n",
    "Oliver Fischer <br/>\n",
    "is licensed under a [Creative Commons Attribution-ShareAlike 4.0 International License](http://creativecommons.org/licenses/by-sa/4.0/).<br/>\n",
    "Based on a work at https://gitlab.com/deep.TEACHING.\n",
    "\n",
    "\n",
    "### Code License (MIT)\n",
    "\n",
    "*The following license only applies to code cells of the notebook.*\n",
    "\n",
    "Copyright 2019 Oliver Fischer  \n",
    "\n",
    "Permission is hereby granted, free of charge, to any person obtaining a copy of this software and associated documentation files (the \"Software\"), to deal in the Software without restriction, including without limitation the rights to use, copy, modify, merge, publish, distribute, sublicense, and/or sell copies of the Software, and to permit persons to whom the Software is furnished to do so, subject to the following conditions:\n",
    "\n",
    "The above copyright notice and this permission notice shall be included in all copies or substantial portions of the Software.\n",
    "\n",
    "THE SOFTWARE IS PROVIDED \"AS IS\", WITHOUT WARRANTY OF ANY KIND, EXPRESS OR IMPLIED, INCLUDING BUT NOT LIMITED TO THE WARRANTIES OF MERCHANTABILITY, FITNESS FOR A PARTICULAR PURPOSE AND NONINFRINGEMENT. IN NO EVENT SHALL THE AUTHORS OR COPYRIGHT HOLDERS BE LIABLE FOR ANY CLAIM, DAMAGES OR OTHER LIABILITY, WHETHER IN AN ACTION OF CONTRACT, TORT OR OTHERWISE, ARISING FROM, OUT OF OR IN CONNECTION WITH THE SOFTWARE OR THE USE OR OTHER DEALINGS IN THE SOFTWARE.\n",
    "\n"
   ]
  }
 ],
 "metadata": {
  "celltoolbar": "Slideshow",
  "kernelspec": {
   "display_name": "Python 3",
   "language": "python",
   "name": "python3"
  },
  "language_info": {
   "codemirror_mode": {
    "name": "ipython",
    "version": 3
   },
   "file_extension": ".py",
   "mimetype": "text/x-python",
   "name": "python",
   "nbconvert_exporter": "python",
   "pygments_lexer": "ipython3",
   "version": "3.8.8"
  }
 },
 "nbformat": 4,
 "nbformat_minor": 2
}
