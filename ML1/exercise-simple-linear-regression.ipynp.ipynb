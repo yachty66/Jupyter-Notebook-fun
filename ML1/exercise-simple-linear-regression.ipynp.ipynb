{
 "cells": [
  {
   "cell_type": "markdown",
   "metadata": {
    "slideshow": {
     "slide_type": "slide"
    }
   },
   "source": [
    "# ML-Fundamentals - Linear Regression - Exercise: Simple Linear Regression"
   ]
  },
  {
   "cell_type": "markdown",
   "metadata": {
    "slideshow": {
     "slide_type": "slide"
    }
   },
   "source": [
    "## Table of Contents\n",
    "* [Introduction](#Introduction)\n",
    "* [Requirements](#Requirements) \n",
    "  * [Knowledge](#Knowledge) \n",
    "  * [Modules](#Python-Modules)\n",
    "* [Exercises: Simple Linear Regression](#Simple-Linear-Regression)\n",
    "  * [Create a Data Set](#Create-a-Data-Set)\n",
    "  * [Linear Hypothesis](#Linear-Hypothesis)\n",
    "  * [Cost Function](#Cost-Function)\n",
    "  * [Cost Function Visualization](#Cost-Function-Visualization)\n",
    "  * [Optimizing wit Gradient Descent](#Gradient-Descent)\n",
    "  * [Model Evaluation](#Model-and-Training-Evaluation)\n",
    "  * [Optimize Hyperparameters](#Optimize-Hyperparameter)  \n",
    "* [Summary and Outlook](#Summary-and-Outlook) \n",
    "* [Literature](#Literature) \n",
    "* [Licenses](#Licenses)"
   ]
  },
  {
   "cell_type": "markdown",
   "metadata": {
    "slideshow": {
     "slide_type": "slide"
    }
   },
   "source": [
    "## Introduction\n",
    "Linear Regression is the _Hello World_ of Machine Learning. In this exercise you will implement a _simple linear regression (univariate linear regression)_, a model with one predictor and one response variable. The goal is to recap and practice fundamental concepts of Machine Learning. After the exercise, you should have a deeper understanding of what a Machine Learning model is and how do you train such a model with a data set (supervised learning). To achieve this, you will:\n",
    "1. Calculate the cost and the gradient for concrete training data and $\\theta$ (pen & paper exercise)\n",
    "2. Create your own data set\n",
    "3. Implement a linear function as hypothesis (model) \n",
    "4. Write a function to quantify your model (cost function)\n",
    "5. Learn to visualize the cost function\n",
    "6. Implement the gradient descent algorithm to train your model (optimizer) \n",
    "7. Visualize your training process and results"
   ]
  },
  {
   "cell_type": "markdown",
   "metadata": {
    "slideshow": {
     "slide_type": "slide"
    }
   },
   "source": [
    "## Requirements\n",
    "### Knowledge\n",
    "You should have a basic knowledge of Machine Learning models, cost functions, optimization algorithms and also numpy and matplotlib. We will only recap these concepts for a better understanding and do not explain them in great detail. Suitable sources for acquiring this knowledge are:\n",
    "- [Simple Linear Regression Notebook](http://christianherta.de/lehre/dataScience/machineLearning/basics/univariate-linear-regression.php) by Christian Herta and his [lecture slides](http://christianherta.de/lehre/dataScience/machineLearning/linearRegression.pdf) (German)\n",
    "- Chapter 2 of the open classroom [Machine Learning](http://openclassroom.stanford.edu/MainFolder/CoursePage.php?course=MachineLearning) by Andrew Ng\n",
    "- Chapter 5.1 of [Deep Learning](http://www.deeplearningbook.org/contents/ml.html) by Ian Goodfellow \n",
    "- Some parts of chapter 1 and 3 of [Pattern Recognition and Machine Learning](https://www.microsoft.com/en-us/research/people/cmbishop/#!prml-book) by Christopher M. Bishop\n",
    "- [numpy quickstart](https://docs.scipy.org/doc/numpy-1.15.1/user/quickstart.html)\n",
    "- [Matplotlib tutorials](https://matplotlib.org/tutorials/index.html)"
   ]
  },
  {
   "cell_type": "markdown",
   "metadata": {
    "slideshow": {
     "slide_type": "slide"
    }
   },
   "source": [
    "### Python Modules\n",
    "\n",
    "By [deep.TEACHING](https://www.deep-teaching.org/) convention, all python modules needed to run the notebook are loaded centrally at the beginning. \n"
   ]
  },
  {
   "cell_type": "code",
   "execution_count": 22,
   "metadata": {
    "slideshow": {
     "slide_type": "slide"
    }
   },
   "outputs": [],
   "source": [
    "%matplotlib inline\n",
    "\n",
    "# External Modules\n",
    "import numpy as np\n",
    "import matplotlib.pyplot as plt\n",
    "from mpl_toolkits.mplot3d.axes3d import Axes3D"
   ]
  },
  {
   "cell_type": "markdown",
   "metadata": {
    "slideshow": {
     "slide_type": "slide"
    }
   },
   "source": [
    "## Exercises - Simple Linear Regression"
   ]
  },
  {
   "cell_type": "markdown",
   "metadata": {
    "slideshow": {
     "slide_type": "slide"
    }
   },
   "source": [
    "### Pen & Paper Exercise\n",
    "\n",
    "Given the linear model:\n",
    "\n",
    "$$\n",
    "h_\\theta(x) = \\theta_0 + \\theta_1 x\n",
    "$$\n",
    "\n",
    "And the following concrete training data:\n",
    "\n",
    "$$\n",
    "D_{train} = \\{(0,1),(1,3),(2,6),(4,8)\\}\n",
    "$$\n",
    "\n",
    "with each tuple $(x,y)$ denoting $x$ the feature and $y$ the target.\n",
    "\n",
    "**Task:**\n",
    "\n",
    "For $\\theta_0 = 1$ and $\\theta_1 = 2$ calculate:\n",
    "\n",
    "1. The cost:\n",
    "\n",
    "$$ J_D(\\theta_0, \\theta_1)=\\frac{1}{2m}\\sum_{i=1}^{m}{(h_\\theta(x^{(i)})-y^{(i)})^2} $$\n",
    "\n",
    "2. The gradient $\\nabla J$, i.e. the partial derivatives:\n",
    "\n",
    "$$ \\frac{\\partial J (\\theta_0, \\theta_1)}{\\partial \\theta_0} $$\n",
    "\n",
    "$$ \\frac{\\partial J (\\theta_0, \\theta_1)}{\\partial \\theta_1} $$\n"
   ]
  },
  {
   "cell_type": "markdown",
   "metadata": {
    "slideshow": {
     "slide_type": "skip"
    }
   },
   "source": [
    "**Solution:**\n",
    "\n",
    "Just put $D_{train} = \\{(0,1),(1,3),(2,6),(4,8)\\}$ into the equations, so we get:\n",
    "\n",
    "1. \n",
    "For the cost:\n",
    "$$\n",
    "J_D(\\theta_0, \\theta_1)=\\frac{1}{2m}\\sum_{i=1}^{m}{(h_\\theta(x^{(i)})-y^{(i)})^2} = \\frac{1}{2\\cdot 4} (0 + 0 + 1^2 + (- 1)^2) = \\frac{1}{4}\n",
    "$$\n",
    "\n",
    "2. \n",
    "For $ \\frac{\\partial J (\\theta_0, \\theta_1)}{\\partial \\theta_0} $ we have:\n",
    "$$\n",
    "\\frac{\\partial J (\\theta_0, \\theta_1)}{\\partial \\theta_0} = \\ldots =  \\frac{1}{m}\\sum_{i=1}^{m}(\\theta_0 + \\theta_1 x^i - y^i) = \\frac{1}{m} (0 + 0 + 1 + (- 1)) = 0\n",
    "$$\n",
    " For $ \\frac{\\partial J (\\theta_0, \\theta_1)}{\\partial \\theta_1} $ we have:\n",
    "$$\n",
    "\\frac{\\partial J (\\theta_0, \\theta_1)}{\\partial \\theta_0} = \\ldots = \\frac{1}{m}\\sum_{i=1}^{m}((\\theta_0 + \\theta_1 x^i - y^i) \\cdot x^i) = \\frac{1}{4} (0 \\cdot 0 + 0 \\cdot 1 + 1 \\cdot 2 + (- 1) \\cdot 4) = \\frac{1}{2}\n",
    "$$"
   ]
  },
  {
   "cell_type": "markdown",
   "metadata": {
    "slideshow": {
     "slide_type": "slide"
    }
   },
   "source": [
    "### Create a Data Set\n",
    "First of all, you have to generate a data set $\\mathcal D_{train}$. $\\mathcal D_{train}$ consists of tuples $(x^{(i)},y^{(i)})$. Let $x$ and $y$ be two numpy 1d-arrays of equal-length $m$:\n",
    "\n",
    "$$\n",
    "{\\vec x} = \\left(x^{(1)},x^{(2)}, \\ldots, x^{(m)}\\right)^T \\\\\n",
    "{\\vec y} = \\left(y^{(1)},y^{(2)}, \\ldots, y^{(m)}\\right)^T\n",
    "$$\n",
    "\n",
    "The $x$ values should be drawn from a **uniform distribution** . Add some noise $\\delta$ to the corresponding $y$ values, which should be drawn from a **normal distribution**.\n",
    "\n",
    "$$\n",
    "    y^{(i)} = a + b * x^{(i)} + \\delta^{(i)}\n",
    "$$\n",
    "\n",
    "We will use an numpy 1d-array for the data which is equivalent to vectors: \n",
    "\n",
    "\\begin{equation}\n",
    "    \\vec y = a * \\vec 1 + b * \\vec x + \\vec \\delta\n",
    "\\end{equation}\n",
    "\n",
    ", with:\n",
    "* $x \\sim Uniform([x_{min}, x_{max}])$\n",
    "* $\\delta \\sim Normal(\\mu=0.0, \\sigma=1.0)$\n",
    "\n",
    "An example data set could look like this plot (random seed 42 used): \n",
    "\n",
    "<img src=\"https://gitlab.com/deep.TEACHING/educational-materials/raw/dev/media/voigt/images/Simple-Linear-Regression_Data_Set.png\" width=\"512\" alt=\"internet connection needed\">\n",
    "\n",
    "**Hint:**\n",
    "- To generate the vector for $x$ use the function `np.random.uniform`.\n",
    "- To generate a vector of the noise use `np.random.randn`."
   ]
  },
  {
   "cell_type": "code",
   "execution_count": 23,
   "metadata": {
    "slideshow": {
     "slide_type": "slide"
    }
   },
   "outputs": [],
   "source": [
    "# fixed random seed\n",
    "np.random.seed(42)\n",
    "\n",
    "def linear_random_data(sample_size, a, b, x_min, x_max, noise_factor):\n",
    "    '''creates a randam data set based on a linear function in a given interval\n",
    "    \n",
    "    Args:\n",
    "        sample_size: number of data points\n",
    "        a: coefficent of x^0\n",
    "        b: coefficent of x^1\n",
    "        x_min: lower bound value range\n",
    "        x_max: upper bound value range\n",
    "        noise_factor: strength of noise added to y \n",
    "    \n",
    "    Returns:\n",
    "        x: array of x values | len(x)==len(y)\n",
    "        y: array of y values corresponding to x | len(x)==len(y)\n",
    "    '''\n",
    "    raise NotImplementedError(\"You should implement this!\")"
   ]
  },
  {
   "cell_type": "code",
   "execution_count": 24,
   "metadata": {
    "slideshow": {
     "slide_type": "skip"
    }
   },
   "outputs": [],
   "source": [
    "# Solution marked as 'skip' slide\n",
    "\n",
    "np.random.seed(42)\n",
    "\n",
    "def linear_random_data(sample_size, a, b, x_min, x_max, noise_factor):\n",
    "    '''creates a random data set based on a lienar function in a given interval\n",
    "    \n",
    "    Args:\n",
    "        sample_size: number of data points\n",
    "        a: coefficent of x^0\n",
    "        b: coefficent of x^1\n",
    "        x_min: lower bound value range\n",
    "        x_max: upper bound value range\n",
    "        noise_factor: strength of nosie added to y \n",
    "    \n",
    "    Returns:\n",
    "        x: array of x values | len(x)==len(y)\n",
    "        y: array of y values corresponding to x | len(x)==len(y)\n",
    "    '''\n",
    "    x = np.random.uniform(x_min, x_max, sample_size)\n",
    "    y = a + b * x + np.random.randn(sample_size) * noise_factor\n",
    "    return x, y"
   ]
  },
  {
   "cell_type": "code",
   "execution_count": 25,
   "metadata": {},
   "outputs": [
    {
     "data": {
      "text/plain": [
       "[<matplotlib.lines.Line2D at 0x7fea51c51a90>]"
      ]
     },
     "execution_count": 25,
     "metadata": {},
     "output_type": "execute_result"
    },
    {
     "data": {
      "image/png": "[encoded data removed]",
      "text/plain": [
       "<Figure size 432x288 with 1 Axes>"
      ]
     },
     "metadata": {
      "needs_background": "light"
     },
     "output_type": "display_data"
    }
   ],
   "source": [
    "x, y = linear_random_data(sample_size=50, a=0., b=5., x_min=-10, x_max=10, noise_factor=5)\n",
    "plt.plot(x,y, \"rx\")"
   ]
  },
  {
   "cell_type": "markdown",
   "metadata": {
    "slideshow": {
     "slide_type": "slide"
    }
   },
   "source": [
    "### Linear Hypothesis\n",
    "A short recap, a hypothesis $h_\\theta(x)$ is a certain function that we believe is similar to a target function that we like to model. A hypothesis $h_\\theta(x)$ is a function of $x$ with fixed parameters $\\theta$. The simplest kind of hypothesis is based on a linear equation with two parameters: \n",
    "\n",
    "\\begin{equation}\n",
    "    h_\\theta(x) = \\theta_{0} + \\theta_{1} * x \n",
    "\\end{equation}\n",
    "\n",
    "Implement hypothesis $h_\\theta(x)$ in the method `linear_hypothesis` and return it as a function. "
   ]
  },
  {
   "cell_type": "code",
   "execution_count": 26,
   "metadata": {
    "slideshow": {
     "slide_type": "slide"
    }
   },
   "outputs": [],
   "source": [
    "def linear_hypothesis(theta_0, theta_1):\n",
    "    ''' Combines given arguments in a linear equation and returns it as a function\n",
    "    \n",
    "    Args:\n",
    "        theta_0: first coefficient\n",
    "        theta_1: second coefficient\n",
    "        \n",
    "    Returns:\n",
    "        lambda that models a linear function based on theta_0, theta_1 and x\n",
    "    ''' \n",
    "    raise NotImplementedError(\"You should implement this!\")"
   ]
  },
  {
   "cell_type": "code",
   "execution_count": 27,
   "metadata": {
    "slideshow": {
     "slide_type": "skip"
    }
   },
   "outputs": [],
   "source": [
    "def linear_hypothesis(theta_0, theta_1):\n",
    "    ''' Combines given arguments in a linear equation and returns it as a function\n",
    "    \n",
    "    Args:\n",
    "        theta_0: first coefficient\n",
    "        theta_1: second coefficient\n",
    "        \n",
    "    Returns:\n",
    "        lambda that models a linear function based on theta_0, theta_1 and x\n",
    "    '''\n",
    "    return lambda x: theta_0 + theta_1 * x"
   ]
  },
  {
   "cell_type": "markdown",
   "metadata": {
    "slideshow": {
     "slide_type": "slide"
    }
   },
   "source": [
    "### Cost Function\n",
    "A cost function $J$ depends on the given training data $D$ and hypothesis $h_\\theta(x)$. In the context of the simple linear regression, the cost function measures how wrong a model is regarding its ability to estimate the relationship between $x$ and $y$ for specific $\\theta$ values. Later we will treat this as an optimization problem and try to minimize the cost function $J_D(\\theta)$ to find optimal $\\theta$ values for our hypothesis $h_\\theta(x)$. The cost function we use in this exercise is the [Mean-Squared-Error](https://en.wikipedia.org/wiki/Mean_squared_error) cost function:\n",
    "\n",
    "\\begin{equation}\n",
    "    J_D(\\theta)=\\frac{1}{2m}\\sum_{i=1}^{m}{\\left(h_\\theta(x^{(i)}-y^{(i)})\\right)^2}\n",
    "\\end{equation}\n",
    "\n",
    "Implement the cost function $J_D(\\theta)$ in the method `mse_cost_function`. The method should return a function that takes the values of $\\theta_0$ and $\\theta_1$ as an argument.\n",
    "\n",
    "Sidenote, the terms loss function or error function are often used interchangeably in the field of Machine Learning."
   ]
  },
  {
   "cell_type": "code",
   "execution_count": 28,
   "metadata": {
    "slideshow": {
     "slide_type": "slide"
    }
   },
   "outputs": [],
   "source": [
    "def mse_cost_function(x, y):\n",
    "    ''' Implements MSE cost function as a function J(theta_0, theta_1) on given tranings data \n",
    "    \n",
    "    Args:\n",
    "        x: vector of x values \n",
    "        y: vector of ground truth values y \n",
    "        \n",
    "    Returns:\n",
    "        lambda J(theta_0, theta_1) that models the cost function\n",
    "    '''\n",
    "    raise NotImplementedError(\"You should implement this!\")"
   ]
  },
  {
   "cell_type": "code",
   "execution_count": 29,
   "metadata": {
    "slideshow": {
     "slide_type": "skip"
    }
   },
   "outputs": [],
   "source": [
    "def mse_cost_function(x, y):\n",
    "    ''' Implements MSE cost function as a function J(theta_0, theta_1) on given tranings data \n",
    "    \n",
    "    Args:\n",
    "        x: vector of x values \n",
    "        y: vector of ground truth values y \n",
    "        \n",
    "    Returns:\n",
    "        lambda J(theta_0, theta_1) that models the cost function\n",
    "    '''\n",
    "    assert(len(x) == len(y))\n",
    "    m = len(x)\n",
    "    return lambda theta_0, theta_1: 1./(2. * float(m)) * np.sum((linear_hypothesis(theta_0, theta_1)(x) - y )**2)"
   ]
  },
  {
   "cell_type": "code",
   "execution_count": 30,
   "metadata": {},
   "outputs": [
    {
     "name": "stdout",
     "output_type": "stream",
     "text": [
      "88.25403518579944\n",
      "13.25543063455946\n"
     ]
    }
   ],
   "source": [
    "j =  mse_cost_function(x, y)\n",
    "print(j(2.1, 2.9))\n",
    "print(j(2.3, 4.9))"
   ]
  },
  {
   "cell_type": "markdown",
   "metadata": {
    "slideshow": {
     "slide_type": "skip"
    }
   },
   "source": [
    "**Suggestion (from Diyar)**\n",
    "\n",
    "The contour/3D plots take a while to grasp. I feel at this point you may want to start off with a more simple visualization: plot the data set and a single hypothesis. Then encourage the reader to try different hypotheses. The aim is to:\n",
    "* show how tweaks of $\\theta_0$ and $\\theta_1$ move the hypothesis\n",
    "* show the effect of choosing parameters that are close/far from the true model on how close/far the hypothesis is to the scattered data set\n",
    "* get comfortable with the syntax/usage of closures for hypothesis and cost in this particular implementation"
   ]
  },
  {
   "attachments": {
    "download.png": {
     "image/png": "[encoded data removed]"
    }
   },
   "cell_type": "markdown",
   "metadata": {
    "slideshow": {
     "slide_type": "-"
    }
   },
   "source": [
    "### Visualisation of Hypotheses\n",
    "\n",
    "Now we want to visualize the data set together with the hypothesis and explore the effects of adjusting the parameters. In your plot,\n",
    "* show your data set as a scatter plot\n",
    "* show a hypothesis h(x) as a line plot\n",
    "* calculate and present the MSE cost (a print statement will do as well)\n",
    "\n",
    "Here are some questions you may want to address:\n",
    "* How does the line modeling the hypothesis change when you tweak $\\theta_0$?\n",
    "* How does the line modeling the hypothesis hypothesis change when you tweak $\\theta_1$?\n",
    "* Try some different hypotheses with parameters that are close to the true model and some that are far from the truth. How does this affect the location of the hypothesis in relation to the data?\n",
    "* What is the effect on the cost?\n",
    "\n",
    "Your plot could look similar to the following:\n",
    "![download.png](attachment:download.png)"
   ]
  },
  {
   "cell_type": "code",
   "execution_count": 31,
   "metadata": {},
   "outputs": [],
   "source": [
    "def plot_data_with_hypothesis(x, y, theta0, theta1):\n",
    "    ''' Plots the data (x, y) together with a hypothesis given theta0 and theta1.    \n",
    "    '''\n",
    "    raise NotImplementedError()"
   ]
  },
  {
   "cell_type": "code",
   "execution_count": 32,
   "metadata": {
    "scrolled": true,
    "slideshow": {
     "slide_type": "skip"
    }
   },
   "outputs": [],
   "source": [
    "def plot_data_with_hypothesis(x, y, theta0, theta1):\n",
    "    ''' Plots the data (x, y) together with a hypothesis given theta0 and theta1.    \n",
    "    '''\n",
    "    # parameters (true values are 0,5)\n",
    "    t0,t1 = theta0, theta1\n",
    "\n",
    "    # plot the data points\n",
    "    plt.plot(x,y,'rx',label='data set')\n",
    "\n",
    "    # plot the hypothesis\n",
    "    x_ = np.arange(-10,10)\n",
    "    y_ = t0 + t1 * x_\n",
    "    plt.plot(x_,y_, 'b-', label='hypothesis')\n",
    "\n",
    "    # cost\n",
    "    cost = mse_cost_function(x,y)(t0,t1)\n",
    "    plt.text(0,-40,'$\\\\theta_0$ : {} \\n$\\\\theta_1$ : {} \\nCost : {}'.format(t0,t1,cost))\n",
    "    plt.legend()\n",
    "    plt.show()\n",
    "\n",
    "    # * t0 moves the hypothesis along y-axis/sets y-offset\n",
    "    # * t1 changes the gradient of the hypothesis\n",
    "    # * when t0 and t1 are close to the true model, the line is close to the\n",
    "    # data points and the cost is lower"
   ]
  },
  {
   "cell_type": "code",
   "execution_count": 33,
   "metadata": {},
   "outputs": [
    {
     "data": {
      "image/png": "[encoded data removed]",
      "text/plain": [
       "<Figure size 432x288 with 1 Axes>"
      ]
     },
     "metadata": {
      "needs_background": "light"
     },
     "output_type": "display_data"
    }
   ],
   "source": [
    "t0 = 1 ### try different values\n",
    "t1 = 1 ### try different values\n",
    "\n",
    "plot_data_with_hypothesis(x, y, theta0=t0, theta1=t1)"
   ]
  },
  {
   "cell_type": "markdown",
   "metadata": {
    "slideshow": {
     "slide_type": "slide"
    }
   },
   "source": [
    "### Cost Function Visualization\n",
    "\n",
    "After implementing a cost function, it is probably a good idea to visualize it to get from an abstract understanding to a more concrete representation. Use `matplotlib` and plot the cost function in two different ways. Create a [contour plot](https://matplotlib.org/api/_as_gen/matplotlib.pyplot.contour.html) that depicts a three-dimensional surface on a two-dimensional graph and plot the [surface](https://matplotlib.org/tutorials/toolkits/mplot3d.html?highlight=3d%20surface#mpl_toolkits.mplot3d.Axes3D.plot_surface) itself. Your visualization should consist of two subplots and have corresponding labeling, similar to the following example:\n",
    "\n",
    "![internet connection needed](https://gitlab.com/deep.TEACHING/educational-materials/raw/dev/media/voigt/images/Simple-Linear-Regression_Cost-Function.png)"
   ]
  },
  {
   "cell_type": "code",
   "execution_count": 34,
   "metadata": {
    "slideshow": {
     "slide_type": "slide"
    }
   },
   "outputs": [],
   "source": [
    "def create_cost_plt_grid(cost, interval, num_samples, theta0_offset=0., theta1_offset=0.):\n",
    "    ''' \n",
    "    Creates mesh points for a 3D plot based on a given interval and a cost function.\n",
    "    The function creates a numpy meshgrid for plotting a 3D-plot of the cost function.\n",
    "    Additionally, for the mesh grid points cost values are calulated and returned.\n",
    "    \n",
    "    Args:\n",
    "        cost: a function that is used to calculate costs. The function \"cost\" was typically e.g. \n",
    "              created by calling \"cost = mse_cost_function(x, y)\". So, the data x,y and the model \n",
    "              are used internally in cost. The arguments of the function cost are \n",
    "              theta_0 und theta_1, i.e. cost(theta_0, theta_0).\n",
    "        interval: a scalar that defines the range [-interval, interval] of the mesh grid\n",
    "        num_mesh: the total number of points in the mesh grid is num_mesh * num_mesh (equaly distributed) \n",
    "        theta0_offset: shifts the plotted interval for theta0 by a scalar\n",
    "        theta1_offset: shifts the plotted interval for theta1 by a scalar\n",
    "        \n",
    "    Returns:\n",
    "        T0: a matrix representing a meshgrid for the values of the first plot dimesion (Theta 0) \n",
    "        T1: a matrix representing a meshgrid for the values of the second plot dimesion (Theta 1)\n",
    "        C: a matrix respresenting cost values (third plot dimension)        \n",
    "    '''\n",
    "    raise NotImplementedError(\"You should implement this!\")\n",
    "\n",
    "def create_cost_plt(T0, T1, Costs):\n",
    "    ''' Creates a counter and a surface plot based on given data\n",
    "    \n",
    "    Args:\n",
    "        T0: a matrix representing a meshgrid for X values (Theta 0) \n",
    "        T1: a matrix representing a meshgrid for Y values (Theta 1)\n",
    "        C: a matrix respresenting cost values \n",
    "    '''\n",
    "    raise NotImplementedError(\"You should implement this!\")"
   ]
  },
  {
   "cell_type": "code",
   "execution_count": 35,
   "metadata": {
    "slideshow": {
     "slide_type": "skip"
    }
   },
   "outputs": [],
   "source": [
    "def create_cost_plt_grid(cost, interval, num_samples, theta0_offset=0., theta1_offset=0.):\n",
    "    ''' \n",
    "        Creates mesh points for a 3D plot based on a given interval and a cost function.\n",
    "    The function creates a numpy meshgrid for plotting a 3D-plot of the cost function.\n",
    "    Additionally, for the mesh grid points cost values are calulated and returned.\n",
    "    \n",
    "    Args:\n",
    "        cost: a function that is used to calculate costs. The function \"cost\" was typically e.g. \n",
    "              created by calling \"cost = mse_cost_function(x, y)\". So, the data x,y and the model \n",
    "              are used internally in cost. The arguments of the function cost are \n",
    "              theta_0 und theta_1, i.e. cost(theta_0, theta_0).\n",
    "        interval: a scalar that defines the range [-interval, interval] of the mesh grid\n",
    "        num_mesh: the total number of points in the mesh grid is num_mesh * num_mesh (equaly distributed) \n",
    "        theta0_offset: shifts the plotted interval for theta0 by a scalar\n",
    "        theta1_offset: shifts the plotted interval for theta1 by a scalar\n",
    "        \n",
    "    Returns:\n",
    "        T0: a matrix representing a meshgrid for the values of the first plot dimesion (Theta 0) \n",
    "        T1: a matrix representing a meshgrid for the values of the second plot dimesion (Theta 1)\n",
    "        C: a matrix respresenting cost values (third plot dimension)        \n",
    "    '''\n",
    "    # initilize grid by given arguments and create a meshgrid\n",
    "    t0 = np.linspace(-interval+theta0_offset, interval+theta0_offset, num=num_samples)\n",
    "    t1 = np.linspace(-interval+theta1_offset, interval+theta1_offset, num=num_samples)\n",
    "    T0, T1 = np.meshgrid(t0, t1) \n",
    "    \n",
    "    # initilize cost matrix and cost function\n",
    "    C = np.zeros([len(t0),len(t1)])\n",
    "    #cost = cost_func(x, y)\n",
    "    \n",
    "    # calculate cost for each pair of the grid \n",
    "    for i, t_0 in enumerate(t0):\n",
    "        for j, t_1 in enumerate(t1):\n",
    "            C[j][i] = cost(t_0, t_1)\n",
    "            \n",
    "    return T0, T1, C\n",
    "\n",
    "def create_cost_plt(T0, T1, Costs):\n",
    "    ''' Creates a counter and a surface plot based on given data\n",
    "    \n",
    "    Args:\n",
    "        T0: a matrix representing a meshgrid for X values (Theta 0) \n",
    "        T1: a matrix representing a meshgrid for Y values (Theta 1)\n",
    "        C: a matrix respresenting cost values \n",
    "    '''\n",
    "    # contour plot\n",
    "    fig = plt.figure(figsize=(13,6))\n",
    "    fig.suptitle('Visualization of MSE Cost Function')\n",
    "    ax = fig.add_subplot(1, 2, 1)\n",
    "    ax.contour(T0, T1, C)\n",
    "    ax.set_xlabel('Theta 0')\n",
    "    ax.set_ylabel('Theta 1')\n",
    "\n",
    "    # surface plot\n",
    "    ax = fig.add_subplot(1, 2, 2, projection='3d')\n",
    "    surf = ax.plot_surface(T0, T1, C, rstride=1, cstride=1, cmap='viridis', linewidth=0, antialiased=False)\n",
    "    ax.set_xlabel('Theta 0', labelpad=9)\n",
    "    ax.set_ylabel('Theta 1', labelpad=9)\n",
    "    ax.set_zlabel('Costs', labelpad=9)\n",
    "    fig.colorbar(surf, shrink=0.5)"
   ]
  },
  {
   "cell_type": "code",
   "execution_count": 36,
   "metadata": {},
   "outputs": [
    {
     "data": {
      "image/png": "[encoded data removed]",
      "text/plain": [
       "<Figure size 936x432 with 3 Axes>"
      ]
     },
     "metadata": {
      "needs_background": "light"
     },
     "output_type": "display_data"
    }
   ],
   "source": [
    "# create some data and plot it\n",
    "T0, T1, C = create_cost_plt_grid(j, 1000, 51, theta1_offset=5.)\n",
    "create_cost_plt(T0, T1, C)"
   ]
  },
  {
   "cell_type": "markdown",
   "metadata": {
    "slideshow": {
     "slide_type": "slide"
    }
   },
   "source": [
    "###  Gradient Descent\n",
    "\n",
    "A short recap, the gradient descent algorithm is a first-order iterative optimization for finding a minimum of a function. From the current position in a (cost) function, the algorithm steps proportional to the negative of the gradient and repeats this until it reaches a local or global minimum and determines. Stepping proportional means that it does not go entirely in the direction of the negative gradient, but scaled by a fixed value $\\alpha$ also called the learning rate. Implementing the following formalized update rule is the core of the optimization process:\n",
    "\n",
    "\\begin{equation}\n",
    "    \\theta_{j}^{new} \\leftarrow \\theta_{j}^{new} - \\alpha * \\frac{\\partial}{\\partial\\theta_{j}} J(\\theta^{old})\n",
    "\\end{equation}\n",
    "\n",
    "$\\frac{\\partial}{\\partial\\theta_{j_{old}}} J(\\theta_{old})$ is the partial derivative (gradient) of the cost function with respect to the j-th parameter.\n",
    "\n",
    "Partial derivative for $\\theta_0$:\n",
    "$$\n",
    "\\frac{\\partial}{\\partial \\theta_0} J(\\Theta)\n",
    "= \\frac{1}{m} \\sum_{i=1}^m (\\theta_0 + \\theta_1 \\cdot x^{(i)} - y^{(i)})\n",
    "$$\n",
    "\n",
    "Partial derivative for $\\theta_1$:\n",
    "$$\n",
    "\\frac{\\partial}{\\partial \\theta_1} = \\frac{1}{m} \\sum_{i=1}^m (\\theta_0 + \\theta_1 \\cdot x^{(i)} - y^{(i)}) \\cdot x^{(i)}\n",
    "$$"
   ]
  },
  {
   "cell_type": "code",
   "execution_count": 37,
   "metadata": {
    "slideshow": {
     "slide_type": "slide"
    }
   },
   "outputs": [],
   "source": [
    "def update_theta(x, y, theta_0, theta_1, learning_rate):\n",
    "    ''' Updates learnable parameters theta_0 and theta_1 \n",
    "    \n",
    "    The update is done by calculating the partial derivities of \n",
    "    the cost function including the linear hypothesis. The \n",
    "    gradients scaled by a scalar are subtracted from the given \n",
    "    theta values.\n",
    "    \n",
    "    Args:\n",
    "        x: array of x values\n",
    "        y: array of y values corresponding to x\n",
    "        theta_0: current theta_0 value\n",
    "        theta_1: current theta_1 value\n",
    "        learning_rate: value to scale the negative gradient \n",
    "        \n",
    "    Returns:\n",
    "        t0: Updated theta_0\n",
    "        t1: Updated theta_1\n",
    "    '''\n",
    "    raise NotImplementedError(\"You should implement this!\")"
   ]
  },
  {
   "cell_type": "code",
   "execution_count": 38,
   "metadata": {
    "slideshow": {
     "slide_type": "skip"
    }
   },
   "outputs": [],
   "source": [
    "def update_theta(x, y, theta_0, theta_1, learning_rate):\n",
    "    ''' Updates learnable parameters theta_0 and theta_1 \n",
    "    \n",
    "    The update is done by calculating the partial derivities of \n",
    "    the cost function including the linear hypothesis. The \n",
    "    gradients scaled by a scalar are subtracted from the given \n",
    "    theta values.\n",
    "    \n",
    "    Args:\n",
    "        x: array of x values\n",
    "        y: array of y values corresponding to x\n",
    "        theta_0: current theta_0 value\n",
    "        theta_1: current theta_1 value\n",
    "        learning_rate: value to scale the negative gradient \n",
    "        \n",
    "    Returns:\n",
    "        t0: Updated theta_0\n",
    "        t1: Updated theta_1\n",
    "    '''\n",
    "    m = len(x)\n",
    "    # calculate gradients\n",
    "    dt0 = 1./float(m) * (theta_0 + theta_1 * x - y).sum()  \n",
    "    dt1 = 1./float(m) * ((theta_0 + theta_1 * x - y) * x ).sum() \n",
    "    # update theta values\n",
    "    t0 = theta_0  - learning_rate * dt0\n",
    "    t1 = theta_1  - learning_rate * dt1\n",
    "    return t0, t1"
   ]
  },
  {
   "cell_type": "code",
   "execution_count": 50,
   "metadata": {},
   "outputs": [
    {
     "ename": "ValueError",
     "evalue": "operands could not be broadcast together with shapes (51,51) (50,) ",
     "output_type": "error",
     "traceback": [
      "\u001b[0;31m---------------------------------------------------------------------------\u001b[0m",
      "\u001b[0;31mValueError\u001b[0m                                Traceback (most recent call last)",
      "\u001b[0;32m<ipython-input-50-148259625874>\u001b[0m in \u001b[0;36m<module>\u001b[0;34m\u001b[0m\n\u001b[0;32m----> 1\u001b[0;31m \u001b[0mprint\u001b[0m \u001b[0;34m(\u001b[0m\u001b[0mupdate_theta\u001b[0m\u001b[0;34m(\u001b[0m\u001b[0mx\u001b[0m\u001b[0;34m,\u001b[0m\u001b[0my\u001b[0m\u001b[0;34m,\u001b[0m\u001b[0mT0\u001b[0m\u001b[0;34m,\u001b[0m \u001b[0mT1\u001b[0m\u001b[0;34m,\u001b[0m \u001b[0;36m0.0004\u001b[0m \u001b[0;34m)\u001b[0m\u001b[0;34m)\u001b[0m\u001b[0;34m\u001b[0m\u001b[0;34m\u001b[0m\u001b[0m\n\u001b[0m",
      "\u001b[0;32m<ipython-input-38-419fdb5c65f4>\u001b[0m in \u001b[0;36mupdate_theta\u001b[0;34m(x, y, theta_0, theta_1, learning_rate)\u001b[0m\n\u001b[1;32m     20\u001b[0m     \u001b[0mm\u001b[0m \u001b[0;34m=\u001b[0m \u001b[0mlen\u001b[0m\u001b[0;34m(\u001b[0m\u001b[0mx\u001b[0m\u001b[0;34m)\u001b[0m\u001b[0;34m\u001b[0m\u001b[0;34m\u001b[0m\u001b[0m\n\u001b[1;32m     21\u001b[0m     \u001b[0;31m# calculate gradients\u001b[0m\u001b[0;34m\u001b[0m\u001b[0;34m\u001b[0m\u001b[0;34m\u001b[0m\u001b[0m\n\u001b[0;32m---> 22\u001b[0;31m     \u001b[0mdt0\u001b[0m \u001b[0;34m=\u001b[0m \u001b[0;36m1.\u001b[0m\u001b[0;34m/\u001b[0m\u001b[0mfloat\u001b[0m\u001b[0;34m(\u001b[0m\u001b[0mm\u001b[0m\u001b[0;34m)\u001b[0m \u001b[0;34m*\u001b[0m \u001b[0;34m(\u001b[0m\u001b[0mtheta_0\u001b[0m \u001b[0;34m+\u001b[0m \u001b[0mtheta_1\u001b[0m \u001b[0;34m*\u001b[0m \u001b[0mx\u001b[0m \u001b[0;34m-\u001b[0m \u001b[0my\u001b[0m\u001b[0;34m)\u001b[0m\u001b[0;34m.\u001b[0m\u001b[0msum\u001b[0m\u001b[0;34m(\u001b[0m\u001b[0;34m)\u001b[0m\u001b[0;34m\u001b[0m\u001b[0;34m\u001b[0m\u001b[0m\n\u001b[0m\u001b[1;32m     23\u001b[0m     \u001b[0mdt1\u001b[0m \u001b[0;34m=\u001b[0m \u001b[0;36m1.\u001b[0m\u001b[0;34m/\u001b[0m\u001b[0mfloat\u001b[0m\u001b[0;34m(\u001b[0m\u001b[0mm\u001b[0m\u001b[0;34m)\u001b[0m \u001b[0;34m*\u001b[0m \u001b[0;34m(\u001b[0m\u001b[0;34m(\u001b[0m\u001b[0mtheta_0\u001b[0m \u001b[0;34m+\u001b[0m \u001b[0mtheta_1\u001b[0m \u001b[0;34m*\u001b[0m \u001b[0mx\u001b[0m \u001b[0;34m-\u001b[0m \u001b[0my\u001b[0m\u001b[0;34m)\u001b[0m \u001b[0;34m*\u001b[0m \u001b[0mx\u001b[0m \u001b[0;34m)\u001b[0m\u001b[0;34m.\u001b[0m\u001b[0msum\u001b[0m\u001b[0;34m(\u001b[0m\u001b[0;34m)\u001b[0m\u001b[0;34m\u001b[0m\u001b[0;34m\u001b[0m\u001b[0m\n\u001b[1;32m     24\u001b[0m     \u001b[0;31m# update theta values\u001b[0m\u001b[0;34m\u001b[0m\u001b[0;34m\u001b[0m\u001b[0;34m\u001b[0m\u001b[0m\n",
      "\u001b[0;31mValueError\u001b[0m: operands could not be broadcast together with shapes (51,51) (50,) "
     ]
    }
   ],
   "source": [
    "print (update_theta(x,y,T0, T1, 0.0004 ))"
   ]
  },
  {
   "cell_type": "markdown",
   "metadata": {
    "slideshow": {
     "slide_type": "slide"
    }
   },
   "source": [
    "Using the `update_theta` method, you can now implement the gradient descent algorithm. Iterate over the update rule to find a $\\theta_0$ and a $\\theta_1$ that minimize our cost function $J_D(\\theta)$. This process is often called training of a machine learning model. During the training process create a history of all theta and cost values. You can use them later for evaluation. Implement a `verbose` argument that if true provides additional information during the process, e.g., final theta values after optimization or cost value at some iterations."
   ]
  },
  {
   "cell_type": "code",
   "execution_count": null,
   "metadata": {
    "slideshow": {
     "slide_type": "slide"
    }
   },
   "outputs": [],
   "source": [
    "def gradient_descent(x, y, iterations=1000, learning_rate=0.0001, verbose=False):\n",
    "    ''' Minimize theta values of a linear model based on MSE cost function\n",
    "    \n",
    "    Args:\n",
    "        x: vector, x values from the data set\n",
    "        y: vector, y values from the data set\n",
    "        iterations: scalar, number of theta updates\n",
    "        learning_rate: scalar, scales the negative gradient \n",
    "        verbose: boolean, print addition information \n",
    "        \n",
    "    Returns:\n",
    "        t0s: list of theta_0 values, one value for each iteration\n",
    "        t1s: list of theta_1 values, one value for each iteration\n",
    "        costs: list oft costs, one value for each iteration.\n",
    "    '''\n",
    "    raise NotImplementedError(\"You should implement this!\")"
   ]
  },
  {
   "cell_type": "code",
   "execution_count": 55,
   "metadata": {
    "slideshow": {
     "slide_type": "skip"
    }
   },
   "outputs": [],
   "source": [
    "def gradient_descent(x, y, iterations=1000, learning_rate=0.0001, verbose=False):\n",
    "    ''' Minimize theta values of a linear model based on MSE cost function\n",
    "    \n",
    "    Args:\n",
    "        x: vector, x values from the data set\n",
    "        y: vector, y values from the data set\n",
    "        iterations: scalar, number of theta updates\n",
    "        learning_rate: scalar, scales the negative gradient \n",
    "        verbose: boolean, print addition information \n",
    "        \n",
    "    Returns:\n",
    "        t0s: list of theta_0 values, one value for each iteration\n",
    "        t1s: list of theta_1 values, one value for each iteration\n",
    "        costs: list oft costs, one value for each iteration.\n",
    "    '''\n",
    "    # initilize histories\n",
    "    cost_hist = np.zeros(iterations)\n",
    "    t0_hist = np.zeros(iterations)\n",
    "    t1_hist = np.zeros(iterations)\n",
    "\n",
    "    # initialize first theta values \n",
    "    theta_0 = np.random.random()\n",
    "    theta_1 = np.random.random()\n",
    "    \n",
    "    # get loss function based on given data\n",
    "    cost = mse_cost_function(x, y)\n",
    "    \n",
    "    t0_hist[0] = theta_0\n",
    "    t1_hist[0] = theta_1\n",
    "    cost_hist[0] = cost(theta_0, theta_1)\n",
    "    # optimize theta values\n",
    "    for i in range(iterations):\n",
    "        theta_0, theta_1 = update_theta(x, y, theta_0, theta_1, learning_rate)\n",
    "        t0_hist[i] = theta_0\n",
    "        t1_hist[i] = theta_1\n",
    "        cost_hist[i] = cost(theta_0, theta_1)\n",
    "    if verbose:    \n",
    "        print('costs:', cost_hist[-1])\n",
    "        print('theta_0:', t0_hist[-1])\n",
    "        print('theta_1:', t1_hist[-1])\n",
    "    return cost_hist, t0_hist, t1_hist"
   ]
  },
  {
   "cell_type": "code",
   "execution_count": 56,
   "metadata": {},
   "outputs": [
    {
     "name": "stdout",
     "output_type": "stream",
     "text": [
      "0.363629602379294\n",
      "(0.3622091137870383, 1.0123036321316043)\n",
      "0.3622091137870383\n",
      "(0.3608021988244409, 1.0524128175276455)\n",
      "0.3608021988244409\n",
      "(0.35940871962519766, 1.0921138350094042)\n",
      "0.35940871962519766\n",
      "(0.3580285397258166, 1.1314108379789456)\n",
      "0.3580285397258166\n",
      "(0.35666152405134344, 1.1703079375745649)\n",
      "0.35666152405134344\n",
      "(0.3553075389012322, 1.20880920310085)\n",
      "0.3553075389012322\n",
      "(0.35396645193535964, 1.2469186624543696)\n",
      "0.35396645193535964\n",
      "(0.35263813216018225, 1.284640302545028)\n",
      "0.35263813216018225\n",
      "(0.35132244991503353, 1.3219780697131336)\n",
      "0.35132244991503353\n",
      "(0.3500192768585613, 1.3589358701422227)\n",
      "0.3500192768585613\n",
      "(0.3487284859553028, 1.3955175702676823)\n",
      "0.3487284859553028\n",
      "(0.34744995146239616, 1.4317269971812159)\n",
      "0.34744995146239616\n",
      "(0.34618354891642744, 1.4675679390311926)\n",
      "0.34618354891642744\n",
      "(0.3449291551204114, 1.503044145418923)\n",
      "0.3449291551204114\n",
      "(0.3436866481309047, 1.5381593277909018)\n",
      "0.3436866481309047\n",
      "(0.34245590724525027, 1.5729171598270608)\n",
      "0.34245590724525027\n",
      "(0.34123681298895137, 1.6073212778250692)\n",
      "0.34123681298895137\n",
      "(0.3400292471031743, 1.6413752810807245)\n",
      "0.3400292471031743\n",
      "(0.3388330925323782, 1.6750827322644724)\n",
      "0.3388330925323782\n",
      "(0.3376482334120708, 1.7084471577940954)\n",
      "0.3376482334120708\n",
      "(0.3364745550566885, 1.7414720482036088)\n",
      "0.3364745550566885\n",
      "(0.33531194394760017, 1.7741608585084034)\n",
      "0.33531194394760017\n",
      "(0.33416028772123263, 1.806517008566672)\n",
      "0.33416028772123263\n",
      "(0.3330194751573173, 1.8385438834371586)\n",
      "0.3330194751573173\n",
      "(0.3318893961672562, 1.870244833733267)\n",
      "0.3318893961672562\n",
      "(0.33076994178260655, 1.901623175973567)\n",
      "0.33076994178260655\n",
      "(0.32966100414368227, 1.932682192928731)\n",
      "0.32966100414368227\n",
      "(0.32856247648827175, 1.9634251339649453)\n",
      "0.32856247648827175\n",
      "(0.3274742531404703, 1.9938552153838223)\n",
      "0.3274742531404703\n",
      "(0.32639622949962616, 2.0239756207588555)\n",
      "0.32639622949962616\n",
      "(0.32532830202939905, 2.053789501268452)\n",
      "0.32532830202939905\n",
      "(0.3242703682469303, 2.0832999760255753)\n",
      "0.3242703682469303\n",
      "(0.32322232671212264, 2.112510132404031)\n",
      "0.32322232671212264\n",
      "(0.32218407701702967, 2.141423026361439)\n",
      "0.32218407701702967\n",
      "(0.32115551977535284, 2.1700416827589106)\n",
      "0.32115551977535284\n",
      "(0.3201365566120456, 2.198369095677482)\n",
      "0.3201365566120456\n",
      "(0.3191270901530232, 2.2264082287313194)\n",
      "0.3191270901530232\n",
      "(0.31812702401497717, 2.2541620153777417)\n",
      "0.31812702401497717\n",
      "(0.31713626279529356, 2.2816333592240885)\n",
      "0.31713626279529356\n",
      "(0.3161547120620737, 2.3088251343314634)\n",
      "0.3161547120620737\n",
      "(0.3151822783442565, 2.3357401855153874)\n",
      "0.3151822783442565\n",
      "(0.3142188691218413, 2.3623813286433943)\n",
      "0.3142188691218413\n",
      "(0.3132643928162102, 2.388751350929596)\n",
      "0.3132643928162102\n",
      "(0.3123187587805487, 2.414853011226251)\n",
      "0.3123187587805487\n",
      "(0.31138187729036426, 2.4406890403123658)\n",
      "0.31138187729036426\n",
      "(0.31045365953410076, 2.4662621411793606)\n",
      "0.31045365953410076\n",
      "(0.30953401760384897, 2.4915749893138273)\n",
      "0.30953401760384897\n",
      "(0.3086228644861512, 2.5166302329774095)\n",
      "0.3086228644861512\n",
      "(0.30772011405289973, 2.541430493483837)\n",
      "0.30772011405289973\n",
      "(0.30682568105232766, 2.5659783654731374)\n",
      "0.30682568105232766\n",
      "(0.3059394811000917, 2.5902764171830617)\n",
      "0.3059394811000917\n",
      "(0.30506143067044555, 2.614327190717745)\n",
      "0.30506143067044555\n",
      "(0.3041914470875029, 2.638133202313634)\n",
      "0.3041914470875029\n",
      "(0.3033294485165897, 2.6616969426027097)\n",
      "0.3033294485165897\n",
      "(0.30247535395568426, 2.68502087687303)\n",
      "0.30247535395568426\n",
      "(0.30162908322694437, 2.708107445326622)\n",
      "0.30162908322694437\n",
      "(0.30079055696832085, 2.7309590633347494)\n",
      "0.30079055696832085\n",
      "(0.2999596966252561, 2.753578121690585)\n",
      "0.2999596966252561\n",
      "(0.2991364244424675, 2.775966986859306)\n",
      "0.2991364244424675\n",
      "(0.29832066345581426, 2.7981280012256535)\n",
      "0.29832066345581426\n",
      "(0.2975123374842468, 2.820063483338963)\n",
      "0.2975123374842468\n",
      "(0.2967113711218386, 2.841775728155708)\n",
      "0.2967113711218386\n",
      "(0.2959176897298985, 2.8632670072795756)\n",
      "0.2959176897298985\n",
      "(0.2951312194291638, 2.884539569199095)\n",
      "0.2951312194291638\n",
      "(0.29435188709207244, 2.9055956395228524)\n",
      "0.29435188709207244\n",
      "(0.2935796203351139, 2.9264374212123077)\n",
      "0.2935796203351139\n",
      "(0.2928143475112581, 2.947067094812247)\n",
      "0.2928143475112581\n",
      "(0.29205599770246116, 2.9674868186788883)\n",
      "0.29205599770246116\n",
      "(0.2913045007122474, 2.9876987292056643)\n",
      "0.2913045007122474\n",
      "(0.29055978705836705, 3.007704941046709)\n",
      "0.29055978705836705\n",
      "(0.2898217879655285, 3.0275075473380713)\n",
      "0.2898217879655285\n",
      "(0.28909043535820433, 3.0471086199166755)\n",
      "0.28909043535820433\n",
      "(0.28836566185351103, 3.066510209537056)\n",
      "0.28836566185351103\n",
      "(0.2876474007541607, 3.085714346085885)\n",
      "0.2876474007541607\n",
      "(0.28693558604148456, 3.1047230387943165)\n",
      "0.28693558604148456\n",
      "(0.28623015236852795, 3.1235382764481714)\n",
      "0.28623015236852795\n",
      "(0.28553103505321475, 3.142162027595983)\n",
      "0.28553103505321475\n",
      "(0.284838170071582, 3.1605962407549266)\n",
      "0.284838170071582\n",
      "(0.28415149405108314, 3.17884284461465)\n",
      "0.28415149405108314\n",
      "(0.28347094426395947, 3.1969037482390354)\n",
      "0.28347094426395947\n",
      "(0.2827964586206788, 3.214780841265903)\n",
      "0.2827964586206788\n",
      "(0.28212797566344144, 3.2324759941046852)\n",
      "0.28212797566344144\n",
      "(0.2814654345597514, 3.2499910581320908)\n",
      "0.2814654345597514\n",
      "(0.28080877509605406, 3.267327865885773)\n",
      "0.28080877509605406\n",
      "(0.28015793767143754, 3.2844882312560335)\n",
      "0.28015793767143754\n",
      "(0.27951286329139896, 3.301473949675569)\n",
      "0.27951286329139896\n",
      "(0.27887349356167374, 3.3182867983072923)\n",
      "0.27887349356167374\n",
      "(0.2782397706821277, 3.33492853623024)\n",
      "0.2782397706821277\n",
      "(0.2776116374407115, 3.3514009046235875)\n",
      "0.2776116374407115\n",
      "(0.2769890372074765, 3.367705626948794)\n",
      "0.2769890372074765\n",
      "(0.27637191392865135, 3.383844409129891)\n",
      "0.27637191392865135\n",
      "(0.27576021212077917, 3.3998189397319396)\n",
      "0.27576021212077917\n",
      "(0.2751538768649141, 3.415630890137669)\n",
      "0.2751538768649141\n",
      "(0.2745528538008771, 3.431281914722319)\n",
      "0.2745528538008771\n",
      "(0.2739570891215701, 3.446773651026703)\n",
      "0.2739570891215701\n",
      "(0.273366529567348, 3.46210771992851)\n",
      "0.273366529567348\n",
      "(0.27278112242044816, 3.477285725811865)\n",
      "0.27278112242044816\n",
      "(0.27220081549947606, 3.4923092567351595)\n",
      "0.27220081549947606\n",
      "(0.2716255571539477, 3.50717988459718)\n",
      "0.2716255571539477\n",
      "(0.2710552962588871, 3.521899165301543)\n",
      "0.2710552962588871\n",
      "(0.27048998220947884, 3.536468638919455)\n",
      "0.27048998220947884\n",
      "(0.26992956491577536, 3.5508898298508194)\n",
      "0.26992956491577536\n",
      "(0.26937399479745744, 3.565164246983705)\n",
      "0.26937399479745744\n",
      "(0.2688232227786488, 3.5792933838521863)\n",
      "0.2688232227786488\n",
      "(0.2682772002827827, 3.5932787187925834)\n",
      "0.2682772002827827\n",
      "(0.2677358792275214, 3.6071217150981094)\n",
      "0.2677358792275214\n",
      "(0.267199212019727, 3.620823821171944)\n",
      "0.267199212019727\n",
      "(0.26666715155048343, 3.63438647067875)\n",
      "0.26666715155048343\n",
      "(0.26613965119016914, 3.6478110826946484)\n",
      "0.26613965119016914\n",
      "(0.26561666478358015, 3.6610990618556674)\n",
      "0.26561666478358015\n",
      "(0.2650981466451024, 3.674251798504679)\n",
      "0.2650981466451024\n",
      "(0.26458405155393344, 3.687270668836844)\n",
      "0.26458405155393344\n",
      "(0.26407433474935255, 3.7001570350435724)\n",
      "0.26407433474935255\n",
      "(0.2635689519260392, 3.712912245455023)\n",
      "0.2635689519260392\n",
      "(0.2630678592294391, 3.7255376346811517)\n",
      "0.2630678592294391\n",
      "(0.2625710132511772, 3.738034523751322)\n",
      "0.2625710132511772\n",
      "(0.26207837102451775, 3.750404220252499)\n",
      "0.26207837102451775\n",
      "(0.26158989001987015, 3.7626480184660345)\n",
      "0.26158989001987015\n",
      "(0.2611055281403407, 3.774767199503061)\n",
      "0.2611055281403407\n",
      "(0.2606252437173298, 3.7867630314385075)\n",
      "0.2606252437173298\n",
      "(0.2601489955061736, 3.798636769443753)\n",
      "0.2601489955061736\n",
      "(0.2596767426818303, 3.8103896559179273)\n",
      "0.2596767426818303\n",
      "(0.25920844483461014, 3.82202292061788)\n",
      "0.25920844483461014\n",
      "(0.25874406196594907, 3.833537780786823)\n",
      "0.25874406196594907\n",
      "(0.258283554484225, 3.8449354412816645)\n",
      "0.258283554484225\n",
      "(0.2578268832006172, 3.8562170946990513)\n",
      "0.2578268832006172\n",
      "(0.25737400932500737, 3.8673839215001222)\n",
      "0.25737400932500737\n",
      "(0.25692489446192257, 3.8784370901339984)\n",
      "0.25692489446192257\n",
      "(0.2564795006065196, 3.889377757160011)\n",
      "0.2564795006065196\n",
      "(0.2560377901406099, 3.900207067368691)\n",
      "0.2560377901406099\n",
      "(0.25559972582872525, 3.9109261539015225)\n",
      "0.25559972582872525\n",
      "(0.25516527081422324, 3.921536138369482)\n",
      "0.25516527081422324\n",
      "(0.25473438861543246, 3.932038130970367)\n",
      "0.25473438861543246\n",
      "(0.2543070431218371, 3.942433230604936)\n",
      "0.2543070431218371\n",
      "(0.25388319859029995, 3.952722524991861)\n",
      "0.25388319859029995\n",
      "(0.2534628196413243, 3.962907090781515)\n",
      "0.2534628196413243\n",
      "(0.2530458712553535, 3.972987993668599)\n",
      "0.2530458712553535\n",
      "(0.2526323187691085, 3.982966288503622)\n",
      "0.2526323187691085\n",
      "(0.2522221278719624, 3.992843019403252)\n",
      "0.2522221278719624\n",
      "(0.251815264602352, 4.002619219859537)\n",
      "0.251815264602352\n",
      "(0.25141169534422575, 4.0122959128480185)\n",
      "0.25141169534422575\n",
      "(0.2510113868235282, 4.021874110934745)\n",
      "0.2510113868235282\n",
      "(0.2506143061047198, 4.031354816382198)\n",
      "0.2506143061047198\n",
      "(0.2502204205873323, 4.040739021254131)\n",
      "0.2502204205873323\n",
      "(0.24982969800255914, 4.050027707519359)\n",
      "0.24982969800255914\n",
      "(0.2494421064098807, 4.059221847154471)\n",
      "0.2494421064098807\n",
      "(0.24905761419372371, 4.068322402245515)\n",
      "0.24905761419372371\n",
      "(0.24867619006015468, 4.07733032508864)\n",
      "0.24867619006015468\n",
      "(0.24829780303360707, 4.086246558289713)\n",
      "0.24829780303360707\n",
      "(0.24792242245364168, 4.095072034862925)\n",
      "0.24792242245364168\n",
      "(0.24755001797174003, 4.103807678328393)\n",
      "0.24755001797174003\n",
      "(0.24718055954813034, 4.112454402808771)\n",
      "0.24718055954813034\n",
      "(0.2468140174486459, 4.121013113124873)\n",
      "0.2468140174486459\n",
      "(0.2464503622416153, 4.129484704890326)\n",
      "0.2464503622416153\n",
      "(0.24608956479478436, 4.137870064605262)\n",
      "0.24608956479478436\n",
      "(0.24573159627226937, 4.146170069749052)\n",
      "0.24573159627226937\n",
      "(0.24537642813154134, 4.154385588872097)\n",
      "0.24537642813154134\n",
      "(0.2450240321204409, 4.162517481686692)\n",
      "0.2450240321204409\n",
      "(0.2446743802742237, 4.170566599156953)\n",
      "0.2446743802742237\n",
      "(0.24432744491263564, 4.178533783587842)\n",
      "0.24432744491263564\n",
      "(0.24398319863701812, 4.186419868713276)\n",
      "0.24398319863701812\n",
      "(0.24364161432744255, 4.194225679783345)\n",
      "0.24364161432744255\n",
      "(0.2433026651398742, 4.201952033650639)\n",
      "0.2433026651398742\n",
      "(0.24296632450336467, 4.209599738855703)\n",
      "0.24296632450336467\n",
      "(0.24263256611727319, 4.217169595711611)\n",
      "0.24263256611727319\n",
      "(0.24230136394851598, 4.224662396387693)\n",
      "0.24230136394851598\n",
      "(0.2419726922288438, 4.232078924992398)\n",
      "0.2419726922288438\n",
      "(0.24164652545214693, 4.239419957655323)\n",
      "0.24164652545214693\n",
      "(0.24132283837178792, 4.246686262608402)\n",
      "0.24132283837178792\n",
      "(0.24100160599796117, 4.253878600266269)\n",
      "0.24100160599796117\n",
      "(0.24068280359507954, 4.260997723305806)\n",
      "0.24068280359507954\n",
      "(0.24036640667918754, 4.2680443767448795)\n",
      "0.24036640667918754\n",
      "(0.24005239101540085, 4.275019298020276)\n",
      "0.24005239101540085\n",
      "(0.23974073261537174, 4.281923217064846)\n",
      "0.23974073261537174\n",
      "(0.23943140773478058, 4.28875685638386)\n",
      "0.23943140773478058\n",
      "(0.23912439287085258, 4.295520931130591)\n",
      "0.23912439287085258\n",
      "(0.23881966475989996, 4.302216149181126)\n",
      "0.23881966475989996\n",
      "(0.23851720037488913, 4.308843211208415)\n",
      "0.23851720037488913\n",
      "(0.23821697692303254, 4.315402810755568)\n",
      "0.23821697692303254\n",
      "(0.23791897184340505, 4.32189563430841)\n",
      "0.23791897184340505\n",
      "(0.2376231628045847, 4.328322361367287)\n",
      "0.2376231628045847\n",
      "(0.23732952770231727, 4.334683664518156)\n",
      "0.23732952770231727\n",
      "(0.2370380446572048, 4.340980209502937)\n",
      "0.2370380446572048\n",
      "(0.2367486920124174, 4.347212655289158)\n",
      "0.2367486920124174\n",
      "(0.2364614483314287, 4.353381654138892)\n",
      "0.2364614483314287\n",
      "(0.2361762923957739, 4.359487851676986)\n",
      "0.2361762923957739\n",
      "(0.235893203202831, 4.3655318869586015)\n",
      "0.235893203202831\n",
      "(0.23561215996362447, 4.371514392536064)\n",
      "0.23561215996362447\n",
      "(0.23533314210065118, 4.377435994525036)\n",
      "0.23533314210065118\n",
      "(0.23505612924572863, 4.383297312670012)\n",
      "0.23505612924572863\n",
      "(0.23478110123786491, 4.389098960409153)\n",
      "0.23478110123786491\n",
      "(0.2345080381211505, 4.394841544938453)\n",
      "0.2345080381211505\n",
      "(0.23423692014267136, 4.4005256672752635)\n",
      "0.23423692014267136\n",
      "(0.23396772775044336, 4.40615192232116)\n",
      "0.23396772775044336\n",
      "(0.23370044159136769, 4.411720898924178)\n",
      "0.23370044159136769\n",
      "(0.23343504250920705, 4.417233179940408)\n",
      "0.23343504250920705\n",
      "(0.23317151154258256, 4.422689342294973)\n",
      "0.23317151154258256\n",
      "(0.2329098299229909, 4.428089957042377)\n",
      "0.2329098299229909\n",
      "(0.23264997907284163, 4.433435589426242)\n",
      "0.23264997907284163\n",
      "(0.23239194060351465, 4.438726798938441)\n",
      "0.23239194060351465\n",
      "(0.23213569631343725, 4.443964139377621)\n",
      "0.23213569631343725\n",
      "(0.2318812281861808, 4.449148158907141)\n",
      "0.2318812281861808\n",
      "(0.23162851838857676, 4.454279400112411)\n",
      "0.23162851838857676\n",
      "(0.23137754926885204, 4.459358400057655)\n",
      "0.23137754926885204\n",
      "(0.23112830335478302, 4.46438569034209)\n",
      "0.23112830335478302\n",
      "(0.23088076335186863, 4.469361797155537)\n",
      "0.23088076335186863\n",
      "(0.2306349121415219, 4.474287241333466)\n",
      "0.2306349121415219\n",
      "(0.23039073277927993, 4.479162538411479)\n",
      "0.23039073277927993\n",
      "(0.23014820849303208, 4.483988198679241)\n",
      "0.23014820849303208\n",
      "(0.22990732268126615, 4.488764727233863)\n",
      "0.22990732268126615\n",
      "(0.22966805891133252, 4.4934926240327355)\n",
      "0.22966805891133252\n",
      "(0.2294304009177258, 4.498172383945832)\n",
      "0.2294304009177258\n",
      "(0.22919433260038402, 4.502804496807475)\n",
      "0.22919433260038402\n",
      "(0.2289598380230053, 4.50738944746758)\n",
      "0.2289598380230053\n",
      "(0.2287269014113813, 4.511927715842371)\n",
      "0.2287269014113813\n",
      "(0.22849550715174796, 4.5164197769645895)\n",
      "0.22849550715174796\n",
      "(0.22826563978915285, 4.5208661010331825)\n",
      "0.22826563978915285\n",
      "(0.22803728402583912, 4.525267153462494)\n",
      "0.22803728402583912\n",
      "(0.22781042471964602, 4.5296233949309475)\n",
      "0.22781042471964602\n",
      "(0.22758504688242562, 4.533935281429241)\n",
      "0.22758504688242562\n",
      "(0.22736113567847557, 4.538203264308047)\n",
      "0.22736113567847557\n",
      "(0.22713867642298796, 4.542427790325224)\n",
      "0.22713867642298796\n",
      "(0.2269176545805138, 4.546609301692558)\n",
      "0.2269176545805138\n",
      "(0.2266980557634433, 4.550748236122018)\n",
      "0.2266980557634433\n",
      "(0.22647986573050144, 4.554845026871546)\n",
      "0.22647986573050144\n",
      "(0.226263070385259, 4.5589001027903775)\n",
      "0.226263070385259\n",
      "(0.22604765577465863, 4.562913888363908)\n",
      "0.22604765577465863\n",
      "(0.22583360808755598, 4.566886803758092)\n",
      "0.22583360808755598\n",
      "(0.22562091365327566, 4.570819264863403)\n",
      "0.22562091365327566\n",
      "(0.22540955894018186, 4.574711683338335)\n",
      "0.22540955894018186\n",
      "(0.22519953055426356, 4.578564466652464)\n",
      "0.22519953055426356\n",
      "(0.22499081523773412, 4.582378018129081)\n",
      "0.22499081523773412\n",
      "(0.22478339986764517, 4.5861527369873745)\n",
      "0.22478339986764517\n",
      "(0.2245772714545145, 4.589889018384199)\n",
      "0.2245772714545145\n",
      "(0.22437241714096795, 4.593587253455409)\n",
      "0.22437241714096795\n",
      "(0.22416882420039522, 4.597247829356776)\n",
      "0.22416882420039522\n",
      "(0.22396648003561917, 4.600871129304488)\n",
      "0.22396648003561917\n",
      "(0.2237653721775789, 4.604457532615239)\n",
      "0.2237653721775789\n",
      "(0.22356548828402595, 4.608007414745909)\n",
      "0.22356548828402595\n",
      "(0.22336681613823403, 4.611521147332839)\n",
      "0.22336681613823403\n",
      "(0.22316934364772173, 4.614999098230708)\n",
      "0.22316934364772173\n",
      "(0.2229730588429882, 4.618441631551015)\n",
      "0.2229730588429882\n",
      "(0.22277794987626187, 4.621849107700167)\n",
      "0.22277794987626187\n",
      "(0.22258400502026168, 4.625221883417183)\n",
      "0.22258400502026168\n",
      "(0.22239121266697112, 4.62856031181101)\n",
      "0.22239121266697112\n",
      "(0.22219956132642457, 4.631864742397463)\n",
      "0.22219956132642457\n",
      "(0.2220090396255061, 4.635135521135787)\n",
      "0.2220090396255061\n",
      "(0.22181963630676052, 4.638372990464847)\n",
      "0.22181963630676052\n",
      "(0.22163134022721637, 4.641577489338953)\n",
      "0.22163134022721637\n",
      "(0.22144414035722101, 4.644749353263315)\n",
      "costs: 11.94698647224238\n",
      "theta_0: 0.22144414035722101\n",
      "theta_1: 4.644749353263315\n"
     ]
    }
   ],
   "source": [
    "cost_hist, t0_hist, t1_hist = gradient_descent(x, y, iterations=250, learning_rate=0.0003, verbose=True)"
   ]
  },
  {
   "cell_type": "markdown",
   "metadata": {
    "slideshow": {
     "slide_type": "slide"
    }
   },
   "source": [
    "###  Model and Training Evaluation\n",
    "Now visualize the training process by plotting the `cost_hist` as a curve. Also, create a plot that shows the decision boundary of your final hypothesis (model) inside your data. Your plots should look like:\n",
    "\n",
    "![internet connection needed](https://gitlab.com/deep.TEACHING/educational-materials/raw/dev/media/voigt/images/Simple-Linear-Regression_Decision-Boundary.png)"
   ]
  },
  {
   "cell_type": "code",
   "execution_count": null,
   "metadata": {
    "slideshow": {
     "slide_type": "slide"
    }
   },
   "outputs": [],
   "source": [
    "def evaluation_plt(cost_hist, theta_0, theta_1, x, y):\n",
    "    ''' Plots a cost curve and the decision boundary\n",
    "    \n",
    "    The Method plots a cost curve from a given training process (cost_hist). \n",
    "    It also plots the data set (x,y) and draws a linear decision boundary \n",
    "    with the parameters theta_0 and theta_1 into the plotted data set.\n",
    "    \n",
    "    Args:\n",
    "        cost_hist: vector, history of all cost values from a opitmization\n",
    "        theta_0: scalar, model parameter for boundary\n",
    "        theta_1: scalar, model parameter for boundary\n",
    "        x: vector, x values from the data set\n",
    "        y: vector, y values from the data set\n",
    "    '''\n",
    "    raise NotImplementedError(\"You should implement this!\")"
   ]
  },
  {
   "cell_type": "code",
   "execution_count": null,
   "metadata": {
    "slideshow": {
     "slide_type": "skip"
    }
   },
   "outputs": [],
   "source": [
    "def evaluation_plt(cost_hist, theta_0, theta_1, x, y):\n",
    "    ''' Plots a cost curve and the decision boundary\n",
    "    \n",
    "    The Method plots a cost curve from a given training process (cost_hist). \n",
    "    It also plots the data set (x,y) and draws a linear decision boundary \n",
    "    with the parameters theta_0 and theta_1 into the plotted data set.\n",
    "    \n",
    "    Args:\n",
    "        cost_hist: vector, history of all cost values from a opitmization\n",
    "        theta_0: scalar, model parameter for boundary\n",
    "        theta_1: scalar, model parameter for boundary\n",
    "        x: vector, x values from the data set\n",
    "        y: vector, y values from the data set\n",
    "    '''\n",
    "    plt.figure(1, figsize=(17,7))\n",
    "\n",
    "    plt.subplot(121)\n",
    "    plt.subplots_adjust(wspace = 0.2)\n",
    "    plt.plot(np.linspace(0, len(cost_hist), len(cost_hist)), cost_hist)\n",
    "    plt.xlabel('Iterations')\n",
    "    plt.ylabel('Cost')\n",
    "    plt.title('Cost Curve')\n",
    "\n",
    "    x_ = np.arange(x.min() - 1., x.max() + 1., 0.1) \n",
    "    model = theta_0 + theta_1 * x_\n",
    "    plt.subplot(122)\n",
    "    plt.plot(x_, model, \"b-\")\n",
    "    plt.plot(x, y, \"rx\")\n",
    "    plt.xlabel('x')\n",
    "    plt.ylabel('y')\n",
    "    plt.title('Decision Boundary')"
   ]
  },
  {
   "cell_type": "code",
   "execution_count": null,
   "metadata": {},
   "outputs": [],
   "source": [
    "evaluation_plt(cost_hist, t0_hist[-1], t1_hist[-1], x, y)"
   ]
  },
  {
   "cell_type": "markdown",
   "metadata": {
    "slideshow": {
     "slide_type": "slide"
    }
   },
   "source": [
    "### Optimize Hyperparameter\n",
    "In machine learning, hyperparameters are parameters whose values are set before starting the training process of the model. The learning rate is a hyperparameter, and it is a crucial parameter in the context of optimization with first-order methods in supervised learning. It can easily happen that your model does not learn if you have chosen an unsuited learning rate. To find a suitable learning rate for your problem, you need to try different ones. Implement a function `optimize_learning_rate` that trains your model with different learning rates and plots the different cost histories. Try to identify edge cases, e.g., cases when the learning rate is too high or too low, to develop a better feeling for the learning rate problem. Your plot could look like this:\n",
    "\n",
    "![internet connection needed](https://gitlab.com/deep.TEACHING/educational-materials/raw/dev/media/voigt/images/Simple-Linear-Regression_Learning-Rates.png)"
   ]
  },
  {
   "cell_type": "code",
   "execution_count": null,
   "metadata": {
    "slideshow": {
     "slide_type": "slide"
    }
   },
   "outputs": [],
   "source": [
    "def optimize_learning_rate(learning_rates, x, y):\n",
    "    ''' Train a model with diffrent learning rates and plots the costs\n",
    "    \n",
    "    Args:\n",
    "        learning_rates: vector, learning rates used to train a linear model\n",
    "        x: vector, x values from the data set\n",
    "        y: vector, y values from the data set\n",
    "    '''    \n",
    "    raise NotImplementedError(\"You should implement this!\")"
   ]
  },
  {
   "cell_type": "code",
   "execution_count": null,
   "metadata": {
    "slideshow": {
     "slide_type": "skip"
    }
   },
   "outputs": [],
   "source": [
    "def optimize_learning_rate(learning_rates, x, y):\n",
    "    ''' Train a model with diffrent learning rates and plots the costs\n",
    "    \n",
    "    Args:\n",
    "        learning_rates: vector, learning rates used to train a linear model\n",
    "        x: vector, x values from the data set\n",
    "        y: vector, y values from the data set\n",
    "    '''    \n",
    "    plt.figure(figsize=(17,9))\n",
    "\n",
    "    for lr in learning_rates:\n",
    "        cost_hist, t0_hist, t1_hist = gradient_descent(x, y, iterations=250, learning_rate=lr)\n",
    "        plt.plot(np.array(range(cost_hist.shape[0])), cost_hist, label='learning rate ' + str(lr))\n",
    "\n",
    "\n",
    "    plt.axis('auto')\n",
    "    plt.xlabel('Iterations')\n",
    "    plt.ylabel('Costs')\n",
    "    plt.title('Cost Curves')\n",
    "    plt.legend(loc='best')\n",
    "    plt.ylim(0,1000)"
   ]
  },
  {
   "cell_type": "code",
   "execution_count": null,
   "metadata": {},
   "outputs": [],
   "source": [
    "potential_lr = np.array([0.0001, 0.0007, 0.001, 0.007, .01, .0588, .05899])\n",
    "optimize_learning_rate(potential_lr, x, y)"
   ]
  },
  {
   "cell_type": "markdown",
   "metadata": {
    "slideshow": {
     "slide_type": "slide"
    }
   },
   "source": [
    "## Summary and Outlook\n",
    "\n",
    "During this exercise, fundamental elements of Machine Learning were covered. You should be able to answer the following questions:\n",
    "- What is a model using the example of a linear function as a hypothesis?\n",
    "- How do you quantify a model?\n",
    "- What is the gradient descent algorithm and what is its used for in the context of Machine Learning?\n",
    "- Can you explain the concept of hyperparameters and name some?"
   ]
  },
  {
   "cell_type": "markdown",
   "metadata": {
    "slideshow": {
     "slide_type": "slide"
    }
   },
   "source": [
    "## Licenses\n",
    "\n",
    "### Notebook License (CC-BY-SA 4.0)\n",
    "\n",
    "*The following license applies to the complete notebook, including code cells. It does however not apply to any referenced external media (e.g., images).*\n",
    "\n",
    "Exercise: Simple Linear Regression <br/>\n",
    "by Christian Herta, Benjamin Voigt, Klaus Strohmenger <br/>\n",
    "is licensed under a [Creative Commons Attribution-ShareAlike 4.0 International License](http://creativecommons.org/licenses/by-sa/4.0/).<br/>\n",
    "Based on a work at https://gitlab.com/deep.TEACHING.\n",
    "\n",
    "\n",
    "### Code License (MIT)\n",
    "\n",
    "*The following license only applies to code cells of the notebook.*\n",
    "\n",
    "Copyright 2018 Christian Herta, Benjamin Voigt, Klaus Strohmenger\n",
    "\n",
    "Permission is hereby granted, free of charge, to any person obtaining a copy of this software and associated documentation files (the \"Software\"), to deal in the Software without restriction, including without limitation the rights to use, copy, modify, merge, publish, distribute, sublicense, and/or sell copies of the Software, and to permit persons to whom the Software is furnished to do so, subject to the following conditions:\n",
    "\n",
    "The above copyright notice and this permission notice shall be included in all copies or substantial portions of the Software.\n",
    "\n",
    "THE SOFTWARE IS PROVIDED \"AS IS\", WITHOUT WARRANTY OF ANY KIND, EXPRESS OR IMPLIED, INCLUDING BUT NOT LIMITED TO THE WARRANTIES OF MERCHANTABILITY, FITNESS FOR A PARTICULAR PURPOSE AND NONINFRINGEMENT. IN NO EVENT SHALL THE AUTHORS OR COPYRIGHT HOLDERS BE LIABLE FOR ANY CLAIM, DAMAGES OR OTHER LIABILITY, WHETHER IN AN ACTION OF CONTRACT, TORT OR OTHERWISE, ARISING FROM, OUT OF OR IN CONNECTION WITH THE SOFTWARE OR THE USE OR OTHER DEALINGS IN THE SOFTWARE."
   ]
  }
 ],
 "metadata": {
  "celltoolbar": "Slideshow",
  "kernelspec": {
   "display_name": "Python 3",
   "language": "python",
   "name": "python3"
  },
  "language_info": {
   "codemirror_mode": {
    "name": "ipython",
    "version": 3
   },
   "file_extension": ".py",
   "mimetype": "text/x-python",
   "name": "python",
   "nbconvert_exporter": "python",
   "pygments_lexer": "ipython3",
   "version": "3.8.8"
  }
 },
 "nbformat": 4,
 "nbformat_minor": 2
}
