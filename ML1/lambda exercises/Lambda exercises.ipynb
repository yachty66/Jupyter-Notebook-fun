{
 "cells": [
  {
   "cell_type": "markdown",
   "id": "93a4aba8",
   "metadata": {},
   "source": [
    "# 1"
   ]
  },
  {
   "cell_type": "code",
   "execution_count": 6,
   "id": "1ca83629",
   "metadata": {},
   "outputs": [
    {
     "name": "stdout",
     "output_type": "stream",
     "text": [
      "17\n",
      "4\n"
     ]
    }
   ],
   "source": [
    "func = lambda x: x + 15\n",
    "\n",
    "func2 = lambda x,y: x*y\n",
    "\n",
    "print(func(2))\n",
    "print(func2(2,2))"
   ]
  },
  {
   "cell_type": "markdown",
   "id": "8260d1e7",
   "metadata": {},
   "source": [
    "# 2"
   ]
  },
  {
   "cell_type": "code",
   "execution_count": 27,
   "id": "49eaa63d",
   "metadata": {},
   "outputs": [
    {
     "name": "stdout",
     "output_type": "stream",
     "text": [
      "18225925089272\n"
     ]
    }
   ],
   "source": [
    "import random \n",
    "rand = random.randint(1,10000000000000)\n",
    "func = lambda x: x*rand\n",
    "print(func(2))"
   ]
  },
  {
   "cell_type": "markdown",
   "id": "2438ccfb",
   "metadata": {},
   "source": [
    "# 3"
   ]
  },
  {
   "cell_type": "code",
   "execution_count": 37,
   "id": "ccd45d00",
   "metadata": {},
   "outputs": [
    {
     "name": "stdout",
     "output_type": "stream",
     "text": [
      "[1, 9, 10, 99, 100, 999, 10000]\n"
     ]
    }
   ],
   "source": [
    "lst=[100, 10, 10000, 1, 9, 999, 99]\n",
    "\n",
    "#Type your answer here.\n",
    "\n",
    "\n",
    "\n",
    "lst = sorted(lst, key=lambda x: x)\n",
    "\n",
    "lst = sorted(lst)\n",
    "\n",
    "print(lst)\n",
    "\n"
   ]
  },
  {
   "cell_type": "code",
   "execution_count": 30,
   "id": "fba1f617",
   "metadata": {},
   "outputs": [
    {
     "name": "stdout",
     "output_type": "stream",
     "text": [
      "125\n"
     ]
    }
   ],
   "source": [
    "def do_something(f, val):\n",
    "    return f(val)\n",
    "\n",
    "func = lambda x: x**3\n",
    "\n",
    "print(do_something(func, 5))\n",
    "\n",
    "How to call here the do_something method to get to the result of 125?"
   ]
  },
  {
   "cell_type": "code",
   "execution_count": null,
   "id": "2163c494",
   "metadata": {},
   "outputs": [],
   "source": []
  }
 ],
 "metadata": {
  "kernelspec": {
   "display_name": "Python 3",
   "language": "python",
   "name": "python3"
  },
  "language_info": {
   "codemirror_mode": {
    "name": "ipython",
    "version": 3
   },
   "file_extension": ".py",
   "mimetype": "text/x-python",
   "name": "python",
   "nbconvert_exporter": "python",
   "pygments_lexer": "ipython3",
   "version": "3.8.8"
  }
 },
 "nbformat": 4,
 "nbformat_minor": 5
}
