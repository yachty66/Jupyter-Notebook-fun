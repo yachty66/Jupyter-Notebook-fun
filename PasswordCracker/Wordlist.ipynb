{
 "cells": [
  {
   "cell_type": "code",
   "execution_count": null,
   "id": "15f2da36",
   "metadata": {},
   "outputs": [],
   "source": [
    "import pikepdf\n",
    "import random\n",
    "\n",
    "#passwords = [\"A\", \"B\", \"C\", \"D\", \"E\", \"F\", \"G\", \"H\", \"I\", \"J\", \"K\", \"L\", \"M\", \"N\",\n",
    "#\"O\", \"P\", \"Q\", \"R\", \"S\", \"T\", \"U\", \"V\", \"W\", \"X\", \"Y\", \"Z\", \"1\", \"2\", \"3\", \"4\", \"5\", \"6\", \"7\", \"8\", \"9\", \n",
    "#\"!\", \"§\", \"$\", \"%\", \"&\", \"/\", \"(\", \")\", \"=\", \".\", \"-\", \",\", \"@\", \"€\", \"[\", \"]\"]\n",
    "passwords = [\"1\", \"2\", \"8\", \"9\", \"0\", \"I\", \"M\", \"W\", \"S\", \"#\"]\n",
    "\n",
    "# iterate over passwords\n",
    "while(True):\n",
    "    guess = \"\"\n",
    "    try:\n",
    "        for letter in range(7):\n",
    "            random_number = random.randint(0, 9)\n",
    "            guess_letter = passwords[random_number]\n",
    "            guess = str(guess_letter) + str(guess)\n",
    "        # open PDF file\n",
    "        with pikepdf.open(\"2019_Auenhandel_Studversion.pdf\", password=guess) as pdf:\n",
    "            # Password decrypted successfully, break out of the loop\n",
    "            print(\"[+] Password found:\", guess)\n",
    "            break\n",
    "    except pikepdf._qpdf.PasswordError as e:\n",
    "        # wrong password, just continue in the loop\n",
    "        continue"
   ]
  },
  {
   "cell_type": "code",
   "execution_count": null,
   "id": "1286fd61",
   "metadata": {},
   "outputs": [],
   "source": []
  }
 ],
 "metadata": {
  "kernelspec": {
   "display_name": "Python 3 (ipykernel)",
   "language": "python",
   "name": "python3"
  },
  "language_info": {
   "codemirror_mode": {
    "name": "ipython",
    "version": 3
   },
   "file_extension": ".py",
   "mimetype": "text/x-python",
   "name": "python",
   "nbconvert_exporter": "python",
   "pygments_lexer": "ipython3",
   "version": "3.9.7"
  }
 },
 "nbformat": 4,
 "nbformat_minor": 5
}
