{
 "cells": [
  {
   "cell_type": "code",
   "execution_count": 43,
   "id": "cad96694",
   "metadata": {},
   "outputs": [
    {
     "name": "stdout",
     "output_type": "stream",
     "text": [
      "Enter your name: 22\n",
      "Enter your age: 22\n",
      "You will be 100 in 78 years.\n",
      "Enter a number: 22\n",
      "You will be 100 in 78 years.You will be 100 in 78 years.You will be 100 in 78 years.You will be 100 in 78 years.You will be 100 in 78 years.You will be 100 in 78 years.You will be 100 in 78 years.You will be 100 in 78 years.You will be 100 in 78 years.You will be 100 in 78 years.You will be 100 in 78 years.You will be 100 in 78 years.You will be 100 in 78 years.You will be 100 in 78 years.You will be 100 in 78 years.You will be 100 in 78 years.You will be 100 in 78 years.You will be 100 in 78 years.You will be 100 in 78 years.You will be 100 in 78 years.You will be 100 in 78 years.You will be 100 in 78 years.\n",
      "\n",
      "You will be 100 in 78 years.\n",
      "You will be 100 in 78 years.\n",
      "You will be 100 in 78 years.\n",
      "You will be 100 in 78 years.\n",
      "You will be 100 in 78 years.\n",
      "You will be 100 in 78 years.\n",
      "You will be 100 in 78 years.\n",
      "You will be 100 in 78 years.\n",
      "You will be 100 in 78 years.\n",
      "You will be 100 in 78 years.\n",
      "You will be 100 in 78 years.\n",
      "You will be 100 in 78 years.\n",
      "You will be 100 in 78 years.\n",
      "You will be 100 in 78 years.\n",
      "You will be 100 in 78 years.\n",
      "You will be 100 in 78 years.\n",
      "You will be 100 in 78 years.\n",
      "You will be 100 in 78 years.\n",
      "You will be 100 in 78 years.\n",
      "You will be 100 in 78 years.\n",
      "You will be 100 in 78 years.\n",
      "You will be 100 in 78 years.\n"
     ]
    }
   ],
   "source": [
    "name = input(\"Enter your name: \")\n",
    "age = input(\"Enter your age: \")\n",
    "age = int(age)\n",
    "preDictAge = 100-age\n",
    "preDictAge = str(preDictAge)\n",
    "result = \"You will be 100 in \" + preDictAge + \" years.\"\n",
    "print (result)\n",
    "\n",
    "#print many times \n",
    "number = int(input(\"Enter a number: \"))\n",
    "result2 = number * result + \"\\n\" \n",
    "print(result2)\n",
    "\n",
    "#print many times in seperate lines\n",
    "i = 0\n",
    "while i < number:\n",
    "    print(result)        \n",
    "    i  += 1\n",
    "    \n",
    "\n"
   ]
  },
  {
   "cell_type": "code",
   "execution_count": 38,
   "id": "6c8d1005",
   "metadata": {},
   "outputs": [
    {
     "name": "stdout",
     "output_type": "stream",
     "text": [
      "test\n",
      "test2\n"
     ]
    }
   ],
   "source": [
    "s = \"test\"+\"\\n\"+\"test2\"\n",
    "print(s)"
   ]
  },
  {
   "cell_type": "code",
   "execution_count": null,
   "id": "23f7e746",
   "metadata": {},
   "outputs": [],
   "source": [
    "22\n",
    "22\n"
   ]
  }
 ],
 "metadata": {
  "kernelspec": {
   "display_name": "Python 3",
   "language": "python",
   "name": "python3"
  },
  "language_info": {
   "codemirror_mode": {
    "name": "ipython",
    "version": 3
   },
   "file_extension": ".py",
   "mimetype": "text/x-python",
   "name": "python",
   "nbconvert_exporter": "python",
   "pygments_lexer": "ipython3",
   "version": "3.8.8"
  }
 },
 "nbformat": 4,
 "nbformat_minor": 5
}
