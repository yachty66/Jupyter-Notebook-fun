{
 "cells": [
  {
   "cell_type": "code",
   "execution_count": 5,
   "id": "7f22699b",
   "metadata": {},
   "outputs": [
    {
     "name": "stdout",
     "output_type": "stream",
     "text": [
      "[1, 2, 3, 5, 8, 13]\n",
      "[4, 6, 7]\n"
     ]
    }
   ],
   "source": [
    "import random\n",
    "a = [1, 1, 2, 3, 5, 8, 13, 21, 34, 55, 89]\n",
    "b = [1, 2, 3, 4, 5, 6, 7, 8, 9, 10, 11, 12, 13]\n",
    "c=[]\n",
    "d=[]\n",
    "e=[]\n",
    "counter = 0\n",
    "counter_two = 0\n",
    "while counter < 10:\n",
    "    f = random.randint(1,9)\n",
    "    d.append(f)\n",
    "    counter += 1\n",
    "\n",
    "while counter_two < 12:\n",
    "    f = random.randint(1,9)\n",
    "    e.append(f)\n",
    "    counter_two += 1\n",
    "    \n",
    "\n",
    "def return_list(a, b):\n",
    "    c=[element for element in a if element in b]\n",
    "    return list(set(c))\n",
    "print(return_list(a,b))\n",
    "print(return_list(d,e))\n",
    "\n",
    "        "
   ]
  },
  {
   "cell_type": "code",
   "execution_count": null,
   "id": "076a1016",
   "metadata": {},
   "outputs": [],
   "source": []
  }
 ],
 "metadata": {
  "kernelspec": {
   "display_name": "Python 3",
   "language": "python",
   "name": "python3"
  }
 },
 "nbformat": 4,
 "nbformat_minor": 5
}
