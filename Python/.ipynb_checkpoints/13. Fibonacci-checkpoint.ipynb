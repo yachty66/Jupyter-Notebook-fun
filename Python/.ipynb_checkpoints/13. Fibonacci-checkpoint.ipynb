{
 "cells": [
  {
   "cell_type": "code",
   "execution_count": null,
   "id": "7d0683d3",
   "metadata": {},
   "outputs": [],
   "source": [
    "#Exercise\n",
    "numbers = int(input(\"Enter a number for how many Fibonacci numbers should be shown: \"))\n",
    "c=[]\n",
    "d=[1]\n",
    "def fibonacci(numbers):\n",
    "    if numbers == 1:\n",
    "        return(d)\n",
    "    elif numbers == 0:\n",
    "        return(c)\n",
    "    p = 2\n",
    "    a = [1,1]\n",
    "    i = 0\n",
    "    h = 1\n",
    "    while p < numbers:\n",
    "        a.append(a[i]+a[h])\n",
    "        i += 1\n",
    "        h += 1\n",
    "        p += 1\n",
    "    print(a)\n",
    "fibonacci(numbers)"
   ]
  },
  {
   "cell_type": "code",
   "execution_count": null,
   "id": "15763ac8",
   "metadata": {},
   "outputs": [],
   "source": []
  }
 ],
 "metadata": {
  "kernelspec": {
   "display_name": "Python 3",
   "language": "python",
   "name": "python3"
  },
  "language_info": {
   "codemirror_mode": {
    "name": "ipython",
    "version": 3
   },
   "file_extension": ".py",
   "mimetype": "text/x-python",
   "name": "python",
   "nbconvert_exporter": "python",
   "pygments_lexer": "ipython3",
   "version": "3.8.8"
  }
 },
 "nbformat": 4,
 "nbformat_minor": 5
}
