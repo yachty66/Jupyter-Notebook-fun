{
 "cells": [
  {
   "cell_type": "code",
   "execution_count": 11,
   "id": "475dc380",
   "metadata": {},
   "outputs": [
    {
     "data": {
      "text/plain": [
       "[1, 2, 3, 4]"
      ]
     },
     "execution_count": 11,
     "metadata": {},
     "output_type": "execute_result"
    }
   ],
   "source": [
    "#Exercise\n",
    "#loop\n",
    "a = [1,1,2,2,3,3,4,4]\n",
    "def remove(lists):\n",
    "    boolean = False\n",
    "    x=[]\n",
    "    counter=0\n",
    "    counter_two=0\n",
    "    for i in a: \n",
    "        for f in x:\n",
    "            if i==f:\n",
    "                counter += 1\n",
    "        if counter==counter_two:\n",
    "            x.append(i)\n",
    "        else:\n",
    "            counter_two += 1\n",
    "    return x\n",
    "remove(a)\n",
    "\n",
    "    \n",
    "    "
   ]
  },
  {
   "cell_type": "code",
   "execution_count": 13,
   "id": "4b60013c",
   "metadata": {},
   "outputs": [
    {
     "data": {
      "text/plain": [
       "{1, 2, 3, 4}"
      ]
     },
     "execution_count": 13,
     "metadata": {},
     "output_type": "execute_result"
    }
   ],
   "source": [
    "#set\n",
    "def con_set(lists):\n",
    "    cone_set = set(lists)\n",
    "    return cone_set\n",
    "con_set(a)"
   ]
  },
  {
   "cell_type": "code",
   "execution_count": null,
   "id": "c5dea44c",
   "metadata": {},
   "outputs": [],
   "source": [
    "#Exercise for second point extras is in exercise 5"
   ]
  }
 ],
 "metadata": {
  "kernelspec": {
   "display_name": "Python 3",
   "language": "python",
   "name": "python3"
  },
  "language_info": {
   "codemirror_mode": {
    "name": "ipython",
    "version": 3
   },
   "file_extension": ".py",
   "mimetype": "text/x-python",
   "name": "python",
   "nbconvert_exporter": "python",
   "pygments_lexer": "ipython3",
   "version": "3.8.8"
  }
 },
 "nbformat": 4,
 "nbformat_minor": 5
}
