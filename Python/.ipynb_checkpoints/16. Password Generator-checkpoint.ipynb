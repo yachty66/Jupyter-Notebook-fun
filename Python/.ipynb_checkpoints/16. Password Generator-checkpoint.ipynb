{
 "cells": [
  {
   "cell_type": "code",
   "execution_count": 37,
   "id": "de037a88",
   "metadata": {},
   "outputs": [
    {
     "name": "stdout",
     "output_type": "stream",
     "text": [
      "You want a weak or a strong password? strong\n",
      "*gÜfC%i%*PÄf`)NDY$bS`VbDÄZgKiOWcTÄLÜjBÜUÜI$Ö)K#f?UUIDQdÄjcVÄ)g/X*S?dbLLÜgH/%KRbFV%KKJhB°LdTZPÜC!=MBfLÄXOI==L°jC?WjXjVOÜjhPJgb°J°Y&XcE$/YJI$ÄdÖINV?iachMZ/HfcVDhdV*dD*a!XVJ!)W&ÜDL&RbKJ`°aAO=ÄWUFL°BHDDÄÄ!gEÄY&LZah=P!EbT?eECTOÄY`H!!JeVO*%`bÖfB`?aWJÖhKiF%MaCT=U\n"
     ]
    }
   ],
   "source": [
    "#Exercise\n",
    "import random\n",
    "import string\n",
    "#i need to develop a password generator \n",
    "#the generator should contain a mix of lowercase letters, uppercase letters, numbers, and symbols\n",
    "#The passwords should be random, generating a new password every time the user asks for a new password\n",
    "#ask the user how strong they want their password to be. For weak passwords, pick a word or two from a list.\n",
    "def main():\n",
    "    input_con = input(\"You want a weak or a strong password? \")\n",
    "    generator(input_con)\n",
    "\n",
    "\n",
    "def generator(input_con):\n",
    "    #starting with creating a week password\n",
    "    if input_con == \"weak\":\n",
    "        letters = string.ascii_lowercase\n",
    "        result_str = ''.join(random.choice(letters) for i in range(10))\n",
    "        print(result_str)\n",
    "    elif input_con == \"strong\":\n",
    "        randomly = random.choice('abcdefghij$%&/)=?`*#!°QWERTZUIOPÜASDFGHJKLÖÄYXCVBNM')\n",
    "        result_mix = ''.join(random.choice('abcdefghij$%&/)=?`*#!°QWERTZUIOPÜASDFGHJKLÖÄYXCVBNM') for i in range(256))\n",
    "        print(result_mix)\n",
    "        \n",
    "        \n",
    "main()"
   ]
  },
  {
   "cell_type": "code",
   "execution_count": null,
   "id": "a8d13e62",
   "metadata": {},
   "outputs": [],
   "source": []
  }
 ],
 "metadata": {
  "kernelspec": {
   "display_name": "Python 3",
   "language": "python",
   "name": "python3"
  },
  "language_info": {
   "codemirror_mode": {
    "name": "ipython",
    "version": 3
   },
   "file_extension": ".py",
   "mimetype": "text/x-python",
   "name": "python",
   "nbconvert_exporter": "python",
   "pygments_lexer": "ipython3",
   "version": "3.8.8"
  }
 },
 "nbformat": 4,
 "nbformat_minor": 5
}
