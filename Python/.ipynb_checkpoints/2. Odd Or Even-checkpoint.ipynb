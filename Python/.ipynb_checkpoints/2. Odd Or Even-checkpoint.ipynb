{
 "cells": [
  {
   "cell_type": "code",
   "execution_count": 3,
   "id": "e63b3a1c",
   "metadata": {},
   "outputs": [
    {
     "name": "stdout",
     "output_type": "stream",
     "text": [
      "Type in a number: 22\n",
      "Your input was even!\n",
      "Type in a number to check: 50\n",
      "Type in a number to divide: 2\n",
      "Your input was evenly divided!\n"
     ]
    }
   ],
   "source": [
    "number = int(input(\"Type in a number: \"))\n",
    "if number%2==0:\n",
    "    print(\"Your input was even!\")\n",
    "    if number%4==0:\n",
    "        print(\"Your input is a mulitple of 4!\")\n",
    "else:\n",
    "    print(\"Your input was odd!\")\n",
    "    \n",
    "    \n",
    "num = int(input(\"Type in a number to check: \"))\n",
    "check = int(input(\"Type in a number to divide: \"))\n",
    "if num/check:\n",
    "    print(\"Your input was evenly divided!\")\n",
    "else:\n",
    "    print(\"The result of the divided numbers was not even!\")"
   ]
  },
  {
   "cell_type": "code",
   "execution_count": null,
   "id": "22108cb2",
   "metadata": {},
   "outputs": [],
   "source": []
  }
 ],
 "metadata": {
  "kernelspec": {
   "display_name": "Python 3",
   "language": "python",
   "name": "python3"
  },
  "language_info": {
   "codemirror_mode": {
    "name": "ipython",
    "version": 3
   },
   "file_extension": ".py",
   "mimetype": "text/x-python",
   "name": "python",
   "nbconvert_exporter": "python",
   "pygments_lexer": "ipython3",
   "version": "3.8.8"
  }
 },
 "nbformat": 4,
 "nbformat_minor": 5
}
