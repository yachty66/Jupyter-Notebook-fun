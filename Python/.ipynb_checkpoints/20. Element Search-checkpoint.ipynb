{
 "cells": [
  {
   "cell_type": "code",
   "execution_count": 2,
   "id": "b8d97a94",
   "metadata": {},
   "outputs": [
    {
     "name": "stdout",
     "output_type": "stream",
     "text": [
      "True\n"
     ]
    }
   ],
   "source": [
    "a=[1,2,3,4,5,6,7]\n",
    "def boolean_check(a, b):\n",
    "    if b in a:\n",
    "        boolean = True\n",
    "        return boolean\n",
    "\n",
    "def binary_search(a, b):\n",
    "    #fange in der Mitte an die Zahl mit der gesuchten Zahl zu vergleichen\n",
    "    start_index = 1\n",
    "    end_index = len(a) - 1\n",
    "  \n",
    "    while True:\n",
    "        middle_index = (end_index - start_index) / 2\n",
    "    \n",
    "        if middle_index < start_index or middle_index > end_index or middle_index < 0:\n",
    "            return False\n",
    "    \n",
    "        middle_element = a[middle_index]\n",
    "        if middle_element == b:\n",
    "            return True\n",
    "        elif middle_element < b:\n",
    "            end_index = middle_index\n",
    "        else:\n",
    "            start_index = middle_index\n",
    "\n",
    "\n",
    "if __name__==\"__main__\":\n",
    "    print(boolean_check(a, 2))"
   ]
  },
  {
   "cell_type": "code",
   "execution_count": null,
   "id": "67936cdc",
   "metadata": {},
   "outputs": [],
   "source": []
  }
 ],
 "metadata": {
  "kernelspec": {
   "display_name": "Python 3",
   "language": "python",
   "name": "python3"
  },
  "language_info": {
   "codemirror_mode": {
    "name": "ipython",
    "version": 3
   },
   "file_extension": ".py",
   "mimetype": "text/x-python",
   "name": "python",
   "nbconvert_exporter": "python",
   "pygments_lexer": "ipython3",
   "version": "3.8.8"
  }
 },
 "nbformat": 4,
 "nbformat_minor": 5
}
