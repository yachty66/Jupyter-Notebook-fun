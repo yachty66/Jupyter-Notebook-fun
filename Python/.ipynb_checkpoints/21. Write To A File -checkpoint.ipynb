{
 "cells": [
  {
   "cell_type": "code",
   "execution_count": 11,
   "id": "23061d0b",
   "metadata": {},
   "outputs": [
    {
     "name": "stdout",
     "output_type": "stream",
     "text": [
      "Enter a name for the file: test\n",
      "['E-commerce site', 'E-commerce site with pagination links', 'E-commerce site with popup links', 'E-commerce site with AJAX pagination links', 'E-commerce site with \"Load more\" buttons', 'E-commerce site that loads items while scrolling', 'Table playground']\n"
     ]
    }
   ],
   "source": [
    "#Exercise\n",
    "from bs4 import BeautifulSoup\n",
    "import requests\n",
    "url = 'https://webscraper.io/test-sites'\n",
    "r = requests.get(url)\n",
    "r_html = r.text\n",
    "soup = BeautifulSoup(r_html)\n",
    "soup = BeautifulSoup(r_html,\"html.parser\")\n",
    "string = soup.find_all(\"h2\", class_='site-heading')\n",
    "x=[]\n",
    "for i in string:\n",
    "    x.append(i.text.strip())\n",
    "\n",
    "name_file = input(\"Enter a name for the file: \")\n",
    "#write and read file\n",
    "f = open(name_file, \"w\")\n",
    "f.write(str(x))\n",
    "f.close()\n",
    "f = open(name_file, \"r\")\n",
    "print(f.read())\n",
    "\n",
    "    \n",
    "\n"
   ]
  },
  {
   "cell_type": "code",
   "execution_count": null,
   "id": "a77e41b1",
   "metadata": {},
   "outputs": [],
   "source": []
  }
 ],
 "metadata": {
  "kernelspec": {
   "display_name": "Python 3",
   "language": "python",
   "name": "python3"
  },
  "language_info": {
   "codemirror_mode": {
    "name": "ipython",
    "version": 3
   },
   "file_extension": ".py",
   "mimetype": "text/x-python",
   "name": "python",
   "nbconvert_exporter": "python",
   "pygments_lexer": "ipython3",
   "version": "3.8.8"
  }
 },
 "nbformat": 4,
 "nbformat_minor": 5
}
