{
 "cells": [
  {
   "cell_type": "code",
   "execution_count": 35,
   "id": "49e26822",
   "metadata": {},
   "outputs": [
    {
     "name": "stdout",
     "output_type": "stream",
     "text": [
      "Player one did not win!\n",
      "The winner is 2!\n"
     ]
    }
   ],
   "source": [
    "#Exercise\n",
    "#checking if someone won a tic tac toe game\n",
    "game = [[0, 1, 1],\n",
    "        [0, 1, 1],\n",
    "        [2, 2, 2]]\n",
    "\n",
    "def winner_is_1(lis):\n",
    "    if lis[0][0] == 1 and lis[1][1] == 1 and lis[2][2] == 1:\n",
    "        print(\"The winner is 1!\")\n",
    "    if all(i == 1 for i in lis[0]):\n",
    "        print(\"The winner is 1!\")\n",
    "    if all(i == 1 for i in lis[1]):\n",
    "        print(\"The winner is 1!\")\n",
    "    if all(i == 1 for i in lis[2]):\n",
    "        print(\"The winner is 1!\")\n",
    "    if lis[0][0] == 1 and lis[1][0] == 1 and lis[2][0] == 1:\n",
    "        print(\"The winner is 1!\")\n",
    "    if lis[0][1] == 1 and lis[1][1] == 1 and lis[2][1] == 1:\n",
    "        print(\"The winner is 1!\")\n",
    "    if lis[0][2] == 1 and lis[1][2] == 1 and lis[2][2] == 1:\n",
    "        print(\"The winner is 1!\")\n",
    "    else:\n",
    "        return(\"Player one did not win!\")\n",
    "        \n",
    "def winner_is_2(lis):\n",
    "    if lis[0][0] == 2 and lis[1][1] == 2 and lis[2][2] == 2:\n",
    "        return(\"The winner is 2!\")\n",
    "    if all(i == 2 for i in lis[0]):\n",
    "        return(\"The winner is 2!\")\n",
    "    if all(i == 2 for i in lis[1]):\n",
    "        return(\"The winner is 2!\")\n",
    "    if all(i == 2 for i in lis[2]):\n",
    "        return(\"The winner is 2!\")\n",
    "    if lis[0][0] == 2 and lis[1][0] == 2 and lis[2][0] == 2:\n",
    "        return(\"The winner is 2!\")\n",
    "    if lis[0][1] == 2 and lis[1][1] == 2 and lis[2][1] == 2:\n",
    "        return(\"The winner is 2!\")\n",
    "    if lis[0][2] == 1 and lis[1][2] == 2 and lis[2][2] == 2:\n",
    "        return(\"The winner is 2!\")\n",
    "    else: \n",
    "        return(\"Player two did not win!\")\n",
    "        \n",
    "def main():\n",
    "    print(winner_is_1(game))\n",
    "    print(winner_is_2(game))\n",
    "    if winner_is_1(game) != \"The winner is 1!\" and winner_is_2(game) != \"The winner is 2!\":\n",
    "        print(\"Nobody has won!\")\n",
    "\n",
    "\n",
    "if __name__==\"__main__\":\n",
    "    main()  \n",
    "    \n",
    "    "
   ]
  },
  {
   "cell_type": "code",
   "execution_count": null,
   "id": "cf1d1422",
   "metadata": {},
   "outputs": [],
   "source": []
  }
 ],
 "metadata": {
  "kernelspec": {
   "display_name": "Python 3",
   "language": "python",
   "name": "python3"
  },
  "language_info": {
   "codemirror_mode": {
    "name": "ipython",
    "version": 3
   },
   "file_extension": ".py",
   "mimetype": "text/x-python",
   "name": "python",
   "nbconvert_exporter": "python",
   "pygments_lexer": "ipython3",
   "version": "3.8.8"
  }
 },
 "nbformat": 4,
 "nbformat_minor": 5
}
