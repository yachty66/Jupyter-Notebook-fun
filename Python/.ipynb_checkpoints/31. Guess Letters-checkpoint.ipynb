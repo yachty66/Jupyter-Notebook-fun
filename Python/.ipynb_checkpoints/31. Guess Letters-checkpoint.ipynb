{
 "cells": [
  {
   "cell_type": "code",
   "execution_count": 1,
   "id": "a0b861b5",
   "metadata": {},
   "outputs": [
    {
     "name": "stdout",
     "output_type": "stream",
     "text": [
      "Welcome to Hangman!\n",
      "\n",
      "_ _ _ _ _ _ _ _ _\n",
      "Guess your letter: E\n",
      "E _ _ _ _ _ _ _ E\n",
      "Guess your letter: V\n",
      "E V _ _ _ _ _ _ E\n",
      "Guess your letter: A\n",
      "E V A _ _ _ A _ E\n",
      "Guess your letter: P\n",
      "E V A P _ _ A _ E\n",
      "Guess your letter: O\n",
      "E V A P O _ A _ E\n",
      "Guess your letter: R\n",
      "E V A P O R A _ E\n",
      "Guess your letter: T\n",
      "E V A P O R A T E\n"
     ]
    },
    {
     "ename": "SystemExit",
     "evalue": "",
     "output_type": "error",
     "traceback": [
      "An exception has occurred, use %tb to see the full traceback.\n",
      "\u001b[0;31mSystemExit\u001b[0m\n"
     ]
    },
    {
     "name": "stderr",
     "output_type": "stream",
     "text": [
      "/Users/maxhager/opt/anaconda3/lib/python3.8/site-packages/IPython/core/interactiveshell.py:3445: UserWarning: To exit: use 'exit', 'quit', or Ctrl-D.\n",
      "  warn(\"To exit: use 'exit', 'quit', or Ctrl-D.\", stacklevel=1)\n"
     ]
    }
   ],
   "source": [
    "#Exercise\n",
    "#EVAPORATE is the word what is needed to guess\n",
    "#asking the player for a letter and display the letter in the clue\n",
    "#infinite guesses till the plyer has the entire word\n",
    "\n",
    "#Bonus\n",
    "#keep track of the letters which the player guesses to print a message in the case he tries the same letters double\n",
    "#stop the game if all letters were guesses correctly\n",
    "import sys\n",
    "def playground():\n",
    "    list_clue = [\"_\",\"_\",\"_\", \"_\", \"_\", \"_\", \"_\", \"_\", \"_\"]\n",
    "    guessed_letters = []\n",
    "    counter = 0\n",
    "    while True: \n",
    "        counter_for_elements_in_word = 0\n",
    "        print(list_clue[0] + \" \" + list_clue[1] + \" \" + list_clue[2] + \" \" + list_clue[3] + \" \" + list_clue[4] + \" \" + list_clue[5] + \" \" +  list_clue[6] + \" \" + list_clue[7] + \" \" + list_clue[8])\n",
    "        word = \"EVAPORATE\"\n",
    "        letter = input(\"Guess your letter: \")\n",
    "        if all(ele != letter for ele in word):\n",
    "            print(\"Incorrect!\")\n",
    "        #for element in guessed_letters:\n",
    "        if any(element == letter for element in guessed_letters):\n",
    "            print(\"The letter \" + letter + \" was already used from you. Take another one!\")\n",
    "            continue\n",
    "        guessed_letters.append(letter)\n",
    "        for element in word:\n",
    "            counter_for_elements_in_word += 1\n",
    "            if element == letter:\n",
    "                list_clue[counter_for_elements_in_word-1] = element\n",
    "        #ich muss checken, ob das word gleich ist mit den werten die in meiner liste gespeichert sind\n",
    "        if all(ele in word for ele in list_clue):\n",
    "            print(list_clue[0] + \" \" + list_clue[1] + \" \" + list_clue[2] + \" \" + list_clue[3] + \" \" + list_clue[4] + \" \" + list_clue[5] + \" \" +  list_clue[6] + \" \" + list_clue[7] + \" \" + list_clue[8])\n",
    "            sys.exit()\n",
    "        \n",
    "def main():\n",
    "    print(\"Welcome to Hangman!\\n\")\n",
    "    playground()\n",
    "    \n",
    "    \n",
    "if __name__==\"__main__\":\n",
    "    main()  \n",
    "\n",
    "\n",
    "\n",
    "\n",
    "\n",
    "\n"
   ]
  },
  {
   "cell_type": "code",
   "execution_count": null,
   "id": "bf516df1",
   "metadata": {},
   "outputs": [],
   "source": []
  },
  {
   "cell_type": "code",
   "execution_count": null,
   "id": "ca4e9b33",
   "metadata": {},
   "outputs": [],
   "source": []
  }
 ],
 "metadata": {
  "kernelspec": {
   "display_name": "Python 3",
   "language": "python",
   "name": "python3"
  },
  "language_info": {
   "codemirror_mode": {
    "name": "ipython",
    "version": 3
   },
   "file_extension": ".py",
   "mimetype": "text/x-python",
   "name": "python",
   "nbconvert_exporter": "python",
   "pygments_lexer": "ipython3",
   "version": "3.8.8"
  }
 },
 "nbformat": 4,
 "nbformat_minor": 5
}
