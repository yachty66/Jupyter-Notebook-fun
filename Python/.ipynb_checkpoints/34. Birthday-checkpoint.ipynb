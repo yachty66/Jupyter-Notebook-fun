{
 "cells": [
  {
   "cell_type": "code",
   "execution_count": 1,
   "id": "974a9831",
   "metadata": {},
   "outputs": [
    {
     "name": "stdout",
     "output_type": "stream",
     "text": [
      "You wanna add more scientists? y/n? y\n",
      "Add name and birthday in the following way \"Albert Einstein, 14.03.1879\": Albert Einstein, 14.03.1879\n",
      "{'Albert Einstein': ' 14.03.1879'}\n",
      "You wanna add more scientists? y/n? y\n",
      "Add name and birthday in the following way \"Albert Einstein, 14.03.1879\": Konrad Zuse, 22.06.1910\n",
      "{'Konrad Zuse': ' 22.06.1910'}\n",
      "You wanna add more scientists? y/n? n\n"
     ]
    },
    {
     "ename": "SystemExit",
     "evalue": "",
     "output_type": "error",
     "traceback": [
      "An exception has occurred, use %tb to see the full traceback.\n",
      "\u001b[0;31mSystemExit\u001b[0m\n"
     ]
    },
    {
     "name": "stderr",
     "output_type": "stream",
     "text": [
      "/Users/maxhager/opt/anaconda3/lib/python3.8/site-packages/IPython/core/interactiveshell.py:3445: UserWarning: To exit: use 'exit', 'quit', or Ctrl-D.\n",
      "  warn(\"To exit: use 'exit', 'quit', or Ctrl-D.\", stacklevel=1)\n"
     ]
    }
   ],
   "source": [
    "#Exercise\n",
    "import json \n",
    "import sys                                                                                                                                                                                                                                                                       \n",
    "birthdays = {\"Stephen Hawking\": \"08.01.1942\", \"Marie Curie\": \"07.11.1867\", \"Ada Lovelace\": \"10.12.1815\", \"Charles Darwin\": \"12.02.1809\", \"Isaac Newton\": \"25.12.1642\"}\n",
    "with open(\"birthday.json\", \"w\") as f:\n",
    "    json.dump(birthdays, f)\n",
    "\n",
    "while True:\n",
    "    new_scientist = input(\"You wanna add more scientists? y/n? \")\n",
    "    if new_scientist == \"n\":\n",
    "        sys.exit()\n",
    "    elif new_scientist == \"y\":\n",
    "        add_name_birthday = input(\"Add name and birthday in the following way \\\"Albert Einstein, 14.03.1879\\\": \")\n",
    "        splitted_names = add_name_birthday.split(\",\")\n",
    "        Dict = {}\n",
    "        Dict[splitted_names[0]] = splitted_names[1]\n",
    "        print(Dict)\n",
    "        with open(\"birthday.json\", \"r+\") as f:\n",
    "            info = json.load(f) \n",
    "            info.update(Dict)\n",
    "            f.seek(0)\n",
    "            json.dump(info, f)"
   ]
  },
  {
   "cell_type": "code",
   "execution_count": null,
   "id": "8a3b9034",
   "metadata": {},
   "outputs": [],
   "source": []
  },
  {
   "cell_type": "code",
   "execution_count": null,
   "id": "9ae5e876",
   "metadata": {},
   "outputs": [],
   "source": []
  }
 ],
 "metadata": {
  "kernelspec": {
   "display_name": "Python 3",
   "language": "python",
   "name": "python3"
  },
  "language_info": {
   "codemirror_mode": {
    "name": "ipython",
    "version": 3
   },
   "file_extension": ".py",
   "mimetype": "text/x-python",
   "name": "python",
   "nbconvert_exporter": "python",
   "pygments_lexer": "ipython3",
   "version": "3.8.8"
  }
 },
 "nbformat": 4,
 "nbformat_minor": 5
}
