{
 "cells": [
  {
   "cell_type": "code",
   "execution_count": 19,
   "id": "30c63781",
   "metadata": {},
   "outputs": [
    {
     "name": "stdout",
     "output_type": "stream",
     "text": [
      "{'January': 1, 'November': 1, 'December': 2, 'February': 1, 'March': 1, 'Juni': 1}\n"
     ]
    }
   ],
   "source": [
    "#Exercise\n",
    "#extract months of all birthdays\n",
    "#count how many scietists have birthday each month \n",
    "#{\n",
    "#\t\"May\": 3,\n",
    "#\t\"November\": 2,\n",
    "#\t\"December\": 1\n",
    "#}\n",
    "from collections import Counter\n",
    "import json\n",
    "\n",
    "def count_birthdays():\n",
    "    json_list = []\n",
    "    values_list = []\n",
    "    #ich muss das Datum an dem Punkt splitten --> dann greife ich auf das zweite element in der Liste zu\n",
    "    #alle gleichen Werte mit count zählen\n",
    "    #für alle zahlen den jeweiligen Monat angeben --> bei Erstellung Dictionarie if \"01\" write January...\n",
    "    with open(\"birthday.json\", \"r\") as f:\n",
    "        info = json.load(f)\n",
    "    for i in info.values():\n",
    "        month = i.split(\".\")[1]\n",
    "        values_list.append(month)\n",
    "    c = Counter(values_list)\n",
    "    #ich muss ein neues dict erstellen in dem ich Januat für eins setze und den jeweilig dazu gehörigen value setze\n",
    "    new_dict = {}\n",
    "    for i in c:\n",
    "        if i == \"01\":\n",
    "            new_dict[\"January\"] = c.get(i)\n",
    "        if i == \"02\":\n",
    "            new_dict[\"February\"] = c.get(i)\n",
    "        if i == \"03\":\n",
    "            new_dict[\"March\"] = c.get(i)\n",
    "        if i == \"04\":\n",
    "            new_dict[\"April\"] = c.get(i)\n",
    "        if i == \"05\":\n",
    "            new_dict[\"Mai\"] = c.get(i)\n",
    "        if i == \"06\":\n",
    "            new_dict[\"June\"] = c.get(i)\n",
    "        if i == \"07\":\n",
    "            new_dict[\"July\"] = c.get(i)\n",
    "        if i == \"08\":\n",
    "            new_dict[\"August\"] = c.get(i)\n",
    "        if i == \"09\":\n",
    "            new_dict[\"September\"] = c.get(i)\n",
    "        if i == \"10\":\n",
    "            new_dict[\"October\"] = c.get(i)\n",
    "        if i == \"11\":\n",
    "            new_dict[\"November\"] = c.get(i)\n",
    "        if i == \"12\":\n",
    "            new_dict[\"December\"] = c.get(i)\n",
    "    return(new_dict)\n",
    "                    \n",
    "def main():\n",
    "    print(count_birthdays())\n",
    "    \n",
    "if __name__==\"__main__\":\n",
    "    main()  "
   ]
  },
  {
   "cell_type": "code",
   "execution_count": null,
   "id": "f0eb527d",
   "metadata": {},
   "outputs": [],
   "source": []
  }
 ],
 "metadata": {
  "kernelspec": {
   "display_name": "Python 3",
   "language": "python",
   "name": "python3"
  },
  "language_info": {
   "codemirror_mode": {
    "name": "ipython",
    "version": 3
   },
   "file_extension": ".py",
   "mimetype": "text/x-python",
   "name": "python",
   "nbconvert_exporter": "python",
   "pygments_lexer": "ipython3",
   "version": "3.8.8"
  }
 },
 "nbformat": 4,
 "nbformat_minor": 5
}
