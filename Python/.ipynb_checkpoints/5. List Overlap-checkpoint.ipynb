{
 "cells": [
  {
   "cell_type": "code",
   "execution_count": 11,
   "id": "ed6d8280",
   "metadata": {},
   "outputs": [
    {
     "data": {
      "text/plain": [
       "[1, 2, 3, 5, 8, 13]"
      ]
     },
     "execution_count": 11,
     "metadata": {},
     "output_type": "execute_result"
    }
   ],
   "source": [
    "#Exercise\n",
    "a = [1, 1, 2, 3, 5, 8, 13, 21, 34, 55, 89]\n",
    "b = [1, 2, 3, 4, 5, 6, 7, 8, 9, 10, 11, 12, 13]\n",
    "x = []\n",
    "\n",
    "for element in a:\n",
    "    if element in b:\n",
    "        x.append(element)\n",
    "test = dict.fromkeys(x)\n",
    "list(test)"
   ]
  },
  {
   "cell_type": "code",
   "execution_count": 13,
   "id": "b94dfcfc",
   "metadata": {},
   "outputs": [
    {
     "data": {
      "text/plain": [
       "[1, 2, 3, 5, 8, 13, 89, 33, 4, 7]"
      ]
     },
     "execution_count": 13,
     "metadata": {},
     "output_type": "execute_result"
    }
   ],
   "source": [
    "#1\n",
    "a = [1, 1, 2, 3, 5, 8, 13, 21, 34, 55, 89, 33, 33, 4, 5, 7]\n",
    "b = [1, 2, 3, 4, 5, 6, 7, 8, 9, 10, 11, 12, 13, 33, 89, 2000]\n",
    "\n",
    "x = []\n",
    "\n",
    "for element in a:\n",
    "    if element in b:\n",
    "        x.append(element)\n",
    "test = dict.fromkeys(x)\n",
    "list(test)"
   ]
  },
  {
   "cell_type": "code",
   "execution_count": 15,
   "id": "2e7611e8",
   "metadata": {},
   "outputs": [
    {
     "name": "stdout",
     "output_type": "stream",
     "text": [
      "[1, 2, 3, 5, 8, 13]\n"
     ]
    }
   ],
   "source": [
    "#3\n",
    "a = [1, 1, 2, 3, 5, 8, 13, 21, 34, 55, 89]\n",
    "b = [1, 2, 3, 4, 5, 6, 7, 8, 9, 10, 11, 12, 13]\n",
    "c = []\n",
    "\n",
    "print([e for e in b if e in a and e not in c])"
   ]
  },
  {
   "cell_type": "code",
   "execution_count": 4,
   "id": "234ad502",
   "metadata": {},
   "outputs": [
    {
     "data": {
      "text/plain": [
       "{1, 2, 3, 4, 5, 7, 8, 13, 33, 89}"
      ]
     },
     "execution_count": 4,
     "metadata": {},
     "output_type": "execute_result"
    }
   ],
   "source": [
    "#set\n",
    "a = [1, 1, 2, 3, 5, 8, 13, 21, 34, 55, 89, 33, 33, 4, 5, 7]\n",
    "b = [1, 2, 3, 4, 5, 6, 7, 8, 9, 10, 11, 12, 13, 33, 89, 2000]\n",
    "\n",
    "x = []\n",
    "\n",
    "def set_func(a, b):\n",
    "    for element in a:\n",
    "        if element in b:\n",
    "            x.append(element)\n",
    "    set_fu = set(x)\n",
    "    return set_fu\n",
    "\n",
    "set_func(a,b)"
   ]
  },
  {
   "cell_type": "code",
   "execution_count": null,
   "id": "afe32aa9",
   "metadata": {},
   "outputs": [],
   "source": []
  }
 ],
 "metadata": {
  "kernelspec": {
   "display_name": "Python 3",
   "language": "python",
   "name": "python3"
  },
  "language_info": {
   "codemirror_mode": {
    "name": "ipython",
    "version": 3
   },
   "file_extension": ".py",
   "mimetype": "text/x-python",
   "name": "python",
   "nbconvert_exporter": "python",
   "pygments_lexer": "ipython3",
   "version": "3.8.8"
  }
 },
 "nbformat": 4,
 "nbformat_minor": 5
}
