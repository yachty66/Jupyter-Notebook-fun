{
 "cells": [
  {
   "cell_type": "code",
   "execution_count": 41,
   "id": "e63bc147",
   "metadata": {},
   "outputs": [
    {
     "name": "stdout",
     "output_type": "stream",
     "text": [
      "Enter a string: MaxxxxxxaM\n",
      "The input is a palindrome!\n"
     ]
    }
   ],
   "source": [
    "#Exercise\n",
    "string = input(\"Enter a string: \")\n",
    "x=[]\n",
    "a=[]\n",
    "for element in string[::-1]:\n",
    "    x.append(element)\n",
    "    \n",
    "#String zu liste machen und dann beide Listen vergleichen, wenn beide Listen gleich, dann Palindrom\n",
    "for element in string:\n",
    "    a.append(element)\n",
    "if x==a:\n",
    "    print(\"The input is a palindrome!\")\n",
    "else:\n",
    "    print(\"The input isn't a palindrome!\")\n"
   ]
  },
  {
   "cell_type": "code",
   "execution_count": null,
   "id": "e2cdf56e",
   "metadata": {},
   "outputs": [],
   "source": [
    "Max"
   ]
  }
 ],
 "metadata": {
  "kernelspec": {
   "display_name": "Python 3",
   "language": "python",
   "name": "python3"
  },
  "language_info": {
   "codemirror_mode": {
    "name": "ipython",
    "version": 3
   },
   "file_extension": ".py",
   "mimetype": "text/x-python",
   "name": "python",
   "nbconvert_exporter": "python",
   "pygments_lexer": "ipython3",
   "version": "3.8.8"
  }
 },
 "nbformat": 4,
 "nbformat_minor": 5
}
