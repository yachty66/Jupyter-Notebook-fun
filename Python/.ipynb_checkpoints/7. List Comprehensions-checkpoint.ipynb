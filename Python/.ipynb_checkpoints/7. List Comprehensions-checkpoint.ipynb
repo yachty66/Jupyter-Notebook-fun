{
 "cells": [
  {
   "cell_type": "code",
   "execution_count": 4,
   "id": "a5518e7d",
   "metadata": {},
   "outputs": [
    {
     "name": "stdout",
     "output_type": "stream",
     "text": [
      "[4, 16, 36, 64, 100]\n"
     ]
    }
   ],
   "source": [
    "a = [1, 4, 9, 16, 25, 36, 49, 64, 81, 100]\n",
    "list_comprehension = [element for element in a if element%2==0] \n",
    "a=[]\n",
    "\n",
    "                      \n",
    "print(list_comprehension)"
   ]
  },
  {
   "cell_type": "code",
   "execution_count": null,
   "id": "512f84e8",
   "metadata": {},
   "outputs": [],
   "source": []
  }
 ],
 "metadata": {
  "kernelspec": {
   "display_name": "Python 3",
   "language": "python",
   "name": "python3"
  },
  "language_info": {
   "codemirror_mode": {
    "name": "ipython",
    "version": 3
   },
   "file_extension": ".py",
   "mimetype": "text/x-python",
   "name": "python",
   "nbconvert_exporter": "python",
   "pygments_lexer": "ipython3",
   "version": "3.8.8"
  }
 },
 "nbformat": 4,
 "nbformat_minor": 5
}
