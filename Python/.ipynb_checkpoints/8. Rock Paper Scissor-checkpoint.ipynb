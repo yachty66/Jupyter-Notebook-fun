{
 "cells": [
  {
   "cell_type": "code",
   "execution_count": 13,
   "id": "1536271d",
   "metadata": {},
   "outputs": [
    {
     "name": "stdout",
     "output_type": "stream",
     "text": [
      "PLayer One. Rock, Paper or Scissors?: wk\n",
      "Player Two. Rock, Paper or Scissors?: wk\n",
      "Tie!\n"
     ]
    }
   ],
   "source": [
    "#Exercise\n",
    "player_one = input(\"PLayer One. Rock, Paper or Scissors?: \")\n",
    "player_two= input(\"Player Two. Rock, Paper or Scissors?: \")\n",
    "\n",
    "#just put every possible case for a win player_one in a if query with an else\n",
    "\n",
    "if player_one == player_two:\n",
    "    print(\"Tie!\")\n",
    "\n",
    "\n",
    "while player_one == \"Rock\":\n",
    "    if player_two == \"Scissors\":\n",
    "        print(\"Player one was winning!\")\n",
    "        print(\"You wanna start a new game?\")\n",
    "        break\n",
    "    elif player_two == \"Paper\":\n",
    "        print(\"Player two was winning!\")\n",
    "        print(\"You wanna start a new game?\")\n",
    "        \n",
    "        break\n",
    "\n",
    "while player_one == \"Scissors\":\n",
    "    if player_two == \"Rock\":\n",
    "        print(\"Player two was winning!\")\n",
    "        print(\"You wanna start a new game?\")\n",
    "\n",
    "        break\n",
    "    elif player_two == \"Paper\":\n",
    "        print(\"Player one was winning!\")\n",
    "        break\n",
    "        \n",
    "while player_one == \"Paper\":\n",
    "    if player_two == \"Rock\":\n",
    "        print(\"Player one was winning!\")\n",
    "        print(\"You wanna start a new game?\")\n",
    "        \n",
    "        break\n",
    "        \n",
    "    elif player_two == \"Scissors\":\n",
    "        print(\"Player two was winning!\")\n",
    "        print(\"You wanna start a new game?\")\n",
    "        \n",
    "        break\n",
    "        \n",
    "    \n",
    "    "
   ]
  },
  {
   "cell_type": "code",
   "execution_count": null,
   "id": "ddf9218b",
   "metadata": {},
   "outputs": [],
   "source": []
  }
 ],
 "metadata": {
  "kernelspec": {
   "display_name": "Python 3",
   "language": "python",
   "name": "python3"
  },
  "language_info": {
   "codemirror_mode": {
    "name": "ipython",
    "version": 3
   },
   "file_extension": ".py",
   "mimetype": "text/x-python",
   "name": "python",
   "nbconvert_exporter": "python",
   "pygments_lexer": "ipython3",
   "version": "3.8.8"
  }
 },
 "nbformat": 4,
 "nbformat_minor": 5
}
