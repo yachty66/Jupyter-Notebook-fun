{
 "cells": [
  {
   "cell_type": "code",
   "execution_count": 1,
   "id": "becbc7ef",
   "metadata": {},
   "outputs": [
    {
     "name": "stdout",
     "output_type": "stream",
     "text": [
      "Enter a number: 10\n",
      "No prime!\n"
     ]
    }
   ],
   "source": [
    "#Exercise\n",
    "number = input(\"Enter a number: \")\n",
    "a=[]\n",
    "number_zero=int(number)-int(number)\n",
    "def prime(number):\n",
    "    x = int(number)\n",
    "    i=2\n",
    "    f=0\n",
    "    z=0\n",
    "    boolean = False\n",
    "\n",
    "    if int(number) == 0 or int(number) == 1:\n",
    "        return (\"No prime!\")\n",
    "    if int(number) != 0 and int(number) != 1:\n",
    "        while i<(int(number)):\n",
    "            a.append(i)\n",
    "            i += 1\n",
    "        while f<len(a):\n",
    "            z = a[f]\n",
    "            if (x%z)== 0:\n",
    "                boolean = True\n",
    "            f += 1\n",
    "        if boolean == True:\n",
    "            return(\"No prime!\")\n",
    "        else:\n",
    "            return(\"Prime!\")\n",
    "print(prime(number))\n",
    "\n",
    "\n"
   ]
  }
 ],
 "metadata": {
  "kernelspec": {
   "display_name": "Python 3",
   "language": "python",
   "name": "python3"
  },
  "language_info": {
   "codemirror_mode": {
    "name": "ipython",
    "version": 3
   },
   "file_extension": ".py",
   "mimetype": "text/x-python",
   "name": "python",
   "nbconvert_exporter": "python",
   "pygments_lexer": "ipython3",
   "version": "3.8.8"
  }
 },
 "nbformat": 4,
 "nbformat_minor": 5
}
