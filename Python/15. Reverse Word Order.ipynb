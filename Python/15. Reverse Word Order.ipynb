{
 "cells": [
  {
   "cell_type": "code",
   "execution_count": 15,
   "id": "27688e79",
   "metadata": {},
   "outputs": [
    {
     "name": "stdout",
     "output_type": "stream",
     "text": [
      "Enter some strings:  My name is Michele\n"
     ]
    },
    {
     "data": {
      "text/plain": [
       "'Michele is name My'"
      ]
     },
     "execution_count": 15,
     "metadata": {},
     "output_type": "execute_result"
    }
   ],
   "source": [
    "string = input(\"Enter some strings: \")\n",
    "x=[]\n",
    "y=[]\n",
    "def string_back(a):\n",
    "    #ich muss den string nehmen und diesen von rechts nach links schreiben lassen\n",
    "    #dafür muss ich alle Zeichen aus dem String in eine Liste packen\n",
    "    #My Name is = is Name My \n",
    "    #String am Whitespace splitten und dann von hinten angefangen aus dem gesplittetetn string einen neuen String mit white space zwsichen den einzelnen strings\n",
    "    \n",
    "    for i in a:\n",
    "        x.append(i)\n",
    "    \n",
    "    result = a.split()\n",
    "    \n",
    "    for i in result[::-1]:\n",
    "        y.append(i)\n",
    "        \n",
    "\n",
    "    result_two = \" \".join(y)\n",
    "\n",
    "        \n",
    "    return result_two\n",
    "string_back(string)"
   ]
  },
  {
   "cell_type": "code",
   "execution_count": null,
   "id": "20db4d50",
   "metadata": {},
   "outputs": [],
   "source": []
  }
 ],
 "metadata": {
  "kernelspec": {
   "display_name": "Python 3",
   "language": "python",
   "name": "python3"
  },
  "language_info": {
   "codemirror_mode": {
    "name": "ipython",
    "version": 3
   },
   "file_extension": ".py",
   "mimetype": "text/x-python",
   "name": "python",
   "nbconvert_exporter": "python",
   "pygments_lexer": "ipython3",
   "version": "3.8.8"
  }
 },
 "nbformat": 4,
 "nbformat_minor": 5
}
