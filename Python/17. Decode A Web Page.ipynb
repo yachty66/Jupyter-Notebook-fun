{
 "cells": [
  {
   "cell_type": "code",
   "execution_count": 3,
   "id": "a8000d2b",
   "metadata": {},
   "outputs": [
    {
     "name": "stdout",
     "output_type": "stream",
     "text": [
      "['E-commerce site', 'E-commerce site with pagination links', 'E-commerce site with popup links', 'E-commerce site with AJAX pagination links', 'E-commerce site with \"Load more\" buttons', 'E-commerce site that loads items while scrolling', 'Table playground']\n"
     ]
    }
   ],
   "source": [
    "#Exercise\n",
    "# list of all the article titles on the New York Times homepage.\n",
    "from bs4 import BeautifulSoup\n",
    "import requests\n",
    "url = 'https://webscraper.io/test-sites'\n",
    "r = requests.get(url)\n",
    "r_html = r.text\n",
    "soup = BeautifulSoup(r_html)\n",
    "soup = BeautifulSoup(r_html,\"html.parser\")\n",
    "\n",
    "string = soup.find_all(\"h2\", class_='site-heading')\n",
    "x=[]\n",
    "for i in string:\n",
    "    x.append(i.text.strip())\n",
    "print(x)\n"
   ]
  },
  {
   "cell_type": "code",
   "execution_count": 20,
   "id": "687107bf",
   "metadata": {},
   "outputs": [],
   "source": []
  }
 ],
 "metadata": {
  "kernelspec": {
   "display_name": "Python 3",
   "language": "python",
   "name": "python3"
  },
  "language_info": {
   "codemirror_mode": {
    "name": "ipython",
    "version": 3
   },
   "file_extension": ".py",
   "mimetype": "text/x-python",
   "name": "python",
   "nbconvert_exporter": "python",
   "pygments_lexer": "ipython3",
   "version": "3.8.8"
  }
 },
 "nbformat": 4,
 "nbformat_minor": 5
}
