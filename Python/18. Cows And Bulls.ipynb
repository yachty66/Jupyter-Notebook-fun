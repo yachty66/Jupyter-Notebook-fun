{
 "cells": [
  {
   "cell_type": "code",
   "execution_count": 12,
   "id": "68af3e4a",
   "metadata": {},
   "outputs": [
    {
     "name": "stdout",
     "output_type": "stream",
     "text": [
      "Welcome to the Cows and Bulls Game!\n",
      "Enter a number: 4444\n",
      "0 cows, 0bulls\n"
     ]
    }
   ],
   "source": [
    "#Exercise\n",
    "#working with main function and functions (every function is doing one thing)\n",
    "#random generating of a 4 digit number \n",
    "#ask user for a 4 digit number\n",
    "#for every digit what was right guessed a cow and wrong a bull\n",
    "#if the guess was completely right the game ends\n",
    "#keeping track of the rounds how many were played --> the sum gets displayed at the end \n",
    "def comparing():\n",
    "    #creating a random number\n",
    "    import sys\n",
    "    import random\n",
    "    counter_cows = 0\n",
    "    counter_bulls = 0\n",
    "    counter = 0\n",
    "    counter2 = 0\n",
    "    i = 0\n",
    "    x = []\n",
    "    games_played = 0\n",
    "    while i < 4:\n",
    "        x.append(random.randint(1,9))\n",
    "        i += 1\n",
    "    str1 = ''.join(str(e) for e in x)\n",
    "    #getting number form user and compare\n",
    "    number = input(\"Enter a number: \")\n",
    "    for i in str1: \n",
    "        if number[counter] == i: \n",
    "            counter_cows += 1  \n",
    "        counter += 1       \n",
    "    #immer wenn eine Nummer sich nicht an dem eigentlichen Platz befindet aber an einem anderen füge einen Bullen hinzu \n",
    "    #if number is not at same place but contains number \n",
    "    for i in str1: \n",
    "        if number[counter2] != i: \n",
    "            if (str1[0] in number):\n",
    "                counter_bulls += 1\n",
    "            if(str1[1] in number): \n",
    "                counter_bulls += 1\n",
    "            if(str1[2] in number): \n",
    "                counter_bulls += 1\n",
    "            if(str1[3] in number): \n",
    "                counter_bulls += 1\n",
    "        counter2 += 1\n",
    "    counter_bulls_final = int(counter_bulls/4)\n",
    "    result = (str(counter_cows) + \" cows, \" + str(counter_bulls_final) + \"bulls\")\n",
    "    if counter_cows != 4:\n",
    "        games_played += 1\n",
    "    if counter_cows == 4:\n",
    "        print(\"You played \" + str(games_played+1) + \" rounds\")\n",
    "        sys.exit()\n",
    "    return result\n",
    "        \n",
    "if __name__==\"__main__\":\n",
    "    print(\"Welcome to the Cows and Bulls Game!\")\n",
    "    print(comparing())"
   ]
  },
  {
   "cell_type": "code",
   "execution_count": null,
   "id": "ba2f3f09",
   "metadata": {},
   "outputs": [],
   "source": []
  },
  {
   "cell_type": "code",
   "execution_count": null,
   "id": "f94e54ee",
   "metadata": {},
   "outputs": [],
   "source": []
  }
 ],
 "metadata": {
  "kernelspec": {
   "display_name": "Python 3",
   "language": "python",
   "name": "python3"
  },
  "language_info": {
   "codemirror_mode": {
    "name": "ipython",
    "version": 3
   },
   "file_extension": ".py",
   "mimetype": "text/x-python",
   "name": "python",
   "nbconvert_exporter": "python",
   "pygments_lexer": "ipython3",
   "version": "3.8.8"
  }
 },
 "nbformat": 4,
 "nbformat_minor": 5
}
