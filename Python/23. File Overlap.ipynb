{
 "cells": [
  {
   "cell_type": "code",
   "execution_count": 12,
   "id": "3ed6d650",
   "metadata": {},
   "outputs": [
    {
     "name": "stdout",
     "output_type": "stream",
     "text": [
      "['7', '13', '19', '23', '31', '79', '97', '103', '109', '139', '167', '193', '239', '263', '293', '313', '331', '367', '379', '383', '397', '409', '487', '563', '617', '653', '673', '683', '709', '739', '761', '863', '881', '907', '937']\n"
     ]
    }
   ],
   "source": [
    "#Exercise\n",
    "x=[]\n",
    "x_con=[]\n",
    "result=[]\n",
    "with open('primenumbers.txt', 'r') as open_file:\n",
    "    line = open_file.readline()\n",
    "    while line:\n",
    "        x.append(line)\n",
    "        line = open_file.readline()\n",
    "for element in x:\n",
    "    x_con.append(element.strip())\n",
    "    \n",
    "y=[]\n",
    "y_con=[]\n",
    "with open('happynumbers.txt', 'r') as open_file:\n",
    "    line = open_file.readline()\n",
    "    while line:\n",
    "        y.append(line)\n",
    "        line = open_file.readline()\n",
    "for element in y:\n",
    "    y_con.append(element.strip())\n",
    "\n",
    "\n",
    "for i in x_con:\n",
    "    for b in y_con:\n",
    "        if i == b:\n",
    "            result.append(b)\n",
    "print(result)\n",
    "            "
   ]
  },
  {
   "cell_type": "code",
   "execution_count": null,
   "id": "996717e0",
   "metadata": {},
   "outputs": [],
   "source": []
  }
 ],
 "metadata": {
  "kernelspec": {
   "display_name": "Python 3",
   "language": "python",
   "name": "python3"
  },
  "language_info": {
   "codemirror_mode": {
    "name": "ipython",
    "version": 3
   },
   "file_extension": ".py",
   "mimetype": "text/x-python",
   "name": "python",
   "nbconvert_exporter": "python",
   "pygments_lexer": "ipython3",
   "version": "3.8.8"
  }
 },
 "nbformat": 4,
 "nbformat_minor": 5
}
