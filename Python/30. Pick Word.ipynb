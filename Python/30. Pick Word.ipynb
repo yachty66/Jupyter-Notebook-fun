{
 "cells": [
  {
   "cell_type": "code",
   "execution_count": 10,
   "id": "76cbc377",
   "metadata": {},
   "outputs": [
    {
     "name": "stdout",
     "output_type": "stream",
     "text": [
      "DESICCATED\n"
     ]
    }
   ],
   "source": [
    "#Exercise\n",
    "#I get a file and I have to pick a random word from this file\n",
    "#I have to read in the file and then I have to use the random function\n",
    "import random\n",
    "def pick_a_word():\n",
    "    x=[]\n",
    "    with open(\"sowpods.txt\", \"r\") as f:\n",
    "        line = f.readline()\n",
    "        while line:\n",
    "            allText = f.read()\n",
    "            words = list(map(str, allText.split()))\n",
    "            print(random.choice(words))\n",
    "            line = f.readline()\n",
    "    \n",
    "            \n",
    "    \n",
    "def main():\n",
    "    pick_a_word()\n",
    "    \n",
    "if __name__==\"__main__\":\n",
    "    main()  "
   ]
  },
  {
   "cell_type": "code",
   "execution_count": null,
   "id": "f3d66edc",
   "metadata": {},
   "outputs": [],
   "source": []
  }
 ],
 "metadata": {
  "kernelspec": {
   "display_name": "Python 3",
   "language": "python",
   "name": "python3"
  },
  "language_info": {
   "codemirror_mode": {
    "name": "ipython",
    "version": 3
   },
   "file_extension": ".py",
   "mimetype": "text/x-python",
   "name": "python",
   "nbconvert_exporter": "python",
   "pygments_lexer": "ipython3",
   "version": "3.8.8"
  }
 },
 "nbformat": 4,
 "nbformat_minor": 5
}
