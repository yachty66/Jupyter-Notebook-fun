{
 "cells": [
  {
   "cell_type": "code",
   "execution_count": 1,
   "id": "0b794ae9",
   "metadata": {},
   "outputs": [
    {
     "name": "stdout",
     "output_type": "stream",
     "text": [
      "Welcome to the birthday dictionary. We know the birthdays of: \n",
      "Stephen Hawking\n",
      "Marie Curie\n",
      "Ada Lovelace\n",
      "Charles Darwin\n",
      "Isaac Newton\n",
      "Who's birthday do you want to look up? Marie Curie\n",
      "Marie Curie's birthday is 07.11.1867.\n"
     ]
    }
   ],
   "source": [
    "#Exercise\n",
    "#creating a dictionary on names and birthdays\n",
    "#when program run then ask user to enter a name and return birthday from the person\n",
    "\n",
    "def dictionarie():\n",
    "    \n",
    "    print(\"Welcome to the birthday dictionary. We know the birthdays of: \")\n",
    "    birthdays = {\"Stephen Hawking\": \"08.01.1942\", \"Marie Curie\": \"07.11.1867\", \"Ada Lovelace\": \"10.12.1815\", \"Charles Darwin\": \"12.02.1809\", \"Isaac Newton\": \"25.12.1642\"}\n",
    "    for key in birthdays:\n",
    "        print(key)\n",
    "    get_birthday = input(\"Who's birthday do you want to look up? \")\n",
    "    #print(birthdays[get_birthday])\n",
    "    print(get_birthday + \"'s birthday is \" + birthdays[get_birthday] + \".\")\n",
    "              \n",
    "def main():\n",
    "    dictionarie()\n",
    "    \n",
    "if __name__==\"__main__\":\n",
    "    \n",
    "    main()\n",
    "             \n"
   ]
  },
  {
   "cell_type": "code",
   "execution_count": null,
   "id": "713c8a57",
   "metadata": {},
   "outputs": [],
   "source": []
  }
 ],
 "metadata": {
  "kernelspec": {
   "display_name": "Python 3",
   "language": "python",
   "name": "python3"
  },
  "language_info": {
   "codemirror_mode": {
    "name": "ipython",
    "version": 3
   },
   "file_extension": ".py",
   "mimetype": "text/x-python",
   "name": "python",
   "nbconvert_exporter": "python",
   "pygments_lexer": "ipython3",
   "version": "3.8.8"
  }
 },
 "nbformat": 4,
 "nbformat_minor": 5
}
