{
 "cells": [
  {
   "cell_type": "code",
   "execution_count": 4,
   "id": "fad37319",
   "metadata": {},
   "outputs": [
    {
     "name": "stdout",
     "output_type": "stream",
     "text": [
      "Collecting package metadata (current_repodata.json): done\n",
      "Solving environment: done\n",
      "\n",
      "## Package Plan ##\n",
      "\n",
      "  environment location: /Users/maxhager/opt/anaconda3\n",
      "\n",
      "  added / updated specs:\n",
      "    - bokeh\n",
      "\n",
      "\n",
      "The following packages will be downloaded:\n",
      "\n",
      "    package                    |            build\n",
      "    ---------------------------|-----------------\n",
      "    conda-4.10.3               |   py38hecd8cb5_0         2.9 MB\n",
      "    ------------------------------------------------------------\n",
      "                                           Total:         2.9 MB\n",
      "\n",
      "The following packages will be UPDATED:\n",
      "\n",
      "  conda                               4.10.1-py38hecd8cb5_1 --> 4.10.3-py38hecd8cb5_0\n",
      "\n",
      "\n",
      "\n",
      "Downloading and Extracting Packages\n",
      "conda-4.10.3         | 2.9 MB    | ##################################### | 100% \n",
      "Preparing transaction: done\n",
      "Verifying transaction: done\n",
      "Executing transaction: done\n",
      "\n",
      "Note: you may need to restart the kernel to use updated packages.\n"
     ]
    }
   ],
   "source": [
    "conda install bokeh"
   ]
  },
  {
   "cell_type": "code",
   "execution_count": 24,
   "id": "ed333049",
   "metadata": {},
   "outputs": [
    {
     "name": "stdout",
     "output_type": "stream",
     "text": [
      "[1, 1, 1, 1, 1, 2]\n",
      "['January', 'February', 'March', 'June', 'November', 'December']\n",
      "None\n"
     ]
    }
   ],
   "source": [
    "from bokeh.plotting import figure, show, output_file\n",
    "from collections import Counter\n",
    "import json\n",
    "import datetime\n",
    "#use file and parse months and count them with counter for x axis?\n",
    "#basically plot this datas --> x axis = months, y axis = amount of bdays\n",
    "#making two lists for x and y --> x = Jan-Dec, y = amount of bdays\n",
    "def get_months():\n",
    "    json_list = []\n",
    "    values_list = []\n",
    "    with open(\"birthday.json\", \"r\") as f:\n",
    "        info = json.load(f)\n",
    "    for i in info.values():\n",
    "        month = i.split(\".\")[1]\n",
    "        values_list.append(month)\n",
    "    c = Counter(values_list)\n",
    "    new_dict = {}\n",
    "    for i in c:\n",
    "        if i == \"01\":\n",
    "            new_dict[\"January\"] = c.get(i)\n",
    "        if i == \"02\":\n",
    "            new_dict[\"February\"] = c.get(i)\n",
    "        if i == \"03\":\n",
    "            new_dict[\"March\"] = c.get(i)\n",
    "        if i == \"04\":\n",
    "            new_dict[\"April\"] = c.get(i)\n",
    "        if i == \"05\":\n",
    "            new_dict[\"Mai\"] = c.get(i)\n",
    "        if i == \"06\":\n",
    "            new_dict[\"June\"] = c.get(i)\n",
    "        if i == \"07\":\n",
    "            new_dict[\"July\"] = c.get(i)\n",
    "        if i == \"08\":\n",
    "            new_dict[\"August\"] = c.get(i)\n",
    "        if i == \"09\":\n",
    "            new_dict[\"September\"] = c.get(i)\n",
    "        if i == \"10\":\n",
    "            new_dict[\"October\"] = c.get(i)\n",
    "        if i == \"11\":\n",
    "            new_dict[\"November\"] = c.get(i)\n",
    "        if i == \"12\":\n",
    "            new_dict[\"December\"] = c.get(i)\n",
    "    return(new_dict)\n",
    "\n",
    "def plot():\n",
    "    output_file(\"plot.html\")\n",
    "    x_categories = [\"January\", \"February\", \"March\", \"April\", \"Mai\", \"June\", \"July\", \"August\", \"September\", \"Oktober\", \"November\", \"December\"]\n",
    "    x = []\n",
    "    y_numbers = []\n",
    "    for key in get_months():\n",
    "        x.append(key)\n",
    "    months_dict = {}\n",
    "    for i in range(1,13):\n",
    "        months_dict[datetime.date(2020, i, 1).strftime('%B').lower()] = i\n",
    "    x = sorted(x, key=lambda y: months_dict[y.lower()])\n",
    "    for i in x:\n",
    "           y_numbers.append(get_months()[i])\n",
    "    print(y_numbers)\n",
    "    print(x)\n",
    "    p = figure(x_range=x_categories)\n",
    "    p.vbar(x=x, top=y_numbers, width=0.5)\n",
    "    show(p)\n",
    " \n",
    "def main():\n",
    "    print(plot())\n",
    "    \n",
    "if __name__==\"__main__\":\n",
    "    main()  "
   ]
  },
  {
   "cell_type": "code",
   "execution_count": null,
   "id": "af322bec",
   "metadata": {},
   "outputs": [],
   "source": []
  }
 ],
 "metadata": {
  "kernelspec": {
   "display_name": "Python 3",
   "language": "python",
   "name": "python3"
  },
  "language_info": {
   "codemirror_mode": {
    "name": "ipython",
    "version": 3
   },
   "file_extension": ".py",
   "mimetype": "text/x-python",
   "name": "python",
   "nbconvert_exporter": "python",
   "pygments_lexer": "ipython3",
   "version": "3.8.8"
  }
 },
 "nbformat": 4,
 "nbformat_minor": 5
}
