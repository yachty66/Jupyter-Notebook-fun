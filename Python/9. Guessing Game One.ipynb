{
 "cells": [
  {
   "cell_type": "code",
   "execution_count": 15,
   "id": "7f58701e",
   "metadata": {},
   "outputs": [
    {
     "name": "stdout",
     "output_type": "stream",
     "text": [
      "Please guess a number between 1 and 9: 4\n",
      "Guessed too high!\n",
      "Please guess a number between 1 and 9: 4\n",
      "Guessed too high!\n",
      "Please guess a number between 1 and 9: 4\n",
      "Guessed too low!\n",
      "Please guess a number between 1 and 9: 44\n",
      "Guessed too high!\n",
      "Please guess a number between 1 and 9: 4\n",
      "Guessed too low!\n",
      "Please guess a number between 1 and 9: exit\n",
      "The user had 5 guesses!\n"
     ]
    }
   ],
   "source": [
    "import random\n",
    "a = random.randint(1,9)\n",
    "guess = input(\"Please guess a number between 1 and 9: \")\n",
    "counter = 0;\n",
    "\n",
    "while 1 == 1:\n",
    "    if guess == \"exit\":\n",
    "        print(\"The user had \" + str(counter) + \" guesses!\")\n",
    "        break\n",
    "    elif int(guess) == a:\n",
    "        print(\"Exactly right!\")\n",
    "    elif int(guess) < a:\n",
    "        print(\"Guessed too low!\")\n",
    "    elif int(guess) > a:\n",
    "        print(\"Guessed too high!\")\n",
    "    counter += 1\n",
    "    guess = input(\"Please guess a number between 1 and 9: \")\n",
    "    a = random.randint(1,9)\n",
    "    "
   ]
  },
  {
   "cell_type": "code",
   "execution_count": null,
   "id": "6e0015a7",
   "metadata": {},
   "outputs": [],
   "source": []
  },
  {
   "cell_type": "code",
   "execution_count": null,
   "id": "c61412f5",
   "metadata": {},
   "outputs": [],
   "source": []
  }
 ],
 "metadata": {
  "kernelspec": {
   "display_name": "Python 3",
   "language": "python",
   "name": "python3"
  },
  "language_info": {
   "codemirror_mode": {
    "name": "ipython",
    "version": 3
   },
   "file_extension": ".py",
   "mimetype": "text/x-python",
   "name": "python",
   "nbconvert_exporter": "python",
   "pygments_lexer": "ipython3",
   "version": "3.8.8"
  }
 },
 "nbformat": 4,
 "nbformat_minor": 5
}
