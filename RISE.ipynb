{
 "cells": [
  {
   "cell_type": "code",
   "execution_count": 1,
   "id": "d6b1840c",
   "metadata": {},
   "outputs": [
    {
     "name": "stdout",
     "output_type": "stream",
     "text": [
      "Collecting package metadata (current_repodata.json): done\n",
      "Solving environment: - \n",
      "The environment is inconsistent, please check the package plan carefully\n",
      "The following packages are causing the inconsistency:\n",
      "\n",
      "  - conda-forge/osx-64::pynput==1.7.3=py39h6e9494a_0\n",
      "  - fastai/noarch::fastai==2.5.4=py_0\n",
      "  - defaults/osx-64::astropy==4.3.1=py39hf9932de_0\n",
      "  - defaults/osx-64::scikit-image==0.18.3=py39hae1ba45_0\n",
      "  - defaults/noarch::seaborn==0.11.2=pyhd3eb1b0_0\n",
      "  - defaults/osx-64::_anaconda_depends==2021.11=py39_0\n",
      "  - defaults/osx-64::anaconda==custom=py39_1\n",
      "  - defaults/osx-64::matplotlib==3.4.3=py39hecd8cb5_0\n",
      "done\n",
      "\n",
      "## Package Plan ##\n",
      "\n",
      "  environment location: /Users/maxhager/opt/anaconda3\n",
      "\n",
      "  added / updated specs:\n",
      "    - rise\n",
      "\n",
      "\n",
      "The following packages will be downloaded:\n",
      "\n",
      "    package                    |            build\n",
      "    ---------------------------|-----------------\n",
      "    ca-certificates-2021.10.8  |       h033912b_0         139 KB  conda-forge\n",
      "    certifi-2021.10.8          |   py39h6e9494a_2         144 KB  conda-forge\n",
      "    conda-4.12.0               |   py39h6e9494a_0         1.0 MB  conda-forge\n",
      "    matplotlib-base-3.4.3      |   py39hb07454d_2         7.3 MB  conda-forge\n",
      "    openssl-1.1.1n             |       h6c3fc93_0         1.9 MB  conda-forge\n",
      "    rise-5.7.1                 |   py39h6e9494a_1         2.6 MB  conda-forge\n",
      "    ------------------------------------------------------------\n",
      "                                           Total:        13.0 MB\n",
      "\n",
      "The following NEW packages will be INSTALLED:\n",
      "\n",
      "  matplotlib-base    conda-forge/osx-64::matplotlib-base-3.4.3-py39hb07454d_2\n",
      "  pyobjc-framework-~ conda-forge/osx-64::pyobjc-framework-quartz-7.3-py39h6e9494a_1\n",
      "  rise               conda-forge/osx-64::rise-5.7.1-py39h6e9494a_1\n",
      "\n",
      "The following packages will be SUPERSEDED by a higher-priority channel:\n",
      "\n",
      "  ca-certificates    pkgs/main::ca-certificates-2022.3.29-~ --> conda-forge::ca-certificates-2021.10.8-h033912b_0\n",
      "  certifi            pkgs/main::certifi-2021.10.8-py39hecd~ --> conda-forge::certifi-2021.10.8-py39h6e9494a_2\n",
      "  conda              pkgs/main::conda-4.12.0-py39hecd8cb5_0 --> conda-forge::conda-4.12.0-py39h6e9494a_0\n",
      "  openssl              pkgs/main::openssl-1.1.1n-hca72f7f_0 --> conda-forge::openssl-1.1.1n-h6c3fc93_0\n",
      "\n",
      "\n",
      "\n",
      "Downloading and Extracting Packages\n",
      "matplotlib-base-3.4. | 7.3 MB    | ##################################### | 100% \n",
      "openssl-1.1.1n       | 1.9 MB    | ##################################### | 100% \n",
      "ca-certificates-2021 | 139 KB    | ##################################### | 100% \n",
      "certifi-2021.10.8    | 144 KB    | ##################################### | 100% \n",
      "conda-4.12.0         | 1.0 MB    | ##################################### | 100% \n",
      "rise-5.7.1           | 2.6 MB    | ##################################### | 100% \n",
      "Preparing transaction: done\n",
      "Verifying transaction: done\n",
      "Executing transaction: done\n",
      "\n",
      "Note: you may need to restart the kernel to use updated packages.\n"
     ]
    }
   ],
   "source": [
    "conda install -c conda-forge rise"
   ]
  },
  {
   "cell_type": "code",
   "execution_count": null,
   "id": "2e2b08f9",
   "metadata": {},
   "outputs": [],
   "source": []
  }
 ],
 "metadata": {
  "kernelspec": {
   "display_name": "Python 3 (ipykernel)",
   "language": "python",
   "name": "python3"
  },
  "language_info": {
   "codemirror_mode": {
    "name": "ipython",
    "version": 3
   },
   "file_extension": ".py",
   "mimetype": "text/x-python",
   "name": "python",
   "nbconvert_exporter": "python",
   "pygments_lexer": "ipython3",
   "version": "3.9.7"
  }
 },
 "nbformat": 4,
 "nbformat_minor": 5
}
