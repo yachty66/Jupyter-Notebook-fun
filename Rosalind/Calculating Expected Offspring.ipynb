{
 "cells": [
  {
   "cell_type": "code",
   "execution_count": 64,
   "id": "3354be1c",
   "metadata": {},
   "outputs": [],
   "source": [
    "#six integers\n",
    "#every integer represents vorkommen of specific combi of alleles between a couple\n",
    "#each couple has offspring off 2\n",
    "#returns expected number of offspring displaying the dominant phenotype\n",
    "\n",
    "#wahrscheinlichkeiten berehchnen dafür fdass für das jeweilige couple einen domin typ gibt\n",
    "#formel dazu aufstellen\n",
    "#alle ergebnisse miteinander addieren\n",
    "def expectedOffspring():\n",
    "    l = []\n",
    "    new = []\n",
    "    new2 = []\n",
    "    with open(\"Calculating Expected Offspring.txt\") as file:\n",
    "        for line in file:\n",
    "            l.append(line.rstrip())\n",
    "    for i in l:\n",
    "        new = i.replace(\" \", \",\")\n",
    "        new2.append(new)\n",
    "    print(new2)\n",
    "    #l = list(new2[0])\n",
    "    #l = list(map(int, l))\n",
    "    new2 = new2[0].split(\",\")\n",
    "    l = new2\n",
    "    #ich bekomme eine file mit \n",
    "\n",
    "    s1 = int(l[0])*2\n",
    "    s2 = int(l[1])*2\n",
    "    s3 = int(l[2])*2\n",
    "    s4 = (int(l[3])*0.75)*2\n",
    "    s5 = (int(l[4])*0.5)*2\n",
    "    print(s2)\n",
    "    return s1 + s2 + s3 + s4 + s5 "
   ]
  },
  {
   "cell_type": "code",
   "execution_count": 65,
   "id": "b6bb0ab9",
   "metadata": {},
   "outputs": [
    {
     "name": "stdout",
     "output_type": "stream",
     "text": [
      "['16751,19303,19879,19767,16927,19953']\n",
      "38606\n",
      "158443.5\n"
     ]
    }
   ],
   "source": [
    "print(expectedOffspring())"
   ]
  },
  {
   "cell_type": "code",
   "execution_count": null,
   "id": "7b78d806",
   "metadata": {},
   "outputs": [],
   "source": []
  },
  {
   "cell_type": "code",
   "execution_count": null,
   "id": "90a686d1",
   "metadata": {},
   "outputs": [],
   "source": []
  }
 ],
 "metadata": {
  "kernelspec": {
   "display_name": "Python 3",
   "language": "python",
   "name": "python3"
  },
  "language_info": {
   "codemirror_mode": {
    "name": "ipython",
    "version": 3
   },
   "file_extension": ".py",
   "mimetype": "text/x-python",
   "name": "python",
   "nbconvert_exporter": "python",
   "pygments_lexer": "ipython3",
   "version": "3.8.8"
  }
 },
 "nbformat": 4,
 "nbformat_minor": 5
}
