{
 "cells": [
  {
   "cell_type": "code",
   "execution_count": 20,
   "id": "53137c3b",
   "metadata": {},
   "outputs": [],
   "source": [
    "def DNAComplement():\n",
    "    #input von hinten nach vorne anordnen \n",
    "    #zu jeder base komplement bilden --> A zu T und C zu G\n",
    "    DNA = input()\n",
    "    final = []\n",
    "    change = DNA[::-1]\n",
    "    for i in change:\n",
    "        if(i == \"A\"):\n",
    "            final.append(\"T\")\n",
    "        elif(i == \"T\"):\n",
    "            final.append(\"A\")\n",
    "        elif(i == \"C\"):\n",
    "            final.append(\"G\")\n",
    "        elif(i == \"G\"):\n",
    "            final.append(\"C\")\n",
    "    return \"\".join(final)\n",
    "    \n",
    "    \n",
    "    \n",
    "    "
   ]
  },
  {
   "cell_type": "code",
   "execution_count": 21,
   "id": "89960399",
   "metadata": {},
   "outputs": [
    {
     "name": "stdout",
     "output_type": "stream",
     "text": [
      "GCATCCAATAGAGTCTGCAGACGGAACTAGGTCGCCCCCTATCACAGATCGTGCTAAGATATAAAACGTAACGACCTTTGCGAGCGTACTGTTAATCAGTCAAGGTCGGGCGGAGAGATAGTCGCCTTCGACGTCACTTCGGAGCAGCGCTGCTACAAGCACGTGTTAAATCGGACCTGATCCACTGGCAAGGACCACTAGCAGGCGGGTATCCAGGAGTTTGGCGGTATCTGGCGGTGGCTGACAAATTTCCAATATGATACAAACGTCAAGGTGAACACATTAGAAGGTCGCAAGTCTTCATTGGATGGGTGGCATATAACACTTACGCTTGAACCGTGTCTGCTGCTCAGGGTGGTAAAGATGCCTCAACACTTGACTTGCGCTCGGCTCATGCGAGCGGTGTTATGCAGATAAGGGACGGGGATGTATGAACTACTGGAGTCACGCTGGTCGCTGCCATTCATCTCCGGACCCGCGTATATGGTTAGAATTGATGGGAAGAGTCTTTATAACGGTCCTAAATCATTTGTTGCATTTACGGGCCAATAGAGTTCGCTAGATTCTTAGCCACCTAAGAACCCTGCCCATCTCTTTGGATGGTGTATTAAACAATACAATTACCCTGCAACATCTATTGCTGCACAAGAGCCCATTTACGAGTGAGTGGATGATGCAGGTTAATGAAAATTGACCCAGCATCGTCTCACAAGTTGCACGCGCAGACACTTGGGTGGTTTCCTTTAGCTTTGACTAAACTAGGAGGGGAAGTCCATAAGGCACCCCGCGGAGAACCGTAAGCTCGATTGGCTGCTGAAATCTGTGTCACGCCCTCACGAACACCCAGGTGTCAGTCTGTCGGATCGACGGGTGAGCGCCACGCACGGTGATATGCACCGCTGGACATTGACGATTGTTGTTTCC\n",
      "GGAAACAACAATCGTCAATGTCCAGCGGTGCATATCACCGTGCGTGGCGCTCACCCGTCGATCCGACAGACTGACACCTGGGTGTTCGTGAGGGCGTGACACAGATTTCAGCAGCCAATCGAGCTTACGGTTCTCCGCGGGGTGCCTTATGGACTTCCCCTCCTAGTTTAGTCAAAGCTAAAGGAAACCACCCAAGTGTCTGCGCGTGCAACTTGTGAGACGATGCTGGGTCAATTTTCATTAACCTGCATCATCCACTCACTCGTAAATGGGCTCTTGTGCAGCAATAGATGTTGCAGGGTAATTGTATTGTTTAATACACCATCCAAAGAGATGGGCAGGGTTCTTAGGTGGCTAAGAATCTAGCGAACTCTATTGGCCCGTAAATGCAACAAATGATTTAGGACCGTTATAAAGACTCTTCCCATCAATTCTAACCATATACGCGGGTCCGGAGATGAATGGCAGCGACCAGCGTGACTCCAGTAGTTCATACATCCCCGTCCCTTATCTGCATAACACCGCTCGCATGAGCCGAGCGCAAGTCAAGTGTTGAGGCATCTTTACCACCCTGAGCAGCAGACACGGTTCAAGCGTAAGTGTTATATGCCACCCATCCAATGAAGACTTGCGACCTTCTAATGTGTTCACCTTGACGTTTGTATCATATTGGAAATTTGTCAGCCACCGCCAGATACCGCCAAACTCCTGGATACCCGCCTGCTAGTGGTCCTTGCCAGTGGATCAGGTCCGATTTAACACGTGCTTGTAGCAGCGCTGCTCCGAAGTGACGTCGAAGGCGACTATCTCTCCGCCCGACCTTGACTGATTAACAGTACGCTCGCAAAGGTCGTTACGTTTTATATCTTAGCACGATCTGTGATAGGGGGCGACCTAGTTCCGTCTGCAGACTCTATTGGATGC\n"
     ]
    }
   ],
   "source": [
    "print(DNAComplement())"
   ]
  },
  {
   "cell_type": "code",
   "execution_count": 5,
   "id": "769c203b",
   "metadata": {},
   "outputs": [
    {
     "name": "stdout",
     "output_type": "stream",
     "text": [
      "dhhdhdhdd\n"
     ]
    },
    {
     "data": {
      "text/plain": [
       "'dhhdhdhdd'"
      ]
     },
     "execution_count": 5,
     "metadata": {},
     "output_type": "execute_result"
    }
   ],
   "source": [
    "input()"
   ]
  },
  {
   "cell_type": "code",
   "execution_count": null,
   "id": "0e205d6c",
   "metadata": {},
   "outputs": [],
   "source": []
  }
 ],
 "metadata": {
  "kernelspec": {
   "display_name": "Python 3",
   "language": "python",
   "name": "python3"
  },
  "language_info": {
   "codemirror_mode": {
    "name": "ipython",
    "version": 3
   },
   "file_extension": ".py",
   "mimetype": "text/x-python",
   "name": "python",
   "nbconvert_exporter": "python",
   "pygments_lexer": "ipython3",
   "version": "3.8.8"
  }
 },
 "nbformat": 4,
 "nbformat_minor": 5
}
