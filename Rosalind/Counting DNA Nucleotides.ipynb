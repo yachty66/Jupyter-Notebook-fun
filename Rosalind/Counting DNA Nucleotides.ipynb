{
 "cells": [
  {
   "cell_type": "code",
   "execution_count": 8,
   "id": "219c58c0",
   "metadata": {},
   "outputs": [
    {
     "name": "stdout",
     "output_type": "stream",
     "text": [
      "GATTATGCAGTACATTTCGGACGCTTAGGGCATAGTTACTTGCATCCCGAAGGGACCAAGTCCACTATGCCATGCAGCCCTATAACTTAATAACCGACTCTCTACCAATATACCCCAAACAGAACCCACGCGCCGGCTCGCTTCGACTCCTGGTGGGGCGGATTGCTGCGTCGATTTCATGTGTCTAATTTCCCATCACCTTAGTGTCATCACGCGCGTAGACGCGTCCGTCGGCTCCGTAGGGTTTGGTGGAATACTAACTTATGCTATGTTAACGAAGCATCAGGACGTTTCCTGCCAATGCCTTCATTTTATAGGTTCGTTCGGACCCTTTAAAGGGACTCTACTCGCATTGCGTCCACCGTAAGGCACACGCATGTTATTGTCCCGATTTAGCGCTGCAGCAGGACTCAACTCTTAGCTTCAAAATTTAGACGGCAGGTCGTTACTGGTAATCTCCTAACTGCGTGGGGCGTTCTGGGTTGCACACAACCGCAGAAAATGGCTGAGCCATCTATCTCCTCGCGCTTTGAATCTTAAAAACACGGCCGAACGTCAGAACATGTCTCAAATTTATGTTTCTACGTAATTGGTCTCTTGTTACGATTAGCTTTGAAAAGGACCCGAAAGGCGGCGGCCAATTTCTAGGCTGGATCATAACGGGGGCGAGTTTCGTGAGTCTGCTTATCGTTTTCCCCTGAACTTCAACTCTTCTAATTCTGTACATGATGACTGCCTTACAAATTCCTAAGCGTAGTCAATTGACTGTTATCGTAAAATGAGGTAACCTTTCGCGGAGGGGAATGCGTCGAAGCAAGATGGTGGTTCAGACTTGACCGAGAAAGGAGTCCTAGACAGCATCGCCCGGCTAC\n",
      "(210, 221, 203, 238)\n"
     ]
    }
   ],
   "source": [
    "def countNucleotides():\n",
    "    countrA = 0\n",
    "    countrC = 0\n",
    "    countrG = 0\n",
    "    countrT = 0\n",
    "    DNA = input()\n",
    "    for i in DNA:\n",
    "        if(i == \"A\"):\n",
    "            countrA += 1\n",
    "        elif(i == \"C\"):\n",
    "            countrC += 1\n",
    "        elif(i == \"G\"):\n",
    "            countrG += 1\n",
    "        else:\n",
    "            countrT += 1\n",
    "            \n",
    "    return countrA, countrC, countrG, countrT\n",
    "\n",
    "print(countNucleotides())\n",
    "    "
   ]
  },
  {
   "cell_type": "code",
   "execution_count": null,
   "id": "e88edf11",
   "metadata": {},
   "outputs": [],
   "source": []
  }
 ],
 "metadata": {
  "kernelspec": {
   "display_name": "Python 3",
   "language": "python",
   "name": "python3"
  },
  "language_info": {
   "codemirror_mode": {
    "name": "ipython",
    "version": 3
   },
   "file_extension": ".py",
   "mimetype": "text/x-python",
   "name": "python",
   "nbconvert_exporter": "python",
   "pygments_lexer": "ipython3",
   "version": "3.8.8"
  }
 },
 "nbformat": 4,
 "nbformat_minor": 5
}
