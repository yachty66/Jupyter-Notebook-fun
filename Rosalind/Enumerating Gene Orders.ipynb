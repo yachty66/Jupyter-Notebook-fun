{
 "cells": [
  {
   "cell_type": "code",
   "execution_count": 67,
   "id": "802c8494",
   "metadata": {},
   "outputs": [],
   "source": [
    "#bekomme zahl n\n",
    "#diese zahl ist die anzahl der zahlen die für dei permutatione zur verfügung stehen (bei 1 angefangen)\n",
    "#ich muss alle möglichen komibus dieser permutaion durchspielen \n",
    "\n",
    "#for i in range(n) --> liste hinzufügen\n",
    "#\n",
    "def geneOrders():\n",
    "    listTemp = []\n",
    "    listAll = []\n",
    "    fileoutput = 0\n",
    "    with open(\"Enumerating Gene Orders.txt\") as file:\n",
    "        for line in file:\n",
    "            fileoutput = line \n",
    "    for i in range (1, int(fileoutput)+1):\n",
    "        listTemp.append(i)\n",
    "    listAll.append(listTemp)\n",
    "    counter = 0\n",
    "    while listAll[-1] != listAll[0] or counter != 1:\n",
    "        print(\"lksk\")\n",
    "        counter = 1\n",
    "        for i in range(int(fileoutput)-1):\n",
    "            temp = listAll[-1]\n",
    "            temp.insert(i+2, temp[i])\n",
    "            temp.pop(i)\n",
    "            print(temp)\n",
    "            listAll.append(temp)  \n",
    "            \n",
    "            print(listAll)\n",
    "\n",
    "\n",
    "    "
   ]
  },
  {
   "cell_type": "code",
   "execution_count": 68,
   "id": "074347d9",
   "metadata": {},
   "outputs": [
    {
     "name": "stdout",
     "output_type": "stream",
     "text": [
      "lksk\n",
      "[2, 1, 3]\n",
      "[[2, 1, 3], [2, 1, 3]]\n",
      "[2, 3, 1]\n",
      "[[2, 3, 1], [2, 3, 1], [2, 3, 1]]\n",
      "None\n"
     ]
    }
   ],
   "source": [
    "print(geneOrders())"
   ]
  },
  {
   "cell_type": "code",
   "execution_count": null,
   "id": "a18dc3f9",
   "metadata": {},
   "outputs": [],
   "source": []
  }
 ],
 "metadata": {
  "kernelspec": {
   "display_name": "Python 3",
   "language": "python",
   "name": "python3"
  },
  "language_info": {
   "codemirror_mode": {
    "name": "ipython",
    "version": 3
   },
   "file_extension": ".py",
   "mimetype": "text/x-python",
   "name": "python",
   "nbconvert_exporter": "python",
   "pygments_lexer": "ipython3",
   "version": "3.8.8"
  }
 },
 "nbformat": 4,
 "nbformat_minor": 5
}
