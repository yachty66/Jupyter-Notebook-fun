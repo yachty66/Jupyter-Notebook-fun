{
 "cells": [
  {
   "cell_type": "code",
   "execution_count": 32,
   "id": "f22aa2f2",
   "metadata": {},
   "outputs": [],
   "source": [
    "#ich bekomme einen string t\n",
    "#ich bekomme einen substring\n",
    "#wenn substring s in t vorkommt muss ich die stelle (index+1) wo sich der erste buchstabe des substrings befindet in ein array speichern\n",
    "#am ende alle zahlen ausgeben Finding a Motif in DNA.txt\n",
    "def findMotif():\n",
    "    lineList = []\n",
    "    with open(\"Finding a Motif in DNA.txt\") as file:\n",
    "        for line in file:\n",
    "            lineList.append(line.rstrip())\n",
    "    #range len(t)\n",
    "    #range len(s)\n",
    "    #wenn i - len(t) > len(s) dann stop\n",
    "    #wenn string [i:len(s)] == s\n",
    "    #liste.append(0 (i))\n",
    "    #dann erhöhe i\n",
    "    a = \"GCGTTACGGGTCGGGTTACGGGTTACGGGAGTTACGGGATCTCCGAGAAGACTAAGCCAGTTACGGTTGTTACGGGTTACGGCAGCTGTTACGGTGTTACGGTGTTACGGGGTTACGGCGTTACGGAATGTTACGGGGTGTGTTACGGTAGGTTACGGGTTACGGAGTTACGGCCTGATGTTACGGAACCCTCGGGTTACGGGTTGTTACGGGAGTTACGGTGTTTAAAGCGTTACGGTGTTACGGTGTTACGGGTTACGGACAGTTACGGCTCCGTTACGGGTTGTTACGGAGTTCGTTACGGGTTACGGGTTACGGAAAGTTACGGCCACAGGTTACGGGTTACGGCTGATGTTACGGGGGTTACGGTGACGTCGTTACGGTGTTACGGAGTTACGGACCGTTACGGCCCCTTGGTTACGGCGTTACGGGTTACGGCTAGTGTTACGGCGTTACGGTGTGTTACGGAGCGCAGTTACGGTATTTGTTACGGCCTGAGTTACGGTAGTTACGGCCTTACCCAGTTACGGTAAGTTACGGGTTACGGGTTACGGAAGTTACGGGTTACGGCGTTACGGTGTTACGGTAGTTACGGGGTTACGGTAGCCGATCCTGTTACGGTTGCTGCGTTACGGAGGTTACGGACTGTTACGGTCTGGTTACGGGGTTACGGACTGTTACGGATGGGTTACGGGTTACGGAAGGTTACGGAGTTACGGGTTACGGCGCGTTTTGTGGGTTACGGGTGTTACGGTGTTACGGCGACGATGGGTTACGGGCGGGGTTACGGGTTACGGTCGTAGTTACGGTGTTACGGAGTTACGGAGATGAGGTTACGG\"\n",
    "    b = \"GTTACGGGT\"\n",
    "    results = []\n",
    "    for i in range (len(a)):\n",
    "        if((len(a) - (i+1)) < len(b)):\n",
    "            break\n",
    "        elif ((a[i:((len(b))+i)]) == b):\n",
    "            results.append(i+1)\n",
    "    return results\n",
    "            \n",
    "    \n",
    "    \n",
    "    \n",
    "\n",
    "   \n",
    "\n",
    "    "
   ]
  },
  {
   "cell_type": "code",
   "execution_count": 33,
   "id": "800ad2cb",
   "metadata": {},
   "outputs": [
    {
     "name": "stdout",
     "output_type": "stream",
     "text": [
      "[3, 15, 69, 152, 196, 248, 276, 298, 305, 335, 425, 534, 541, 557, 688, 713, 739, 784]\n"
     ]
    }
   ],
   "source": [
    "print(findMotif())"
   ]
  },
  {
   "cell_type": "code",
   "execution_count": null,
   "id": "2b45df79",
   "metadata": {},
   "outputs": [],
   "source": []
  }
 ],
 "metadata": {
  "kernelspec": {
   "display_name": "Python 3",
   "language": "python",
   "name": "python3"
  },
  "language_info": {
   "codemirror_mode": {
    "name": "ipython",
    "version": 3
   },
   "file_extension": ".py",
   "mimetype": "text/x-python",
   "name": "python",
   "nbconvert_exporter": "python",
   "pygments_lexer": "ipython3",
   "version": "3.8.8"
  }
 },
 "nbformat": 4,
 "nbformat_minor": 5
}
