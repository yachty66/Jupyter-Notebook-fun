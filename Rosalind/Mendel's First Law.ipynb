{
 "cells": [
  {
   "cell_type": "code",
   "execution_count": 20,
   "id": "8bff280e",
   "metadata": {},
   "outputs": [],
   "source": [
    "def mendel():\n",
    "    #given k + m + n\n",
    "    #k = same alleles dominant\n",
    "    #m = two different alliles\n",
    "    #n = same alleles recessive\n",
    "    #wahrscheinlichkeit dass bei zwei mal ziehen eine dominante allele dabei ist\n",
    "    k = int(input()) #1 k enthält zwei dom\n",
    "    m = int(input()) #1 m enthält 1 dom und 1 rec\n",
    "    n = int(input()) #1 n enthält 2 rec\n",
    "    #wenn eine alle\n",
    "    alleles = []\n",
    "    alleles.append((k*2)*\"A\")\n",
    "    alleles.append(m*\"A\")\n",
    "    alleles.append(m*\"a\")\n",
    "    alleles.append((n*2)*\"a\")\n",
    "    alleles = \"\".join(alleles)\n",
    "    occA = alleles.count(\"A\")\n",
    "    occAll = len(alleles)\n",
    "    print(occA)\n",
    "    print(occAll)\n",
    "    prb = occA / occAll\n",
    "\n",
    "    final = prb * 2 \n",
    "    \n",
    "    \n",
    "    return final\n",
    "    \n",
    "    \n",
    "    \n",
    "\n",
    "            \n",
    "    #random zahl in raneg alleles len generieren\n",
    "    #zahl \n",
    "    \n",
    "    \n",
    "    \n",
    "    \n",
    "\n",
    "    #dom = A\n",
    "    #rec = a\n",
    "    \n",
    "    #wahrscheinlichkeit dass A gezogemn wird ist vorkommen von A/gesamt\n",
    "    #zwei mal ziehen und die outcoms miteinander multiplizieren\n",
    "    "
   ]
  },
  {
   "cell_type": "code",
   "execution_count": 21,
   "id": "1e6eb8c4",
   "metadata": {
    "scrolled": true
   },
   "outputs": [
    {
     "name": "stdout",
     "output_type": "stream",
     "text": [
      "2\n",
      "2\n",
      "2\n",
      "6\n",
      "12\n",
      "2.5\n"
     ]
    }
   ],
   "source": [
    "print(mendel())"
   ]
  },
  {
   "cell_type": "code",
   "execution_count": 15,
   "id": "d78c276f",
   "metadata": {},
   "outputs": [
    {
     "name": "stdout",
     "output_type": "stream",
     "text": [
      "7\n"
     ]
    }
   ],
   "source": [
    "test = \"ahaaaaa\"\n",
    "print(len(test))"
   ]
  },
  {
   "cell_type": "code",
   "execution_count": null,
   "id": "b6925a4c",
   "metadata": {},
   "outputs": [],
   "source": []
  }
 ],
 "metadata": {
  "kernelspec": {
   "display_name": "Python 3",
   "language": "python",
   "name": "python3"
  },
  "language_info": {
   "codemirror_mode": {
    "name": "ipython",
    "version": 3
   },
   "file_extension": ".py",
   "mimetype": "text/x-python",
   "name": "python",
   "nbconvert_exporter": "python",
   "pygments_lexer": "ipython3",
   "version": "3.8.8"
  }
 },
 "nbformat": 4,
 "nbformat_minor": 5
}
