{
 "cells": [
  {
   "cell_type": "code",
   "execution_count": 16,
   "id": "8bff280e",
   "metadata": {},
   "outputs": [],
   "source": [
    "def mendel():\n",
    "    #given k + m + n\n",
    "    #k = same alleles dominant\n",
    "    #m = two different alliles\n",
    "    #n = same alleles recessive\n",
    "    #wahrscheinlichkeit dass bei zwei mal ziehen eine dominante allele dabei ist\n",
    "    k = int(input()) #1 k enthält zwei dom\n",
    "    m = int(input()) #1 m enthält 1 dom und 1 rec\n",
    "    n = int(input()) #1 n enthält 2 rec\n",
    "    #wenn eine alle\n",
    "    probDom1 = (k*2)/((k+m+n)*2)\n",
    "    probDomDom = (probDom1 * (((k-1)*2)/(((k-1)+m+n)*2)))+(probDom1 * (((m)*2)/(((k-1)+m+n)*2)))+(probDom1 * (((n)*2)/(((k-1)+m+n)*2)))\n",
    "    probDom2 = (m*2)/((k+m+n)*2)\n",
    "    probDomRec = (probDom2 * ((k*2)/(((k+(m-1)+n)*2))))+((probDom2 * (((m-1)*2)/(((k+(m-1)+n)*2))))*0.75)+((probDom2 * (((n*2))/(((k+(m-1)+n)*2))))/2)\n",
    "    probDom3 = (n*2)/((k+m+n)*2)\n",
    "    probRecRec = (probDom3 * ((k)*2)/((k+m+(n-1))*2))+((probDom3 * (((m)*2)/((k+m+(n-1))*2)))/2)\n",
    "    \n",
    "    final = probDomDom + probDomRec + probRecRec\n",
    "    \n",
    "    return final\n",
    "\n",
    "    #ich muss alle möglichkeiten für ein zweites mal ziehen demonstrieren (wahrscheinlichkeitsbaum zeichnen)\n",
    "    #ich kann wahrscheinlichkeit aufstellen ob k, m oder n gezogen wird\n",
    "    #wie hoch ist die wahrscheinlichkeit dass beim ersten mal ziehen ein dominanter organismus gezogen wird?\n",
    "    #ich muss alle möglichen outcomes miteinander addieren#\n",
    "    \n",
    "    #wenn ein hetero sich mit einem homo recessive paart ist die wahrscheinlichkeit, dass dabei wieder ein hetero raus kommt bei 1/2\n",
    "    #jedes outcome welches == dominant ist zusammen zählen"
   ]
  },
  {
   "cell_type": "code",
   "execution_count": 17,
   "id": "1e0ae704",
   "metadata": {},
   "outputs": [
    {
     "name": "stdout",
     "output_type": "stream",
     "text": [
      "25\n",
      "16\n",
      "28\n",
      "0.7306052855924978\n"
     ]
    }
   ],
   "source": [
    "print(mendel())"
   ]
  },
  {
   "cell_type": "code",
   "execution_count": null,
   "id": "398e4bae",
   "metadata": {},
   "outputs": [],
   "source": []
  },
  {
   "cell_type": "code",
   "execution_count": null,
   "id": "b6e62780",
   "metadata": {},
   "outputs": [],
   "source": []
  }
 ],
 "metadata": {
  "kernelspec": {
   "display_name": "Python 3",
   "language": "python",
   "name": "python3"
  },
  "language_info": {
   "codemirror_mode": {
    "name": "ipython",
    "version": 3
   },
   "file_extension": ".py",
   "mimetype": "text/x-python",
   "name": "python",
   "nbconvert_exporter": "python",
   "pygments_lexer": "ipython3",
   "version": "3.8.8"
  }
 },
 "nbformat": 4,
 "nbformat_minor": 5
}
