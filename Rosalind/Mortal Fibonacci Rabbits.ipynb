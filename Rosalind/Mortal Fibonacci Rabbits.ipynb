{
 "cells": [
  {
   "cell_type": "code",
   "execution_count": 55,
   "id": "b785ccc2",
   "metadata": {},
   "outputs": [],
   "source": [
    "def mortalRabbits():\n",
    "    #rabbits sterben aus nach 3 monaten lebzeit\n",
    "    months = int(input())\n",
    "    lifeSpanRabbit = int(input())\n",
    "    fib = [1,1]\n",
    "    for i in range(2, months):\n",
    "        if(len(fib) == lifeSpanRabbit):\n",
    "            fib.append((fib[-1]+fib[-2])-(1))\n",
    "        elif(len(fib)>=lifeSpanRabbit+1):\n",
    "            fib.append((fib[-1]+fib[-2])-(fib[-(lifeSpanRabbit+1)]))\n",
    "        else:\n",
    "            fib.append((fib[-1]+fib[-2]))\n",
    "    return fib\n",
    "        "
   ]
  },
  {
   "cell_type": "code",
   "execution_count": 56,
   "id": "b18f9e87",
   "metadata": {},
   "outputs": [
    {
     "name": "stdout",
     "output_type": "stream",
     "text": [
      "95\n",
      "20\n",
      "[1, 1, 2, 3, 5, 8, 13, 21, 34, 55, 89, 144, 233, 377, 610, 987, 1597, 2584, 4181, 6765, 10945, 17709, 28653, 46360, 75010, 121365, 196367, 317719, 514065, 831750, 1345760, 2177421, 3523037, 5700225, 9222885, 14922500, 24144398, 39065301, 63207115, 102268235, 165468585, 267725875, 433176751, 700873973, 1134004364, 1834803327, 2968686326, 4803293286, 7771661893, 12574441114, 20345271257, 32918366611, 53261460447, 86176304021, 139432064243, 225599145379, 365016287122, 590591288103, 955568509924, 1546096590912, 2501562832601, 4047493954928, 6548789061654, 10595849839831, 17143938027512, 27738653862979, 44880757087164, 72616442263817, 117492396057695, 190101066659619, 307580888276200, 497661609664562, 805209579574151, 1302817927778266, 2107941331048396, 3410619826762419, 5518335558665436, 8928590369140733, 14446335336518066, 23373970137148875, 37818759377076029, 61190227951392303, 99004939834513404, 160188618996844053, 259182962981517626, 419354438040334167, 678509662367988814, 1097819219651235817, 1776256265576960814, 2873957992832138936, 4650024157342440131, 7523674569286302867, 12173201065019078436, 19696070424725807152, 31867968671817107322]\n"
     ]
    }
   ],
   "source": [
    "print(mortalRabbits())"
   ]
  },
  {
   "cell_type": "code",
   "execution_count": null,
   "id": "190f8960",
   "metadata": {},
   "outputs": [],
   "source": []
  }
 ],
 "metadata": {
  "kernelspec": {
   "display_name": "Python 3",
   "language": "python",
   "name": "python3"
  },
  "language_info": {
   "codemirror_mode": {
    "name": "ipython",
    "version": 3
   },
   "file_extension": ".py",
   "mimetype": "text/x-python",
   "name": "python",
   "nbconvert_exporter": "python",
   "pygments_lexer": "ipython3",
   "version": "3.8.8"
  }
 },
 "nbformat": 4,
 "nbformat_minor": 5
}
