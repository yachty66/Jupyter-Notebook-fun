{
 "cells": [
  {
   "cell_type": "code",
   "execution_count": 24,
   "id": "b785ccc2",
   "metadata": {},
   "outputs": [],
   "source": [
    "def mortalRabbits():\n",
    "    #rabbits sterben aus nach 3 monaten lebzeit\n",
    "    months = int(input())\n",
    "    lifeSpanRabbit = int(input())\n",
    "    numbers = []\n",
    "    counter = 0\n",
    "    finCounter = 0\n",
    "    for i in range(1, months+1):\n",
    "        if(i == 1 or i == 2):\n",
    "            numbers.append(1)\n",
    "        else:\n",
    "            new = (numbers[-1] + numbers[-2]) - finCounter\n",
    "            numbers.append(new)\n",
    "        counter += 1\n",
    "        if(counter % lifeSpanRabbit == 0):\n",
    "            finCounter += 1    \n",
    "\n",
    "    \n",
    "    return numbers\n",
    "        #von allen drei elementen subtrahiere ich n von 0 angefangen ab \n",
    "        "
   ]
  },
  {
   "cell_type": "code",
   "execution_count": 25,
   "id": "b18f9e87",
   "metadata": {},
   "outputs": [
    {
     "name": "stdout",
     "output_type": "stream",
     "text": [
      "10\n",
      "3\n",
      "[1, 1, 2, 2, 3, 4, 5, 7, 10, 14]\n"
     ]
    }
   ],
   "source": [
    "print(mortalRabbits())"
   ]
  },
  {
   "cell_type": "code",
   "execution_count": null,
   "id": "bacd8b06",
   "metadata": {},
   "outputs": [],
   "source": [
    "#ich erstelle eine ganz normal fibo bloß dass ich "
   ]
  }
 ],
 "metadata": {
  "kernelspec": {
   "display_name": "Python 3",
   "language": "python",
   "name": "python3"
  },
  "language_info": {
   "codemirror_mode": {
    "name": "ipython",
    "version": 3
   },
   "file_extension": ".py",
   "mimetype": "text/x-python",
   "name": "python",
   "nbconvert_exporter": "python",
   "pygments_lexer": "ipython3",
   "version": "3.8.8"
  }
 },
 "nbformat": 4,
 "nbformat_minor": 5
}
