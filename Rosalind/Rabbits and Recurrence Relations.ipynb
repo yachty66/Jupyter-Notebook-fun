{
 "cells": [
  {
   "cell_type": "code",
   "execution_count": 14,
   "id": "80bcace5",
   "metadata": {},
   "outputs": [],
   "source": [
    "def rabbitRecurrence():\n",
    "    # any given month will contain the rabbits that were alive the previous month, plus any new offspring\n",
    "    #jedes kaninchenpaar zeugt k neue paare\n",
    "    #jeden monat kommen zu jedem paar k neue paare dazu\n",
    "    #5 mon 3 paare \n",
    "    # 1 - 1, 2 - 1, 3 - 3, 4  -\n",
    "    \n",
    "    #k mit anzahl an neuen paaren welche ein hasenpaar jeden monat züchtet nach einem monat reifungszeit\n",
    "    #n mit anzahl der monate die sich die hasenpaare verbreiten\n",
    "    \n",
    "    months = int(input())\n",
    "    pairs = int(input())\n",
    "    numbers = []\n",
    "    \n",
    "    for i in range(1, months+1):\n",
    "        if(i == 1 or i == 2):\n",
    "            numbers.append(1)\n",
    "        else:\n",
    "            new = numbers[-1]+numbers[-2]*pairs\n",
    "            numbers.append(new)\n",
    "    return numbers\n",
    "        \n",
    "    \n",
    "   \n",
    "            \n",
    "    \n",
    "    "
   ]
  },
  {
   "cell_type": "code",
   "execution_count": 15,
   "id": "8852f8fe",
   "metadata": {},
   "outputs": [
    {
     "name": "stdout",
     "output_type": "stream",
     "text": [
      "28\n",
      "5\n",
      "[1, 1, 6, 11, 41, 96, 301, 781, 2286, 6191, 17621, 48576, 136681, 379561, 1062966, 2960771, 8275601, 23079456, 64457461, 179854741, 502142046, 1401415751, 3912125981, 10919204736, 30479834641, 85075858321, 237475031526, 662854323131]\n"
     ]
    }
   ],
   "source": [
    "print(rabbitRecurrence())"
   ]
  },
  {
   "cell_type": "code",
   "execution_count": null,
   "id": "ce28e2f7",
   "metadata": {},
   "outputs": [],
   "source": []
  }
 ],
 "metadata": {
  "kernelspec": {
   "display_name": "Python 3",
   "language": "python",
   "name": "python3"
  },
  "language_info": {
   "codemirror_mode": {
    "name": "ipython",
    "version": 3
   },
   "file_extension": ".py",
   "mimetype": "text/x-python",
   "name": "python",
   "nbconvert_exporter": "python",
   "pygments_lexer": "ipython3",
   "version": "3.8.8"
  }
 },
 "nbformat": 4,
 "nbformat_minor": 5
}
