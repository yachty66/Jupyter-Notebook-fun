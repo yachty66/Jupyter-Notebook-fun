{
 "cells": [
  {
   "cell_type": "code",
   "execution_count": null,
   "id": "ca932aae",
   "metadata": {},
   "outputs": [],
   "source": [
    "'''\n",
    "\n",
    "all rotations\n",
    "estt = 1 links /ss 3 rechts\n",
    "stte = 2 links / 2 rechts\n",
    "ttes = 3 links / 1 rechts\n",
    "test = 4 links / 4 rechts\n",
    "Es fehlt die 3 nach links oderxxxxxxx 1 dddddnach rechts verschiebung. Und die 1 nach links oder 3 nach rechts is doppelt vorhanden.\n",
    "qsksksksks\n",
    "Algo:\n",
    "    so oft verschisssseben bis ursprungswort wieder auftaucht. Beiner verschiebung geht der erste buchstabe an die letzte stelle und der zweite geht an die erste stelle.\n",
    "    \n",
    "    buchstabe1 and ende\n",
    "    buchstabe2 an anfang\n",
    "    wiederhole bis wort ursprungswort\n",
    "    \n",
    "    adde anfang an ende \n",
    "    drope anfang\n",
    "\n",
    "'''dldddddl\n",
    "def make_rotations(text):\n",
    "    originWord = text\n",
    "\n",
    "    listWithAllRotations = [originWord]\n",
    "\n",
    "    for i in originWord:\n",
    "        newWord = listWithAllRotations[-1] + listWithAllRotations[-1][0]\n",
    "        newWord = newWord[1:]\n",
    "        if(newWord != originWord):\n",
    "            listWithAllRotations.append(newWord)\n",
    "\n",
    "\n",
    "    result = listWithAllRotations = [originWord]\n",
    "    return result\n"
   ]
  },
  {
   "cell_type": "code",
   "execution_count": 3,
   "id": "b0388567",
   "metadata": {},
   "outputs": [
    {
     "name": "stdout",
     "output_type": "stream",
     "text": [
      "['geeks', 'eeksg', 'eksge', 'ksgee', 'sgeek']\n"
     ]
    }
   ],
   "source": [
    "originWord = \"test\"\n",
    "\n",
    "listWithAllRotations = [originWord]\n",
    "\n",
    "for i in originWord:\n",
    "    newWord = listWithAllRotations[-1] + listWithAllRotations[-1][0]\n",
    "    newWord = newWord[1:]\n",
    "    if(newWord != originWord):\n",
    "        listWithAllRotations.append(newWord)\n",
    "        \n",
    "print(listWithAllRotations)"
   ]
  },
  {
   "cell_type": "code",
   "execution_count": 9,
   "id": "53854500",
   "metadata": {},
   "outputs": [
    {
     "name": "stdout",
     "output_type": "stream",
     "text": [
      "[[1, 0, 0], [2, 0, 0], [3, 0, 0]]\n"
     ]
    },
    {
     "data": {
      "text/plain": [
       "[[1, 0, 0], [3, 0, 0]]"
      ]
     },
     "execution_count": 9,
     "metadata": {},
     "output_type": "execute_result"
    }
   ],
   "source": [
    "#ceck if test from dabrowski work\n",
    "def remove_middle_element(mylist):\n",
    "    print(mylist)\n",
    "    mylist.pop(1)\n",
    "    result = mylist\n",
    "    # Hier Dinge tun\n",
    "    # Do things here\n",
    "    return result\n",
    "\n",
    "l = [[1,0,0], [2,0,0], [3,0,0]]\n",
    "remove_middle_element(l)"
   ]
  },
  {
   "cell_type": "code",
   "execution_count": 3,
   "id": "4c4f4416",
   "metadata": {},
   "outputs": [
    {
     "ename": "NameError",
     "evalue": "name 'self' is not defined",
     "output_type": "error",
     "traceback": [
      "\u001b[0;31m---------------------------------------------------------------------------\u001b[0m",
      "\u001b[0;31mNameError\u001b[0m                                 Traceback (most recent call last)",
      "\u001b[0;32m/var/folders/0n/n106l5rn7cb6yw8038g17vcm0000gn/T/ipykernel_56702/4124164235.py\u001b[0m in \u001b[0;36m<module>\u001b[0;34m\u001b[0m\n\u001b[1;32m      4\u001b[0m \u001b[0;34m\u001b[0m\u001b[0m\n\u001b[1;32m      5\u001b[0m \u001b[0;34m\u001b[0m\u001b[0m\n\u001b[0;32m----> 6\u001b[0;31m \u001b[0mtest_remove_middle_element\u001b[0m\u001b[0;34m(\u001b[0m\u001b[0mself\u001b[0m\u001b[0;34m)\u001b[0m\u001b[0;34m\u001b[0m\u001b[0;34m\u001b[0m\u001b[0m\n\u001b[0m",
      "\u001b[0;31mNameError\u001b[0m: name 'self' is not defined"
     ]
    }
   ],
   "source": [
    "def test_remove_middle_element(self):\n",
    "        result = remove_middle_element([[0,0,0], [0,0,0], [0,0,0]])\n",
    "        self.check_list(result, 2, 3)\n",
    "        \n",
    "        \n",
    "test_remove_middle_element(self)\n",
    "\n",
    "self.check_list(result, 2, 3)"
   ]
  },
  {
   "cell_type": "code",
   "execution_count": 42,
   "id": "50a5d36a",
   "metadata": {},
   "outputs": [],
   "source": [
    "#check dict task \n",
    "\n",
    "#wie soll das ergebins ien \n",
    "def convert_to_dict(mylist):\n",
    "    print(mylist[0][1])\n",
    "    #muss jede liste in liste zu dict convertieren\n",
    "    #result muss dict sein. \n",
    "    #result = {\"a\":mylist[0][0], \"b\":mylist[0][1], \"c\":mylist[0][2]},{\"d\":mylist[1][0], \"e\":mylist[1][1], \"f\":mylist[1][2]},{\"g\":mylist[2][0], \"h\":mylist[2][1], \"i\":mylist[2][2]}\n",
    "    #result = {\"a\":mylist[0][0], \"b\":mylist[0][1], \"c\":mylist[0][2], \"d\":mylist[1][0], \"e\":mylist[1][1], \"f\":mylist[1][2],\"g\":mylist[2][0], \"h\":mylist[2][1], \"i\":mylist[2][2]}\n",
    "    result = {\"a\":mylist[0],\"d\":mylist[1],\"g\":mylist[2]}\n",
    "    # Hier Dinge tun\n",
    "    # Do things here\n",
    "    return result"
   ]
  },
  {
   "cell_type": "code",
   "execution_count": 43,
   "id": "55b49f6e",
   "metadata": {},
   "outputs": [
    {
     "name": "stdout",
     "output_type": "stream",
     "text": [
      "0\n"
     ]
    },
    {
     "data": {
      "text/plain": [
       "{'a': [0, 0, 0], 'd': [0, 0, 0], 'g': [0, 0, 0]}"
      ]
     },
     "execution_count": 43,
     "metadata": {},
     "output_type": "execute_result"
    }
   ],
   "source": [
    "#es darf nicht zweimal der gleiche key vorkoemmn\n",
    "#kann für jejdenzahl dict erzeuegen \n",
    "convert_to_dict([[0,0,0], [0,0,0], [0,0,0]])"
   ]
  },
  {
   "cell_type": "code",
   "execution_count": 31,
   "id": "a6ff6933",
   "metadata": {},
   "outputs": [
    {
     "ename": "NameError",
     "evalue": "name 'self' is not defined",
     "output_type": "error",
     "traceback": [
      "\u001b[0;31m---------------------------------------------------------------------------\u001b[0m",
      "\u001b[0;31mNameError\u001b[0m                                 Traceback (most recent call last)",
      "\u001b[0;32m/var/folders/0n/n106l5rn7cb6yw8038g17vcm0000gn/T/ipykernel_56702/4194888679.py\u001b[0m in \u001b[0;36m<module>\u001b[0;34m\u001b[0m\n\u001b[1;32m     11\u001b[0m                              \u001b[0;34m\"Length of element \\\"\"\u001b[0m \u001b[0;34m+\u001b[0m \u001b[0mi\u001b[0m \u001b[0;34m+\u001b[0m \u001b[0;34m\"\\\" of result was expected to be 3 but is \"\u001b[0m \u001b[0;34m+\u001b[0m\u001b[0;34m\u001b[0m\u001b[0;34m\u001b[0m\u001b[0m\n\u001b[1;32m     12\u001b[0m                              str(len(result[i])))\n\u001b[0;32m---> 13\u001b[0;31m \u001b[0mprint\u001b[0m\u001b[0;34m(\u001b[0m\u001b[0mtest_convert_to_dict\u001b[0m\u001b[0;34m(\u001b[0m\u001b[0mself\u001b[0m\u001b[0;34m)\u001b[0m\u001b[0;34m)\u001b[0m\u001b[0;34m\u001b[0m\u001b[0;34m\u001b[0m\u001b[0m\n\u001b[0m",
      "\u001b[0;31mNameError\u001b[0m: name 'self' is not defined"
     ]
    }
   ],
   "source": [
    "def test_convert_to_dict(self):\n",
    "        result = aufgaben.convert_to_dict([[0,0,0], [0,0,0], [0,0,0]])\n",
    "        self.assertIsNotNone(result)\n",
    "        self.assertTrue(isinstance(result, dict), \"Result is not a dictionary\")\n",
    "        self.assertEqual(len(result), 3, \"Length of result was expected to be 3 but is \" + str(len(result)))\n",
    "        for i in result.keys():\n",
    "            self.assertTrue(isinstance(i, str), \"Key \" + str(i) + \" is not a string\")\n",
    "            self.assertTrue(isinstance(result[i], list), \"Value \" + str(result[i]) + \" (at key \" + str(i) +\n",
    "                            \") is not an array\")\n",
    "            self.assertEqual(len(result[i]), 3,\n",
    "                             \"Length of element \\\"\" + i + \"\\\" of result was expected to be 3 but is \" +\n",
    "                             str(len(result[i])))"
   ]
  },
  {
   "cell_type": "code",
   "execution_count": 46,
   "id": "c7f02e77",
   "metadata": {},
   "outputs": [
    {
     "data": {
      "text/plain": [
       "['test', 'estt', 'stte', 'ttes']"
      ]
     },
     "execution_count": 46,
     "metadata": {},
     "output_type": "execute_result"
    }
   ],
   "source": [
    "'''\n",
    "all rotations\n",
    "estt = 1 links / 3 rechts\n",
    "stte = 2 links / 2 rechts\n",
    "ttes = 3 links / 1 rechts\n",
    "test = 4 links / 4 rechts\n",
    "\n",
    "Es fehlt die 3 nach links oder 1 nach rechts verschiebung. Und die 1 nach links oder 3 nach rechts is doppelt vorhanden.\n",
    "'''\n",
    "def make_rotations(text):dddd\n",
    "    originWord = text\n",
    "\n",
    "    listWithAllRotations = [originWord]\n",
    "\n",
    "    for i in originWord:\n",
    "        newWord = listWithAllRotations[-1] + listWithAllRotations[-1][0]\n",
    "        newWord = newWord[1:]\n",
    "        if(newWord != originWord):\n",
    "            listWithAllRotations.append(newWord)\n",
    "\n",
    "\n",
    "    result = listWithAllRotations\n",
    "    return result\n",
    "\n",
    "\n",
    "make_rotations(\"test\")"
   ]
  },
  {
   "cell_type": "code",
   "execution_count": null,
   "id": "14310ff0",
   "metadata": {},
   "outputs": [],
   "source": [
    "def test_make_rotations(self):\n",
    "        result = aufgaben.make_rotations(\"test\")\n",
    "        self.assertIsNotNone(result)\n",
    "        self.assertTrue(isinstance(result, list), \"Result is not a list\")\n",
    "        self.assertListEqual(result, [\"test\", \"estt\", \"stte\", \"ttes\"])"
   ]
  },
  {
   "cell_type": "code",
   "execution_count": null,
   "id": "b7bbe27f",
   "metadata": {},
   "outputs": [],
   "source": [
    "Hallo ..\n",
    "\n",
    "Im Modul Ausgewählte Kapitel der Gesundheitsinformatik in \"Week 0\" \"Task 0\" in der Methode .. haben sie folgenden Kommentar dazu:\n",
    "# Bauen Sie aus dem String text ein Array aller Rotationen. Beispiel:\n",
    "# text = \"test\", result = [\"test\", \"estt\", \"stte\", \"estt\"]\n",
    "#\n",
    "# Return an array containing all rotations of the text, e.g.\n",
    "# text = \"test\", result = [\"test\", \"estt\", \"stte\", \"estt\"]\n",
    "#\n",
    "\n",
    "in den beiden result Listen kommt \"estt\" doppelt vor. Ein \"estt\" müsste ein \"ttes\". In den Tests ist es richtig. Wollen Sie ein Forum einrichten, dann können in Zukunft alle die solche Nachrichten lesen falls sich jemand wundert. Liebe Grüße\n",
    "\n",
    "\n"
   ]
  },
  {
   "cell_type": "code",
   "execution_count": null,
   "id": "3e063885",
   "metadata": {},
   "outputs": [],
   "source": []
  }
 ],
 "metadata": {
  "kernelspec": {
   "display_name": "Python 3 (ipykernel)",
   "language": "python",
   "name": "python3"
  },
  "language_info": {
   "codemirror_mode": {
    "name": "ipython",
    "version": 3
   },
   "file_extension": ".py",
   "mimetype": "text/x-python",
   "name": "python",
   "nbconvert_exporter": "python",
   "pygments_lexer": "ipython3",
   "version": "3.9.7"
  }
 },
 "nbformat": 4,
 "nbformat_minor": 5
}
