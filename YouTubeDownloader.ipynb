{
 "cells": [
  {
   "cell_type": "code",
   "execution_count": null,
   "id": "27053b92",
   "metadata": {},
   "outputs": [],
   "source": [
    "p = Playlist('https://www.youtube.com/playlist?list=PLlQWnS27jXh-t3cHfH8oMr8R3-jMvZJn6')"
   ]
  },
  {
   "cell_type": "code",
   "execution_count": 1,
   "id": "f2dca863",
   "metadata": {},
   "outputs": [
    {
     "ename": "ModuleNotFoundError",
     "evalue": "No module named 'pytube'",
     "output_type": "error",
     "traceback": [
      "\u001b[0;31m---------------------------------------------------------------------------\u001b[0m",
      "\u001b[0;31mModuleNotFoundError\u001b[0m                       Traceback (most recent call last)",
      "\u001b[0;32m/var/folders/0n/n106l5rn7cb6yw8038g17vcm0000gn/T/ipykernel_55834/832751491.py\u001b[0m in \u001b[0;36m<module>\u001b[0;34m\u001b[0m\n\u001b[0;32m----> 1\u001b[0;31m \u001b[0;32mfrom\u001b[0m \u001b[0mpytube\u001b[0m \u001b[0;32mimport\u001b[0m \u001b[0mPlaylist\u001b[0m\u001b[0;34m\u001b[0m\u001b[0;34m\u001b[0m\u001b[0m\n\u001b[0m",
      "\u001b[0;31mModuleNotFoundError\u001b[0m: No module named 'pytube'"
     ]
    }
   ],
   "source": [
    "from pytube import Playlist"
   ]
  },
  {
   "cell_type": "code",
   "execution_count": 2,
   "id": "024cb20e",
   "metadata": {},
   "outputs": [
    {
     "ename": "SyntaxError",
     "evalue": "invalid syntax (3289936018.py, line 1)",
     "output_type": "error",
     "traceback": [
      "\u001b[0;36m  File \u001b[0;32m\"/var/folders/0n/n106l5rn7cb6yw8038g17vcm0000gn/T/ipykernel_55834/3289936018.py\"\u001b[0;36m, line \u001b[0;32m1\u001b[0m\n\u001b[0;31m    git clone git://github.com/pytube/pytube.git\u001b[0m\n\u001b[0m        ^\u001b[0m\n\u001b[0;31mSyntaxError\u001b[0m\u001b[0;31m:\u001b[0m invalid syntax\n"
     ]
    }
   ],
   "source": [
    "git clone git://github.com/pytube/pytube.git"
   ]
  },
  {
   "cell_type": "code",
   "execution_count": 3,
   "id": "90e8d954",
   "metadata": {},
   "outputs": [
    {
     "name": "stdout",
     "output_type": "stream",
     "text": [
      "Collecting git+https://github.com/pytube/pytube\n",
      "  Cloning https://github.com/pytube/pytube to /private/var/folders/0n/n106l5rn7cb6yw8038g17vcm0000gn/T/pip-req-build-9wwyj5pm\n",
      "  Running command git clone -q https://github.com/pytube/pytube /private/var/folders/0n/n106l5rn7cb6yw8038g17vcm0000gn/T/pip-req-build-9wwyj5pm\n",
      "  Resolved https://github.com/pytube/pytube to commit e8f4391867fea2bf1c2320113217c0e27bb9705d\n",
      "Building wheels for collected packages: pytube\n",
      "  Building wheel for pytube (setup.py) ... \u001b[?25ldone\n",
      "\u001b[?25h  Created wheel for pytube: filename=pytube-11.0.2-py3-none-any.whl size=56279 sha256=bfcf5745620d22d0a8fb026d840d480ce77be02e38a690ae5e78620c60d5adf3\n",
      "  Stored in directory: /private/var/folders/0n/n106l5rn7cb6yw8038g17vcm0000gn/T/pip-ephem-wheel-cache-afbyxuag/wheels/f4/ae/0f/f0fdf2ce945056746047ffe8953daa61108f15c92ca070206e\n",
      "Successfully built pytube\n",
      "Installing collected packages: pytube\n",
      "  Attempting uninstall: pytube\n",
      "    Found existing installation: pytube 11.0.1\n",
      "    Uninstalling pytube-11.0.1:\n",
      "      Successfully uninstalled pytube-11.0.1\n",
      "Successfully installed pytube-11.0.2\n",
      "Note: you may need to restart the kernel to use updated packages.\n"
     ]
    }
   ],
   "source": [
    "pip install git+https://github.com/pytube/pytube"
   ]
  },
  {
   "cell_type": "code",
   "execution_count": 1,
   "id": "05ce506c",
   "metadata": {},
   "outputs": [],
   "source": [
    "from pytube import Playlist"
   ]
  },
  {
   "cell_type": "code",
   "execution_count": 2,
   "id": "c6cd67ea",
   "metadata": {},
   "outputs": [],
   "source": [
    "p = Playlist('https://www.youtube.com/playlist?list=PLlQWnS27jXh-t3cHfH8oMr8R3-jMvZJn6')"
   ]
  },
  {
   "cell_type": "code",
   "execution_count": 3,
   "id": "7df8b934",
   "metadata": {},
   "outputs": [
    {
     "name": "stdout",
     "output_type": "stream",
     "text": [
      "Downloading: Mathewelten | ARTE\n"
     ]
    }
   ],
   "source": [
    "print(f'Downloading: {p.title}')"
   ]
  },
  {
   "cell_type": "code",
   "execution_count": 11,
   "id": "ef19d09e",
   "metadata": {},
   "outputs": [],
   "source": [
    "for video in p.videos:\n",
    "    video.streams.get_highest_resolution().download(\"Downloads\")"
   ]
  },
  {
   "cell_type": "code",
   "execution_count": null,
   "id": "bd773449",
   "metadata": {},
   "outputs": [],
   "source": [
    "sdksdkskks"
   ]
  }
 ],
 "metadata": {
  "kernelspec": {
   "display_name": "Python 3 (ipykernel)",
   "language": "python",
   "name": "python3"
  },
  "language_info": {
   "codemirror_mode": {
    "name": "ipython",
    "version": 3
   },
   "file_extension": ".py",
   "mimetype": "text/x-python",
   "name": "python",
   "nbconvert_exporter": "python",
   "pygments_lexer": "ipython3",
   "version": "3.9.7"
  }
 },
 "nbformat": 4,
 "nbformat_minor": 5
}
