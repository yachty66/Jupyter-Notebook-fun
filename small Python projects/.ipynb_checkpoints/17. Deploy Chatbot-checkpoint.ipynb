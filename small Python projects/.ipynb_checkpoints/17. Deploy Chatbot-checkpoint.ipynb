{
 "cells": [
  {
   "cell_type": "code",
   "execution_count": 5,
   "id": "9a683c8d",
   "metadata": {},
   "outputs": [
    {
     "name": "stdout",
     "output_type": "stream",
     "text": [
      "Collecting chatterbot==1.0.0\n",
      "  Downloading ChatterBot-1.0.0-py2.py3-none-any.whl (65 kB)\n",
      "\u001b[K     |████████████████████████████████| 65 kB 2.0 MB/s eta 0:00:01\n",
      "\u001b[?25hCollecting mathparse<0.2,>=0.1\n",
      "  Using cached mathparse-0.1.2-py3-none-any.whl (7.2 kB)\n",
      "Collecting python-dateutil<2.8,>=2.7\n",
      "  Using cached python_dateutil-2.7.5-py2.py3-none-any.whl (225 kB)\n",
      "Collecting nltk<4.0,>=3.2\n",
      "  Using cached nltk-3.6.3-py3-none-any.whl (1.5 MB)\n",
      "Collecting pint>=0.8.1\n",
      "  Using cached Pint-0.17-py2.py3-none-any.whl (204 kB)\n",
      "Collecting pymongo<4.0,>=3.3\n",
      "  Using cached pymongo-3.12.0-cp38-cp38-macosx_10_9_x86_64.whl (394 kB)\n",
      "Requirement already satisfied: chatterbot-corpus<1.3,>=1.2 in /Users/maxhager/opt/anaconda3/lib/python3.8/site-packages (from chatterbot==1.0.0) (1.2.0)\n",
      "Collecting sqlalchemy<1.3,>=1.2\n",
      "  Using cached SQLAlchemy-1.2.19.tar.gz (5.7 MB)\n",
      "Requirement already satisfied: PyYAML<4.0,>=3.12 in /Users/maxhager/opt/anaconda3/lib/python3.8/site-packages (from chatterbot-corpus<1.3,>=1.2->chatterbot==1.0.0) (3.13)\n",
      "Collecting regex\n",
      "  Using cached regex-2021.9.24-cp38-cp38-macosx_10_9_x86_64.whl (287 kB)\n",
      "Collecting joblib\n",
      "  Using cached joblib-1.0.1-py3-none-any.whl (303 kB)\n",
      "Requirement already satisfied: click in /Users/maxhager/opt/anaconda3/lib/python3.8/site-packages (from nltk<4.0,>=3.2->chatterbot==1.0.0) (8.0.1)\n",
      "Requirement already satisfied: tqdm in /Users/maxhager/opt/anaconda3/lib/python3.8/site-packages (from nltk<4.0,>=3.2->chatterbot==1.0.0) (4.62.1)\n",
      "Requirement already satisfied: packaging in /Users/maxhager/opt/anaconda3/lib/python3.8/site-packages (from pint>=0.8.1->chatterbot==1.0.0) (21.0)\n",
      "Requirement already satisfied: six>=1.5 in /Users/maxhager/opt/anaconda3/lib/python3.8/site-packages (from python-dateutil<2.8,>=2.7->chatterbot==1.0.0) (1.16.0)\n",
      "Requirement already satisfied: pyparsing>=2.0.2 in /Users/maxhager/opt/anaconda3/lib/python3.8/site-packages (from packaging->pint>=0.8.1->chatterbot==1.0.0) (2.4.7)\n",
      "Building wheels for collected packages: sqlalchemy\n",
      "  Building wheel for sqlalchemy (setup.py) ... \u001b[?25ldone\n",
      "\u001b[?25h  Created wheel for sqlalchemy: filename=SQLAlchemy-1.2.19-cp38-cp38-macosx_10_9_x86_64.whl size=1105799 sha256=f6010d45a58d3412506c359fd3838a03a65344e30ce47cad99ffcb5f9e061fb6\n",
      "  Stored in directory: /Users/maxhager/Library/Caches/pip/wheels/0d/13/f8/47c2f3157957c3693caffa64a94a718cb1357fe186e4d52e48\n",
      "Successfully built sqlalchemy\n",
      "Installing collected packages: regex, joblib, sqlalchemy, python-dateutil, pymongo, pint, nltk, mathparse, chatterbot\n",
      "  Attempting uninstall: python-dateutil\n",
      "    Found existing installation: python-dateutil 2.8.2\n",
      "    Uninstalling python-dateutil-2.8.2:\n",
      "      Successfully uninstalled python-dateutil-2.8.2\n",
      "\u001b[31mERROR: pip's dependency resolver does not currently take into account all the packages that are installed. This behaviour is the source of the following dependency conflicts.\n",
      "conda-repo-cli 1.0.4 requires pathlib, which is not installed.\u001b[0m\n",
      "Successfully installed chatterbot-1.0.0 joblib-1.0.1 mathparse-0.1.2 nltk-3.6.3 pint-0.17 pymongo-3.12.0 python-dateutil-2.7.5 regex-2021.9.24 sqlalchemy-1.2.19\n",
      "Note: you may need to restart the kernel to use updated packages.\n"
     ]
    }
   ],
   "source": [
    "pip install chatterbot==1.0.0"
   ]
  },
  {
   "cell_type": "code",
   "execution_count": 1,
   "id": "8d77e19d",
   "metadata": {},
   "outputs": [
    {
     "name": "stdout",
     "output_type": "stream",
     "text": [
      "Requirement already satisfied: chatterbot_corpus in /Users/maxhager/opt/anaconda3/lib/python3.8/site-packages (1.2.0)\n",
      "Requirement already satisfied: PyYAML<4.0,>=3.12 in /Users/maxhager/opt/anaconda3/lib/python3.8/site-packages (from chatterbot_corpus) (3.13)\n",
      "Note: you may need to restart the kernel to use updated packages.\n"
     ]
    }
   ],
   "source": [
    "pip install chatterbot_corpus"
   ]
  },
  {
   "cell_type": "code",
   "execution_count": 1,
   "id": "32308c3a",
   "metadata": {},
   "outputs": [
    {
     "name": "stderr",
     "output_type": "stream",
     "text": [
      "[nltk_data] Downloading package averaged_perceptron_tagger to\n",
      "[nltk_data]     /Users/maxhager/nltk_data...\n",
      "[nltk_data]   Package averaged_perceptron_tagger is already up-to-\n",
      "[nltk_data]       date!\n",
      "[nltk_data] Downloading package punkt to /Users/maxhager/nltk_data...\n",
      "[nltk_data]   Package punkt is already up-to-date!\n",
      "[nltk_data] Downloading package stopwords to\n",
      "[nltk_data]     /Users/maxhager/nltk_data...\n",
      "[nltk_data]   Package stopwords is already up-to-date!\n",
      "[nltk_data] Downloading package averaged_perceptron_tagger to\n",
      "[nltk_data]     /Users/maxhager/nltk_data...\n",
      "[nltk_data]   Package averaged_perceptron_tagger is already up-to-\n",
      "[nltk_data]       date!\n",
      "[nltk_data] Downloading package punkt to /Users/maxhager/nltk_data...\n",
      "[nltk_data]   Package punkt is already up-to-date!\n",
      "[nltk_data] Downloading package stopwords to\n",
      "[nltk_data]     /Users/maxhager/nltk_data...\n",
      "[nltk_data]   Package stopwords is already up-to-date!\n"
     ]
    }
   ],
   "source": [
    "# Create object of ChatBot class\n",
    "from chatterbot import ChatBot\n",
    "bot = ChatBot('Buddy')\n",
    "\n",
    "bot = ChatBot(\n",
    "    'Buddy',\n",
    "    storage_adapter='chatterbot.storage.SQLStorageAdapter',\n",
    "    database_uri='sqlite:///database.sqlite3'\n",
    ")"
   ]
  },
  {
   "cell_type": "code",
   "execution_count": 2,
   "id": "2c1aec2c",
   "metadata": {},
   "outputs": [
    {
     "name": "stderr",
     "output_type": "stream",
     "text": [
      "[nltk_data] Downloading package averaged_perceptron_tagger to\n",
      "[nltk_data]     /Users/maxhager/nltk_data...\n",
      "[nltk_data]   Package averaged_perceptron_tagger is already up-to-\n",
      "[nltk_data]       date!\n",
      "[nltk_data] Downloading package punkt to /Users/maxhager/nltk_data...\n",
      "[nltk_data]   Package punkt is already up-to-date!\n",
      "[nltk_data] Downloading package stopwords to\n",
      "[nltk_data]     /Users/maxhager/nltk_data...\n",
      "[nltk_data]   Package stopwords is already up-to-date!\n"
     ]
    }
   ],
   "source": [
    "# Create object of ChatBot class with Logic Adapter\n",
    "bot = ChatBot(\n",
    "    'Buddy',  \n",
    "    logic_adapters=[\n",
    "        'chatterbot.logic.BestMatch',\n",
    "        'chatterbot.logic.TimeLogicAdapter'],\n",
    ")"
   ]
  },
  {
   "cell_type": "code",
   "execution_count": 3,
   "id": "edf12a70",
   "metadata": {},
   "outputs": [
    {
     "name": "stdout",
     "output_type": "stream",
     "text": [
      "List Trainer: [####################] 100%\n"
     ]
    }
   ],
   "source": [
    "from chatterbot.trainers import ListTrainer\n",
    "\n",
    "trainer = ListTrainer(bot)\n",
    "trainer.train([\n",
    "    'Hi',\n",
    "    'Hello',\n",
    "    'I need your assistance regarding my order',\n",
    "    'Please, Provide me with your order id',\n",
    "    'I have a complaint.',\n",
    "    'Please elaborate, your concern',\n",
    "    'How long it will take to receive an order ?',\n",
    "    'An order takes 3-5 Business days to get delivered.',\n",
    "    'Okay Thanks',\n",
    "    'No Problem! Have a Good Day!',\n",
    "    \"My name is IT\",\n",
    "    \"Dankeschön\"\n",
    "])"
   ]
  },
  {
   "cell_type": "code",
   "execution_count": 4,
   "id": "0693988d",
   "metadata": {},
   "outputs": [
    {
     "name": "stderr",
     "output_type": "stream",
     "text": [
      "No value for search_text was available on the provided input\n"
     ]
    },
    {
     "name": "stdout",
     "output_type": "stream",
     "text": [
      "Bot Response: Please elaborate, your concern\n"
     ]
    }
   ],
   "source": [
    "response = bot.get_response(\"I have a complaint.\")\n",
    "\n",
    "print(\"Bot Response:\", response)"
   ]
  },
  {
   "cell_type": "code",
   "execution_count": null,
   "id": "5b38ddcc",
   "metadata": {},
   "outputs": [
    {
     "name": "stdout",
     "output_type": "stream",
     "text": [
      "Enter your Name: Max\n",
      "Welcome to the Bot Service! Let me know how can I help you?\n",
      "Max:My name is IT\n"
     ]
    },
    {
     "name": "stderr",
     "output_type": "stream",
     "text": [
      "No value for search_text was available on the provided input\n"
     ]
    },
    {
     "name": "stdout",
     "output_type": "stream",
     "text": [
      "Bot: The current time is 09:58 AM\n"
     ]
    }
   ],
   "source": [
    "name=input(\"Enter your Name: \")\n",
    "print(\"Welcome to the Bot Service! Let me know how can I help you?\")\n",
    "while True:\n",
    "    request=input(name+\":\")\n",
    "    if request == \"Bye\" or request == \"bye\":\n",
    "        print(\"Bot: Bye\")\n",
    "        break\n",
    "    else:\n",
    "        response=bot.get_response(request)\n",
    "        print(\"Bot:\", response)"
   ]
  },
  {
   "cell_type": "code",
   "execution_count": null,
   "id": "1b2680f4",
   "metadata": {},
   "outputs": [],
   "source": [
    "#src = https://www.datacamp.com/community/tutorials/building-a-chatbot-using-chatterbot"
   ]
  },
  {
   "cell_type": "code",
   "execution_count": null,
   "id": "d5e91bd8",
   "metadata": {},
   "outputs": [],
   "source": []
  },
  {
   "cell_type": "code",
   "execution_count": null,
   "id": "3b99c1c6",
   "metadata": {},
   "outputs": [],
   "source": []
  }
 ],
 "metadata": {
  "kernelspec": {
   "display_name": "Python 3",
   "language": "python",
   "name": "python3"
  },
  "language_info": {
   "codemirror_mode": {
    "name": "ipython",
    "version": 3
   },
   "file_extension": ".py",
   "mimetype": "text/x-python",
   "name": "python",
   "nbconvert_exporter": "python",
   "pygments_lexer": "ipython3",
   "version": "3.8.8"
  }
 },
 "nbformat": 4,
 "nbformat_minor": 5
}
