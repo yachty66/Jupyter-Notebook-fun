{
 "cells": [
  {
   "cell_type": "code",
   "execution_count": null,
   "id": "159b6134",
   "metadata": {},
   "outputs": [],
   "source": [
    "no-reply@todoist.com info@immowelt.de myscout@immobilienscout24.de no-reply@spotify.com no-reply@trustedshops.com"
   ]
  },
  {
   "cell_type": "code",
   "execution_count": 2,
   "id": "f2d0709d",
   "metadata": {},
   "outputs": [
    {
     "name": "stdout",
     "output_type": "stream",
     "text": [
      "Enter Your Email: maxhag@sjjss\n",
      "{'Your user name is \"maxhag\" and your domain is \"sjjss\"'}\n"
     ]
    }
   ],
   "source": [
    "email = input(\"Enter Your Email: \").strip()\n",
    "username = email[:email.index(\"@\")]\n",
    "domain_name = email[email.index(\"@\")+1:]\n",
    "_format = {f'Your user name is \"{username}\" and your domain is \"{domain_name}\"'}\n",
    "print(_format)"
   ]
  },
  {
   "cell_type": "code",
   "execution_count": 19,
   "id": "207d6533",
   "metadata": {},
   "outputs": [
    {
     "name": "stdout",
     "output_type": "stream",
     "text": [
      "{'Your user name is \"no-reply\" and your domain is \"todoist.com\"'}\n"
     ]
    }
   ],
   "source": [
    "last_mails = [\"no-reply@todoist.com\", \"info@immowelt.de\", \"myscout@immobilienscout24.de\", \"no-reply@spotify.com\", \"no-reply@trustedshops.com\"]\n",
    "usernames = []\n",
    "domain_names = []\n",
    "\n",
    "def mails(arg):\n",
    "    \n",
    "    for i in arg:\n",
    "        username = i[:i.index(\"@\")]\n",
    "        domain_name = i[i.index(\"@\")+1:]\n",
    "        usernames.append(username)\n",
    "        domain_names.append(domain_name)\n",
    "        \n",
    "    for i in range(len(usernames)):\n",
    "        print({f'Your user name is \"{usernames[i]}\" and your domain is \"{domain_names[i]}\"'})\n",
    "        \n",
    "        \n",
    "def main():\n",
    "    print(mails(last_mails))\n",
    "\n",
    "if __name__ == \"__main__\":\n",
    "    main()\n",
    "    \n",
    "\n",
    "#wie bekomme ich "
   ]
  },
  {
   "cell_type": "code",
   "execution_count": 11,
   "id": "92fe4fa8",
   "metadata": {},
   "outputs": [
    {
     "ename": "NameError",
     "evalue": "name 'arg' is not defined",
     "output_type": "error",
     "traceback": [
      "\u001b[0;31m---------------------------------------------------------------------------\u001b[0m",
      "\u001b[0;31mNameError\u001b[0m                                 Traceback (most recent call last)",
      "\u001b[0;32m<ipython-input-11-d8251af1daaf>\u001b[0m in \u001b[0;36m<module>\u001b[0;34m\u001b[0m\n\u001b[1;32m      2\u001b[0m \u001b[0;34m\u001b[0m\u001b[0m\n\u001b[1;32m      3\u001b[0m \u001b[0;34m\u001b[0m\u001b[0m\n\u001b[0;32m----> 4\u001b[0;31m \u001b[0mprint\u001b[0m\u001b[0;34m(\u001b[0m\u001b[0mtest\u001b[0m\u001b[0;34m[\u001b[0m\u001b[0;34m:\u001b[0m\u001b[0marg\u001b[0m\u001b[0;34m.\u001b[0m\u001b[0mindex\u001b[0m\u001b[0;34m(\u001b[0m\u001b[0;34m\"@\"\u001b[0m\u001b[0;34m)\u001b[0m\u001b[0;34m]\u001b[0m\u001b[0;34m)\u001b[0m\u001b[0;34m\u001b[0m\u001b[0;34m\u001b[0m\u001b[0m\n\u001b[0m",
      "\u001b[0;31mNameError\u001b[0m: name 'arg' is not defined"
     ]
    }
   ],
   "source": [
    "test = \"no-reply@todoist.com\"\n",
    "\n",
    "\n",
    "print(test[:arg.index(\"@\")])"
   ]
  },
  {
   "cell_type": "code",
   "execution_count": 17,
   "id": "5c0de0b8",
   "metadata": {},
   "outputs": [
    {
     "name": "stdout",
     "output_type": "stream",
     "text": [
      "5\n",
      "0\n",
      "1\n",
      "2\n",
      "3\n",
      "4\n"
     ]
    }
   ],
   "source": [
    "last_mails = [\"no-reply@todoist.com\", \"info@immowelt.de\", \"myscout@immobilienscout24.de\", \"no-reply@spotify.com\", \"no-reply@trustedshops.com\"]\n",
    "\n",
    "print(len(last_mails))\n",
    "\n",
    "for i in range(len(last_mails)):\n",
    "    print(i)"
   ]
  },
  {
   "cell_type": "code",
   "execution_count": null,
   "id": "e56e8aec",
   "metadata": {},
   "outputs": [],
   "source": []
  }
 ],
 "metadata": {
  "kernelspec": {
   "display_name": "Python 3",
   "language": "python",
   "name": "python3"
  },
  "language_info": {
   "codemirror_mode": {
    "name": "ipython",
    "version": 3
   },
   "file_extension": ".py",
   "mimetype": "text/x-python",
   "name": "python",
   "nbconvert_exporter": "python",
   "pygments_lexer": "ipython3",
   "version": "3.8.8"
  }
 },
 "nbformat": 4,
 "nbformat_minor": 5
}
