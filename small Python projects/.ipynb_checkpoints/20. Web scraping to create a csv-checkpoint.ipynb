{
 "cells": [
  {
   "cell_type": "code",
   "execution_count": null,
   "id": "df416a8c",
   "metadata": {},
   "outputs": [],
   "source": []
  },
  {
   "cell_type": "code",
   "execution_count": 15,
   "id": "af9eb7c1",
   "metadata": {},
   "outputs": [],
   "source": [
    "from bs4 import BeautifulSoup as soup\n",
    "from urllib.request import urlopen as uReq\n",
    "\n",
    "my_url=\"https://openblog.ai/\"\n",
    "\n",
    "uClient = uReq(my_url)\n",
    "page_html = uClient.read()\n",
    "uClient.close()\n",
    "page_soup = soup(page_html, \"html.parser\")"
   ]
  },
  {
   "cell_type": "code",
   "execution_count": 20,
   "id": "54be827c",
   "metadata": {},
   "outputs": [
    {
     "name": "stdout",
     "output_type": "stream",
     "text": [
      "6\n"
     ]
    }
   ],
   "source": [
    "containers = page_soup.findAll(\"div\", { \"class\": \"headline\"})\n",
    "print(len(containers))"
   ]
  },
  {
   "cell_type": "code",
   "execution_count": 21,
   "id": "b22f6989",
   "metadata": {},
   "outputs": [
    {
     "name": "stdout",
     "output_type": "stream",
     "text": [
      "<div class=\"headline\">\n",
      " <h1>\n",
      "  Newest\n",
      " </h1>\n",
      " <div class=\"bullet-points\">\n",
      "  <a href=\"blog_article/AI_Wiki/AI%20Wiki.html\">\n",
      "   <li>\n",
      "    <u>\n",
      "     AI Wiki\n",
      "    </u>\n",
      "   </li>\n",
      "  </a>\n",
      " </div>\n",
      " <div class=\"bullet-points\">\n",
      "  <a href=\"blog_article/Difference_AI_ML_DL/DifferenceAIMLDL.html\">\n",
      "   <li>\n",
      "    <u>\n",
      "     Difference between AI,machine learning and deep learning\n",
      "    </u>\n",
      "   </li>\n",
      "  </a>\n",
      " </div>\n",
      " <div class=\"bullet-points\">\n",
      "  <a href=\"blog_article/Entwicklung_Medikamente/Entwicklung_Medikamente.html\">\n",
      "   <li>\n",
      "    <u>\n",
      "     AI in drug research\n",
      "    </u>\n",
      "   </li>\n",
      "  </a>\n",
      " </div>\n",
      " <div class=\"bullet-points\">\n",
      "  <a href=\"blog_article/Generating_words_with_an_RNN_in_TensorFlow/Generating%20words%20with%20an%20RNN%20in%20TensorFlow.html\">\n",
      "   <li>\n",
      "    <u>\n",
      "     Generating words with an RNN in TensorFlow\n",
      "    </u>\n",
      "   </li>\n",
      "  </a>\n",
      " </div>\n",
      " <div class=\"bullet-points\">\n",
      "  <a href=\"blog_article/Artificial_Neural_Network/Artificial%20Neural%20Network.html\">\n",
      "   <li>\n",
      "    <u>\n",
      "     Artificial Neural Network\n",
      "    </u>\n",
      "   </li>\n",
      "  </a>\n",
      " </div>\n",
      "</div>\n",
      "\n"
     ]
    }
   ],
   "source": [
    "print(soup.prettify(containers[0]))"
   ]
  },
  {
   "cell_type": "code",
   "execution_count": 26,
   "id": "178d3306",
   "metadata": {},
   "outputs": [
    {
     "name": "stdout",
     "output_type": "stream",
     "text": [
      "<div class=\"headline\">\n",
      "<h1>Newest</h1>\n",
      "<div class=\"bullet-points\"><a href=\"blog_article/AI_Wiki/AI%20Wiki.html\"><li><u>AI Wiki</u></li></a></div>\n",
      "<div class=\"bullet-points\"><a href=\"blog_article/Difference_AI_ML_DL/DifferenceAIMLDL.html\"><li><u>Difference between AI,machine learning and deep learning</u></li></a></div>\n",
      "<div class=\"bullet-points\"><a href=\"blog_article/Entwicklung_Medikamente/Entwicklung_Medikamente.html\"><li><u>AI in drug research</u></li></a></div>\n",
      "<div class=\"bullet-points\"><a href=\"blog_article/Generating_words_with_an_RNN_in_TensorFlow/Generating%20words%20with%20an%20RNN%20in%20TensorFlow.html\"><li><u>Generating words with an RNN in TensorFlow</u></li></a></div>\n",
      "<div class=\"bullet-points\"><a href=\"blog_article/Artificial_Neural_Network/Artificial%20Neural%20Network.html\"><li><u>Artificial Neural Network</u></li></a></div>\n",
      "</div>\n"
     ]
    }
   ],
   "source": [
    "container = containers[0]\n",
    "print(container)\n"
   ]
  }
 ],
 "metadata": {
  "kernelspec": {
   "display_name": "Python 3",
   "language": "python",
   "name": "python3"
  },
  "language_info": {
   "codemirror_mode": {
    "name": "ipython",
    "version": 3
   },
   "file_extension": ".py",
   "mimetype": "text/x-python",
   "name": "python",
   "nbconvert_exporter": "python",
   "pygments_lexer": "ipython3",
   "version": "3.8.8"
  }
 },
 "nbformat": 4,
 "nbformat_minor": 5
}
