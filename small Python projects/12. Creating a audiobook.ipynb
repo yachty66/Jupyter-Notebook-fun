{
 "cells": [
  {
   "cell_type": "code",
   "execution_count": 1,
   "id": "a60431f4",
   "metadata": {},
   "outputs": [],
   "source": [
    "import PyPDF2\n",
    "import os\n",
    "pdfReader = PyPDF2.PdfFileReader(open(\"/Users/maxhager/Downloads/book.pdf\", 'rb'))"
   ]
  },
  {
   "cell_type": "code",
   "execution_count": 2,
   "id": "06d1efca",
   "metadata": {},
   "outputs": [],
   "source": [
    "import pyttsx3\n",
    "speaker = pyttsx3.init()"
   ]
  },
  {
   "cell_type": "code",
   "execution_count": null,
   "id": "664b66cc",
   "metadata": {},
   "outputs": [],
   "source": [
    "for page_num in range(pdfReader.numPages):\n",
    "    text =  pdfReader.getPage(page_num).extractText()\n",
    "    speaker.say(text)\n",
    "    speaker.runAndWait()\n",
    "speaker.stop()"
   ]
  },
  {
   "cell_type": "code",
   "execution_count": null,
   "id": "62b452d8",
   "metadata": {},
   "outputs": [],
   "source": [
    "engine.save_to_file(text, 'audio.mp3')\n",
    "engine.runAndWait()"
   ]
  },
  {
   "cell_type": "code",
   "execution_count": null,
   "id": "fe1314c2",
   "metadata": {},
   "outputs": [],
   "source": []
  },
  {
   "cell_type": "code",
   "execution_count": null,
   "id": "de3325ac",
   "metadata": {},
   "outputs": [],
   "source": []
  }
 ],
 "metadata": {
  "kernelspec": {
   "display_name": "Python 3",
   "language": "python",
   "name": "python3"
  },
  "language_info": {
   "codemirror_mode": {
    "name": "ipython",
    "version": 3
   },
   "file_extension": ".py",
   "mimetype": "text/x-python",
   "name": "python",
   "nbconvert_exporter": "python",
   "pygments_lexer": "ipython3",
   "version": "3.8.8"
  }
 },
 "nbformat": 4,
 "nbformat_minor": 5
}
