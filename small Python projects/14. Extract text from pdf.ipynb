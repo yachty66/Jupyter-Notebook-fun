{
 "cells": [
  {
   "cell_type": "code",
   "execution_count": 6,
   "id": "179ade93",
   "metadata": {},
   "outputs": [
    {
     "name": "stdout",
     "output_type": "stream",
     "text": [
      "Collecting package metadata (current_repodata.json): done\n",
      "Solving environment: done\n",
      "\n",
      "## Package Plan ##\n",
      "\n",
      "  environment location: /Users/maxhager/opt/anaconda3\n",
      "\n",
      "  added / updated specs:\n",
      "    - tesseract\n",
      "\n",
      "\n",
      "The following packages will be downloaded:\n",
      "\n",
      "    package                    |            build\n",
      "    ---------------------------|-----------------\n",
      "    giflib-5.2.1               |       hbcb3906_2          71 KB  conda-forge\n",
      "    jpeg-9d                    |       hbcb3906_0         250 KB  conda-forge\n",
      "    leptonica-1.78.0           |       hb79ab3e_4         2.4 MB  conda-forge\n",
      "    libcxx-12.0.1              |       habf9029_0         1.1 MB  conda-forge\n",
      "    libwebp-1.2.0              |       hacca55c_0         441 KB\n",
      "    openjpeg-2.4.0             |       h6e7aa92_1         374 KB  conda-forge\n",
      "    tesseract-4.1.1            |       h6412aac_4       309.3 MB  conda-forge\n",
      "    ------------------------------------------------------------\n",
      "                                           Total:       313.9 MB\n",
      "\n",
      "The following NEW packages will be INSTALLED:\n",
      "\n",
      "  giflib             conda-forge/osx-64::giflib-5.2.1-hbcb3906_2\n",
      "  leptonica          conda-forge/osx-64::leptonica-1.78.0-hb79ab3e_4\n",
      "  libwebp            pkgs/main/osx-64::libwebp-1.2.0-hacca55c_0\n",
      "  tesseract          conda-forge/osx-64::tesseract-4.1.1-h6412aac_4\n",
      "\n",
      "The following packages will be UPDATED:\n",
      "\n",
      "  jpeg                        pkgs/main::jpeg-9b-he5867d9_2 --> conda-forge::jpeg-9d-hbcb3906_0\n",
      "  libcxx                         pkgs/main::libcxx-10.0.0-1 --> conda-forge::libcxx-12.0.1-habf9029_0\n",
      "  openjpeg             pkgs/main::openjpeg-2.3.0-hb95cd4c_1 --> conda-forge::openjpeg-2.4.0-h6e7aa92_1\n",
      "\n",
      "\n",
      "\n",
      "Downloading and Extracting Packages\n",
      "libwebp-1.2.0        | 441 KB    | ##################################### | 100% \n",
      "libcxx-12.0.1        | 1.1 MB    | ##################################### | 100% \n",
      "openjpeg-2.4.0       | 374 KB    | ##################################### | 100% \n",
      "leptonica-1.78.0     | 2.4 MB    | ##################################### | 100% \n",
      "tesseract-4.1.1      | 309.3 MB  | ##################################### | 100% \n",
      "jpeg-9d              | 250 KB    | ##################################### | 100% \n",
      "giflib-5.2.1         | 71 KB     | ##################################### | 100% \n",
      "Preparing transaction: done\n",
      "Verifying transaction: done\n",
      "Executing transaction: done\n",
      "\n",
      "Note: you may need to restart the kernel to use updated packages.\n"
     ]
    }
   ],
   "source": [
    "conda install -c conda-forge tesseract"
   ]
  },
  {
   "cell_type": "code",
   "execution_count": 6,
   "id": "b6fd378e",
   "metadata": {},
   "outputs": [
    {
     "name": "stdout",
     "output_type": "stream",
     "text": [
      "Collecting package metadata (current_repodata.json): done\n",
      "Solving environment: done\n",
      "\n",
      "## Package Plan ##\n",
      "\n",
      "  environment location: /Users/maxhager/opt/anaconda3\n",
      "\n",
      "  added / updated specs:\n",
      "    - poppler\n",
      "\n",
      "\n",
      "The following packages will be downloaded:\n",
      "\n",
      "    package                    |            build\n",
      "    ---------------------------|-----------------\n",
      "    cairo-1.16.0               |    h0ab9d94_1001         1.3 MB  conda-forge\n",
      "    fontconfig-2.13.1          |    h10f422b_1005         271 KB  conda-forge\n",
      "    libedit-3.1.20191231       |       h0678c8f_2         103 KB  conda-forge\n",
      "    libssh2-1.10.0             |       h52ee1ee_2         221 KB  conda-forge\n",
      "    pixman-0.38.0              |    h01d97ff_1003         611 KB  conda-forge\n",
      "    poppler-0.81.0             |       h031bf0f_2         1.5 MB\n",
      "    poppler-data-0.4.11        |       hd8ed1ab_0         3.6 MB  conda-forge\n",
      "    ------------------------------------------------------------\n",
      "                                           Total:         7.7 MB\n",
      "\n",
      "The following NEW packages will be INSTALLED:\n",
      "\n",
      "  cairo              conda-forge/osx-64::cairo-1.16.0-h0ab9d94_1001\n",
      "  curl               pkgs/main/osx-64::curl-7.71.1-hb0a8c7a_1\n",
      "  fontconfig         conda-forge/osx-64::fontconfig-2.13.1-h10f422b_1005\n",
      "  krb5               pkgs/main/osx-64::krb5-1.18.2-h75d18d8_0\n",
      "  libcurl            pkgs/main/osx-64::libcurl-7.71.1-h8a08a2b_1\n",
      "  libedit            conda-forge/osx-64::libedit-3.1.20191231-h0678c8f_2\n",
      "  libssh2            conda-forge/osx-64::libssh2-1.10.0-h52ee1ee_2\n",
      "  pixman             conda-forge/osx-64::pixman-0.38.0-h01d97ff_1003\n",
      "  poppler            pkgs/main/osx-64::poppler-0.81.0-h031bf0f_2\n",
      "  poppler-data       conda-forge/noarch::poppler-data-0.4.11-hd8ed1ab_0\n",
      "\n",
      "\n",
      "\n",
      "Downloading and Extracting Packages\n",
      "fontconfig-2.13.1    | 271 KB    | ##################################### | 100% \n",
      "libedit-3.1.20191231 | 103 KB    | ##################################### | 100% \n",
      "libssh2-1.10.0       | 221 KB    | ##################################### | 100% \n",
      "poppler-data-0.4.11  | 3.6 MB    | ##################################### | 100% \n",
      "cairo-1.16.0         | 1.3 MB    | ##################################### | 100% \n",
      "poppler-0.81.0       | 1.5 MB    | ##################################### | 100% \n",
      "pixman-0.38.0        | 611 KB    | ##################################### | 100% \n",
      "Preparing transaction: done\n",
      "Verifying transaction: done\n",
      "Executing transaction: done\n",
      "\n",
      "Note: you may need to restart the kernel to use updated packages.\n"
     ]
    }
   ],
   "source": [
    "conda install -c conda-forge poppler"
   ]
  },
  {
   "cell_type": "code",
   "execution_count": 1,
   "id": "7e43af9b",
   "metadata": {},
   "outputs": [],
   "source": [
    "import pdf2image \n",
    "\n",
    "import os, sys\n",
    "try:\n",
    "    from PIL import Image\n",
    "except:\n",
    "    import Image\n",
    "import pytesseract\n",
    "#\"/Users/maxhager/Downloads/frauen-fussballmannschaft-des-vatikan.jpeg\"\n",
    "PATH = \"/Users/maxhager/test/\"\n",
    "i = 1"
   ]
  },
  {
   "cell_type": "code",
   "execution_count": 2,
   "id": "9993a804",
   "metadata": {},
   "outputs": [],
   "source": [
    "def delete_ppms():\n",
    "    for file in os.listdir(PATH):\n",
    "        if \".ppm\" in file or \"DS_STORE\" in file:\n",
    "            try:\n",
    "                os.remove(PATH + file)\n",
    "            except FileNotFoundError:\n",
    "                pass"
   ]
  },
  {
   "cell_type": "code",
   "execution_count": 3,
   "id": "469104c6",
   "metadata": {},
   "outputs": [],
   "source": [
    "pdf_files = []\n",
    "docx_files = []\n",
    "\n",
    "for f in os.listdir(PATH):\n",
    "    full_name = os.path.join(PATH, f)\n",
    "    if os.path.isfile(full_name):\n",
    "        name = os.path.basename(f)\n",
    "        filename, ext = os.path.splitext(name)\n",
    "        if ext == \".pdf\":\n",
    "            pdf_files.append(name)\n",
    "        elif ext == (\"docx\"):\n",
    "            docx_files.append(name)"
   ]
  },
  {
   "cell_type": "code",
   "execution_count": 4,
   "id": "9a06cb5d",
   "metadata": {},
   "outputs": [],
   "source": [
    "def pdf_extract(file, i):\n",
    "    print(\"extracting from file:\", file)\n",
    "    delete_ppms()\n",
    "    images = pdf2image.convert_from_path(PATH + file, output_folder=PATH)\n",
    "    j = 0\n",
    "    for file in sorted (os.listdir(PATH)):\n",
    "        if \".ppm\" in file and \"image\" not in file:\n",
    "            os.rename(PATH + file, PATH + \"image\" + str(i) + \"-\" + str(j) + \".ppm\" )\n",
    "            j += 1\n",
    "    j = 0 \n",
    "    f = open(PATH + \"result{}.txt\".format(i), \"w\")\n",
    "    files = [f for f in os.listdir(PATH) if \".ppm\" in f]\n",
    "    \n",
    "    for file in sorted(files, key=lambda x: int(x[x.index(\"-\") + 1: x.index(\".\")])):\n",
    "        temp = pytesseract.image_to_string(Image.open(PATH+file))\n",
    "        f.write(temp)\n",
    "    f.close()\n",
    "    \n",
    "    "
   ]
  },
  {
   "cell_type": "code",
   "execution_count": 5,
   "id": "c0378b99",
   "metadata": {},
   "outputs": [
    {
     "name": "stdout",
     "output_type": "stream",
     "text": [
      "extracting from file: immabescheinigungf81dc7f3-b21a-4980-a436-4d058305815c.pdf\n"
     ]
    }
   ],
   "source": [
    "for i in range (len(pdf_files)):\n",
    "    pdf_file = pdf_files[i]\n",
    "    pdf_extract(pdf_file, i)"
   ]
  },
  {
   "cell_type": "code",
   "execution_count": 15,
   "id": "490bc372",
   "metadata": {},
   "outputs": [
    {
     "name": "stdout",
     "output_type": "stream",
     "text": [
      "[[], [], [], [], [], [], [], [], [], [], [], [], [], [], ['Max Hager'], [], [], [], [], [], [], [], ['Max Hager'], [], [], [], [], [], [], [], [], [], [], [], [], [], [], [], [], [], [], [], [], [], [], [], [], [], [], [], [], [], [], [], [], [], [], [], [], [], []]\n"
     ]
    }
   ],
   "source": [
    "PATH=\"/Users/maxhager/test/result0.txt\"\n",
    "import re\n",
    "name = []\n",
    "\n",
    "with open(PATH) as f:\n",
    "    for line in f:\n",
    "        results = re.findall(\"Max Hager\", line)\n",
    "        name.append(results)\n",
    "    print(name)"
   ]
  },
  {
   "cell_type": "code",
   "execution_count": null,
   "id": "d2da1025",
   "metadata": {},
   "outputs": [],
   "source": []
  }
 ],
 "metadata": {
  "kernelspec": {
   "display_name": "Python 3",
   "language": "python",
   "name": "python3"
  },
  "language_info": {
   "codemirror_mode": {
    "name": "ipython",
    "version": 3
   },
   "file_extension": ".py",
   "mimetype": "text/x-python",
   "name": "python",
   "nbconvert_exporter": "python",
   "pygments_lexer": "ipython3",
   "version": "3.8.8"
  }
 },
 "nbformat": 4,
 "nbformat_minor": 5
}
