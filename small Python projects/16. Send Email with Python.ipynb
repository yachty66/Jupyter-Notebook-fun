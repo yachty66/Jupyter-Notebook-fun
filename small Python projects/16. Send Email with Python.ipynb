{
 "cells": [
  {
   "cell_type": "code",
   "execution_count": 3,
   "id": "273928d5",
   "metadata": {},
   "outputs": [
    {
     "data": {
      "text/plain": [
       "(221, b'2.0.0 closing connection k10sm1093200wmr.32 - gsmtp')"
      ]
     },
     "execution_count": 3,
     "metadata": {},
     "output_type": "execute_result"
    }
   ],
   "source": [
    "import smtplib                          \n",
    "smtpServer='smtp.gmail.com'\n",
    "MY_PASSWORD=\"Vn12uX$#\"\n",
    "fromAddr='maxhager28@gmail.com'         \n",
    "toAddr='maxhager28@gmail.com'     \n",
    "text= \"This is a test of sending email from within Python.\"\n",
    "server = smtplib.SMTP(smtpServer,587)\n",
    "server.ehlo()\n",
    "server.starttls()\n",
    "server.login(fromAddr, MY_PASSWORD)\n",
    "server.sendmail(fromAddr, toAddr, text) \n",
    "server.quit()"
   ]
  }
 ],
 "metadata": {
  "kernelspec": {
   "display_name": "Python 3",
   "language": "python",
   "name": "python3"
  },
  "language_info": {
   "codemirror_mode": {
    "name": "ipython",
    "version": 3
   },
   "file_extension": ".py",
   "mimetype": "text/x-python",
   "name": "python",
   "nbconvert_exporter": "python",
   "pygments_lexer": "ipython3",
   "version": "3.8.8"
  }
 },
 "nbformat": 4,
 "nbformat_minor": 5
}
