{
 "cells": [
  {
   "cell_type": "code",
   "execution_count": 1,
   "id": "c5b4197e",
   "metadata": {},
   "outputs": [
    {
     "name": "stdout",
     "output_type": "stream",
     "text": [
      "Collecting opencv-python\n",
      "  Downloading opencv_python-4.5.3.56-cp38-cp38-macosx_10_15_x86_64.whl (42.6 MB)\n",
      "\u001b[K     |████████████████████████████████| 42.6 MB 3.2 MB/s eta 0:00:011\n",
      "\u001b[?25hRequirement already satisfied: numpy>=1.17.3 in /Users/maxhager/opt/anaconda3/lib/python3.8/site-packages (from opencv-python) (1.20.3)\n",
      "Installing collected packages: opencv-python\n",
      "Successfully installed opencv-python-4.5.3.56\n",
      "Note: you may need to restart the kernel to use updated packages.\n"
     ]
    }
   ],
   "source": [
    "pip install opencv-python"
   ]
  },
  {
   "cell_type": "code",
   "execution_count": null,
   "id": "43fe8172",
   "metadata": {},
   "outputs": [],
   "source": [
    "# Import essential libraries\n",
    "import requests\n",
    "import cv2\n",
    "import numpy as np\n",
    "import imutils\n",
    "  \n",
    "# Replace the below URL with your own. Make sure to add \"/shot.jpg\" at last.\n",
    "url = \"http://192.168.5.235:8080/shot.jpg\"\n",
    "  \n",
    "# While loop to continuously fetching data from the Url\n",
    "while True:\n",
    "    img_resp = requests.get(url)\n",
    "    img_arr = np.array(bytearray(img_resp.content), dtype=np.uint8)\n",
    "    img = cv2.imdecode(img_arr, -1)\n",
    "    img = imutils.resize(img, width=1000, height=1800)\n",
    "    cv2.imshow(\"Android_cam\", img)\n",
    "  \n",
    "    # Press Esc key to exit\n",
    "    if cv2.waitKey(1) == 27:\n",
    "        break\n",
    "  \n",
    "cv2.destroyAllWindows()"
   ]
  },
  {
   "cell_type": "code",
   "execution_count": null,
   "id": "fcd710d3",
   "metadata": {},
   "outputs": [],
   "source": []
  }
 ],
 "metadata": {
  "kernelspec": {
   "display_name": "Python 3 (ipykernel)",
   "language": "python",
   "name": "python3"
  },
  "language_info": {
   "codemirror_mode": {
    "name": "ipython",
    "version": 3
   },
   "file_extension": ".py",
   "mimetype": "text/x-python",
   "name": "python",
   "nbconvert_exporter": "python",
   "pygments_lexer": "ipython3",
   "version": "3.9.7"
  }
 },
 "nbformat": 4,
 "nbformat_minor": 5
}
