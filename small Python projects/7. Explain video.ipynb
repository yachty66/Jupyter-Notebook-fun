{
 "cells": [
  {
   "cell_type": "code",
   "execution_count": 1,
   "id": "901505e3",
   "metadata": {},
   "outputs": [
    {
     "name": "stdout",
     "output_type": "stream",
     "text": [
      "Collecting SpeechRecognition\n",
      "  Downloading SpeechRecognition-3.8.1-py2.py3-none-any.whl (32.8 MB)\n",
      "\u001b[K     |████████████████████████████████| 32.8 MB 1.4 MB/s eta 0:00:011\n",
      "\u001b[?25hInstalling collected packages: SpeechRecognition\n",
      "Successfully installed SpeechRecognition-3.8.1\n",
      "Note: you may need to restart the kernel to use updated packages.\n"
     ]
    }
   ],
   "source": [
    "pip install SpeechRecognition \n"
   ]
  },
  {
   "cell_type": "code",
   "execution_count": 2,
   "id": "e9b3a7d9",
   "metadata": {},
   "outputs": [
    {
     "name": "stdout",
     "output_type": "stream",
     "text": [
      "Collecting moviepy\n",
      "  Downloading moviepy-1.0.3.tar.gz (388 kB)\n",
      "\u001b[K     |████████████████████████████████| 388 kB 2.0 MB/s eta 0:00:01\n",
      "\u001b[?25hCollecting decorator<5.0,>=4.0.2\n",
      "  Downloading decorator-4.4.2-py2.py3-none-any.whl (9.2 kB)\n",
      "Requirement already satisfied: tqdm<5.0,>=4.11.2 in /Users/maxhager/opt/anaconda3/lib/python3.8/site-packages (from moviepy) (4.62.1)\n",
      "Requirement already satisfied: requests<3.0,>=2.8.1 in /Users/maxhager/opt/anaconda3/lib/python3.8/site-packages (from moviepy) (2.25.1)\n",
      "Collecting proglog<=1.0.0\n",
      "  Downloading proglog-0.1.9.tar.gz (10 kB)\n",
      "Requirement already satisfied: numpy>=1.17.3 in /Users/maxhager/opt/anaconda3/lib/python3.8/site-packages (from moviepy) (1.20.3)\n",
      "Collecting imageio<3.0,>=2.5\n",
      "  Downloading imageio-2.9.0-py3-none-any.whl (3.3 MB)\n",
      "\u001b[K     |████████████████████████████████| 3.3 MB 17.7 MB/s eta 0:00:01\n",
      "\u001b[?25hCollecting imageio_ffmpeg>=0.2.0\n",
      "  Downloading imageio_ffmpeg-0.4.5-py3-none-macosx_10_9_intel.macosx_10_9_x86_64.macosx_10_10_intel.macosx_10_10_x86_64.whl (22.5 MB)\n",
      "\u001b[K     |████████████████████████████████| 22.5 MB 17.0 MB/s eta 0:00:01\n",
      "\u001b[?25hRequirement already satisfied: pillow in /Users/maxhager/opt/anaconda3/lib/python3.8/site-packages (from imageio<3.0,>=2.5->moviepy) (8.3.1)\n",
      "Requirement already satisfied: idna<3,>=2.5 in /Users/maxhager/opt/anaconda3/lib/python3.8/site-packages (from requests<3.0,>=2.8.1->moviepy) (2.10)\n",
      "Requirement already satisfied: certifi>=2017.4.17 in /Users/maxhager/opt/anaconda3/lib/python3.8/site-packages (from requests<3.0,>=2.8.1->moviepy) (2021.5.30)\n",
      "Requirement already satisfied: chardet<5,>=3.0.2 in /Users/maxhager/opt/anaconda3/lib/python3.8/site-packages (from requests<3.0,>=2.8.1->moviepy) (4.0.0)\n",
      "Requirement already satisfied: urllib3<1.27,>=1.21.1 in /Users/maxhager/opt/anaconda3/lib/python3.8/site-packages (from requests<3.0,>=2.8.1->moviepy) (1.26.6)\n",
      "Building wheels for collected packages: moviepy, proglog\n",
      "  Building wheel for moviepy (setup.py) ... \u001b[?25ldone\n",
      "\u001b[?25h  Created wheel for moviepy: filename=moviepy-1.0.3-py3-none-any.whl size=110727 sha256=28040f9ff3d45fad34062778acf96e128fc3fb697f4d9036678ebb60f481aa8e\n",
      "  Stored in directory: /Users/maxhager/Library/Caches/pip/wheels/e4/a4/db/0368d3a04033da662e13926594b3a8cf1aa4ffeefe570cfac1\n",
      "  Building wheel for proglog (setup.py) ... \u001b[?25ldone\n",
      "\u001b[?25h  Created wheel for proglog: filename=proglog-0.1.9-py3-none-any.whl size=6147 sha256=3d1d3ee64ec27e524e0ee4c46106b31205c7f6e1853196510df9bf4cfb8dcd06\n",
      "  Stored in directory: /Users/maxhager/Library/Caches/pip/wheels/22/82/ff/56950e4b223a69eda3a2bdeaef2ae4b274c3d1ced9b5814c99\n",
      "Successfully built moviepy proglog\n",
      "Installing collected packages: proglog, imageio-ffmpeg, imageio, decorator, moviepy\n",
      "  Attempting uninstall: decorator\n",
      "    Found existing installation: decorator 5.0.9\n",
      "    Uninstalling decorator-5.0.9:\n",
      "      Successfully uninstalled decorator-5.0.9\n",
      "Successfully installed decorator-4.4.2 imageio-2.9.0 imageio-ffmpeg-0.4.5 moviepy-1.0.3 proglog-0.1.9\n",
      "Note: you may need to restart the kernel to use updated packages.\n"
     ]
    }
   ],
   "source": [
    "pip install moviepy"
   ]
  },
  {
   "cell_type": "code",
   "execution_count": 2,
   "id": "de9f5446",
   "metadata": {},
   "outputs": [
    {
     "name": "stdout",
     "output_type": "stream",
     "text": [
      "MoviePy - Writing audio in converted.wav\n"
     ]
    },
    {
     "name": "stderr",
     "output_type": "stream",
     "text": [
      "                                                                     \r"
     ]
    },
    {
     "name": "stdout",
     "output_type": "stream",
     "text": [
      "MoviePy - Done.\n",
      "did garden is green and Mr Popper is happy with the pressure switch growing in the garden artificial intelligence is the night subject to explore because it is super diverse and it is possible to get a dick running out of artificial intelligence only for test is with you I don't use this meal for something else then for the UK and I'm excited\n",
      "ready!\n"
     ]
    }
   ],
   "source": [
    "#pip install SpeechRecognition\n",
    "#pip install moviepy\n",
    "\n",
    "import speech_recognition as sr \n",
    "import moviepy.editor as mp\n",
    "from moviepy.video.io.ffmpeg_tools import ffmpeg_extract_subclip\n",
    "import os\n",
    "\n",
    "### 4: Cut video file into chunks of 1 minute and convert each chunk into text format\n",
    "\n",
    "dir = \"/Users/maxhager/Downloads/videorl.mp4\"\n",
    "# the video is 52 minutes long\n",
    "num_seconds_video= 20\n",
    "\n",
    "clip = mp.VideoFileClip(r\"/Users/maxhager/Downloads/videorl.mp4\") \n",
    "clip.audio.write_audiofile(r\"converted.wav\")\n",
    "r = sr.Recognizer()\n",
    "audio = sr.AudioFile(\"converted.wav\")\n",
    "with audio as source:\n",
    "    r.adjust_for_ambient_noise(source)  \n",
    "    audio_file = r.record(source)\n",
    "result = r.recognize_google(audio_file)\n",
    "print(result)\n",
    "\n",
    "with open('recognized.txt',mode ='w') as file:\n",
    "    file.write(\"Recognized Speech:\") \n",
    "    file.write(\"\\n\") \n",
    "    file.write(result) \n",
    "    print(\"ready!\")\n"
   ]
  }
 ],
 "metadata": {
  "kernelspec": {
   "display_name": "Python 3",
   "language": "python",
   "name": "python3"
  },
  "language_info": {
   "codemirror_mode": {
    "name": "ipython",
    "version": 3
   },
   "file_extension": ".py",
   "mimetype": "text/x-python",
   "name": "python",
   "nbconvert_exporter": "python",
   "pygments_lexer": "ipython3",
   "version": "3.8.8"
  }
 },
 "nbformat": 4,
 "nbformat_minor": 5
}
