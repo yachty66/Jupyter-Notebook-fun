{
 "cells": [
  {
   "cell_type": "code",
   "execution_count": 3,
   "id": "43ada239",
   "metadata": {},
   "outputs": [
    {
     "name": "stdout",
     "output_type": "stream",
     "text": [
      "Collecting pytube3\n",
      "  Using cached pytube3-9.6.4-py3-none-any.whl (38 kB)\n",
      "Requirement already satisfied: typing-extensions in /Users/maxhager/opt/anaconda3/lib/python3.8/site-packages (from pytube3) (3.7.4.3)\n",
      "Installing collected packages: pytube3\n",
      "Successfully installed pytube3-9.6.4\n",
      "Note: you may need to restart the kernel to use updated packages.\n"
     ]
    }
   ],
   "source": [
    "pip install pytube3"
   ]
  },
  {
   "cell_type": "code",
   "execution_count": 6,
   "id": "dd68bb65",
   "metadata": {},
   "outputs": [
    {
     "name": "stdout",
     "output_type": "stream",
     "text": [
      "Collecting pytube\n",
      "  Using cached pytube-11.0.1-py3-none-any.whl (56 kB)\n",
      "Installing collected packages: pytube\n",
      "Successfully installed pytube-11.0.1\n"
     ]
    }
   ],
   "source": [
    "!python -m pip install --upgrade pytube"
   ]
  },
  {
   "cell_type": "code",
   "execution_count": null,
   "id": "5821f6aa",
   "metadata": {},
   "outputs": [],
   "source": [
    "from moviepy.editor import *\n",
    "\n",
    "from pytube import YouTube\n",
    "PATH = 'https://www.youtube.com/watch?v=jvM9AfAzoSo&t=4248s'\n",
    "yt=YouTube(PATH)\n",
    "yt.streams.filter(only_audio=True).all()[0].download(\"/Users/maxhager/Downloads\")\n",
    "mp4_file = r (\"/Users/maxhager/Downloads/\"+PATH)\n",
    "videoclip = VideoFileClip(mp4_file)\n",
    "audioclip = videoclip.audio\n",
    "audioclip.write_audiofile(mp3_file)\n",
    "\n",
    "audioclip.close()\n",
    "videoclip.close()\n",
    "#t=yt.streams.filter(only_audio=True).all()\n",
    "#t[0].download(\"/Users/maxhager/Downloads\")\n",
    "\n",
    "\n"
   ]
  },
  {
   "cell_type": "code",
   "execution_count": 8,
   "id": "3fbf52b0",
   "metadata": {},
   "outputs": [
    {
     "name": "stdout",
     "output_type": "stream",
     "text": [
      "Collecting git+https://github.com/ssuwani/pytube\n",
      "  Cloning https://github.com/ssuwani/pytube to /private/var/folders/0n/n106l5rn7cb6yw8038g17vcm0000gn/T/pip-req-build-xyffcv8a\n",
      "  Running command git clone -q https://github.com/ssuwani/pytube /private/var/folders/0n/n106l5rn7cb6yw8038g17vcm0000gn/T/pip-req-build-xyffcv8a\n",
      "Building wheels for collected packages: pytube\n",
      "  Building wheel for pytube (setup.py) ... \u001b[?25ldone\n",
      "\u001b[?25h  Created wheel for pytube: filename=pytube-10.8.1-py3-none-any.whl size=46189 sha256=739b8c0033a28eff7ab8b8ea49a20b0fff2830c2d61089421aaad8a46fcabd0d\n",
      "  Stored in directory: /private/var/folders/0n/n106l5rn7cb6yw8038g17vcm0000gn/T/pip-ephem-wheel-cache-o2o5p5en/wheels/66/6c/ee/a985a85cc552068f144d7471ab1f7771fd4ba41ee08619d93c\n",
      "Successfully built pytube\n",
      "Installing collected packages: pytube\n",
      "  Attempting uninstall: pytube\n",
      "    Found existing installation: pytube 11.0.1\n",
      "    Uninstalling pytube-11.0.1:\n",
      "      Successfully uninstalled pytube-11.0.1\n",
      "Successfully installed pytube-10.8.1\n",
      "Note: you may need to restart the kernel to use updated packages.\n"
     ]
    }
   ],
   "source": [
    "pip install git+https://github.com/ssuwani/pytube \n"
   ]
  },
  {
   "cell_type": "code",
   "execution_count": 3,
   "id": "458f1b94",
   "metadata": {},
   "outputs": [
    {
     "name": "stdout",
     "output_type": "stream",
     "text": [
      "Requirement already satisfied: pytube in /Users/maxhager/opt/anaconda3/lib/python3.8/site-packages (10.8.1)\n",
      "Collecting pytube\n",
      "  Using cached pytube-11.0.1-py3-none-any.whl (56 kB)\n",
      "Installing collected packages: pytube\n",
      "  Attempting uninstall: pytube\n",
      "    Found existing installation: pytube 10.8.1\n",
      "    Uninstalling pytube-10.8.1:\n",
      "      Successfully uninstalled pytube-10.8.1\n",
      "Successfully installed pytube-11.0.1\n"
     ]
    }
   ],
   "source": [
    "!python -m pip install --upgrade pytube"
   ]
  },
  {
   "cell_type": "code",
   "execution_count": null,
   "id": "d536dedb",
   "metadata": {},
   "outputs": [
    {
     "name": "stderr",
     "output_type": "stream",
     "text": [
      "/Users/maxhager/opt/anaconda3/lib/python3.8/site-packages/ipykernel/ipkernel.py:287: DeprecationWarning: `should_run_async` will not call `transform_cell` automatically in the future. Please pass the result to `transformed_cell` argument and any exception that happen during thetransform in `preprocessing_exc_tuple` in IPython 7.17 and above.\n",
      "  and should_run_async(code)\n"
     ]
    },
    {
     "name": "stdout",
     "output_type": "stream",
     "text": [
      "Collecting package metadata (current_repodata.json): done\n",
      "Solving environment: failed with initial frozen solve. Retrying with flexible solve.\n",
      "Solving environment: failed with repodata from current_repodata.json, will retry with next repodata source.\n",
      "Collecting package metadata (repodata.json): done\n",
      "Solving environment: \\ "
     ]
    }
   ],
   "source": [
    "conda install -c conda-forge moviepy"
   ]
  },
  {
   "cell_type": "code",
   "execution_count": null,
   "id": "730b3687",
   "metadata": {},
   "outputs": [],
   "source": []
  }
 ],
 "metadata": {
  "kernelspec": {
   "display_name": "Python 3",
   "language": "python",
   "name": "python3"
  },
  "language_info": {
   "codemirror_mode": {
    "name": "ipython",
    "version": 3
   },
   "file_extension": ".py",
   "mimetype": "text/x-python",
   "name": "python",
   "nbconvert_exporter": "python",
   "pygments_lexer": "ipython3",
   "version": "3.8.8"
  }
 },
 "nbformat": 4,
 "nbformat_minor": 5
}
